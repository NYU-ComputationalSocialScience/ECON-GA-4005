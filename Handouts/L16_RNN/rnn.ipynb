{
 "cells": [
  {
   "cell_type": "markdown",
   "id": "9f607f6d",
   "metadata": {
    "slideshow": {
     "slide_type": "slide"
    }
   },
   "source": [
    "# Recurrent Neural Networks\n",
    "\n",
    "Prerequisites:\n",
    "\n",
    "* Tensorflow + keras\n",
    "* CNN 1D\n",
    "\n",
    "Outcomes:\n",
    "\n",
    "* Understand the ideas behind recurrent neural networks\n",
    "* Apply recurrent neural networks to inflation prediction"
   ]
  },
  {
   "cell_type": "code",
   "execution_count": 1,
   "id": "084adcbe",
   "metadata": {
    "slideshow": {
     "slide_type": "-"
    }
   },
   "outputs": [],
   "source": [
    "import matplotlib.pyplot as plt\n",
    "import numpy as np\n",
    "import pandas as pd\n",
    "import tensorflow as tf\n",
    "import tensorflow.keras as keras\n",
    "import tensorflow.keras.layers as layers\n",
    "\n",
    "%matplotlib inline"
   ]
  },
  {
   "cell_type": "markdown",
   "id": "e2e73ae2",
   "metadata": {
    "slideshow": {
     "slide_type": "slide"
    }
   },
   "source": [
    "## Data\n",
    "\n",
    "Many types of data are inherently sequential. The most common type of sequential data that you'll encounter is time-series data, but text data could also be viewed as \"sequential data\" since the words have an ordering to them.\n",
    "\n",
    "Today's lecture will focus primarily on time-series data, but these methods could be applied to other kinds of sequential data."
   ]
  },
  {
   "cell_type": "markdown",
   "id": "9f84f35a",
   "metadata": {
    "slideshow": {
     "slide_type": "subslide"
    }
   },
   "source": [
    "**Today's data**\n",
    "\n",
    "We are loosely going to follow some of the work done in [\"Predicting Inflation with Neural Networks\"](https://warwick.ac.uk/fac/soc/economics/research/workingpapers/2021/twerp_1344_-_paranhos.pdf) by [Livia Paranhos](https://sites.google.com/view/livia-paranhos/research). Livia is a current PhD student at University of Warwick -- The tools we're discussing today are being actively applied by PhD students to do research!"
   ]
  },
  {
   "cell_type": "markdown",
   "id": "f30997c4",
   "metadata": {
    "slideshow": {
     "slide_type": "fragment"
    }
   },
   "source": [
    "In her paper, she uses 100+ macroeconomic variables from the FRED database as collected by McCracken Ng (2016) to predict inflation in a variety of settings.\n",
    "\n",
    "We are going to use a subset of the data that she uses to simplify our exposition, but we recommend skimming her paper or her slides to see how she used the larger dataset.\n",
    "\n",
    "In particular, we use:\n",
    "\n",
    "* `RPI`: Real personal income\n",
    "* `UNRATE`: Civilian unemployment rate\n",
    "* `PAYEMS`: Total civilian nonfarm employment\n",
    "* `TB3MS`: The three month treasury bill rate\n",
    "* `CPIAUCSL`: The consumer price index for all goods\n",
    "* `SP500`: The S&P 500 index price"
   ]
  },
  {
   "cell_type": "code",
   "execution_count": 2,
   "id": "57433ee0",
   "metadata": {
    "slideshow": {
     "slide_type": "-"
    }
   },
   "outputs": [],
   "source": [
    "variables = [\n",
    "    \"RPI\", \"UNRATE\", \"PAYEMS\",\n",
    "    \"TB3MS\", \"CPIAUCSL\", \"S&P 500\"\n",
    "]\n",
    "\n",
    "data_url = \"https://files.stlouisfed.org/\"\n",
    "data_url += \"files/htdocs/fred-md/monthly/2019-01.csv\"\n",
    "data = pd.read_csv(data_url).iloc[1:, :]\n",
    "\n",
    "data[\"dt\"] = pd.to_datetime(data[\"sasdate\"])\n",
    "\n",
    "data = data.set_index(\"dt\").loc[:, variables].dropna()"
   ]
  },
  {
   "cell_type": "code",
   "execution_count": 3,
   "id": "e229cc03",
   "metadata": {
    "slideshow": {
     "slide_type": "-"
    }
   },
   "outputs": [
    {
     "data": {
      "text/html": [
       "<div>\n",
       "<style scoped>\n",
       "    .dataframe tbody tr th:only-of-type {\n",
       "        vertical-align: middle;\n",
       "    }\n",
       "\n",
       "    .dataframe tbody tr th {\n",
       "        vertical-align: top;\n",
       "    }\n",
       "\n",
       "    .dataframe thead th {\n",
       "        text-align: right;\n",
       "    }\n",
       "</style>\n",
       "<table border=\"1\" class=\"dataframe\">\n",
       "  <thead>\n",
       "    <tr style=\"text-align: right;\">\n",
       "      <th></th>\n",
       "      <th>RPI</th>\n",
       "      <th>UNRATE</th>\n",
       "      <th>PAYEMS</th>\n",
       "      <th>TB3MS</th>\n",
       "      <th>CPIAUCSL</th>\n",
       "      <th>S&amp;P 500</th>\n",
       "    </tr>\n",
       "    <tr>\n",
       "      <th>dt</th>\n",
       "      <th></th>\n",
       "      <th></th>\n",
       "      <th></th>\n",
       "      <th></th>\n",
       "      <th></th>\n",
       "      <th></th>\n",
       "    </tr>\n",
       "  </thead>\n",
       "  <tbody>\n",
       "    <tr>\n",
       "      <th>1959-01-01</th>\n",
       "      <td>2437.296</td>\n",
       "      <td>6.0</td>\n",
       "      <td>52480</td>\n",
       "      <td>2.82</td>\n",
       "      <td>29.01</td>\n",
       "      <td>55.62</td>\n",
       "    </tr>\n",
       "    <tr>\n",
       "      <th>1959-02-01</th>\n",
       "      <td>2446.902</td>\n",
       "      <td>5.9</td>\n",
       "      <td>52687</td>\n",
       "      <td>2.70</td>\n",
       "      <td>29.00</td>\n",
       "      <td>54.77</td>\n",
       "    </tr>\n",
       "    <tr>\n",
       "      <th>1959-03-01</th>\n",
       "      <td>2462.689</td>\n",
       "      <td>5.6</td>\n",
       "      <td>53016</td>\n",
       "      <td>2.80</td>\n",
       "      <td>28.97</td>\n",
       "      <td>56.16</td>\n",
       "    </tr>\n",
       "    <tr>\n",
       "      <th>1959-04-01</th>\n",
       "      <td>2478.744</td>\n",
       "      <td>5.2</td>\n",
       "      <td>53320</td>\n",
       "      <td>2.95</td>\n",
       "      <td>28.98</td>\n",
       "      <td>57.10</td>\n",
       "    </tr>\n",
       "    <tr>\n",
       "      <th>1959-05-01</th>\n",
       "      <td>2493.228</td>\n",
       "      <td>5.1</td>\n",
       "      <td>53549</td>\n",
       "      <td>2.84</td>\n",
       "      <td>29.04</td>\n",
       "      <td>57.96</td>\n",
       "    </tr>\n",
       "  </tbody>\n",
       "</table>\n",
       "</div>"
      ],
      "text/plain": [
       "                 RPI  UNRATE  PAYEMS  TB3MS  CPIAUCSL  S&P 500\n",
       "dt                                                            \n",
       "1959-01-01  2437.296     6.0   52480   2.82     29.01    55.62\n",
       "1959-02-01  2446.902     5.9   52687   2.70     29.00    54.77\n",
       "1959-03-01  2462.689     5.6   53016   2.80     28.97    56.16\n",
       "1959-04-01  2478.744     5.2   53320   2.95     28.98    57.10\n",
       "1959-05-01  2493.228     5.1   53549   2.84     29.04    57.96"
      ]
     },
     "execution_count": 3,
     "metadata": {},
     "output_type": "execute_result"
    }
   ],
   "source": [
    "data.head()"
   ]
  },
  {
   "cell_type": "markdown",
   "id": "504fc698",
   "metadata": {
    "slideshow": {
     "slide_type": "fragment"
    }
   },
   "source": [
    "Once we've downloaded the data, we're going to perform some typical transformations:\n"
   ]
  },
  {
   "cell_type": "code",
   "execution_count": 4,
   "id": "6bcd866e",
   "metadata": {
    "slideshow": {
     "slide_type": "-"
    }
   },
   "outputs": [],
   "source": [
    "diff = lambda x: x.diff(12)\n",
    "log_diff = lambda x: 100*np.log(x).diff(12)\n",
    "\n",
    "df = data.transform(\n",
    "    {\n",
    "        \"RPI\": log_diff,\n",
    "        \"UNRATE\": diff,\n",
    "        \"PAYEMS\": log_diff,\n",
    "        \"TB3MS\": diff,\n",
    "        \"CPIAUCSL\": log_diff,\n",
    "        \"S&P 500\": log_diff\n",
    "    }\n",
    ").dropna().loc[\"1970\":, :]"
   ]
  },
  {
   "cell_type": "code",
   "execution_count": 5,
   "id": "44c96af1",
   "metadata": {
    "slideshow": {
     "slide_type": "-"
    }
   },
   "outputs": [
    {
     "data": {
      "text/html": [
       "<div>\n",
       "<style scoped>\n",
       "    .dataframe tbody tr th:only-of-type {\n",
       "        vertical-align: middle;\n",
       "    }\n",
       "\n",
       "    .dataframe tbody tr th {\n",
       "        vertical-align: top;\n",
       "    }\n",
       "\n",
       "    .dataframe thead th {\n",
       "        text-align: right;\n",
       "    }\n",
       "</style>\n",
       "<table border=\"1\" class=\"dataframe\">\n",
       "  <thead>\n",
       "    <tr style=\"text-align: right;\">\n",
       "      <th></th>\n",
       "      <th>RPI</th>\n",
       "      <th>UNRATE</th>\n",
       "      <th>PAYEMS</th>\n",
       "      <th>TB3MS</th>\n",
       "      <th>CPIAUCSL</th>\n",
       "      <th>S&amp;P 500</th>\n",
       "    </tr>\n",
       "  </thead>\n",
       "  <tbody>\n",
       "    <tr>\n",
       "      <th>count</th>\n",
       "      <td>587.000000</td>\n",
       "      <td>587.000000</td>\n",
       "      <td>587.000000</td>\n",
       "      <td>587.000000</td>\n",
       "      <td>587.000000</td>\n",
       "      <td>587.000000</td>\n",
       "    </tr>\n",
       "    <tr>\n",
       "      <th>mean</th>\n",
       "      <td>2.860134</td>\n",
       "      <td>0.008518</td>\n",
       "      <td>1.526735</td>\n",
       "      <td>-0.098433</td>\n",
       "      <td>3.929304</td>\n",
       "      <td>6.822759</td>\n",
       "    </tr>\n",
       "    <tr>\n",
       "      <th>std</th>\n",
       "      <td>2.001215</td>\n",
       "      <td>1.105847</td>\n",
       "      <td>1.852500</td>\n",
       "      <td>1.780846</td>\n",
       "      <td>2.798356</td>\n",
       "      <td>16.055367</td>\n",
       "    </tr>\n",
       "    <tr>\n",
       "      <th>min</th>\n",
       "      <td>-5.059679</td>\n",
       "      <td>-2.900000</td>\n",
       "      <td>-5.089415</td>\n",
       "      <td>-6.830000</td>\n",
       "      <td>-1.978199</td>\n",
       "      <td>-55.353117</td>\n",
       "    </tr>\n",
       "    <tr>\n",
       "      <th>25%</th>\n",
       "      <td>1.783093</td>\n",
       "      <td>-0.700000</td>\n",
       "      <td>0.543529</td>\n",
       "      <td>-0.980000</td>\n",
       "      <td>2.137630</td>\n",
       "      <td>-0.480560</td>\n",
       "    </tr>\n",
       "    <tr>\n",
       "      <th>50%</th>\n",
       "      <td>2.999605</td>\n",
       "      <td>-0.300000</td>\n",
       "      <td>1.761091</td>\n",
       "      <td>-0.040000</td>\n",
       "      <td>3.144014</td>\n",
       "      <td>9.699064</td>\n",
       "    </tr>\n",
       "    <tr>\n",
       "      <th>75%</th>\n",
       "      <td>4.092675</td>\n",
       "      <td>0.400000</td>\n",
       "      <td>2.569615</td>\n",
       "      <td>0.940000</td>\n",
       "      <td>4.797520</td>\n",
       "      <td>17.699322</td>\n",
       "    </tr>\n",
       "    <tr>\n",
       "      <th>max</th>\n",
       "      <td>8.476949</td>\n",
       "      <td>4.000000</td>\n",
       "      <td>5.295946</td>\n",
       "      <td>7.720000</td>\n",
       "      <td>13.621020</td>\n",
       "      <td>42.298292</td>\n",
       "    </tr>\n",
       "  </tbody>\n",
       "</table>\n",
       "</div>"
      ],
      "text/plain": [
       "              RPI      UNRATE      PAYEMS       TB3MS    CPIAUCSL     S&P 500\n",
       "count  587.000000  587.000000  587.000000  587.000000  587.000000  587.000000\n",
       "mean     2.860134    0.008518    1.526735   -0.098433    3.929304    6.822759\n",
       "std      2.001215    1.105847    1.852500    1.780846    2.798356   16.055367\n",
       "min     -5.059679   -2.900000   -5.089415   -6.830000   -1.978199  -55.353117\n",
       "25%      1.783093   -0.700000    0.543529   -0.980000    2.137630   -0.480560\n",
       "50%      2.999605   -0.300000    1.761091   -0.040000    3.144014    9.699064\n",
       "75%      4.092675    0.400000    2.569615    0.940000    4.797520   17.699322\n",
       "max      8.476949    4.000000    5.295946    7.720000   13.621020   42.298292"
      ]
     },
     "execution_count": 5,
     "metadata": {},
     "output_type": "execute_result"
    }
   ],
   "source": [
    "df.describe()"
   ]
  },
  {
   "cell_type": "markdown",
   "id": "20614648",
   "metadata": {
    "slideshow": {
     "slide_type": "subslide"
    }
   },
   "source": [
    "**Training, validation, and test data**\n",
    "\n",
    "We'll use a 70%-20%-10% split for the data\n",
    "\n"
   ]
  },
  {
   "cell_type": "code",
   "execution_count": 6,
   "id": "258f4072",
   "metadata": {
    "slideshow": {
     "slide_type": "-"
    }
   },
   "outputs": [],
   "source": [
    "n = df.shape[0]\n",
    "\n",
    "# Training data\n",
    "train_n = int(n*0.7)\n",
    "train_df = df.iloc[0:train_n, :]\n",
    "\n",
    "# Validation data\n",
    "val_n = int(n*0.2)\n",
    "val_df = df.iloc[train_n:train_n+val_n, :]\n",
    "\n",
    "# Testing data\n",
    "test_df = df.iloc[train_n+val_n:, :]"
   ]
  },
  {
   "cell_type": "markdown",
   "id": "b09c2dbe",
   "metadata": {
    "slideshow": {
     "slide_type": "subslide"
    }
   },
   "source": [
    "**Normalize the data**\n",
    "\n",
    "It is typical to modify our data to have mean 0 and standard deviation 1.\n",
    "\n",
    "We do this to the training data and then use the mean and standard deviation of the _training data_ to modify the validation and testing data"
   ]
  },
  {
   "cell_type": "code",
   "execution_count": 7,
   "id": "bea150a3",
   "metadata": {
    "slideshow": {
     "slide_type": "-"
    }
   },
   "outputs": [],
   "source": [
    "train_mean = train_df.mean()\n",
    "train_std = train_df.std()\n",
    "\n",
    "train_df = (train_df - train_mean) / train_std\n",
    "val_df = (val_df - train_mean) / train_std\n",
    "test_df = (test_df - train_mean) / train_std"
   ]
  },
  {
   "cell_type": "code",
   "execution_count": 8,
   "id": "7379cd50",
   "metadata": {
    "slideshow": {
     "slide_type": "-"
    }
   },
   "outputs": [
    {
     "data": {
      "text/plain": [
       "<AxesSubplot:xlabel='dt'>"
      ]
     },
     "execution_count": 8,
     "metadata": {},
     "output_type": "execute_result"
    },
    {
     "data": {
      "image/png": "[encoded data removed]",
      "text/plain": [
       "<Figure size 432x288 with 1 Axes>"
      ]
     },
     "metadata": {
      "needs_background": "light"
     },
     "output_type": "display_data"
    }
   ],
   "source": [
    "train_df.plot(y=\"CPIAUCSL\")"
   ]
  },
  {
   "cell_type": "code",
   "execution_count": 9,
   "id": "c400fb7b",
   "metadata": {
    "slideshow": {
     "slide_type": "-"
    }
   },
   "outputs": [
    {
     "data": {
      "text/plain": [
       "<AxesSubplot:xlabel='dt'>"
      ]
     },
     "execution_count": 9,
     "metadata": {},
     "output_type": "execute_result"
    },
    {
     "data": {
      "image/png": "[encoded data removed]",
      "text/plain": [
       "<Figure size 432x288 with 1 Axes>"
      ]
     },
     "metadata": {
      "needs_background": "light"
     },
     "output_type": "display_data"
    }
   ],
   "source": [
    "val_df.plot(y=\"CPIAUCSL\")"
   ]
  },
  {
   "cell_type": "code",
   "execution_count": 10,
   "id": "b0997547",
   "metadata": {
    "slideshow": {
     "slide_type": "-"
    }
   },
   "outputs": [
    {
     "data": {
      "text/plain": [
       "<AxesSubplot:xlabel='dt'>"
      ]
     },
     "execution_count": 10,
     "metadata": {},
     "output_type": "execute_result"
    },
    {
     "data": {
      "image/png": "[encoded data removed]",
      "text/plain": [
       "<Figure size 432x288 with 1 Axes>"
      ]
     },
     "metadata": {
      "needs_background": "light"
     },
     "output_type": "display_data"
    }
   ],
   "source": [
    "test_df.plot(y=\"CPIAUCSL\")"
   ]
  },
  {
   "cell_type": "markdown",
   "id": "c265e83c",
   "metadata": {
    "slideshow": {
     "slide_type": "subslide"
    }
   },
   "source": [
    "**Helper classes and functions**\n",
    "\n",
    "Follow the ideas in https://www.tensorflow.org/tutorials/structured_data/time_series and create a few helpers"
   ]
  },
  {
   "cell_type": "code",
   "execution_count": 11,
   "id": "3e0e5d00",
   "metadata": {
    "slideshow": {
     "slide_type": "fragment"
    }
   },
   "outputs": [],
   "source": [
    "class WindowGenerator():\n",
    "\n",
    "    def __init__(\n",
    "        self, input_width, label_width, shift,\n",
    "        train_df=train_df, val_df=val_df, test_df=test_df,\n",
    "        label_columns=None\n",
    "    ):\n",
    "        # Store the raw data.\n",
    "        self.train_df = train_df\n",
    "        self.val_df = val_df\n",
    "        self.test_df = test_df\n",
    "\n",
    "        # Work out the label column indices.\n",
    "        self.label_columns = label_columns\n",
    "        if label_columns is not None:\n",
    "            self.label_columns_indices = {\n",
    "                name: i for i, name in enumerate(label_columns)\n",
    "            }\n",
    "        self.column_indices = {\n",
    "            name: i for i, name in enumerate(train_df.columns)\n",
    "        }\n",
    "\n",
    "        # Work out the window parameters.\n",
    "        self.input_width = input_width\n",
    "        self.label_width = label_width\n",
    "        self.shift = shift\n",
    "\n",
    "        self.total_window_size = input_width + shift\n",
    "\n",
    "        self.input_slice = slice(0, input_width)\n",
    "        self.input_indices = np.arange(self.total_window_size)[self.input_slice]\n",
    "\n",
    "        self.label_start = self.total_window_size - self.label_width\n",
    "        self.labels_slice = slice(self.label_start, None)\n",
    "        self.label_indices = np.arange(self.total_window_size)[self.labels_slice]\n",
    "\n",
    "    def __repr__(self):\n",
    "        return '\\n'.join(\n",
    "            [\n",
    "                f'Total window size: {self.total_window_size}',\n",
    "                f'Input indices: {self.input_indices}',\n",
    "                f'Label indices: {self.label_indices}',\n",
    "                f'Label column name(s): {self.label_columns}'\n",
    "            ]\n",
    "        )\n",
    "\n",
    "    def split_window(self, features):\n",
    "        inputs = features[:, self.input_slice, :]\n",
    "        labels = features[:, self.labels_slice, :]\n",
    "        if self.label_columns is not None:\n",
    "            labels = tf.stack(\n",
    "                [\n",
    "                    labels[:, :, self.column_indices[name]]\n",
    "                    for name in self.label_columns\n",
    "                ], axis=-1\n",
    "            )\n",
    "\n",
    "        # Slicing doesn't preserve static shape information, so set the shapes\n",
    "        # manually. This way the `tf.data.Datasets` are easier to inspect.\n",
    "        inputs.set_shape([None, self.input_width, None])\n",
    "        labels.set_shape([None, self.label_width, None])\n",
    "\n",
    "        return inputs, labels\n",
    "\n",
    "    def plot(self, model=None, plot_col='CPIAUCSL', max_subplots=3):\n",
    "    \n",
    "        inputs, labels = self.example\n",
    "        plt.figure(figsize=(12, 8))\n",
    "        plot_col_index = self.column_indices[plot_col]\n",
    "        max_n = min(max_subplots, len(inputs))\n",
    "\n",
    "        for n in range(max_n):\n",
    "            plt.subplot(max_n, 1, n+1)\n",
    "            plt.ylabel(f'{plot_col}')\n",
    "            plt.plot(\n",
    "                self.input_indices,\n",
    "                inputs[n, :, plot_col_index],\n",
    "                label='Inputs', marker='.', zorder=-10\n",
    "            )\n",
    "\n",
    "            if self.label_columns:\n",
    "                label_col_index = self.label_columns_indices.get(plot_col, None)\n",
    "            else:\n",
    "                label_col_index = plot_col_index\n",
    "\n",
    "            if label_col_index is None:\n",
    "                continue\n",
    "\n",
    "            plt.scatter(self.label_indices, labels[n, :, label_col_index],\n",
    "                        edgecolors='k', label='Labels', c='#2ca02c', s=64)\n",
    "\n",
    "            if model is not None:\n",
    "                predictions = model(inputs)\n",
    "                plt.scatter(\n",
    "                    self.label_indices, predictions[n, :, 0],\n",
    "                    marker='X', edgecolors='k', label='Predictions',\n",
    "                    c='#ff7f0e', s=64\n",
    "                )\n",
    "\n",
    "            if n == 0:\n",
    "                plt.legend()\n",
    "\n",
    "        plt.xlabel('Months')\n",
    "\n",
    "    def make_dataset(self, data):\n",
    "        data = np.array(data, dtype=np.float32)\n",
    "        ds = tf.keras.preprocessing.timeseries_dataset_from_array(\n",
    "            data=data,\n",
    "            targets=None,\n",
    "            sequence_length=self.total_window_size,\n",
    "            sequence_stride=1,\n",
    "            shuffle=True,\n",
    "            batch_size=24,\n",
    "        )\n",
    "\n",
    "        ds = ds.map(self.split_window)\n",
    "\n",
    "        return ds\n",
    "\n",
    "    @property\n",
    "    def train(self):\n",
    "        return self.make_dataset(self.train_df)\n",
    "\n",
    "    @property\n",
    "    def val(self):\n",
    "        return self.make_dataset(self.val_df)\n",
    "\n",
    "    @property\n",
    "    def test(self):\n",
    "        return self.make_dataset(self.test_df)\n",
    "\n",
    "    @property\n",
    "    def example(self):\n",
    "        \"\"\"Get and cache an example batch of `inputs, labels` for plotting.\"\"\"\n",
    "        result = getattr(self, '_example', None)\n",
    "        if result is None:\n",
    "            # No example batch was found, so get one from the `.train` dataset\n",
    "            result = next(iter(self.train))\n",
    "            # And cache it for next time\n",
    "            self._example = result\n",
    "\n",
    "        return result"
   ]
  },
  {
   "cell_type": "code",
   "execution_count": 12,
   "id": "39924656",
   "metadata": {
    "slideshow": {
     "slide_type": "-"
    }
   },
   "outputs": [],
   "source": [
    "INPUT_WIDTH = 24\n",
    "LABEL_WIDTH = 1\n",
    "SHIFT = 1\n",
    "\n",
    "eval_window = WindowGenerator(\n",
    "    input_width=INPUT_WIDTH, label_width=LABEL_WIDTH,\n",
    "    shift=SHIFT, label_columns=[\"CPIAUCSL\"]\n",
    ")"
   ]
  },
  {
   "cell_type": "code",
   "execution_count": 13,
   "id": "9eb4feb3",
   "metadata": {
    "slideshow": {
     "slide_type": "-"
    }
   },
   "outputs": [
    {
     "data": {
      "image/png": "[encoded data removed]",
      "text/plain": [
       "<Figure size 864x576 with 3 Axes>"
      ]
     },
     "metadata": {
      "needs_background": "light"
     },
     "output_type": "display_data"
    }
   ],
   "source": [
    "eval_window.plot(max_subplots=3)"
   ]
  },
  {
   "cell_type": "code",
   "execution_count": 14,
   "id": "f17e3fe2",
   "metadata": {
    "slideshow": {
     "slide_type": "fragment"
    }
   },
   "outputs": [],
   "source": [
    "MAX_EPOCHS = 250\n",
    "\n",
    "def compile_and_fit(model, window, patience=5):\n",
    "\n",
    "    early_stopping = tf.keras.callbacks.EarlyStopping(\n",
    "        monitor='val_loss',\n",
    "        patience=patience,\n",
    "        mode='min'\n",
    "    )\n",
    "\n",
    "    model.compile(\n",
    "        loss=tf.losses.MeanSquaredError(),\n",
    "        optimizer=tf.optimizers.RMSprop(),\n",
    "    )\n",
    "\n",
    "\n",
    "    history = model.fit(\n",
    "        window.train, epochs=MAX_EPOCHS,\n",
    "        validation_data=window.val,\n",
    "        callbacks=[early_stopping]\n",
    "    )\n",
    "\n",
    "    return history"
   ]
  },
  {
   "cell_type": "markdown",
   "id": "856ae16f",
   "metadata": {
    "slideshow": {
     "slide_type": "subslide"
    }
   },
   "source": [
    "**A simple prediction method**\n",
    "\n",
    "Domain expertise often can be used to create a \"baseline\" prediction model. For example,\n",
    "\n",
    "* The high temperature today could be somewhat accurately predicted by yesterday's high temperature.\n",
    "* The price of a stock today could be somewhat accurately predicted by the price of the stock yesterday.\n",
    "* U.S. annual inflation can somewhat accurately be predicted with a constant guess of 2%\n",
    "\n",
    "It's important to understand what baseline models are on the table because a simple baseline model will sometimes outperform a complex machine learning model (and when it does, we shouldn't be afraid to turn to the simple model)"
   ]
  },
  {
   "cell_type": "markdown",
   "id": "ba13fc8d",
   "metadata": {
    "slideshow": {
     "slide_type": "fragment"
    }
   },
   "source": [
    "_Our baseline model_\n",
    "\n",
    "Predict a mixture of 0 (the mean that we normalized to) and the previous value:\n",
    "\n",
    "$$\\pi_t = (1 - \\gamma) 0.0 + \\gamma \\pi_{t-1}$$"
   ]
  },
  {
   "cell_type": "code",
   "execution_count": 15,
   "id": "f275e752",
   "metadata": {
    "slideshow": {
     "slide_type": "subslide"
    }
   },
   "outputs": [],
   "source": [
    "class BaselineInflation(tf.keras.Model):\n",
    "    def __init__(self, gamma=0.9, label_index=None):\n",
    "        super().__init__()\n",
    "        self.gamma = gamma\n",
    "        self.label_index = label_index\n",
    "\n",
    "    def call(self, inputs):\n",
    "        if self.label_index is None:\n",
    "            x = self.gamma*inputs + (1-self.gamma)*0\n",
    "        else:\n",
    "            x = self.gamma*inputs[:, :, self.label_index] + (1-self.gamma)*0\n",
    "\n",
    "        return x[:, :, tf.newaxis]"
   ]
  },
  {
   "cell_type": "code",
   "execution_count": 16,
   "id": "8a283d1c",
   "metadata": {
    "slideshow": {
     "slide_type": "-"
    }
   },
   "outputs": [
    {
     "name": "stdout",
     "output_type": "stream",
     "text": [
      "4/4 [==============================] - 0s 3ms/step - loss: 0.4902\n"
     ]
    }
   ],
   "source": [
    "baseline = BaselineInflation(gamma=0.9, label_index=eval_window.column_indices[\"CPIAUCSL\"])\n",
    "baseline.compile(loss=tf.losses.MeanSquaredError())\n",
    "\n",
    "val_performance = {}\n",
    "performance = {}\n",
    "\n",
    "val_performance['Baseline'] = baseline.evaluate(eval_window.val)\n",
    "performance['Baseline'] = baseline.evaluate(eval_window.test, verbose=0)"
   ]
  },
  {
   "cell_type": "code",
   "execution_count": 17,
   "id": "cb1d377a",
   "metadata": {
    "slideshow": {
     "slide_type": "fragment"
    }
   },
   "outputs": [
    {
     "data": {
      "image/png": "[encoded data removed]",
      "text/plain": [
       "<Figure size 864x576 with 3 Axes>"
      ]
     },
     "metadata": {
      "needs_background": "light"
     },
     "output_type": "display_data"
    }
   ],
   "source": [
    "wide_window_baseline = WindowGenerator(\n",
    "    input_width=INPUT_WIDTH, label_width=INPUT_WIDTH,\n",
    "    shift=SHIFT, label_columns=[\"CPIAUCSL\"]\n",
    ")\n",
    "\n",
    "wide_window_baseline.plot(baseline, max_subplots=3)"
   ]
  },
  {
   "cell_type": "markdown",
   "id": "89df67ab",
   "metadata": {
    "slideshow": {
     "slide_type": "slide"
    }
   },
   "source": [
    "## Review: 1D CNN"
   ]
  },
  {
   "cell_type": "markdown",
   "id": "ad3aa13f",
   "metadata": {
    "slideshow": {
     "slide_type": "subslide"
    }
   },
   "source": [
    "### Defining a 1D CNN\n",
    "\n",
    "Given hyper parameters,\n",
    "\n",
    "* $K$: Number of filters\n",
    "* $F$: Window width\n",
    "* $S$: Stride\n",
    "* $P$: Padding\n",
    "\n",
    "Let $w \\in \\mathbb{R}^K$ be the filter weights and $b \\in \\mathbb{R}$ be the bias.\n",
    "\n",
    "Output $i$ for a particular filter is defined by:\n",
    "\n",
    "$$z_i = \\left( \\sum_{j=0}^F w_{j} x_{i + j - F//2} \\right) + b$$"
   ]
  },
  {
   "cell_type": "code",
   "execution_count": 18,
   "id": "1d058b19",
   "metadata": {
    "slideshow": {
     "slide_type": "fragment"
    }
   },
   "outputs": [],
   "source": [
    "def conv1d(x, w, b, S=1, P=0):\n",
    "    \"\"\"\n",
    "    Apply single filter of 1d Convolution to x given\n",
    "    filter weights (w), bias (b), stride (S), and padding (P)\n",
    "    \"\"\"\n",
    "    assert P >= 0\n",
    "    if P == 0:\n",
    "        x_pad = x\n",
    "    else:\n",
    "        x_pad = np.concatenate([np.zeros(P), x, np.zeros(P)])\n",
    "    N = len(x)\n",
    "    F = len(w)\n",
    "    half_F = F // 2\n",
    "    out = []\n",
    "    for i in range(half_F, len(x_pad) - half_F, S):\n",
    "        window = x_pad[(i-half_F):(i+half_F + 1)]    \n",
    "        out.append((w @ window) + b)\n",
    "\n",
    "    return out"
   ]
  },
  {
   "cell_type": "markdown",
   "id": "f425272e",
   "metadata": {
    "slideshow": {
     "slide_type": "subslide"
    }
   },
   "source": [
    "### Predicting our data with a 1D CNN"
   ]
  },
  {
   "cell_type": "code",
   "execution_count": 19,
   "id": "0c9a4d4b",
   "metadata": {
    "slideshow": {
     "slide_type": "-"
    }
   },
   "outputs": [
    {
     "name": "stdout",
     "output_type": "stream",
     "text": [
      "Epoch 1/250\n",
      "17/17 [==============================] - 1s 15ms/step - loss: 1.0351 - val_loss: 1.5349\n",
      "Epoch 2/250\n",
      "17/17 [==============================] - 0s 9ms/step - loss: 0.9683 - val_loss: 1.4650\n",
      "Epoch 3/250\n",
      "17/17 [==============================] - 0s 8ms/step - loss: 0.9469 - val_loss: 1.4228\n",
      "Epoch 4/250\n",
      "17/17 [==============================] - 0s 10ms/step - loss: 0.9345 - val_loss: 1.3945\n",
      "Epoch 5/250\n",
      "17/17 [==============================] - 0s 18ms/step - loss: 0.9268 - val_loss: 1.3755\n",
      "Epoch 6/250\n",
      "17/17 [==============================] - 0s 8ms/step - loss: 0.9195 - val_loss: 1.3570\n",
      "Epoch 7/250\n",
      "17/17 [==============================] - 0s 9ms/step - loss: 0.9133 - val_loss: 1.3379\n",
      "Epoch 8/250\n",
      "17/17 [==============================] - 0s 11ms/step - loss: 0.9064 - val_loss: 1.3159\n",
      "Epoch 9/250\n",
      "17/17 [==============================] - 0s 18ms/step - loss: 0.8987 - val_loss: 1.2929\n",
      "Epoch 10/250\n",
      "17/17 [==============================] - 0s 10ms/step - loss: 0.8918 - val_loss: 1.2649\n",
      "Epoch 11/250\n",
      "17/17 [==============================] - 0s 12ms/step - loss: 0.8853 - val_loss: 1.2376\n",
      "Epoch 12/250\n",
      "17/17 [==============================] - 0s 14ms/step - loss: 0.8782 - val_loss: 1.2097\n",
      "Epoch 13/250\n",
      "17/17 [==============================] - 0s 15ms/step - loss: 0.8737 - val_loss: 1.1906\n",
      "Epoch 14/250\n",
      "17/17 [==============================] - 0s 20ms/step - loss: 0.8696 - val_loss: 1.1729\n",
      "Epoch 15/250\n",
      "17/17 [==============================] - 0s 10ms/step - loss: 0.8659 - val_loss: 1.1557\n",
      "Epoch 16/250\n",
      "17/17 [==============================] - 0s 11ms/step - loss: 0.8638 - val_loss: 1.1464\n",
      "Epoch 17/250\n",
      "17/17 [==============================] - 0s 24ms/step - loss: 0.8619 - val_loss: 1.1386\n",
      "Epoch 18/250\n",
      "17/17 [==============================] - 0s 18ms/step - loss: 0.8603 - val_loss: 1.1348\n",
      "Epoch 19/250\n",
      "17/17 [==============================] - 0s 20ms/step - loss: 0.8594 - val_loss: 1.1294\n",
      "Epoch 20/250\n",
      "17/17 [==============================] - 0s 13ms/step - loss: 0.8579 - val_loss: 1.1244\n",
      "Epoch 21/250\n",
      "17/17 [==============================] - 0s 16ms/step - loss: 0.8573 - val_loss: 1.1205\n",
      "Epoch 22/250\n",
      "17/17 [==============================] - 0s 13ms/step - loss: 0.8569 - val_loss: 1.1173\n",
      "Epoch 23/250\n",
      "17/17 [==============================] - 0s 19ms/step - loss: 0.8555 - val_loss: 1.1140\n",
      "Epoch 24/250\n",
      "17/17 [==============================] - 0s 12ms/step - loss: 0.8547 - val_loss: 1.1121\n",
      "Epoch 25/250\n",
      "17/17 [==============================] - 0s 13ms/step - loss: 0.8541 - val_loss: 1.1110\n",
      "Epoch 26/250\n",
      "17/17 [==============================] - 0s 10ms/step - loss: 0.8539 - val_loss: 1.1090\n",
      "Epoch 27/250\n",
      "17/17 [==============================] - 0s 12ms/step - loss: 0.8533 - val_loss: 1.1070\n",
      "Epoch 28/250\n",
      "17/17 [==============================] - 0s 10ms/step - loss: 0.8523 - val_loss: 1.1046\n",
      "Epoch 29/250\n",
      "17/17 [==============================] - 0s 10ms/step - loss: 0.8522 - val_loss: 1.1057\n",
      "Epoch 30/250\n",
      "17/17 [==============================] - 0s 13ms/step - loss: 0.8515 - val_loss: 1.1051\n",
      "Epoch 31/250\n",
      "17/17 [==============================] - 0s 10ms/step - loss: 0.8515 - val_loss: 1.1030\n",
      "Epoch 32/250\n",
      "17/17 [==============================] - 0s 20ms/step - loss: 0.8511 - val_loss: 1.1034\n",
      "Epoch 33/250\n",
      "17/17 [==============================] - 0s 10ms/step - loss: 0.8507 - val_loss: 1.1010\n",
      "Epoch 34/250\n",
      "17/17 [==============================] - 0s 12ms/step - loss: 0.8505 - val_loss: 1.0996\n",
      "Epoch 35/250\n",
      "17/17 [==============================] - 0s 14ms/step - loss: 0.8498 - val_loss: 1.0993\n",
      "Epoch 36/250\n",
      "17/17 [==============================] - 0s 12ms/step - loss: 0.8501 - val_loss: 1.0988\n",
      "Epoch 37/250\n",
      "17/17 [==============================] - 0s 11ms/step - loss: 0.8493 - val_loss: 1.0981\n",
      "Epoch 38/250\n",
      "17/17 [==============================] - 0s 15ms/step - loss: 0.8490 - val_loss: 1.0981\n",
      "Epoch 39/250\n",
      "17/17 [==============================] - 1s 32ms/step - loss: 0.8491 - val_loss: 1.0982\n",
      "Epoch 40/250\n",
      "17/17 [==============================] - 1s 27ms/step - loss: 0.8489 - val_loss: 1.0973\n",
      "Epoch 41/250\n",
      "17/17 [==============================] - 0s 18ms/step - loss: 0.8488 - val_loss: 1.0962\n",
      "Epoch 42/250\n",
      "17/17 [==============================] - 0s 24ms/step - loss: 0.8484 - val_loss: 1.0954\n",
      "Epoch 43/250\n",
      "17/17 [==============================] - 0s 25ms/step - loss: 0.8482 - val_loss: 1.0944\n",
      "Epoch 44/250\n",
      "17/17 [==============================] - 0s 14ms/step - loss: 0.8481 - val_loss: 1.0954\n",
      "Epoch 45/250\n",
      "17/17 [==============================] - 0s 16ms/step - loss: 0.8481 - val_loss: 1.0947\n",
      "Epoch 46/250\n",
      "17/17 [==============================] - 0s 16ms/step - loss: 0.8478 - val_loss: 1.0940\n",
      "Epoch 47/250\n",
      "17/17 [==============================] - 0s 21ms/step - loss: 0.8477 - val_loss: 1.0941\n",
      "Epoch 48/250\n",
      "17/17 [==============================] - 0s 22ms/step - loss: 0.8477 - val_loss: 1.0941\n",
      "Epoch 49/250\n",
      "17/17 [==============================] - 0s 16ms/step - loss: 0.8473 - val_loss: 1.0955\n",
      "Epoch 50/250\n",
      "17/17 [==============================] - 0s 19ms/step - loss: 0.8474 - val_loss: 1.0936\n",
      "Epoch 51/250\n",
      "17/17 [==============================] - 0s 15ms/step - loss: 0.8473 - val_loss: 1.0941\n",
      "Epoch 52/250\n",
      "17/17 [==============================] - 0s 18ms/step - loss: 0.8470 - val_loss: 1.0940\n",
      "Epoch 53/250\n",
      "17/17 [==============================] - 0s 10ms/step - loss: 0.8467 - val_loss: 1.0927\n",
      "Epoch 54/250\n",
      "17/17 [==============================] - 0s 15ms/step - loss: 0.8467 - val_loss: 1.0933\n",
      "Epoch 55/250\n",
      "17/17 [==============================] - 0s 22ms/step - loss: 0.8467 - val_loss: 1.0933\n",
      "Epoch 56/250\n",
      "17/17 [==============================] - 0s 16ms/step - loss: 0.8467 - val_loss: 1.0928\n",
      "Epoch 57/250\n",
      "17/17 [==============================] - 0s 21ms/step - loss: 0.8464 - val_loss: 1.0930\n",
      "Epoch 58/250\n",
      "17/17 [==============================] - 1s 26ms/step - loss: 0.8464 - val_loss: 1.0929\n",
      "4/4 [==============================] - 1s 5ms/step - loss: 0.4837\n"
     ]
    }
   ],
   "source": [
    "CONV_WIDTH = 12\n",
    "\n",
    "conv_window = WindowGenerator(\n",
    "    input_width=CONV_WIDTH,\n",
    "    label_width=1,\n",
    "    shift=1\n",
    ")\n",
    "\n",
    "conv_model = tf.keras.Sequential(\n",
    "    [\n",
    "        tf.keras.layers.Conv1D(filters=8, kernel_size=(CONV_WIDTH,), activation=\"relu\"),\n",
    "        tf.keras.layers.Dense(units=4, activation=\"relu\"),\n",
    "        tf.keras.layers.Dense(units=1),\n",
    "    ]\n",
    ")\n",
    "\n",
    "compile_and_fit(conv_model, conv_window)\n",
    "\n",
    "val_performance['Conv1D'] = conv_model.evaluate(eval_window.val)\n",
    "performance['Conv1D'] = conv_model.evaluate(eval_window.test, verbose=0)"
   ]
  },
  {
   "cell_type": "code",
   "execution_count": 20,
   "id": "814e2798",
   "metadata": {
    "slideshow": {
     "slide_type": "-"
    }
   },
   "outputs": [
    {
     "data": {
      "image/png": "[encoded data removed]",
      "text/plain": [
       "<Figure size 864x576 with 3 Axes>"
      ]
     },
     "metadata": {
      "needs_background": "light"
     },
     "output_type": "display_data"
    }
   ],
   "source": [
    "wide_window_conv = WindowGenerator(\n",
    "    input_width=36 + (CONV_WIDTH - 1),\n",
    "    label_width=36,\n",
    "    shift=SHIFT\n",
    ")\n",
    "\n",
    "wide_window_conv.plot(conv_model, max_subplots=3)"
   ]
  },
  {
   "cell_type": "code",
   "execution_count": 21,
   "id": "dbc2ee3f",
   "metadata": {},
   "outputs": [
    {
     "data": {
      "text/plain": [
       "{'Baseline': 0.49024951457977295, 'Conv1D': 0.48369383811950684}"
      ]
     },
     "execution_count": 21,
     "metadata": {},
     "output_type": "execute_result"
    }
   ],
   "source": [
    "val_performance"
   ]
  },
  {
   "cell_type": "markdown",
   "id": "146cb7c2",
   "metadata": {
    "slideshow": {
     "slide_type": "slide"
    }
   },
   "source": [
    "## Recurrent Neural Networks\n",
    "\n",
    "Similar to 1D CNNs, recurrent neural networks (RNNs) deal with sequentially ordered data.\n",
    "\n",
    "However, unlike CNNS, they can maintain a \"memory\" from beyond the current window/observation. Many people liken this internal memory to \"identifying a hidden state\"."
   ]
  },
  {
   "cell_type": "markdown",
   "id": "4e62e705",
   "metadata": {
    "slideshow": {
     "slide_type": "subslide"
    }
   },
   "source": [
    "### Simple RNN\n",
    "\n",
    "We begin by considering the most basic version of an RNN which we refer to as the \"simple RNN\"\n",
    "\n",
    "The output for step $t$ is given by:\n",
    "\n",
    "\\begin{align*}\n",
    "  h_t &= \\sigma_h(W_h x_t + U_h h_{t-1} + b_h) \\\\\n",
    "  y_t &= \\sigma_y(W_y h_t + b_y) \\\\\n",
    "\\end{align*}"
   ]
  },
  {
   "cell_type": "markdown",
   "id": "ebc90521",
   "metadata": {
    "slideshow": {
     "slide_type": "-"
    }
   },
   "source": [
    "**Simple RNN \"by hand\"**"
   ]
  },
  {
   "cell_type": "code",
   "execution_count": 22,
   "id": "d977adc1",
   "metadata": {
    "slideshow": {
     "slide_type": "-"
    }
   },
   "outputs": [],
   "source": [
    "timesteps = 100\n",
    "input_features = 32\n",
    "output_features = 64\n",
    "\n",
    "inputs = np.random.random((timesteps, input_features))\n",
    "state_t = np.zeros((output_features,))\n",
    "\n",
    "W = np.random.random((output_features, input_features))\n",
    "W_y = np.random.random((1, output_features))\n",
    "U = np.random.random((output_features, output_features))\n",
    "b = np.random.random((output_features))\n",
    "b_y = 0.0\n",
    "\n",
    "successive_outputs = []\n",
    "for input_t in inputs:\n",
    "    output_t = np.tanh(np.dot(W, input_t) + np.dot(U, state_t) + b)\n",
    "    y_t = np.tanh(np.dot(W_y, output_t) + b_y)\n",
    "    successive_outputs.append(output_t)\n",
    "    state_t = output_t\n",
    "\n",
    "final_output_sequence = np.concatenate(successive_outputs, axis=0)"
   ]
  },
  {
   "cell_type": "markdown",
   "id": "54128fee",
   "metadata": {
    "slideshow": {
     "slide_type": "fragment"
    }
   },
   "source": [
    "**Using tensorflow**\n",
    "\n",
    "Let's turn to our predicting inflation problem and write a simple RNN using Tensorflow"
   ]
  },
  {
   "cell_type": "code",
   "execution_count": 23,
   "id": "487a6aa2",
   "metadata": {
    "slideshow": {
     "slide_type": "-"
    }
   },
   "outputs": [
    {
     "name": "stdout",
     "output_type": "stream",
     "text": [
      "Epoch 1/250\n",
      "17/17 [==============================] - 4s 51ms/step - loss: 0.6891 - val_loss: 0.7903\n",
      "Epoch 2/250\n",
      "17/17 [==============================] - 0s 23ms/step - loss: 0.4823 - val_loss: 0.7808\n",
      "Epoch 3/250\n",
      "17/17 [==============================] - 0s 19ms/step - loss: 0.3922 - val_loss: 0.7244\n",
      "Epoch 4/250\n",
      "17/17 [==============================] - 0s 20ms/step - loss: 0.2971 - val_loss: 0.6929\n",
      "Epoch 5/250\n",
      "17/17 [==============================] - 0s 25ms/step - loss: 0.2102 - val_loss: 0.6105\n",
      "Epoch 6/250\n",
      "17/17 [==============================] - 0s 26ms/step - loss: 0.1591 - val_loss: 0.5340\n",
      "Epoch 7/250\n",
      "17/17 [==============================] - 0s 17ms/step - loss: 0.1287 - val_loss: 0.4907\n",
      "Epoch 8/250\n",
      "17/17 [==============================] - 0s 18ms/step - loss: 0.1093 - val_loss: 0.4506\n",
      "Epoch 9/250\n",
      "17/17 [==============================] - 0s 17ms/step - loss: 0.0955 - val_loss: 0.4230\n",
      "Epoch 10/250\n",
      "17/17 [==============================] - 0s 18ms/step - loss: 0.0844 - val_loss: 0.3878\n",
      "Epoch 11/250\n",
      "17/17 [==============================] - 0s 18ms/step - loss: 0.0765 - val_loss: 0.3766\n",
      "Epoch 12/250\n",
      "17/17 [==============================] - 0s 24ms/step - loss: 0.0704 - val_loss: 0.3657\n",
      "Epoch 13/250\n",
      "17/17 [==============================] - 0s 23ms/step - loss: 0.0662 - val_loss: 0.3536\n",
      "Epoch 14/250\n",
      "17/17 [==============================] - 0s 24ms/step - loss: 0.0612 - val_loss: 0.3289\n",
      "Epoch 15/250\n",
      "17/17 [==============================] - 0s 23ms/step - loss: 0.0573 - val_loss: 0.3042\n",
      "Epoch 16/250\n",
      "17/17 [==============================] - 0s 19ms/step - loss: 0.0537 - val_loss: 0.3119\n",
      "Epoch 17/250\n",
      "17/17 [==============================] - 0s 18ms/step - loss: 0.0504 - val_loss: 0.2855\n",
      "Epoch 18/250\n",
      "17/17 [==============================] - 0s 24ms/step - loss: 0.0476 - val_loss: 0.2738\n",
      "Epoch 19/250\n",
      "17/17 [==============================] - 0s 19ms/step - loss: 0.0446 - val_loss: 0.2726\n",
      "Epoch 20/250\n",
      "17/17 [==============================] - 0s 26ms/step - loss: 0.0427 - val_loss: 0.2447\n",
      "Epoch 21/250\n",
      "17/17 [==============================] - 0s 17ms/step - loss: 0.0401 - val_loss: 0.2479\n",
      "Epoch 22/250\n",
      "17/17 [==============================] - 0s 26ms/step - loss: 0.0388 - val_loss: 0.2376\n",
      "Epoch 23/250\n",
      "17/17 [==============================] - 0s 25ms/step - loss: 0.0367 - val_loss: 0.2373\n",
      "Epoch 24/250\n",
      "17/17 [==============================] - 1s 37ms/step - loss: 0.0352 - val_loss: 0.2211\n",
      "Epoch 25/250\n",
      "17/17 [==============================] - 1s 35ms/step - loss: 0.0339 - val_loss: 0.2232\n",
      "Epoch 26/250\n",
      "17/17 [==============================] - 1s 55ms/step - loss: 0.0324 - val_loss: 0.2018\n",
      "Epoch 27/250\n",
      "17/17 [==============================] - 1s 86ms/step - loss: 0.0317 - val_loss: 0.1999\n",
      "Epoch 28/250\n",
      "17/17 [==============================] - 1s 36ms/step - loss: 0.0299 - val_loss: 0.1970\n",
      "Epoch 29/250\n",
      "17/17 [==============================] - 1s 40ms/step - loss: 0.0288 - val_loss: 0.1806\n",
      "Epoch 30/250\n",
      "17/17 [==============================] - 1s 60ms/step - loss: 0.0274 - val_loss: 0.1758\n",
      "Epoch 31/250\n",
      "17/17 [==============================] - 2s 88ms/step - loss: 0.0261 - val_loss: 0.1635\n",
      "Epoch 32/250\n",
      "17/17 [==============================] - 1s 51ms/step - loss: 0.0253 - val_loss: 0.1558\n",
      "Epoch 33/250\n",
      "17/17 [==============================] - 1s 57ms/step - loss: 0.0245 - val_loss: 0.1645\n",
      "Epoch 34/250\n",
      "17/17 [==============================] - 1s 49ms/step - loss: 0.0237 - val_loss: 0.1521\n",
      "Epoch 35/250\n",
      "17/17 [==============================] - 1s 36ms/step - loss: 0.0229 - val_loss: 0.1565\n",
      "Epoch 36/250\n",
      "17/17 [==============================] - 1s 44ms/step - loss: 0.0222 - val_loss: 0.1353\n",
      "Epoch 37/250\n",
      "17/17 [==============================] - 1s 26ms/step - loss: 0.0217 - val_loss: 0.1307\n",
      "Epoch 38/250\n",
      "17/17 [==============================] - 1s 58ms/step - loss: 0.0212 - val_loss: 0.1305\n",
      "Epoch 39/250\n",
      "17/17 [==============================] - 1s 39ms/step - loss: 0.0205 - val_loss: 0.1254\n",
      "Epoch 40/250\n",
      "17/17 [==============================] - 1s 42ms/step - loss: 0.0201 - val_loss: 0.1215\n",
      "Epoch 41/250\n",
      "17/17 [==============================] - 1s 46ms/step - loss: 0.0195 - val_loss: 0.1225\n",
      "Epoch 42/250\n",
      "17/17 [==============================] - 1s 66ms/step - loss: 0.0188 - val_loss: 0.1269\n",
      "Epoch 43/250\n",
      "17/17 [==============================] - 2s 89ms/step - loss: 0.0185 - val_loss: 0.1131\n",
      "Epoch 44/250\n",
      "17/17 [==============================] - 1s 26ms/step - loss: 0.0181 - val_loss: 0.1155\n",
      "Epoch 45/250\n",
      "17/17 [==============================] - 1s 41ms/step - loss: 0.0186 - val_loss: 0.1073\n",
      "Epoch 46/250\n",
      "17/17 [==============================] - 1s 51ms/step - loss: 0.0174 - val_loss: 0.1096\n",
      "Epoch 47/250\n",
      "17/17 [==============================] - 0s 24ms/step - loss: 0.0172 - val_loss: 0.1017\n",
      "Epoch 48/250\n",
      "17/17 [==============================] - 1s 32ms/step - loss: 0.0168 - val_loss: 0.1054\n",
      "Epoch 49/250\n",
      "17/17 [==============================] - 0s 22ms/step - loss: 0.0162 - val_loss: 0.0973\n",
      "Epoch 50/250\n",
      "17/17 [==============================] - 0s 19ms/step - loss: 0.0159 - val_loss: 0.0970\n",
      "Epoch 51/250\n",
      "17/17 [==============================] - 1s 31ms/step - loss: 0.0156 - val_loss: 0.0915\n",
      "Epoch 52/250\n",
      "17/17 [==============================] - 1s 32ms/step - loss: 0.0152 - val_loss: 0.0964\n",
      "Epoch 53/250\n",
      "17/17 [==============================] - 1s 33ms/step - loss: 0.0154 - val_loss: 0.0831\n",
      "Epoch 54/250\n",
      "17/17 [==============================] - 0s 24ms/step - loss: 0.0147 - val_loss: 0.0858\n",
      "Epoch 55/250\n",
      "17/17 [==============================] - 1s 32ms/step - loss: 0.0147 - val_loss: 0.0877\n",
      "Epoch 56/250\n",
      "17/17 [==============================] - 0s 23ms/step - loss: 0.0143 - val_loss: 0.0792\n",
      "Epoch 57/250\n",
      "17/17 [==============================] - 0s 16ms/step - loss: 0.0144 - val_loss: 0.0825\n",
      "Epoch 58/250\n",
      "17/17 [==============================] - 0s 21ms/step - loss: 0.0141 - val_loss: 0.0774\n",
      "Epoch 59/250\n",
      "17/17 [==============================] - 0s 17ms/step - loss: 0.0139 - val_loss: 0.0782\n",
      "Epoch 60/250\n",
      "17/17 [==============================] - 0s 25ms/step - loss: 0.0138 - val_loss: 0.0767\n",
      "Epoch 61/250\n",
      "17/17 [==============================] - 0s 15ms/step - loss: 0.0138 - val_loss: 0.0770\n",
      "Epoch 62/250\n",
      "17/17 [==============================] - 0s 18ms/step - loss: 0.0132 - val_loss: 0.0816\n",
      "Epoch 63/250\n",
      "17/17 [==============================] - 0s 20ms/step - loss: 0.0133 - val_loss: 0.0714\n",
      "Epoch 64/250\n",
      "17/17 [==============================] - 0s 21ms/step - loss: 0.0135 - val_loss: 0.0711\n",
      "Epoch 65/250\n",
      "17/17 [==============================] - 0s 21ms/step - loss: 0.0129 - val_loss: 0.0754\n",
      "Epoch 66/250\n",
      "17/17 [==============================] - 0s 17ms/step - loss: 0.0130 - val_loss: 0.0704\n",
      "Epoch 67/250\n",
      "17/17 [==============================] - 0s 17ms/step - loss: 0.0133 - val_loss: 0.0740\n",
      "Epoch 68/250\n",
      "17/17 [==============================] - 1s 30ms/step - loss: 0.0128 - val_loss: 0.0719\n",
      "Epoch 69/250\n",
      "17/17 [==============================] - 0s 19ms/step - loss: 0.0126 - val_loss: 0.0734\n",
      "Epoch 70/250\n",
      "17/17 [==============================] - 0s 21ms/step - loss: 0.0126 - val_loss: 0.0657\n",
      "Epoch 71/250\n",
      "17/17 [==============================] - 0s 18ms/step - loss: 0.0126 - val_loss: 0.0660\n",
      "Epoch 72/250\n",
      "17/17 [==============================] - 0s 18ms/step - loss: 0.0122 - val_loss: 0.0671\n",
      "Epoch 73/250\n",
      "17/17 [==============================] - 0s 16ms/step - loss: 0.0125 - val_loss: 0.0674\n",
      "Epoch 74/250\n",
      "17/17 [==============================] - 0s 27ms/step - loss: 0.0120 - val_loss: 0.0746\n",
      "Epoch 75/250\n",
      "17/17 [==============================] - 0s 17ms/step - loss: 0.0122 - val_loss: 0.0702\n",
      "4/4 [==============================] - 0s 5ms/step - loss: 0.0702\n"
     ]
    }
   ],
   "source": [
    "srnn_model = tf.keras.Sequential(\n",
    "    [\n",
    "        tf.keras.layers.SimpleRNN(8, activation=\"relu\", return_sequences=False),\n",
    "        tf.keras.layers.Dense(4),\n",
    "        tf.keras.layers.Dense(1),\n",
    "    ]\n",
    ")\n",
    "\n",
    "compile_and_fit(srnn_model, eval_window)\n",
    "\n",
    "val_performance['SimpleRNN'] = srnn_model.evaluate(eval_window.val)\n",
    "performance['SimpleRNN'] = srnn_model.evaluate(eval_window.test, verbose=0)"
   ]
  },
  {
   "cell_type": "code",
   "execution_count": 24,
   "id": "4b995caa",
   "metadata": {},
   "outputs": [
    {
     "data": {
      "text/plain": [
       "{'Baseline': 0.07595724612474442,\n",
       " 'Conv1D': 0.5553140044212341,\n",
       " 'SimpleRNN': 0.019692115485668182}"
      ]
     },
     "execution_count": 24,
     "metadata": {},
     "output_type": "execute_result"
    }
   ],
   "source": [
    "performance"
   ]
  },
  {
   "cell_type": "markdown",
   "id": "5a7dad1e",
   "metadata": {
    "slideshow": {
     "slide_type": "subslide"
    }
   },
   "source": [
    "### LSTM and GRU\n",
    "\n",
    "Similar to some of the problems we ran into when we had too many layers in our neural networks, simple RNNs often run into the [vanishing gradient problem and exploding gradient problem](https://en.wikipedia.org/wiki/Vanishing_gradient_problem).\n",
    "\n",
    "There have been two solutions proposed to address this concern:\n",
    "\n",
    "* Long short-term memory (LSTM), Hochreiter and Schmidhuber 1997\n",
    "* Gated recurrent unit (GRU), Cho et al. 2014"
   ]
  },
  {
   "cell_type": "markdown",
   "id": "1bd82722",
   "metadata": {
    "slideshow": {
     "slide_type": "fragment"
    }
   },
   "source": [
    "**LSTM**\n",
    "\n",
    "LSTM introduces the notion of a \"carry state\".\n",
    "\n",
    "Output for step $t$ is now given by:\n",
    "\n",
    "$$h_t = \\sigma_h(W_h x_t + U_h h_{t-1} + V_h c_t + b_h)$$\n",
    "\n",
    "where $c_t$ is computed with\n",
    "\n",
    "\\begin{align*}\n",
    "  c_{t+1} &= i_t k_t + c_t f_t \\\\\n",
    "  i_t &= \\sigma(U_i \\hat{x}_{t} + W_i x_t + b_i) \\\\\n",
    "  f_t &= \\sigma(U_f \\hat{x}_{t} + W_f x_t + b_f) \\\\\n",
    "  k_t &= \\sigma(U_k \\hat{x}_{t} + W_k x_t + b_k) \\\\\n",
    "\\end{align*}\n",
    "\n",
    "Conceptually, this doesn't add a significant amount of complexity, but it does require more work from your computer."
   ]
  },
  {
   "cell_type": "code",
   "execution_count": 25,
   "id": "926de490",
   "metadata": {
    "slideshow": {
     "slide_type": "-"
    }
   },
   "outputs": [
    {
     "name": "stdout",
     "output_type": "stream",
     "text": [
      "Epoch 1/250\n",
      "17/17 [==============================] - 12s 111ms/step - loss: 5.5617 - val_loss: 2.2145\n",
      "Epoch 2/250\n",
      "17/17 [==============================] - 1s 45ms/step - loss: 1.7601 - val_loss: 1.6996\n",
      "Epoch 3/250\n",
      "17/17 [==============================] - 1s 74ms/step - loss: 1.1009 - val_loss: 1.3025\n",
      "Epoch 4/250\n",
      "17/17 [==============================] - 1s 28ms/step - loss: 0.7852 - val_loss: 1.0254\n",
      "Epoch 5/250\n",
      "17/17 [==============================] - 1s 31ms/step - loss: 0.5691 - val_loss: 0.8113\n",
      "Epoch 6/250\n",
      "17/17 [==============================] - 1s 31ms/step - loss: 0.4137 - val_loss: 0.6800\n",
      "Epoch 7/250\n",
      "17/17 [==============================] - 1s 32ms/step - loss: 0.2974 - val_loss: 0.5993\n",
      "Epoch 8/250\n",
      "17/17 [==============================] - 1s 27ms/step - loss: 0.2125 - val_loss: 0.5729\n",
      "Epoch 9/250\n",
      "17/17 [==============================] - 1s 37ms/step - loss: 0.1473 - val_loss: 0.4931\n",
      "Epoch 10/250\n",
      "17/17 [==============================] - 1s 34ms/step - loss: 0.1084 - val_loss: 0.4313\n",
      "Epoch 11/250\n",
      "17/17 [==============================] - 1s 29ms/step - loss: 0.0945 - val_loss: 0.4072\n",
      "Epoch 12/250\n",
      "17/17 [==============================] - 1s 30ms/step - loss: 0.0826 - val_loss: 0.3130\n",
      "Epoch 13/250\n",
      "17/17 [==============================] - 1s 31ms/step - loss: 0.0758 - val_loss: 0.3097\n",
      "Epoch 14/250\n",
      "17/17 [==============================] - 1s 38ms/step - loss: 0.0680 - val_loss: 0.2746\n",
      "Epoch 15/250\n",
      "17/17 [==============================] - 1s 54ms/step - loss: 0.0607 - val_loss: 0.2556\n",
      "Epoch 16/250\n",
      "17/17 [==============================] - 1s 34ms/step - loss: 0.0546 - val_loss: 0.2373\n",
      "Epoch 17/250\n",
      "17/17 [==============================] - 1s 78ms/step - loss: 0.0495 - val_loss: 0.2536\n",
      "Epoch 18/250\n",
      "17/17 [==============================] - 1s 29ms/step - loss: 0.0430 - val_loss: 0.2197\n",
      "Epoch 19/250\n",
      "17/17 [==============================] - 0s 27ms/step - loss: 0.0397 - val_loss: 0.2153\n",
      "Epoch 20/250\n",
      "17/17 [==============================] - 0s 24ms/step - loss: 0.0363 - val_loss: 0.2396\n",
      "Epoch 21/250\n",
      "17/17 [==============================] - 0s 22ms/step - loss: 0.0348 - val_loss: 0.2051\n",
      "Epoch 22/250\n",
      "17/17 [==============================] - 1s 37ms/step - loss: 0.0312 - val_loss: 0.2197\n",
      "Epoch 23/250\n",
      "17/17 [==============================] - 1s 46ms/step - loss: 0.0307 - val_loss: 0.2086\n",
      "Epoch 24/250\n",
      "17/17 [==============================] - 1s 40ms/step - loss: 0.0283 - val_loss: 0.2148\n",
      "Epoch 25/250\n",
      "17/17 [==============================] - 1s 30ms/step - loss: 0.0275 - val_loss: 0.2172\n",
      "Epoch 26/250\n",
      "17/17 [==============================] - 1s 37ms/step - loss: 0.0257 - val_loss: 0.1927\n",
      "Epoch 27/250\n",
      "17/17 [==============================] - 1s 35ms/step - loss: 0.0249 - val_loss: 0.1876\n",
      "Epoch 28/250\n",
      "17/17 [==============================] - 1s 34ms/step - loss: 0.0255 - val_loss: 0.1949\n",
      "Epoch 29/250\n",
      "17/17 [==============================] - 0s 26ms/step - loss: 0.0232 - val_loss: 0.1955\n",
      "Epoch 30/250\n",
      "17/17 [==============================] - 0s 25ms/step - loss: 0.0224 - val_loss: 0.1867\n",
      "Epoch 31/250\n",
      "17/17 [==============================] - 1s 38ms/step - loss: 0.0216 - val_loss: 0.2028\n",
      "Epoch 32/250\n",
      "17/17 [==============================] - 0s 24ms/step - loss: 0.0216 - val_loss: 0.1835\n",
      "Epoch 33/250\n",
      "17/17 [==============================] - 1s 32ms/step - loss: 0.0201 - val_loss: 0.1601\n",
      "Epoch 34/250\n",
      "17/17 [==============================] - 1s 60ms/step - loss: 0.0199 - val_loss: 0.1736\n",
      "Epoch 35/250\n",
      "17/17 [==============================] - 1s 39ms/step - loss: 0.0187 - val_loss: 0.1682\n",
      "Epoch 36/250\n",
      "17/17 [==============================] - 1s 33ms/step - loss: 0.0181 - val_loss: 0.1736\n",
      "Epoch 37/250\n",
      "17/17 [==============================] - 1s 32ms/step - loss: 0.0182 - val_loss: 0.1678\n",
      "Epoch 38/250\n",
      "17/17 [==============================] - 1s 34ms/step - loss: 0.0185 - val_loss: 0.1760\n",
      "4/4 [==============================] - 0s 6ms/step - loss: 0.1760\n"
     ]
    }
   ],
   "source": [
    "lstm_model = tf.keras.Sequential(\n",
    "    [\n",
    "        tf.keras.layers.LSTM(8, activation=\"relu\", return_sequences=False),\n",
    "        tf.keras.layers.Dense(4),\n",
    "        tf.keras.layers.Dense(1),\n",
    "    ]\n",
    ")\n",
    "\n",
    "compile_and_fit(lstm_model, eval_window)\n",
    "\n",
    "val_performance['LSTM'] = lstm_model.evaluate(eval_window.val)\n",
    "performance['LSTM'] = lstm_model.evaluate(eval_window.test, verbose=0)"
   ]
  },
  {
   "cell_type": "code",
   "execution_count": 26,
   "id": "2b9697b9",
   "metadata": {},
   "outputs": [
    {
     "data": {
      "text/plain": [
       "{'Baseline': 0.07595724612474442,\n",
       " 'Conv1D': 0.5553140044212341,\n",
       " 'SimpleRNN': 0.019692115485668182,\n",
       " 'LSTM': 0.1470523476600647}"
      ]
     },
     "execution_count": 26,
     "metadata": {},
     "output_type": "execute_result"
    }
   ],
   "source": [
    "performance"
   ]
  },
  {
   "cell_type": "code",
   "execution_count": 27,
   "id": "cdda5ae2",
   "metadata": {},
   "outputs": [
    {
     "data": {
      "text/plain": [
       "{'Baseline': 0.49024951457977295,\n",
       " 'Conv1D': 0.48369383811950684,\n",
       " 'SimpleRNN': 0.07016316056251526,\n",
       " 'LSTM': 0.1760217845439911}"
      ]
     },
     "execution_count": 27,
     "metadata": {},
     "output_type": "execute_result"
    }
   ],
   "source": [
    "val_performance"
   ]
  },
  {
   "cell_type": "markdown",
   "id": "6ae15d39",
   "metadata": {
    "slideshow": {
     "slide_type": "fragment"
    }
   },
   "source": [
    "**GRU**\n",
    "\n",
    "GRU is similar to the LSTM framework but is computationally slightly simpler. The pro is that this means it typically will run faster than LSTM but the drawback is that it can perform slightly worse.\n",
    "\n",
    "Output for step $t$ is given by:\n",
    "\n",
    "\\begin{align*}\n",
    "  z_t &= \\sigma_g(W_z x_t + U_z h_{t-1} + b_z) \\\\\n",
    "  r_t &= \\sigma_g(W_r x_t + U_r h_{t-1} + b_r) \\\\\n",
    "  \\hat{h}_t &= \\phi_h(W_h x_t + U_h (r_t \\odot h_{t-1}) + b_h) \\\\\n",
    "  h_t &= (1 - z_t) \\odot h_{t-1} + z_t \\odot \\hat{h}_{t}\n",
    "\\end{align*}"
   ]
  },
  {
   "cell_type": "code",
   "execution_count": 28,
   "id": "f4d067b6",
   "metadata": {
    "slideshow": {
     "slide_type": "-"
    }
   },
   "outputs": [
    {
     "name": "stdout",
     "output_type": "stream",
     "text": [
      "Epoch 1/250\n",
      "17/17 [==============================] - 7s 67ms/step - loss: 0.8703 - val_loss: 0.4507\n",
      "Epoch 2/250\n",
      "17/17 [==============================] - 0s 24ms/step - loss: 0.6847 - val_loss: 0.4538\n",
      "Epoch 3/250\n",
      "17/17 [==============================] - 1s 42ms/step - loss: 0.5216 - val_loss: 0.4521\n",
      "Epoch 4/250\n",
      "17/17 [==============================] - 1s 35ms/step - loss: 0.3633 - val_loss: 0.3876\n",
      "Epoch 5/250\n",
      "17/17 [==============================] - 1s 27ms/step - loss: 0.2267 - val_loss: 0.3609\n",
      "Epoch 6/250\n",
      "17/17 [==============================] - 1s 40ms/step - loss: 0.1233 - val_loss: 0.2504\n",
      "Epoch 7/250\n",
      "17/17 [==============================] - 0s 26ms/step - loss: 0.0734 - val_loss: 0.1638\n",
      "Epoch 8/250\n",
      "17/17 [==============================] - 0s 19ms/step - loss: 0.0530 - val_loss: 0.1419\n",
      "Epoch 9/250\n",
      "17/17 [==============================] - 0s 26ms/step - loss: 0.0435 - val_loss: 0.1308\n",
      "Epoch 10/250\n",
      "17/17 [==============================] - 1s 26ms/step - loss: 0.0368 - val_loss: 0.1269\n",
      "Epoch 11/250\n",
      "17/17 [==============================] - 0s 27ms/step - loss: 0.0327 - val_loss: 0.1200\n",
      "Epoch 12/250\n",
      "17/17 [==============================] - 1s 31ms/step - loss: 0.0294 - val_loss: 0.1178\n",
      "Epoch 13/250\n",
      "17/17 [==============================] - 0s 24ms/step - loss: 0.0269 - val_loss: 0.1258\n",
      "Epoch 14/250\n",
      "17/17 [==============================] - 1s 27ms/step - loss: 0.0256 - val_loss: 0.1193\n",
      "Epoch 15/250\n",
      "17/17 [==============================] - 0s 26ms/step - loss: 0.0237 - val_loss: 0.1202\n",
      "Epoch 16/250\n",
      "17/17 [==============================] - 0s 21ms/step - loss: 0.0221 - val_loss: 0.1294\n",
      "Epoch 17/250\n",
      "17/17 [==============================] - 0s 26ms/step - loss: 0.0215 - val_loss: 0.1229\n",
      "4/4 [==============================] - 0s 5ms/step - loss: 0.1229\n"
     ]
    }
   ],
   "source": [
    "gru_model = tf.keras.Sequential(\n",
    "    [\n",
    "        tf.keras.layers.GRU(8, activation=\"relu\", return_sequences=False),\n",
    "        tf.keras.layers.Dense(4),\n",
    "        tf.keras.layers.Dense(1),\n",
    "    ]\n",
    ")\n",
    "\n",
    "compile_and_fit(gru_model, eval_window)\n",
    "\n",
    "val_performance['GRU'] = gru_model.evaluate(eval_window.val)\n",
    "performance['GRU'] = gru_model.evaluate(eval_window.test, verbose=0)"
   ]
  },
  {
   "cell_type": "code",
   "execution_count": 29,
   "id": "75bcdafc",
   "metadata": {
    "slideshow": {
     "slide_type": "-"
    }
   },
   "outputs": [
    {
     "data": {
      "text/plain": [
       "{'Baseline': 0.49024951457977295,\n",
       " 'Conv1D': 0.48369383811950684,\n",
       " 'SimpleRNN': 0.07016316056251526,\n",
       " 'LSTM': 0.1760217845439911,\n",
       " 'GRU': 0.12285276502370834}"
      ]
     },
     "execution_count": 29,
     "metadata": {},
     "output_type": "execute_result"
    }
   ],
   "source": [
    "val_performance"
   ]
  },
  {
   "cell_type": "markdown",
   "id": "a05acb72",
   "metadata": {
    "slideshow": {
     "slide_type": "subslide"
    }
   },
   "source": [
    "### Stacking RNNs\n",
    "\n",
    "The convenient interface of Keras allows us to stack a variety of layers with one another. This includes using multiple levels of RNNs!"
   ]
  },
  {
   "cell_type": "code",
   "execution_count": 30,
   "id": "d806126d",
   "metadata": {},
   "outputs": [
    {
     "data": {
      "text/plain": [
       "{'Baseline': 0.07595724612474442,\n",
       " 'Conv1D': 0.5553140044212341,\n",
       " 'SimpleRNN': 0.019692115485668182,\n",
       " 'LSTM': 0.1470523476600647,\n",
       " 'GRU': 0.020304718986153603}"
      ]
     },
     "execution_count": 30,
     "metadata": {},
     "output_type": "execute_result"
    }
   ],
   "source": [
    "performance"
   ]
  },
  {
   "cell_type": "code",
   "execution_count": 31,
   "id": "53b3cbd3",
   "metadata": {
    "slideshow": {
     "slide_type": "-"
    }
   },
   "outputs": [
    {
     "name": "stdout",
     "output_type": "stream",
     "text": [
      "Epoch 1/250\n",
      "17/17 [==============================] - 12s 117ms/step - loss: 0.4466 - val_loss: 0.6730\n",
      "Epoch 2/250\n",
      "17/17 [==============================] - 1s 73ms/step - loss: 0.2749 - val_loss: 0.5479\n",
      "Epoch 3/250\n",
      "17/17 [==============================] - 1s 53ms/step - loss: 0.1729 - val_loss: 0.4117\n",
      "Epoch 4/250\n",
      "17/17 [==============================] - 1s 53ms/step - loss: 0.1152 - val_loss: 0.3433\n",
      "Epoch 5/250\n",
      "17/17 [==============================] - 1s 56ms/step - loss: 0.0863 - val_loss: 0.2836\n",
      "Epoch 6/250\n",
      "17/17 [==============================] - 2s 128ms/step - loss: 0.0736 - val_loss: 0.3071\n",
      "Epoch 7/250\n",
      "17/17 [==============================] - 2s 83ms/step - loss: 0.0634 - val_loss: 0.2728\n",
      "Epoch 8/250\n",
      "17/17 [==============================] - 1s 44ms/step - loss: 0.0558 - val_loss: 0.2561\n",
      "Epoch 9/250\n",
      "17/17 [==============================] - 1s 68ms/step - loss: 0.0486 - val_loss: 0.2755\n",
      "Epoch 10/250\n",
      "17/17 [==============================] - 1s 78ms/step - loss: 0.0441 - val_loss: 0.2743\n",
      "Epoch 11/250\n",
      "17/17 [==============================] - 1s 66ms/step - loss: 0.0404 - val_loss: 0.2358\n",
      "Epoch 12/250\n",
      "17/17 [==============================] - 1s 58ms/step - loss: 0.0376 - val_loss: 0.2790\n",
      "Epoch 13/250\n",
      "17/17 [==============================] - 1s 50ms/step - loss: 0.0347 - val_loss: 0.2761\n",
      "Epoch 14/250\n",
      "17/17 [==============================] - 1s 42ms/step - loss: 0.0332 - val_loss: 0.2702\n",
      "Epoch 15/250\n",
      "17/17 [==============================] - 1s 47ms/step - loss: 0.0305 - val_loss: 0.2845\n",
      "Epoch 16/250\n",
      "17/17 [==============================] - 1s 41ms/step - loss: 0.0295 - val_loss: 0.2816\n",
      "Epoch 17/250\n",
      "17/17 [==============================] - 1s 39ms/step - loss: 0.0283 - val_loss: 0.2390\n",
      "Epoch 18/250\n",
      "17/17 [==============================] - 1s 39ms/step - loss: 0.0270 - val_loss: 0.2326\n",
      "Epoch 19/250\n",
      "17/17 [==============================] - 1s 40ms/step - loss: 0.0258 - val_loss: 0.2319\n",
      "Epoch 20/250\n",
      "17/17 [==============================] - 1s 38ms/step - loss: 0.0247 - val_loss: 0.2515\n",
      "Epoch 21/250\n",
      "17/17 [==============================] - 1s 36ms/step - loss: 0.0239 - val_loss: 0.2785\n",
      "Epoch 22/250\n",
      "17/17 [==============================] - 1s 59ms/step - loss: 0.0226 - val_loss: 0.2291\n",
      "Epoch 23/250\n",
      "17/17 [==============================] - 1s 64ms/step - loss: 0.0229 - val_loss: 0.2572\n",
      "Epoch 24/250\n",
      "17/17 [==============================] - 1s 47ms/step - loss: 0.0213 - val_loss: 0.2496\n",
      "Epoch 25/250\n",
      "17/17 [==============================] - 1s 42ms/step - loss: 0.0207 - val_loss: 0.2427\n",
      "Epoch 26/250\n",
      "17/17 [==============================] - 1s 42ms/step - loss: 0.0209 - val_loss: 0.2294\n",
      "Epoch 27/250\n",
      "17/17 [==============================] - 1s 43ms/step - loss: 0.0204 - val_loss: 0.2521\n",
      "Epoch 28/250\n",
      "17/17 [==============================] - 1s 83ms/step - loss: 0.0193 - val_loss: 0.2697\n",
      "Epoch 29/250\n",
      "17/17 [==============================] - 1s 38ms/step - loss: 0.0188 - val_loss: 0.2481\n",
      "Epoch 30/250\n",
      "17/17 [==============================] - 1s 44ms/step - loss: 0.0191 - val_loss: 0.2445\n",
      "Epoch 31/250\n",
      "17/17 [==============================] - 1s 44ms/step - loss: 0.0179 - val_loss: 0.2171\n",
      "Epoch 32/250\n",
      "17/17 [==============================] - 1s 43ms/step - loss: 0.0182 - val_loss: 0.2210\n",
      "Epoch 33/250\n",
      "17/17 [==============================] - 1s 38ms/step - loss: 0.0182 - val_loss: 0.2293\n",
      "Epoch 34/250\n",
      "17/17 [==============================] - 1s 41ms/step - loss: 0.0170 - val_loss: 0.2244\n",
      "Epoch 35/250\n",
      "17/17 [==============================] - 1s 43ms/step - loss: 0.0178 - val_loss: 0.2264\n",
      "Epoch 36/250\n",
      "17/17 [==============================] - 1s 41ms/step - loss: 0.0168 - val_loss: 0.2304\n",
      "Epoch 37/250\n",
      "17/17 [==============================] - 1s 48ms/step - loss: 0.0166 - val_loss: 0.2479\n",
      "Epoch 38/250\n",
      "17/17 [==============================] - 1s 44ms/step - loss: 0.0164 - val_loss: 0.2493\n",
      "Epoch 39/250\n",
      "17/17 [==============================] - 1s 46ms/step - loss: 0.0159 - val_loss: 0.2298\n",
      "Epoch 40/250\n",
      "17/17 [==============================] - 1s 49ms/step - loss: 0.0155 - val_loss: 0.2308\n",
      "Epoch 41/250\n",
      "17/17 [==============================] - 1s 43ms/step - loss: 0.0159 - val_loss: 0.2551\n",
      "Epoch 42/250\n",
      "17/17 [==============================] - 1s 40ms/step - loss: 0.0154 - val_loss: 0.2404\n",
      "Epoch 43/250\n",
      "17/17 [==============================] - 1s 52ms/step - loss: 0.0156 - val_loss: 0.2436\n",
      "Epoch 44/250\n",
      "17/17 [==============================] - 1s 37ms/step - loss: 0.0151 - val_loss: 0.2509\n",
      "Epoch 45/250\n",
      "17/17 [==============================] - 1s 36ms/step - loss: 0.0153 - val_loss: 0.2332\n",
      "Epoch 46/250\n",
      "17/17 [==============================] - 1s 42ms/step - loss: 0.0152 - val_loss: 0.2307\n",
      "Epoch 47/250\n",
      "17/17 [==============================] - 1s 41ms/step - loss: 0.0142 - val_loss: 0.2335\n",
      "Epoch 48/250\n",
      "17/17 [==============================] - 1s 44ms/step - loss: 0.0149 - val_loss: 0.2171\n",
      "Epoch 49/250\n",
      "17/17 [==============================] - 1s 46ms/step - loss: 0.0149 - val_loss: 0.2430\n",
      "Epoch 50/250\n",
      "17/17 [==============================] - 1s 51ms/step - loss: 0.0141 - val_loss: 0.2245\n",
      "Epoch 51/250\n",
      "17/17 [==============================] - 1s 42ms/step - loss: 0.0140 - val_loss: 0.2165\n",
      "Epoch 52/250\n",
      "17/17 [==============================] - 1s 51ms/step - loss: 0.0141 - val_loss: 0.2476\n",
      "Epoch 53/250\n",
      "17/17 [==============================] - 1s 46ms/step - loss: 0.0137 - val_loss: 0.2202\n",
      "Epoch 54/250\n",
      "17/17 [==============================] - 1s 44ms/step - loss: 0.0141 - val_loss: 0.2340\n",
      "Epoch 55/250\n",
      "17/17 [==============================] - 1s 45ms/step - loss: 0.0133 - val_loss: 0.2187\n",
      "Epoch 56/250\n",
      "17/17 [==============================] - 1s 48ms/step - loss: 0.0131 - val_loss: 0.2074\n",
      "Epoch 57/250\n",
      "17/17 [==============================] - 1s 52ms/step - loss: 0.0135 - val_loss: 0.2110\n",
      "Epoch 58/250\n",
      "17/17 [==============================] - 1s 68ms/step - loss: 0.0130 - val_loss: 0.2313\n",
      "Epoch 59/250\n",
      "17/17 [==============================] - 1s 64ms/step - loss: 0.0135 - val_loss: 0.2083\n",
      "Epoch 60/250\n",
      "17/17 [==============================] - 1s 40ms/step - loss: 0.0133 - val_loss: 0.2385\n",
      "Epoch 61/250\n",
      "17/17 [==============================] - 1s 36ms/step - loss: 0.0125 - val_loss: 0.2257\n",
      "Epoch 62/250\n",
      "17/17 [==============================] - 1s 55ms/step - loss: 0.0127 - val_loss: 0.2529\n",
      "Epoch 63/250\n",
      "17/17 [==============================] - 1s 65ms/step - loss: 0.0128 - val_loss: 0.2558\n",
      "Epoch 64/250\n",
      "17/17 [==============================] - 1s 44ms/step - loss: 0.0126 - val_loss: 0.2308\n",
      "Epoch 65/250\n",
      "17/17 [==============================] - 2s 89ms/step - loss: 0.0127 - val_loss: 0.2197\n",
      "Epoch 66/250\n",
      "17/17 [==============================] - 1s 68ms/step - loss: 0.0125 - val_loss: 0.2227\n",
      "Epoch 67/250\n",
      "17/17 [==============================] - 1s 57ms/step - loss: 0.0126 - val_loss: 0.2401\n",
      "Epoch 68/250\n",
      "17/17 [==============================] - 1s 78ms/step - loss: 0.0124 - val_loss: 0.1962\n",
      "Epoch 69/250\n",
      "17/17 [==============================] - 1s 63ms/step - loss: 0.0125 - val_loss: 0.2311\n",
      "Epoch 70/250\n",
      "17/17 [==============================] - 2s 88ms/step - loss: 0.0119 - val_loss: 0.2235\n",
      "Epoch 71/250\n",
      "17/17 [==============================] - 1s 55ms/step - loss: 0.0122 - val_loss: 0.1934\n",
      "Epoch 72/250\n",
      "17/17 [==============================] - 1s 58ms/step - loss: 0.0122 - val_loss: 0.2200\n",
      "Epoch 73/250\n",
      "17/17 [==============================] - 1s 58ms/step - loss: 0.0116 - val_loss: 0.2142\n",
      "Epoch 74/250\n",
      "17/17 [==============================] - 1s 52ms/step - loss: 0.0118 - val_loss: 0.2437\n",
      "Epoch 75/250\n",
      "17/17 [==============================] - 1s 38ms/step - loss: 0.0119 - val_loss: 0.2183\n",
      "Epoch 76/250\n",
      "17/17 [==============================] - 2s 110ms/step - loss: 0.0115 - val_loss: 0.2145\n",
      "Epoch 77/250\n",
      "17/17 [==============================] - 1s 37ms/step - loss: 0.0119 - val_loss: 0.1982\n",
      "Epoch 78/250\n",
      "17/17 [==============================] - 1s 70ms/step - loss: 0.0119 - val_loss: 0.2270\n",
      "Epoch 79/250\n",
      "17/17 [==============================] - 1s 50ms/step - loss: 0.0114 - val_loss: 0.2247\n",
      "Epoch 80/250\n",
      "17/17 [==============================] - 1s 52ms/step - loss: 0.0114 - val_loss: 0.2027\n",
      "Epoch 81/250\n",
      "17/17 [==============================] - 1s 39ms/step - loss: 0.0115 - val_loss: 0.2213\n",
      "Epoch 82/250\n",
      "17/17 [==============================] - 1s 50ms/step - loss: 0.0111 - val_loss: 0.2186\n",
      "Epoch 83/250\n",
      "17/17 [==============================] - 1s 45ms/step - loss: 0.0115 - val_loss: 0.2379\n",
      "Epoch 84/250\n",
      "17/17 [==============================] - 1s 41ms/step - loss: 0.0114 - val_loss: 0.2276\n",
      "Epoch 85/250\n",
      "17/17 [==============================] - 1s 51ms/step - loss: 0.0110 - val_loss: 0.2464\n",
      "Epoch 86/250\n",
      "17/17 [==============================] - 1s 40ms/step - loss: 0.0108 - val_loss: 0.2293\n",
      "Epoch 87/250\n",
      "17/17 [==============================] - 1s 42ms/step - loss: 0.0109 - val_loss: 0.2281\n",
      "Epoch 88/250\n",
      "17/17 [==============================] - 1s 41ms/step - loss: 0.0110 - val_loss: 0.2269\n",
      "Epoch 89/250\n",
      "17/17 [==============================] - 1s 40ms/step - loss: 0.0110 - val_loss: 0.2149\n",
      "Epoch 90/250\n",
      "17/17 [==============================] - 1s 55ms/step - loss: 0.0108 - val_loss: 0.2407\n",
      "Epoch 91/250\n",
      "17/17 [==============================] - 1s 54ms/step - loss: 0.0108 - val_loss: 0.2440\n",
      "Epoch 92/250\n",
      "17/17 [==============================] - 1s 43ms/step - loss: 0.0103 - val_loss: 0.2143\n",
      "Epoch 93/250\n",
      "17/17 [==============================] - 1s 38ms/step - loss: 0.0109 - val_loss: 0.2536\n",
      "Epoch 94/250\n",
      "17/17 [==============================] - 1s 41ms/step - loss: 0.0103 - val_loss: 0.2330\n",
      "Epoch 95/250\n",
      "17/17 [==============================] - 1s 42ms/step - loss: 0.0105 - val_loss: 0.2347\n",
      "Epoch 96/250\n",
      "17/17 [==============================] - 1s 39ms/step - loss: 0.0105 - val_loss: 0.2107\n",
      "4/4 [==============================] - 0s 10ms/step - loss: 0.2107\n"
     ]
    }
   ],
   "source": [
    "stacked_model = tf.keras.Sequential(\n",
    "    [\n",
    "        tf.keras.layers.GRU(8, activation=\"relu\", return_sequences=True),\n",
    "        tf.keras.layers.GRU(4, activation=\"tanh\", return_sequences=False),\n",
    "        tf.keras.layers.Dense(4),\n",
    "        tf.keras.layers.Dense(1),\n",
    "    ]\n",
    ")\n",
    "\n",
    "compile_and_fit(stacked_model, eval_window, patience=25)\n",
    "\n",
    "val_performance['stacked'] = stacked_model.evaluate(eval_window.val)\n",
    "performance['stacked'] = stacked_model.evaluate(eval_window.test, verbose=0)"
   ]
  },
  {
   "cell_type": "markdown",
   "id": "0c341dcc",
   "metadata": {
    "slideshow": {
     "slide_type": "slide"
    }
   },
   "source": [
    "## Combining 1D CNNs with RNNs\n",
    "\n",
    "A recommendation that is made in a few places is that CNNs and RNNs can be combined effectively. In \"Deep Learning with Python\", Francis Chollet makes the following observation,\n",
    "\n",
    "> Because 1D convnets process input patches independently, they aren't sensitive to the order of the timesteps (beyond a local scale...), unlike RNNs...\n",
    ">\n",
    ">One strategy to combine the speed and lightness of convnets with the order-sensitivity of RNNs is to use a 1D convnet as a preprocessing step before an RNN. This is especially beneficial when you're dealing with sequences that are so long that they can't realistically be processed with RNNs, such as sequences with thousands of steps. The convnet will turn the long input sequence into mcuh shorter sequences of higher-level features...\n",
    ">\n",
    ">This technique isn't seen often in research papers and practical applications possibly because it isn't well known. It's effective and ought to be more common."
   ]
  },
  {
   "cell_type": "code",
   "execution_count": 32,
   "id": "621240fb",
   "metadata": {},
   "outputs": [
    {
     "name": "stdout",
     "output_type": "stream",
     "text": [
      "Epoch 1/250\n",
      "17/17 [==============================] - 9s 72ms/step - loss: 1.0199 - val_loss: 1.3751\n",
      "Epoch 2/250\n",
      "17/17 [==============================] - 0s 16ms/step - loss: 1.0107 - val_loss: 1.3579\n",
      "Epoch 3/250\n",
      "17/17 [==============================] - 0s 19ms/step - loss: 1.0058 - val_loss: 1.3532\n",
      "Epoch 4/250\n",
      "17/17 [==============================] - 0s 24ms/step - loss: 1.0031 - val_loss: 1.3518\n",
      "Epoch 5/250\n",
      "17/17 [==============================] - 0s 14ms/step - loss: 1.0028 - val_loss: 1.3523\n",
      "Epoch 6/250\n",
      "17/17 [==============================] - 0s 27ms/step - loss: 1.0020 - val_loss: 1.3536\n",
      "Epoch 7/250\n",
      "17/17 [==============================] - 0s 17ms/step - loss: 1.0016 - val_loss: 1.3512\n",
      "Epoch 8/250\n",
      "17/17 [==============================] - 0s 14ms/step - loss: 1.0019 - val_loss: 1.3520\n",
      "Epoch 9/250\n",
      "17/17 [==============================] - 0s 15ms/step - loss: 1.0017 - val_loss: 1.3507\n",
      "Epoch 10/250\n",
      "17/17 [==============================] - 0s 23ms/step - loss: 1.0017 - val_loss: 1.3513\n",
      "Epoch 11/250\n",
      "17/17 [==============================] - 0s 14ms/step - loss: 1.0012 - val_loss: 1.3516\n",
      "Epoch 12/250\n",
      "17/17 [==============================] - 0s 14ms/step - loss: 1.0015 - val_loss: 1.3537\n",
      "Epoch 13/250\n",
      "17/17 [==============================] - 0s 18ms/step - loss: 1.0014 - val_loss: 1.3538\n",
      "Epoch 14/250\n",
      "17/17 [==============================] - 0s 27ms/step - loss: 1.0012 - val_loss: 1.3509\n",
      "Epoch 15/250\n",
      "17/17 [==============================] - 0s 22ms/step - loss: 1.0014 - val_loss: 1.3520\n",
      "Epoch 16/250\n",
      "17/17 [==============================] - 0s 21ms/step - loss: 1.0015 - val_loss: 1.3507\n",
      "Epoch 17/250\n",
      "17/17 [==============================] - 0s 14ms/step - loss: 1.0014 - val_loss: 1.3504\n",
      "Epoch 18/250\n",
      "17/17 [==============================] - 0s 17ms/step - loss: 1.0015 - val_loss: 1.3507\n",
      "Epoch 19/250\n",
      "17/17 [==============================] - 0s 14ms/step - loss: 1.0014 - val_loss: 1.3508\n",
      "Epoch 20/250\n",
      "17/17 [==============================] - 0s 16ms/step - loss: 1.0012 - val_loss: 1.3505\n",
      "Epoch 21/250\n",
      "17/17 [==============================] - 0s 12ms/step - loss: 1.0014 - val_loss: 1.3503\n",
      "Epoch 22/250\n",
      "17/17 [==============================] - 0s 17ms/step - loss: 1.0012 - val_loss: 1.3500\n",
      "Epoch 23/250\n",
      "17/17 [==============================] - 0s 12ms/step - loss: 1.0012 - val_loss: 1.3487\n",
      "Epoch 24/250\n",
      "17/17 [==============================] - 0s 28ms/step - loss: 1.0013 - val_loss: 1.3479\n",
      "Epoch 25/250\n",
      "17/17 [==============================] - 0s 23ms/step - loss: 1.0013 - val_loss: 1.3480\n",
      "Epoch 26/250\n",
      "17/17 [==============================] - 0s 22ms/step - loss: 1.0014 - val_loss: 1.3477\n",
      "Epoch 27/250\n",
      "17/17 [==============================] - 0s 24ms/step - loss: 1.0012 - val_loss: 1.3466\n",
      "Epoch 28/250\n",
      "17/17 [==============================] - 0s 15ms/step - loss: 1.0012 - val_loss: 1.3474\n",
      "Epoch 29/250\n",
      "17/17 [==============================] - 0s 25ms/step - loss: 1.0011 - val_loss: 1.3480\n",
      "Epoch 30/250\n",
      "17/17 [==============================] - 0s 15ms/step - loss: 1.0013 - val_loss: 1.3480\n",
      "Epoch 31/250\n",
      "17/17 [==============================] - 0s 12ms/step - loss: 1.0012 - val_loss: 1.3485\n",
      "Epoch 32/250\n",
      "17/17 [==============================] - 0s 15ms/step - loss: 1.0012 - val_loss: 1.3487\n",
      "Epoch 33/250\n",
      "17/17 [==============================] - 0s 23ms/step - loss: 1.0012 - val_loss: 1.3483\n",
      "Epoch 34/250\n",
      "17/17 [==============================] - 0s 18ms/step - loss: 1.0013 - val_loss: 1.3489\n",
      "Epoch 35/250\n",
      "17/17 [==============================] - 0s 23ms/step - loss: 1.0013 - val_loss: 1.3483\n",
      "Epoch 36/250\n",
      "17/17 [==============================] - 0s 24ms/step - loss: 1.0013 - val_loss: 1.3480\n",
      "Epoch 37/250\n",
      "17/17 [==============================] - 0s 11ms/step - loss: 1.0012 - val_loss: 1.3495\n",
      "Epoch 38/250\n",
      "17/17 [==============================] - 0s 18ms/step - loss: 1.0013 - val_loss: 1.3485\n",
      "Epoch 39/250\n",
      "17/17 [==============================] - 0s 18ms/step - loss: 1.0011 - val_loss: 1.3488\n",
      "Epoch 40/250\n",
      "17/17 [==============================] - 0s 11ms/step - loss: 1.0012 - val_loss: 1.3477\n",
      "Epoch 41/250\n",
      "17/17 [==============================] - 0s 23ms/step - loss: 1.0012 - val_loss: 1.3482\n",
      "Epoch 42/250\n",
      "17/17 [==============================] - 0s 15ms/step - loss: 1.0012 - val_loss: 1.3484\n",
      "Epoch 43/250\n",
      "17/17 [==============================] - 0s 21ms/step - loss: 1.0012 - val_loss: 1.3481\n",
      "Epoch 44/250\n",
      "17/17 [==============================] - 0s 19ms/step - loss: 1.0012 - val_loss: 1.3501\n",
      "Epoch 45/250\n",
      "17/17 [==============================] - 0s 16ms/step - loss: 1.0013 - val_loss: 1.3499\n",
      "Epoch 46/250\n",
      "17/17 [==============================] - 0s 13ms/step - loss: 1.0013 - val_loss: 1.3487\n",
      "Epoch 47/250\n",
      "17/17 [==============================] - 0s 18ms/step - loss: 1.0013 - val_loss: 1.3480\n",
      "Epoch 48/250\n",
      "17/17 [==============================] - 0s 17ms/step - loss: 1.0013 - val_loss: 1.3498\n",
      "Epoch 49/250\n",
      "17/17 [==============================] - 0s 19ms/step - loss: 1.0012 - val_loss: 1.3491\n",
      "Epoch 50/250\n",
      "17/17 [==============================] - 0s 23ms/step - loss: 1.0012 - val_loss: 1.3480\n",
      "Epoch 51/250\n",
      "17/17 [==============================] - 0s 20ms/step - loss: 1.0012 - val_loss: 1.3481\n",
      "Epoch 52/250\n",
      "17/17 [==============================] - 0s 13ms/step - loss: 1.0010 - val_loss: 1.3480\n",
      "4/4 [==============================] - 1s 6ms/step - loss: 1.0516\n"
     ]
    }
   ],
   "source": [
    "CONV_WIDTH = 6\n",
    "\n",
    "conv_window = WindowGenerator(\n",
    "    input_width=CONV_WIDTH,\n",
    "    label_width=1,\n",
    "    shift=1\n",
    ")\n",
    "\n",
    "conv_rnn_model = tf.keras.Sequential(\n",
    "    [\n",
    "        tf.keras.layers.Conv1D(filters=4, kernel_size=(CONV_WIDTH,), activation=\"tanh\"),\n",
    "        tf.keras.layers.GRU(units=4, activation=\"relu\"),\n",
    "        tf.keras.layers.Dense(units=1),\n",
    "    ]\n",
    ")\n",
    "\n",
    "compile_and_fit(conv_rnn_model, conv_window, patience=25)\n",
    "\n",
    "val_performance['Conv+RNN'] = conv_rnn_model.evaluate(eval_window.val)\n",
    "performance['Conv+RNN'] = conv_rnn_model.evaluate(eval_window.test, verbose=0)"
   ]
  },
  {
   "cell_type": "code",
   "execution_count": 33,
   "id": "ac5aff3a",
   "metadata": {
    "slideshow": {
     "slide_type": "-"
    }
   },
   "outputs": [
    {
     "data": {
      "text/plain": [
       "{'Baseline': 0.07595724612474442,\n",
       " 'Conv1D': 0.5553140044212341,\n",
       " 'SimpleRNN': 0.019692115485668182,\n",
       " 'LSTM': 0.1470523476600647,\n",
       " 'GRU': 0.020304718986153603,\n",
       " 'stacked': 0.04019080102443695,\n",
       " 'Conv+RNN': 0.9906368255615234}"
      ]
     },
     "execution_count": 33,
     "metadata": {},
     "output_type": "execute_result"
    }
   ],
   "source": [
    "performance"
   ]
  },
  {
   "cell_type": "markdown",
   "id": "1cc27360",
   "metadata": {
    "slideshow": {
     "slide_type": "slide"
    }
   },
   "source": [
    "## Additional resources\n",
    "\n",
    "* https://towardsdatascience.com/recurrent-neural-networks-for-recession-forecast-f435a2a4f3ef\n",
    "* https://medium.com/microsoftazure/neural-networks-for-forecasting-financial-and-economic-time-series-6aca370ff412\n",
    "* https://www.tensorflow.org/guide/keras/rnn\n",
    "* https://www.tensorflow.org/tutorials/structured_data/time_series#recurrent_neural_network"
   ]
  }
 ],
 "metadata": {
  "celltoolbar": "Slideshow",
  "kernelspec": {
   "display_name": "Python 3",
   "language": "python",
   "name": "python3"
  },
  "language_info": {
   "codemirror_mode": {
    "name": "ipython",
    "version": 3
   },
   "file_extension": ".py",
   "mimetype": "text/x-python",
   "name": "python",
   "nbconvert_exporter": "python",
   "pygments_lexer": "ipython3",
   "version": "3.8.8"
  }
 },
 "nbformat": 4,
 "nbformat_minor": 5
}
