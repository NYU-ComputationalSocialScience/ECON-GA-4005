{
 "cells": [
  {
   "cell_type": "markdown",
   "id": "955117c0-6881-455d-8eb1-c7e9e13105c8",
   "metadata": {
    "slideshow": {
     "slide_type": "slide"
    },
    "tags": []
   },
   "source": [
    "# Reinforcement Learning &#x2013; Continuous State Spaces\n",
    "\n",
    "**Prerequisites**\n",
    "\n",
    "- Tensorflow\n",
    "- Function Approximation/Interpolation\n",
    "- Reinforcement Learning Introduction, Sarsa, QLearning\n",
    "\n",
    "**Outcomes**\n",
    "\n",
    "- Understand the limits of tabular RL algorithms when facing continuous state or action spaces\n",
    "- Be able to apply linear interpolation as a function approximation tool for representing $Q$\n",
    "- Be able to use tensorflow to use a neural network to approximate $Q$\n",
    "\n",
    "**References**\n",
    "\n",
    "- Barto & Sutton book (online by authors [here](http://incompleteideas.net/book/the-book.html)) chapters 9-11"
   ]
  },
  {
   "cell_type": "markdown",
   "id": "a609b652-b0f0-4d15-abc3-27cfddcfee22",
   "metadata": {
    "slideshow": {
     "slide_type": "subslide"
    },
    "tags": []
   },
   "source": [
    "## Tabular Q &#x2013; review\n",
    "\n",
    "- Previous examples (farkle, career choice) have had discrete state and action spaces\n",
    "    - Career choice: \n",
    "    $$\\begin{aligned}\n",
    "    \\mathcal{S} &= \\{\\epsilon_i\\}_{i=1}^N \\times \\{\\theta_i\\}_{i=1}^N \\\\ \n",
    "    \\mathcal{A} &= \\{\\text{ stay put}, \\text{ new job}, \\text{ new life}\\}\n",
    "    \\end{aligned}$$\n",
    "    - Farkle: \n",
    "    $$\\begin{aligned}\n",
    "    \\mathcal{S} &= \\text{round} \\times \\text{scores} \\times \\text{can roll} \\times \\text{rolled} \\times \\text{turn sum} \\\\ \n",
    "    \\mathcal{A}(s) &\\subseteq \\text{roll} \\times \\text{stop} \\times \\text{play dice}\n",
    "    \\end{aligned}$$\n",
    "- This allowed us to use a lookup table for storing $Q(s, a)$\n",
    "    - Q was a dict, each key was $(s, a)$ pair and each value was associated Q"
   ]
  },
  {
   "cell_type": "markdown",
   "id": "fe67073d-7a33-4f78-8a8c-47bb7596fb7a",
   "metadata": {
    "slideshow": {
     "slide_type": "subslide"
    },
    "tags": []
   },
   "source": [
    "### Tabular Q &#x2013; limitations\n",
    "\n",
    "- Not all environments or RL problems have discrete state and action spaces\n",
    "- Some have much larger state or action spaces\n",
    "    - Self driving car: all possible images, sensor readings\n",
    "    - Stock trading: sequences of prices, liquidity, funds\n",
    "    - Medical imaging: all possible medical images\n",
    "- Using a lookup table (dict) to represent $Q$ in these cases is not feasible\n",
    "- We need a *generalization* strategy for $Q$\n",
    "- Our response: *function approximation*"
   ]
  },
  {
   "cell_type": "markdown",
   "id": "946c7c1c-2a1f-4230-8ae5-7dbebea11999",
   "metadata": {
    "slideshow": {
     "slide_type": "slide"
    },
    "tags": []
   },
   "source": [
    "## Example: Cart-Pole\n",
    "\n",
    "\n",
    "\n",
    "-   As a motivating example, let's consider the Cart-Pole problem\n",
    "-   in this problem a pole is fastened to the side of a cart, loose enough for\n",
    "    the pole to freely rotate\n",
    "-   The agent must move the cart on a straight line (1 dimension) to keep the\n",
    "    pole from falling below a certain angle"
   ]
  },
  {
   "cell_type": "code",
   "execution_count": 1,
   "id": "f22d29a5-4f90-4090-b2a1-7ede52fe4535",
   "metadata": {},
   "outputs": [
    {
     "data": {
      "image/jpeg": "[encoded data removed]",
      "text/html": [
       "\n",
       "        <iframe\n",
       "            width=\"800\"\n",
       "            height=\"600\"\n",
       "            src=\"https://www.youtube.com/embed/46wjA6dqxOM\"\n",
       "            frameborder=\"0\"\n",
       "            allowfullscreen\n",
       "        ></iframe>\n",
       "        "
      ],
      "text/plain": [
       "<IPython.lib.display.YouTubeVideo at 0x7fa4903e84c0>"
      ]
     },
     "execution_count": 1,
     "metadata": {},
     "output_type": "execute_result"
    }
   ],
   "source": [
    "from IPython.display import YouTubeVideo\n",
    "\n",
    "YouTubeVideo(\"46wjA6dqxOM\", width=800, height=600)"
   ]
  },
  {
   "cell_type": "markdown",
   "id": "fbb5c6e0-ec7b-45c2-aa2e-b04fd4def3d7",
   "metadata": {
    "slideshow": {
     "slide_type": "subslide"
    },
    "tags": []
   },
   "source": [
    "### State Space\n",
    "\n",
    "- $\\mathcal{S} \\subset \\mathbb{R}^4$\n",
    "  | Num|Observation|Min|Max|\n",
    "  |---|---|---|---|\n",
    "  | 0|Cart Position|-4.8|4.8|\n",
    "  | 1|Cart Velocity|-Inf|Inf|\n",
    "  | 2|Pole Angle|-0.418 rad (-24 deg)|0.418 rad (24 deg)|\n",
    "  | 3|Pole Angular Velocity|-Inf|Inf|\n",
    "- This is a continuous space and therefore using a lookup table is infeasible (infinitely many $s \\in \\mathcal{S})$"
   ]
  },
  {
   "cell_type": "markdown",
   "id": "6ae10a09-6a79-4394-a600-8e5d4924b181",
   "metadata": {
    "slideshow": {
     "slide_type": "subslide"
    },
    "tags": []
   },
   "source": [
    "### Action Space\n",
    "\n",
    "\n",
    "\n",
    "- $\\mathcal{A} = {0, 1}$:\n",
    "    \n",
    "  | Num|Action|\n",
    "  |---|---|\n",
    "  | 0|Push cart to the left|\n",
    "  | 1|Push cart to the right|\n",
    "\n",
    "- Action space is discrete"
   ]
  },
  {
   "cell_type": "markdown",
   "id": "0bc21aa5-fcd3-4dfc-9fac-94673bd32c2c",
   "metadata": {
    "slideshow": {
     "slide_type": "slide"
    },
    "tags": []
   },
   "source": [
    "### OpenAI Gym\n",
    "\n",
    "- OpenAI is a ML research company from the US\n",
    "- Now famous for NLP models such as GPT-3\n",
    "- A few years ago created the `gym` python library for RL research\n",
    "- `gym` contains implementations of dozens of RL environments that adhere to a consistent API\n",
    "- Researchers can implement RL agents once and test them on a variety of RL problems"
   ]
  },
  {
   "cell_type": "markdown",
   "id": "02e73e69-215e-4209-bf39-c812c025b203",
   "metadata": {
    "slideshow": {
     "slide_type": "subslide"
    },
    "tags": []
   },
   "source": [
    "### Cartpole in Gym\n",
    "\n",
    "- Let's load up the gym library and see how it works\n",
    "- We first import gym and call `gym.make` with the name of our env (`CartPole-v0`)"
   ]
  },
  {
   "cell_type": "code",
   "execution_count": 2,
   "id": "29422d1d-8173-4bbd-9db5-725fb654fa20",
   "metadata": {},
   "outputs": [],
   "source": [
    "# if you get errors importing gym below, try to uncomment line below to install gym\n",
    "# %pip install --user gym interpolation"
   ]
  },
  {
   "cell_type": "code",
   "execution_count": 3,
   "id": "74dbaddc-e9a6-4bc5-b668-68367f004633",
   "metadata": {},
   "outputs": [],
   "source": [
    "import gym\n",
    "import random\n",
    "import pandas as pd\n",
    "import numpy as np\n",
    "import time"
   ]
  },
  {
   "cell_type": "code",
   "execution_count": 4,
   "id": "ad1aa6cf-7551-4082-b5c3-34b2b91f8b94",
   "metadata": {},
   "outputs": [],
   "source": [
    "env = gym.make(\"CartPole-v0\")"
   ]
  },
  {
   "cell_type": "markdown",
   "id": "4b3f6ebd-9934-447b-8382-f9f1c0ed23fb",
   "metadata": {
    "slideshow": {
     "slide_type": "subslide"
    },
    "tags": []
   },
   "source": [
    "#### State Space\n",
    "\n",
    "- We can ask gym to tell us the state space for an env"
   ]
  },
  {
   "cell_type": "code",
   "execution_count": 5,
   "id": "a584bfb8-d201-49e9-acdb-4f325c3f30fd",
   "metadata": {},
   "outputs": [
    {
     "data": {
      "text/plain": [
       "Box(-3.4028234663852886e+38, 3.4028234663852886e+38, (4,), float32)"
      ]
     },
     "execution_count": 5,
     "metadata": {},
     "output_type": "execute_result"
    }
   ],
   "source": [
    "env.observation_space"
   ]
  },
  {
   "cell_type": "markdown",
   "id": "53040fc0-f1d9-4891-b308-1e1efa20fb48",
   "metadata": {},
   "source": [
    "- `Box` with 4 dimensions means a continus subspace of $\\mathbb{R}^4$\n",
    "- We can ask for the minimum and maximum value for each of the Box' dimensions"
   ]
  },
  {
   "cell_type": "code",
   "execution_count": 6,
   "id": "0f91f0cc-840b-4d57-9c7c-92eb76d425c5",
   "metadata": {},
   "outputs": [
    {
     "name": "stdout",
     "output_type": "stream",
     "text": [
      "min:  [-4.8000002e+00 -3.4028235e+38 -4.1887903e-01 -3.4028235e+38]\n",
      "max:  [4.8000002e+00 3.4028235e+38 4.1887903e-01 3.4028235e+38]\n"
     ]
    }
   ],
   "source": [
    "print(\"min: \", env.observation_space.low)\n",
    "print(\"max: \", env.observation_space.high)"
   ]
  },
  {
   "cell_type": "markdown",
   "id": "e576baa8-cf45-4a38-9c0a-d4c753663db2",
   "metadata": {
    "slideshow": {
     "slide_type": "subslide"
    },
    "tags": []
   },
   "source": [
    "#### Action Space\n",
    "\n",
    "- We can also ask for the action space"
   ]
  },
  {
   "cell_type": "code",
   "execution_count": 7,
   "id": "1132525d-7c57-4186-abfc-e106eb1cc9de",
   "metadata": {},
   "outputs": [
    {
     "data": {
      "text/plain": [
       "Discrete(2)"
      ]
     },
     "execution_count": 7,
     "metadata": {},
     "output_type": "execute_result"
    }
   ],
   "source": [
    "env.action_space"
   ]
  },
  {
   "cell_type": "markdown",
   "id": "a2985a2b-9a64-4de7-9761-a6de778261d7",
   "metadata": {},
   "source": [
    "- Discrete spaces contain the elements ${0, \\dots, N-1}$\n",
    "- In this case we have $\\mathcal{A} = \\{0, 1\\}$"
   ]
  },
  {
   "cell_type": "code",
   "execution_count": 8,
   "id": "6bcc12a2-2a45-47a0-931f-be48adb16dc0",
   "metadata": {},
   "outputs": [
    {
     "data": {
      "text/plain": [
       "True"
      ]
     },
     "execution_count": 8,
     "metadata": {},
     "output_type": "execute_result"
    }
   ],
   "source": [
    "0 in env.action_space"
   ]
  },
  {
   "cell_type": "code",
   "execution_count": 9,
   "id": "4bcfaf7a-5ab6-4f8d-ba23-bc127a35003c",
   "metadata": {},
   "outputs": [
    {
     "data": {
      "text/plain": [
       "False"
      ]
     },
     "execution_count": 9,
     "metadata": {},
     "output_type": "execute_result"
    }
   ],
   "source": [
    "2 in env.action_space"
   ]
  },
  {
   "cell_type": "markdown",
   "id": "af3b195f-713c-4157-abcf-1a22e69f227d",
   "metadata": {
    "slideshow": {
     "slide_type": "subslide"
    },
    "tags": []
   },
   "source": [
    "#### Sampling from spaces\n",
    "\n",
    "- We can sample from spaces"
   ]
  },
  {
   "cell_type": "code",
   "execution_count": 10,
   "id": "d71402e2-23b7-4c3f-adbe-b7044c35d42c",
   "metadata": {},
   "outputs": [
    {
     "name": "stdout",
     "output_type": "stream",
     "text": [
      "sample s:  [-4.7408596e-01  1.0100198e+38  2.8094994e-02  2.1180720e+38]\n",
      "sample a:  0\n"
     ]
    }
   ],
   "source": [
    "print(\"sample s: \", env.observation_space.sample())\n",
    "print(\"sample a: \", env.action_space.sample())"
   ]
  },
  {
   "cell_type": "markdown",
   "id": "55a03315-771b-4c09-87d0-13b52a407d5d",
   "metadata": {
    "slideshow": {
     "slide_type": "subslide"
    },
    "tags": []
   },
   "source": [
    "#### A sample episode\n",
    "\n",
    "- Let's use a completely random agent to showcase how gym works\n",
    "- See comments in the code"
   ]
  },
  {
   "cell_type": "code",
   "execution_count": 11,
   "id": "9b1fbf95-64be-4933-be9e-a1782f3f426f",
   "metadata": {},
   "outputs": [
    {
     "ename": "NoSuchDisplayException",
     "evalue": "Cannot connect to \"None\"",
     "output_type": "error",
     "traceback": [
      "\u001b[0;31m---------------------------------------------------------------------------\u001b[0m",
      "\u001b[0;31mNoSuchDisplayException\u001b[0m                    Traceback (most recent call last)",
      "\u001b[0;32m<ipython-input-11-c5be31a3811f>\u001b[0m in \u001b[0;36m<module>\u001b[0;34m\u001b[0m\n\u001b[1;32m      2\u001b[0m \u001b[0ms\u001b[0m \u001b[0;34m=\u001b[0m \u001b[0menv\u001b[0m\u001b[0;34m.\u001b[0m\u001b[0mreset\u001b[0m\u001b[0;34m(\u001b[0m\u001b[0;34m)\u001b[0m\u001b[0;34m\u001b[0m\u001b[0;34m\u001b[0m\u001b[0m\n\u001b[1;32m      3\u001b[0m \u001b[0;32mfor\u001b[0m \u001b[0mt\u001b[0m \u001b[0;32min\u001b[0m \u001b[0mrange\u001b[0m\u001b[0;34m(\u001b[0m\u001b[0;36m100\u001b[0m\u001b[0;34m)\u001b[0m\u001b[0;34m:\u001b[0m\u001b[0;34m\u001b[0m\u001b[0;34m\u001b[0m\u001b[0m\n\u001b[0;32m----> 4\u001b[0;31m     \u001b[0menv\u001b[0m\u001b[0;34m.\u001b[0m\u001b[0mrender\u001b[0m\u001b[0;34m(\u001b[0m\u001b[0;34m)\u001b[0m                    \u001b[0;31m# update display\u001b[0m\u001b[0;34m\u001b[0m\u001b[0;34m\u001b[0m\u001b[0m\n\u001b[0m\u001b[1;32m      5\u001b[0m     \u001b[0mtime\u001b[0m\u001b[0;34m.\u001b[0m\u001b[0msleep\u001b[0m\u001b[0;34m(\u001b[0m\u001b[0;36m0.1\u001b[0m\u001b[0;34m)\u001b[0m\u001b[0;34m\u001b[0m\u001b[0;34m\u001b[0m\u001b[0m\n\u001b[1;32m      6\u001b[0m     \u001b[0mprint\u001b[0m\u001b[0;34m(\u001b[0m\u001b[0ms\u001b[0m\u001b[0;34m)\u001b[0m                        \u001b[0;31m# print s\u001b[0m\u001b[0;34m\u001b[0m\u001b[0;34m\u001b[0m\u001b[0m\n",
      "\u001b[0;32m~/anaconda3/envs/css/lib/python3.9/site-packages/gym/core.py\u001b[0m in \u001b[0;36mrender\u001b[0;34m(self, mode, **kwargs)\u001b[0m\n\u001b[1;32m    238\u001b[0m \u001b[0;34m\u001b[0m\u001b[0m\n\u001b[1;32m    239\u001b[0m     \u001b[0;32mdef\u001b[0m \u001b[0mrender\u001b[0m\u001b[0;34m(\u001b[0m\u001b[0mself\u001b[0m\u001b[0;34m,\u001b[0m \u001b[0mmode\u001b[0m\u001b[0;34m=\u001b[0m\u001b[0;34m'human'\u001b[0m\u001b[0;34m,\u001b[0m \u001b[0;34m**\u001b[0m\u001b[0mkwargs\u001b[0m\u001b[0;34m)\u001b[0m\u001b[0;34m:\u001b[0m\u001b[0;34m\u001b[0m\u001b[0;34m\u001b[0m\u001b[0m\n\u001b[0;32m--> 240\u001b[0;31m         \u001b[0;32mreturn\u001b[0m \u001b[0mself\u001b[0m\u001b[0;34m.\u001b[0m\u001b[0menv\u001b[0m\u001b[0;34m.\u001b[0m\u001b[0mrender\u001b[0m\u001b[0;34m(\u001b[0m\u001b[0mmode\u001b[0m\u001b[0;34m,\u001b[0m \u001b[0;34m**\u001b[0m\u001b[0mkwargs\u001b[0m\u001b[0;34m)\u001b[0m\u001b[0;34m\u001b[0m\u001b[0;34m\u001b[0m\u001b[0m\n\u001b[0m\u001b[1;32m    241\u001b[0m \u001b[0;34m\u001b[0m\u001b[0m\n\u001b[1;32m    242\u001b[0m     \u001b[0;32mdef\u001b[0m \u001b[0mclose\u001b[0m\u001b[0;34m(\u001b[0m\u001b[0mself\u001b[0m\u001b[0;34m)\u001b[0m\u001b[0;34m:\u001b[0m\u001b[0;34m\u001b[0m\u001b[0;34m\u001b[0m\u001b[0m\n",
      "\u001b[0;32m~/anaconda3/envs/css/lib/python3.9/site-packages/gym/envs/classic_control/cartpole.py\u001b[0m in \u001b[0;36mrender\u001b[0;34m(self, mode)\u001b[0m\n\u001b[1;32m    172\u001b[0m \u001b[0;34m\u001b[0m\u001b[0m\n\u001b[1;32m    173\u001b[0m         \u001b[0;32mif\u001b[0m \u001b[0mself\u001b[0m\u001b[0;34m.\u001b[0m\u001b[0mviewer\u001b[0m \u001b[0;32mis\u001b[0m \u001b[0;32mNone\u001b[0m\u001b[0;34m:\u001b[0m\u001b[0;34m\u001b[0m\u001b[0;34m\u001b[0m\u001b[0m\n\u001b[0;32m--> 174\u001b[0;31m             \u001b[0;32mfrom\u001b[0m \u001b[0mgym\u001b[0m\u001b[0;34m.\u001b[0m\u001b[0menvs\u001b[0m\u001b[0;34m.\u001b[0m\u001b[0mclassic_control\u001b[0m \u001b[0;32mimport\u001b[0m \u001b[0mrendering\u001b[0m\u001b[0;34m\u001b[0m\u001b[0;34m\u001b[0m\u001b[0m\n\u001b[0m\u001b[1;32m    175\u001b[0m             \u001b[0mself\u001b[0m\u001b[0;34m.\u001b[0m\u001b[0mviewer\u001b[0m \u001b[0;34m=\u001b[0m \u001b[0mrendering\u001b[0m\u001b[0;34m.\u001b[0m\u001b[0mViewer\u001b[0m\u001b[0;34m(\u001b[0m\u001b[0mscreen_width\u001b[0m\u001b[0;34m,\u001b[0m \u001b[0mscreen_height\u001b[0m\u001b[0;34m)\u001b[0m\u001b[0;34m\u001b[0m\u001b[0;34m\u001b[0m\u001b[0m\n\u001b[1;32m    176\u001b[0m             \u001b[0ml\u001b[0m\u001b[0;34m,\u001b[0m \u001b[0mr\u001b[0m\u001b[0;34m,\u001b[0m \u001b[0mt\u001b[0m\u001b[0;34m,\u001b[0m \u001b[0mb\u001b[0m \u001b[0;34m=\u001b[0m \u001b[0;34m-\u001b[0m\u001b[0mcartwidth\u001b[0m \u001b[0;34m/\u001b[0m \u001b[0;36m2\u001b[0m\u001b[0;34m,\u001b[0m \u001b[0mcartwidth\u001b[0m \u001b[0;34m/\u001b[0m \u001b[0;36m2\u001b[0m\u001b[0;34m,\u001b[0m \u001b[0mcartheight\u001b[0m \u001b[0;34m/\u001b[0m \u001b[0;36m2\u001b[0m\u001b[0;34m,\u001b[0m \u001b[0;34m-\u001b[0m\u001b[0mcartheight\u001b[0m \u001b[0;34m/\u001b[0m \u001b[0;36m2\u001b[0m\u001b[0;34m\u001b[0m\u001b[0;34m\u001b[0m\u001b[0m\n",
      "\u001b[0;32m~/anaconda3/envs/css/lib/python3.9/site-packages/gym/envs/classic_control/rendering.py\u001b[0m in \u001b[0;36m<module>\u001b[0;34m\u001b[0m\n\u001b[1;32m     23\u001b[0m \u001b[0;34m\u001b[0m\u001b[0m\n\u001b[1;32m     24\u001b[0m \u001b[0;32mtry\u001b[0m\u001b[0;34m:\u001b[0m\u001b[0;34m\u001b[0m\u001b[0;34m\u001b[0m\u001b[0m\n\u001b[0;32m---> 25\u001b[0;31m     \u001b[0;32mfrom\u001b[0m \u001b[0mpyglet\u001b[0m\u001b[0;34m.\u001b[0m\u001b[0mgl\u001b[0m \u001b[0;32mimport\u001b[0m \u001b[0;34m*\u001b[0m\u001b[0;34m\u001b[0m\u001b[0;34m\u001b[0m\u001b[0m\n\u001b[0m\u001b[1;32m     26\u001b[0m \u001b[0;32mexcept\u001b[0m \u001b[0mImportError\u001b[0m \u001b[0;32mas\u001b[0m \u001b[0me\u001b[0m\u001b[0;34m:\u001b[0m\u001b[0;34m\u001b[0m\u001b[0;34m\u001b[0m\u001b[0m\n\u001b[1;32m     27\u001b[0m     raise ImportError('''\n",
      "\u001b[0;32m~/anaconda3/envs/css/lib/python3.9/site-packages/pyglet/gl/__init__.py\u001b[0m in \u001b[0;36m<module>\u001b[0;34m\u001b[0m\n\u001b[1;32m    230\u001b[0m     \u001b[0;31m# trickery is for circular import\u001b[0m\u001b[0;34m\u001b[0m\u001b[0;34m\u001b[0m\u001b[0;34m\u001b[0m\u001b[0m\n\u001b[1;32m    231\u001b[0m     \u001b[0m_pyglet\u001b[0m\u001b[0;34m.\u001b[0m\u001b[0mgl\u001b[0m \u001b[0;34m=\u001b[0m \u001b[0m_sys\u001b[0m\u001b[0;34m.\u001b[0m\u001b[0mmodules\u001b[0m\u001b[0;34m[\u001b[0m\u001b[0m__name__\u001b[0m\u001b[0;34m]\u001b[0m\u001b[0;34m\u001b[0m\u001b[0;34m\u001b[0m\u001b[0m\n\u001b[0;32m--> 232\u001b[0;31m     \u001b[0;32mimport\u001b[0m \u001b[0mpyglet\u001b[0m\u001b[0;34m.\u001b[0m\u001b[0mwindow\u001b[0m\u001b[0;34m\u001b[0m\u001b[0;34m\u001b[0m\u001b[0m\n\u001b[0m",
      "\u001b[0;32m~/anaconda3/envs/css/lib/python3.9/site-packages/pyglet/window/__init__.py\u001b[0m in \u001b[0;36m<module>\u001b[0;34m\u001b[0m\n\u001b[1;32m   1897\u001b[0m \u001b[0;32mif\u001b[0m \u001b[0;32mnot\u001b[0m \u001b[0m_is_pyglet_doc_run\u001b[0m\u001b[0;34m:\u001b[0m\u001b[0;34m\u001b[0m\u001b[0;34m\u001b[0m\u001b[0m\n\u001b[1;32m   1898\u001b[0m     \u001b[0mpyglet\u001b[0m\u001b[0;34m.\u001b[0m\u001b[0mwindow\u001b[0m \u001b[0;34m=\u001b[0m \u001b[0msys\u001b[0m\u001b[0;34m.\u001b[0m\u001b[0mmodules\u001b[0m\u001b[0;34m[\u001b[0m\u001b[0m__name__\u001b[0m\u001b[0;34m]\u001b[0m\u001b[0;34m\u001b[0m\u001b[0;34m\u001b[0m\u001b[0m\n\u001b[0;32m-> 1899\u001b[0;31m     \u001b[0mgl\u001b[0m\u001b[0;34m.\u001b[0m\u001b[0m_create_shadow_window\u001b[0m\u001b[0;34m(\u001b[0m\u001b[0;34m)\u001b[0m\u001b[0;34m\u001b[0m\u001b[0;34m\u001b[0m\u001b[0m\n\u001b[0m",
      "\u001b[0;32m~/anaconda3/envs/css/lib/python3.9/site-packages/pyglet/gl/__init__.py\u001b[0m in \u001b[0;36m_create_shadow_window\u001b[0;34m()\u001b[0m\n\u001b[1;32m    204\u001b[0m \u001b[0;34m\u001b[0m\u001b[0m\n\u001b[1;32m    205\u001b[0m     \u001b[0;32mfrom\u001b[0m \u001b[0mpyglet\u001b[0m\u001b[0;34m.\u001b[0m\u001b[0mwindow\u001b[0m \u001b[0;32mimport\u001b[0m \u001b[0mWindow\u001b[0m\u001b[0;34m\u001b[0m\u001b[0;34m\u001b[0m\u001b[0m\n\u001b[0;32m--> 206\u001b[0;31m     \u001b[0m_shadow_window\u001b[0m \u001b[0;34m=\u001b[0m \u001b[0mWindow\u001b[0m\u001b[0;34m(\u001b[0m\u001b[0mwidth\u001b[0m\u001b[0;34m=\u001b[0m\u001b[0;36m1\u001b[0m\u001b[0;34m,\u001b[0m \u001b[0mheight\u001b[0m\u001b[0;34m=\u001b[0m\u001b[0;36m1\u001b[0m\u001b[0;34m,\u001b[0m \u001b[0mvisible\u001b[0m\u001b[0;34m=\u001b[0m\u001b[0;32mFalse\u001b[0m\u001b[0;34m)\u001b[0m\u001b[0;34m\u001b[0m\u001b[0;34m\u001b[0m\u001b[0m\n\u001b[0m\u001b[1;32m    207\u001b[0m     \u001b[0m_shadow_window\u001b[0m\u001b[0;34m.\u001b[0m\u001b[0mswitch_to\u001b[0m\u001b[0;34m(\u001b[0m\u001b[0;34m)\u001b[0m\u001b[0;34m\u001b[0m\u001b[0;34m\u001b[0m\u001b[0m\n\u001b[1;32m    208\u001b[0m \u001b[0;34m\u001b[0m\u001b[0m\n",
      "\u001b[0;32m~/anaconda3/envs/css/lib/python3.9/site-packages/pyglet/window/xlib/__init__.py\u001b[0m in \u001b[0;36m__init__\u001b[0;34m(self, *args, **kwargs)\u001b[0m\n\u001b[1;32m    171\u001b[0m                     \u001b[0mself\u001b[0m\u001b[0;34m.\u001b[0m\u001b[0m_event_handlers\u001b[0m\u001b[0;34m[\u001b[0m\u001b[0mmessage\u001b[0m\u001b[0;34m]\u001b[0m \u001b[0;34m=\u001b[0m \u001b[0mfunc\u001b[0m\u001b[0;34m\u001b[0m\u001b[0;34m\u001b[0m\u001b[0m\n\u001b[1;32m    172\u001b[0m \u001b[0;34m\u001b[0m\u001b[0m\n\u001b[0;32m--> 173\u001b[0;31m         \u001b[0msuper\u001b[0m\u001b[0;34m(\u001b[0m\u001b[0mXlibWindow\u001b[0m\u001b[0;34m,\u001b[0m \u001b[0mself\u001b[0m\u001b[0;34m)\u001b[0m\u001b[0;34m.\u001b[0m\u001b[0m__init__\u001b[0m\u001b[0;34m(\u001b[0m\u001b[0;34m*\u001b[0m\u001b[0margs\u001b[0m\u001b[0;34m,\u001b[0m \u001b[0;34m**\u001b[0m\u001b[0mkwargs\u001b[0m\u001b[0;34m)\u001b[0m\u001b[0;34m\u001b[0m\u001b[0;34m\u001b[0m\u001b[0m\n\u001b[0m\u001b[1;32m    174\u001b[0m \u001b[0;34m\u001b[0m\u001b[0m\n\u001b[1;32m    175\u001b[0m         \u001b[0;32mglobal\u001b[0m \u001b[0m_can_detect_autorepeat\u001b[0m\u001b[0;34m\u001b[0m\u001b[0;34m\u001b[0m\u001b[0m\n",
      "\u001b[0;32m~/anaconda3/envs/css/lib/python3.9/site-packages/pyglet/window/__init__.py\u001b[0m in \u001b[0;36m__init__\u001b[0;34m(self, width, height, caption, resizable, style, fullscreen, visible, vsync, file_drops, display, screen, config, context, mode)\u001b[0m\n\u001b[1;32m    583\u001b[0m \u001b[0;34m\u001b[0m\u001b[0m\n\u001b[1;32m    584\u001b[0m         \u001b[0;32mif\u001b[0m \u001b[0;32mnot\u001b[0m \u001b[0mdisplay\u001b[0m\u001b[0;34m:\u001b[0m\u001b[0;34m\u001b[0m\u001b[0;34m\u001b[0m\u001b[0m\n\u001b[0;32m--> 585\u001b[0;31m             \u001b[0mdisplay\u001b[0m \u001b[0;34m=\u001b[0m \u001b[0mpyglet\u001b[0m\u001b[0;34m.\u001b[0m\u001b[0mcanvas\u001b[0m\u001b[0;34m.\u001b[0m\u001b[0mget_display\u001b[0m\u001b[0;34m(\u001b[0m\u001b[0;34m)\u001b[0m\u001b[0;34m\u001b[0m\u001b[0;34m\u001b[0m\u001b[0m\n\u001b[0m\u001b[1;32m    586\u001b[0m \u001b[0;34m\u001b[0m\u001b[0m\n\u001b[1;32m    587\u001b[0m         \u001b[0;32mif\u001b[0m \u001b[0;32mnot\u001b[0m \u001b[0mscreen\u001b[0m\u001b[0;34m:\u001b[0m\u001b[0;34m\u001b[0m\u001b[0;34m\u001b[0m\u001b[0m\n",
      "\u001b[0;32m~/anaconda3/envs/css/lib/python3.9/site-packages/pyglet/canvas/__init__.py\u001b[0m in \u001b[0;36mget_display\u001b[0;34m()\u001b[0m\n\u001b[1;32m     92\u001b[0m \u001b[0;34m\u001b[0m\u001b[0m\n\u001b[1;32m     93\u001b[0m     \u001b[0;31m# Otherwise, create a new display and return it.\u001b[0m\u001b[0;34m\u001b[0m\u001b[0;34m\u001b[0m\u001b[0;34m\u001b[0m\u001b[0m\n\u001b[0;32m---> 94\u001b[0;31m     \u001b[0;32mreturn\u001b[0m \u001b[0mDisplay\u001b[0m\u001b[0;34m(\u001b[0m\u001b[0;34m)\u001b[0m\u001b[0;34m\u001b[0m\u001b[0;34m\u001b[0m\u001b[0m\n\u001b[0m\u001b[1;32m     95\u001b[0m \u001b[0;34m\u001b[0m\u001b[0m\n\u001b[1;32m     96\u001b[0m \u001b[0;34m\u001b[0m\u001b[0m\n",
      "\u001b[0;32m~/anaconda3/envs/css/lib/python3.9/site-packages/pyglet/canvas/xlib.py\u001b[0m in \u001b[0;36m__init__\u001b[0;34m(self, name, x_screen)\u001b[0m\n\u001b[1;32m    121\u001b[0m         \u001b[0mself\u001b[0m\u001b[0;34m.\u001b[0m\u001b[0m_display\u001b[0m \u001b[0;34m=\u001b[0m \u001b[0mxlib\u001b[0m\u001b[0;34m.\u001b[0m\u001b[0mXOpenDisplay\u001b[0m\u001b[0;34m(\u001b[0m\u001b[0mname\u001b[0m\u001b[0;34m)\u001b[0m\u001b[0;34m\u001b[0m\u001b[0;34m\u001b[0m\u001b[0m\n\u001b[1;32m    122\u001b[0m         \u001b[0;32mif\u001b[0m \u001b[0;32mnot\u001b[0m \u001b[0mself\u001b[0m\u001b[0;34m.\u001b[0m\u001b[0m_display\u001b[0m\u001b[0;34m:\u001b[0m\u001b[0;34m\u001b[0m\u001b[0;34m\u001b[0m\u001b[0m\n\u001b[0;32m--> 123\u001b[0;31m             \u001b[0;32mraise\u001b[0m \u001b[0mNoSuchDisplayException\u001b[0m\u001b[0;34m(\u001b[0m\u001b[0;34m'Cannot connect to \"%s\"'\u001b[0m \u001b[0;34m%\u001b[0m \u001b[0mname\u001b[0m\u001b[0;34m)\u001b[0m\u001b[0;34m\u001b[0m\u001b[0;34m\u001b[0m\u001b[0m\n\u001b[0m\u001b[1;32m    124\u001b[0m \u001b[0;34m\u001b[0m\u001b[0m\n\u001b[1;32m    125\u001b[0m         \u001b[0mscreen_count\u001b[0m \u001b[0;34m=\u001b[0m \u001b[0mxlib\u001b[0m\u001b[0;34m.\u001b[0m\u001b[0mXScreenCount\u001b[0m\u001b[0;34m(\u001b[0m\u001b[0mself\u001b[0m\u001b[0;34m.\u001b[0m\u001b[0m_display\u001b[0m\u001b[0;34m)\u001b[0m\u001b[0;34m\u001b[0m\u001b[0;34m\u001b[0m\u001b[0m\n",
      "\u001b[0;31mNoSuchDisplayException\u001b[0m: Cannot connect to \"None\""
     ]
    }
   ],
   "source": [
    "# restart the env. Will return s_0\n",
    "s = env.reset()\n",
    "for t in range(100):\n",
    "    env.render()                    # update display\n",
    "    time.sleep(0.1)\n",
    "    print(s)                        # print s\n",
    "    a = env.action_space.sample()   # random sample from A(s)\n",
    "    s, r, done, info = env.step(a)  # step using a \n",
    "    if done:\n",
    "        print(\"Episode finished after {} timesteps\".format(t+1))\n",
    "        break\n",
    "env.close()"
   ]
  },
  {
   "cell_type": "markdown",
   "id": "73d0ac15-c38f-45ad-9dda-1127364e6d44",
   "metadata": {},
   "source": [
    "#### Many sample episodes\n",
    "\n",
    "- Let's play many sample episodes and see how the random agent does over time"
   ]
  },
  {
   "cell_type": "code",
   "execution_count": 12,
   "id": "e29892d4-1686-4c47-b2fa-da422dfae01d",
   "metadata": {},
   "outputs": [],
   "source": [
    "random_episode_length = []\n",
    "for _ in range(5000):\n",
    "    env.reset()\n",
    "    for n_steps in range(200):\n",
    "        a = env.action_space.sample()\n",
    "        _, _, done, _ = env.step(a)\n",
    "        if done:\n",
    "            random_episode_length.append(n_steps)        \n",
    "            break"
   ]
  },
  {
   "cell_type": "code",
   "execution_count": 13,
   "id": "ca9dfbed-41a7-4d5a-8dfe-f96f4e084c18",
   "metadata": {},
   "outputs": [
    {
     "data": {
      "text/plain": [
       "<AxesSubplot:>"
      ]
     },
     "execution_count": 13,
     "metadata": {},
     "output_type": "execute_result"
    },
    {
     "data": {
      "image/png": "[encoded data removed]",
      "text/plain": [
       "<Figure size 432x288 with 1 Axes>"
      ]
     },
     "metadata": {
      "needs_background": "light"
     },
     "output_type": "display_data"
    }
   ],
   "source": [
    "pd.Series(random_episode_length).rolling(20).mean().plot()"
   ]
  },
  {
   "cell_type": "markdown",
   "id": "a7d40bdb-895a-4a88-8ed0-0379f8347962",
   "metadata": {},
   "source": [
    "- This agent does not do well...\n",
    "- The CartPole env terminates successfully after 200 steps. \n",
    "- This agent doesn't quite get 15% of the way there\n",
    "- To do better we need some tools for handling the continuous state space"
   ]
  },
  {
   "cell_type": "markdown",
   "id": "f1e4ad7a-75a3-4b5d-9494-39b97ffdb60e",
   "metadata": {
    "slideshow": {
     "slide_type": "slide"
    },
    "tags": []
   },
   "source": [
    "## Linear Function Approximation\n",
    "\n",
    "- Let's begin our generalizing Q with linear function approximation\n",
    "- Let $x(s): \\mathcal{S} \\rightarrow \\mathbb{R}^D$ be a feature map for state $s$\n",
    "- $x$ could be identity function, polynomial features, spline basis functions, etc\n",
    "- For the discrete action space case we will let $w_a \\in \\mathbb{R}^D$ represent weights such that $$Q(s, a | w) = w_a^Tx(s)$$\n",
    "- Notice that our approximation to $Q$ is linear in the features $x(s)$"
   ]
  },
  {
   "cell_type": "markdown",
   "id": "8ce85177-7e17-43b1-8aea-f380017ed28d",
   "metadata": {
    "slideshow": {
     "slide_type": "subslide"
    },
    "tags": []
   },
   "source": [
    "### SGD\n",
    "\n",
    "- We would like to choose weights $w_a$ that minimize the difference between $q^*(s,a)$ and $Q(s,a|w_a)$\n",
    "- To do this we will use the MSE loss function between $q^*(s,a)$ and $Q(s,a|w_a)$\n",
    "- If we apply SGD using this loss function, we want to update $w$ as follows:\n",
    "$$\\begin{aligned}\n",
    "w_A &= w_A - \\frac{1}{2} \\alpha \\nabla_w \\big[q^*(S,A) - Q(S, A | w) \\big]^2 \\\\\n",
    "     &= w_A + \\alpha \\big[q^*(S, A) - Q(S, A | w) \\big] \\nabla_w Q(S, A | w)\n",
    "\\end{aligned}$$\n",
    "- The issue is that we don't know $q^*(S, A)$..."
   ]
  },
  {
   "cell_type": "markdown",
   "id": "387fc9ad-8393-46b2-b31a-e54e2dd5a172",
   "metadata": {
    "slideshow": {
     "slide_type": "subslide"
    },
    "tags": []
   },
   "source": [
    "### TD(0) to the rescue\n",
    "\n",
    "- Notice how the update rule for $w_A$ looks very similar to the update rule for tabular Q-learning:\n",
    "$$\\begin{aligned}\n",
    "w_A &= w_A + \\alpha \\big[q^*(S, A) - Q(S, A | w) \\big] \\nabla_w Q(S, A | w) \\\\\n",
    "Q(S, A) &= Q(S, A) + \\alpha \\big[R + \\beta \\max_{a'} Q(S', a') - Q(S, A) \\big]\n",
    "\\end{aligned}$$\n",
    "- In Q-learning we take small steps in the direction of $q^*(s, a)$ using the TD(0) error\n",
    "- We'll extend this knowledge to the SGD for $w_A$ and use $R + \\beta \\max_{a'} Q(S', a'| w)$ in place of $q^*(S, A)$:\n",
    "$$w_A = w_A + \\alpha \\big[R + \\beta \\max_{a'} Q(S', a'| w) - Q(S, A | w) \\big] \\nabla_w Q(S, A | w)$$\n",
    "- There are proofs that provide guarantees that if we use this update rule $Q(s, a | w)$ will converge to $q^*$\n",
    "- We will take these proofs as given"
   ]
  },
  {
   "cell_type": "markdown",
   "id": "8e2b8978-dc24-4a37-8eb4-678af33001d1",
   "metadata": {
    "slideshow": {
     "slide_type": "subslide"
    },
    "tags": []
   },
   "source": [
    "### SGD + TD(0) + Linear Approximator\n",
    "\n",
    "- We now combine the concepts of SGD, TD(0) learning, *and* the fact that we consider forms of $Q(s, a | w) = w_a^Tx(s)$ that are linear in features $x(s)$\n",
    "- Under our linearity assumption $$\\nabla_w Q(s, a | w) = x(s)$$\n",
    "- This makes our update rule for $w$ equal to: $$w_A = w_A + \\alpha \\big[R + \\beta \\max_{a'} Q(S', a'| w) - Q(S, A | w) \\big] x(s)$$\n",
    "- Note that the TD(0) part of the update rule is a scalar\n",
    "- We update our weights in the direction of our feature vector $x(s)$, with scaled step size according to TD(0) term and learning rate"
   ]
  },
  {
   "cell_type": "markdown",
   "id": "ac34bd6b-41e4-4af1-b888-f7c2e569e198",
   "metadata": {
    "slideshow": {
     "slide_type": "subslide"
    },
    "tags": []
   },
   "source": [
    "### Example: Complete Polynomials\n",
    "\n",
    "- Let's try this procedure out using a function $x(s)$ that computes a complete polynomial in $s$\n",
    "- A complete polynomial of degree $D$ is composed of all possible multiplicative terms of the elements $s$ that are of total degree less than or equal to $D$\n",
    "    - Example: $s = [a, b, c]$ and $D = 2$: $$x(s) = \\begin{bmatrix}1 & a & b & c & a^2 & a b & a c & b^2 & b c & c^2 \\end{bmatrix}^T$$\n",
    "    - Does not include $a^2 b$ term because that has total degree of $3 > 2$"
   ]
  },
  {
   "cell_type": "code",
   "execution_count": 15,
   "id": "e2da149a-b907-40b0-9346-7e01aae20f65",
   "metadata": {},
   "outputs": [
    {
     "data": {
      "text/plain": [
       "array([1., 1., 2., 3., 1., 2., 3., 4., 6., 9.])"
      ]
     },
     "execution_count": 15,
     "metadata": {},
     "output_type": "execute_result"
    }
   ],
   "source": [
    "from interpolation.complete_poly import complete_polynomial\n",
    "complete_polynomial([1, 2, 3], 2)"
   ]
  },
  {
   "cell_type": "markdown",
   "id": "44cf4bf9-22ac-4d78-9eee-cfa7a78e04ac",
   "metadata": {
    "slideshow": {
     "slide_type": "subslide"
    },
    "tags": []
   },
   "source": [
    "- We'll now create a class that uses `complete_polynomial` under the hood, and keeps track of `w` for us"
   ]
  },
  {
   "cell_type": "code",
   "execution_count": 16,
   "id": "f2d8ac46-40c1-40fa-85a4-66ee86c1b8d0",
   "metadata": {},
   "outputs": [],
   "source": [
    "class CompletePolyInterpolator:\n",
    "    def __init__(self, N: int, D: int=2):\n",
    "        self.D = D\n",
    "        self.w = np.random.rand(complete_polynomial(np.zeros(N), D).size)\n",
    "\n",
    "    def basis(self, s):\n",
    "        \"return basis matrix x(s)\"\n",
    "        return complete_polynomial(s, self.D)\n",
    "    \n",
    "    def __call__(self, s):\n",
    "        return self.basis(s) @ self.w"
   ]
  },
  {
   "cell_type": "markdown",
   "id": "a3f86494-da9f-47b3-9436-e8edf06f9e90",
   "metadata": {
    "slideshow": {
     "slide_type": "subslide"
    },
    "tags": []
   },
   "source": [
    "- We'll wrap this in a class that stores one `CompletePolyInterpolator` per discrete action"
   ]
  },
  {
   "cell_type": "code",
   "execution_count": 17,
   "id": "3dfd3b41-391f-41b3-b61e-8ee6f3e73ab3",
   "metadata": {},
   "outputs": [],
   "source": [
    "class ContinuousSDiscreteAQ:\n",
    "    def __init__(self,  Ndim_s: int, Na:int, approximator = CompletePolyInterpolator):\n",
    "        self.Q = [approximator(Ndim_s) for _ in range(Na)]\n",
    "        self.Na = Na\n",
    "        \n",
    "    @property\n",
    "    def w(self):\n",
    "        return np.row_stack([Qa.w for Qa in self.Q])\n",
    "    \n",
    "    def __call__(self, s, a):\n",
    "        return self.Q[a](s)\n",
    "    \n",
    "    def __getitem__(self, a):\n",
    "        return self.Q[a]\n",
    "    \n",
    "    def basis(self, s, a):\n",
    "        return self.Q[a].basis(s)\n",
    "        \n",
    "    def get_greedy(self, s, A_s):\n",
    "        vals = [self(s, a) for a in A_s]\n",
    "        max_val = max(vals)\n",
    "        return random.choice([a for (a, v) in zip(A_s, vals) if v == max_val])"
   ]
  },
  {
   "cell_type": "markdown",
   "id": "a19d5049-52e0-46ca-a022-79fae078c9c4",
   "metadata": {
    "slideshow": {
     "slide_type": "subslide"
    },
    "tags": []
   },
   "source": [
    "- And now we'll create a Qlearning class that can leverage it"
   ]
  },
  {
   "cell_type": "code",
   "execution_count": 18,
   "id": "89e7bff5-f7e5-43b8-8fc5-511fe4cd6b9a",
   "metadata": {
    "tags": []
   },
   "outputs": [],
   "source": [
    "class ApproxQlearning(object):\n",
    "    def __init__(\n",
    "            self, \n",
    "            environment, \n",
    "            approximator=CompletePolyInterpolator, \n",
    "            epsilon=0.9, alpha=0.05, beta=0.5\n",
    "        ):\n",
    "        self.env = environment\n",
    "        Ns = env.observation_space.shape[0]\n",
    "        \n",
    "        assert isinstance(env.action_space, gym.spaces.Discrete)\n",
    "        Na = env.action_space.n\n",
    "        self.A_s = np.arange(Na)\n",
    "        self.Q = ContinuousSDiscreteAQ(Ns, Na, approximator=approximator)\n",
    "        self.epsilon = epsilon\n",
    "        self.alpha = alpha\n",
    "        self.beta = beta\n",
    "        \n",
    "        self.restart_episode()\n",
    "\n",
    "    def restart_episode(self):\n",
    "        self.s = self.env.reset()\n",
    "\n",
    "    def get_greedy(self, s):\n",
    "        return self.Q.get_greedy(s, self.A_s)\n",
    "    \n",
    "    def generate_A(self, s):\n",
    "        if random.random() > self.epsilon:\n",
    "            return self.env.action_space.sample()\n",
    "        return self.get_greedy(s)\n",
    "    \n",
    "    def step(self):\n",
    "        s = self.s\n",
    "        \n",
    "        # first generate an A\n",
    "        a = self.generate_A(s)\n",
    "\n",
    "        # take step\n",
    "        sp, r, done, info = self.env.step(a)    \n",
    "        \n",
    "        if done:\n",
    "            # game is over\n",
    "            self.s = sp\n",
    "            return done\n",
    "        \n",
    "        # get greedy a' based on Q and sp\n",
    "        ap = self.get_greedy(sp)\n",
    "        \n",
    "        # Do TD update\n",
    "        Q, α, β = self.Q, self.alpha, self.beta  # simplify notation\n",
    "        Q[a].w = Q[a].w + α * (r + β * Q(sp, ap) - Q(s, a)) * Q[a].basis(s)\n",
    "        \n",
    "        # step forward in time\n",
    "        self.s = sp "
   ]
  },
  {
   "cell_type": "markdown",
   "id": "eff8fd43-9400-40ff-b3dc-35cfc736e62c",
   "metadata": {
    "slideshow": {
     "slide_type": "subslide"
    },
    "tags": []
   },
   "source": [
    "- We'll train qlearning for 5,000 steps and again plot the average number of steps per game"
   ]
  },
  {
   "cell_type": "code",
   "execution_count": 20,
   "id": "a8c2205c",
   "metadata": {},
   "outputs": [
    {
     "data": {
      "text/plain": [
       "(2, 15)"
      ]
     },
     "execution_count": 20,
     "metadata": {},
     "output_type": "execute_result"
    }
   ],
   "source": [
    "ql.Q.w.shape"
   ]
  },
  {
   "cell_type": "code",
   "execution_count": 19,
   "id": "67580b16-9b42-4c16-8ad3-9d028016e985",
   "metadata": {},
   "outputs": [
    {
     "data": {
      "text/plain": [
       "array([[ 5.00925065e+00,  2.30995792e-01,  4.99018396e-03,\n",
       "         2.96879946e-01, -1.85461868e-01,  5.59646940e-01,\n",
       "        -4.49557732e-01,  6.44841225e-01,  2.89132110e-01,\n",
       "        -3.78327501e-01,  2.38260118e-01,  4.04515402e-01,\n",
       "         1.32923592e-01,  3.98490063e-01, -4.33365717e-01],\n",
       "       [ 4.96802306e+00, -1.28926462e-01, -3.57093000e-01,\n",
       "         5.18540655e-01,  1.63235848e-01,  4.96328486e-02,\n",
       "        -2.82341310e-01,  1.72746079e-01,  5.96348216e-01,\n",
       "        -6.10575652e-01,  9.90059157e-01,  3.50806998e-01,\n",
       "         5.22158910e-01, -1.98051352e-01, -3.55004405e-01]])"
      ]
     },
     "execution_count": 19,
     "metadata": {},
     "output_type": "execute_result"
    },
    {
     "data": {
      "image/png": "[encoded data removed]",
      "text/plain": [
       "<Figure size 432x288 with 1 Axes>"
      ]
     },
     "metadata": {
      "needs_background": "light"
     },
     "output_type": "display_data"
    }
   ],
   "source": [
    "ql = ApproxQlearning(env, epsilon=0.98, beta=0.8, alpha=0.05)\n",
    "\n",
    "def play_episode(ql, render=False):\n",
    "    ql.env.reset()\n",
    "    done = False\n",
    "    i = 0\n",
    "    while not done:\n",
    "        i += 1\n",
    "        if render:\n",
    "            ql.env.render()\n",
    "        done = ql.step()\n",
    "\n",
    "    if render:\n",
    "        env.close()\n",
    "    \n",
    "    return i\n",
    "\n",
    "episode_length = [play_episode(ql) for _ in range(5_000)]\n",
    "\n",
    "import pandas as pd\n",
    "pd.Series(episode_length).rolling(20).mean().plot()\n",
    "\n",
    "ql.Q.w"
   ]
  },
  {
   "cell_type": "markdown",
   "id": "979ba3ce-59cd-4b68-a472-871b2ccf907d",
   "metadata": {
    "slideshow": {
     "slide_type": "subslide"
    },
    "tags": []
   },
   "source": [
    "#### Summary\n",
    "\n",
    "- Our complete polynomial approximation seems to do better than random\n",
    "- This is a good start, but this has its limits:\n",
    "    - Only way to add more flexibility to our approximator is increase polynomial degree\n",
    "    - The min/max values for the velocity variables are extreme\n",
    "    - Trying to compute quadratic or greater terms in very large values will likely cause numerical instability\n",
    "- We need a different paradigm for representing $Q$ in a more flexible, but numerically stable way"
   ]
  }
 ],
 "metadata": {
  "kernelspec": {
   "display_name": "css",
   "language": "python",
   "name": "css"
  },
  "language_info": {
   "codemirror_mode": {
    "name": "ipython",
    "version": 3
   },
   "file_extension": ".py",
   "mimetype": "text/x-python",
   "name": "python",
   "nbconvert_exporter": "python",
   "pygments_lexer": "ipython3",
   "version": "3.9.2"
  }
 },
 "nbformat": 4,
 "nbformat_minor": 5
}
