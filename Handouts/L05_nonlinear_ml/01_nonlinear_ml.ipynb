{
 "cells": [
  {
   "cell_type": "markdown",
   "id": "b521d268",
   "metadata": {
    "slideshow": {
     "slide_type": "slide"
    },
    "tags": []
   },
   "source": [
    "# Regression\n",
    "\n",
    "> **Co-author**\n",
    "- [Paul Schrimpf *UBC*](https://economics.ubc.ca/faculty-and-staff/paul-schrimpf/)\n",
    "\n",
    "\n",
    "**Prerequisites**\n",
    "\n",
    "- [Applied Linear Algebra](../scientific/applied_linalg.ipynb)  \n",
    "- [Optimization](../scientific/optimization.ipynb)  \n",
    "\n",
    "\n",
    "**Outcomes**\n",
    "\n",
    "- Recall linear regression from linear algebra  \n",
    "- Know what feature engineering is and how feature engineering can be automated by neural networks  \n",
    "- Understand the related concepts of overfitting and regularization  \n",
    "- Understand lasso regression and its relation to linear regression  \n",
    "- Understand regression forests as well as its relation to linear regression  \n",
    "- Understand the basics of the multi-layer perceptron  \n",
    "- Use scikit-learn to fit linear regression, lasso, regression forests, and multi-layer perceptron to data on housing prices near Seattle, WA  "
   ]
  },
  {
   "cell_type": "code",
   "execution_count": 1,
   "id": "5d250066",
   "metadata": {
    "hide-output": false,
    "slideshow": {
     "slide_type": "subslide"
    },
    "tags": []
   },
   "outputs": [],
   "source": [
    "# Uncomment following line to install dependencies\n",
    "# %pip install qeds plotly ipywidgets graphviz"
   ]
  },
  {
   "cell_type": "markdown",
   "id": "8017ec74",
   "metadata": {
    "slideshow": {
     "slide_type": "slide"
    },
    "tags": []
   },
   "source": [
    "## Introduction to Regression\n",
    "\n",
    "The goal of regression analysis is to provide accurate mapping from one or\n",
    "more input variables (called features in machine learning or exogenous\n",
    "variables in econometrics) to a continuous output variable (called the label or\n",
    "target in machine learning and the endogenous variable in\n",
    "econometrics).\n",
    "\n",
    "In this lecture, we will study some of the most fundamental and widely-used\n",
    "regression algorithms.\n",
    "\n",
    "We will follow this same general pattern when we learn each algorithm:\n",
    "\n",
    "- Describe the mathematical foundation for the algorithm  \n",
    "- Use the [scikit-learn](https://scikit-learn.org/stable/) python package to\n",
    "  apply the algorithm to a real world dataset on house prices in Washington state  "
   ]
  },
  {
   "cell_type": "markdown",
   "id": "a20eb081",
   "metadata": {},
   "source": [
    "### Dataset\n",
    "\n",
    "Let’s load the dataset and take a quick look at our task."
   ]
  },
  {
   "cell_type": "code",
   "execution_count": 2,
   "id": "253048f8",
   "metadata": {
    "hide-output": false
   },
   "outputs": [
    {
     "name": "stdout",
     "output_type": "stream",
     "text": [
      "<class 'pandas.core.frame.DataFrame'>\n",
      "RangeIndex: 21613 entries, 0 to 21612\n",
      "Data columns (total 21 columns):\n",
      " #   Column         Non-Null Count  Dtype  \n",
      "---  ------         --------------  -----  \n",
      " 0   id             21613 non-null  int64  \n",
      " 1   date           21613 non-null  object \n",
      " 2   price          21613 non-null  float64\n",
      " 3   bedrooms       21613 non-null  int64  \n",
      " 4   bathrooms      21613 non-null  float64\n",
      " 5   sqft_living    21613 non-null  int64  \n",
      " 6   sqft_lot       21613 non-null  int64  \n",
      " 7   floors         21613 non-null  float64\n",
      " 8   waterfront     21613 non-null  int64  \n",
      " 9   view           21613 non-null  int64  \n",
      " 10  condition      21613 non-null  int64  \n",
      " 11  grade          21613 non-null  int64  \n",
      " 12  sqft_above     21613 non-null  int64  \n",
      " 13  sqft_basement  21613 non-null  int64  \n",
      " 14  yr_built       21613 non-null  int64  \n",
      " 15  yr_renovated   21613 non-null  int64  \n",
      " 16  zipcode        21613 non-null  int64  \n",
      " 17  lat            21613 non-null  float64\n",
      " 18  long           21613 non-null  float64\n",
      " 19  sqft_living15  21613 non-null  int64  \n",
      " 20  sqft_lot15     21613 non-null  int64  \n",
      "dtypes: float64(5), int64(15), object(1)\n",
      "memory usage: 3.5+ MB\n"
     ]
    }
   ],
   "source": [
    "import pandas as pd\n",
    "import numpy as np\n",
    "import matplotlib.pyplot as plt\n",
    "import seaborn as sns\n",
    "\n",
    "%matplotlib inline\n",
    "# activate plot theme\n",
    "import qeds\n",
    "qeds.themes.mpl_style();\n",
    "plotly_template = qeds.themes.plotly_template()\n",
    "colors = qeds.themes.COLOR_CYCLE\n",
    "\n",
    "# We will import all these here to ensure that they are loaded, but\n",
    "# will usually re-import close to where they are used to make clear\n",
    "# where the functions come from\n",
    "from sklearn import (\n",
    "    linear_model, metrics, neural_network, pipeline, model_selection\n",
    ")\n",
    "\n",
    "url = \"https://datascience.quantecon.org/assets/data/kc_house_data.csv\"\n",
    "df = pd.read_csv(url)\n",
    "df.info()"
   ]
  },
  {
   "cell_type": "markdown",
   "id": "1bfb2f3a",
   "metadata": {},
   "source": [
    "This dataset contains sales prices on houses in King County (which\n",
    "includes Seattle),\n",
    "Washington, from May 2014 to May 2015.\n",
    "\n",
    "The data comes from\n",
    "[Kaggle](https://www.kaggle.com/harlfoxem/housesalesprediction) . Variable definitions and additional documentation are available at that link."
   ]
  },
  {
   "cell_type": "code",
   "execution_count": 3,
   "id": "67686601",
   "metadata": {
    "hide-output": false
   },
   "outputs": [
    {
     "data": {
      "text/html": [
       "<div>\n",
       "<style scoped>\n",
       "    .dataframe tbody tr th:only-of-type {\n",
       "        vertical-align: middle;\n",
       "    }\n",
       "\n",
       "    .dataframe tbody tr th {\n",
       "        vertical-align: top;\n",
       "    }\n",
       "\n",
       "    .dataframe thead th {\n",
       "        text-align: right;\n",
       "    }\n",
       "</style>\n",
       "<table border=\"1\" class=\"dataframe\">\n",
       "  <thead>\n",
       "    <tr style=\"text-align: right;\">\n",
       "      <th></th>\n",
       "      <th>bedrooms</th>\n",
       "      <th>bathrooms</th>\n",
       "      <th>sqft_living</th>\n",
       "      <th>sqft_lot</th>\n",
       "      <th>floors</th>\n",
       "      <th>waterfront</th>\n",
       "      <th>view</th>\n",
       "      <th>condition</th>\n",
       "      <th>grade</th>\n",
       "      <th>sqft_above</th>\n",
       "      <th>sqft_basement</th>\n",
       "      <th>yr_built</th>\n",
       "      <th>yr_renovated</th>\n",
       "      <th>zipcode</th>\n",
       "      <th>lat</th>\n",
       "      <th>long</th>\n",
       "      <th>sqft_living15</th>\n",
       "      <th>sqft_lot15</th>\n",
       "    </tr>\n",
       "  </thead>\n",
       "  <tbody>\n",
       "    <tr>\n",
       "      <th>0</th>\n",
       "      <td>3.0</td>\n",
       "      <td>1.00</td>\n",
       "      <td>1180.0</td>\n",
       "      <td>5650.0</td>\n",
       "      <td>1.0</td>\n",
       "      <td>0.0</td>\n",
       "      <td>0.0</td>\n",
       "      <td>3.0</td>\n",
       "      <td>7.0</td>\n",
       "      <td>1180.0</td>\n",
       "      <td>0.0</td>\n",
       "      <td>1955.0</td>\n",
       "      <td>0.0</td>\n",
       "      <td>98178.0</td>\n",
       "      <td>47.5112</td>\n",
       "      <td>-122.257</td>\n",
       "      <td>1340.0</td>\n",
       "      <td>5650.0</td>\n",
       "    </tr>\n",
       "    <tr>\n",
       "      <th>1</th>\n",
       "      <td>3.0</td>\n",
       "      <td>2.25</td>\n",
       "      <td>2570.0</td>\n",
       "      <td>7242.0</td>\n",
       "      <td>2.0</td>\n",
       "      <td>0.0</td>\n",
       "      <td>0.0</td>\n",
       "      <td>3.0</td>\n",
       "      <td>7.0</td>\n",
       "      <td>2170.0</td>\n",
       "      <td>400.0</td>\n",
       "      <td>1951.0</td>\n",
       "      <td>1991.0</td>\n",
       "      <td>98125.0</td>\n",
       "      <td>47.7210</td>\n",
       "      <td>-122.319</td>\n",
       "      <td>1690.0</td>\n",
       "      <td>7639.0</td>\n",
       "    </tr>\n",
       "    <tr>\n",
       "      <th>2</th>\n",
       "      <td>2.0</td>\n",
       "      <td>1.00</td>\n",
       "      <td>770.0</td>\n",
       "      <td>10000.0</td>\n",
       "      <td>1.0</td>\n",
       "      <td>0.0</td>\n",
       "      <td>0.0</td>\n",
       "      <td>3.0</td>\n",
       "      <td>6.0</td>\n",
       "      <td>770.0</td>\n",
       "      <td>0.0</td>\n",
       "      <td>1933.0</td>\n",
       "      <td>0.0</td>\n",
       "      <td>98028.0</td>\n",
       "      <td>47.7379</td>\n",
       "      <td>-122.233</td>\n",
       "      <td>2720.0</td>\n",
       "      <td>8062.0</td>\n",
       "    </tr>\n",
       "    <tr>\n",
       "      <th>3</th>\n",
       "      <td>4.0</td>\n",
       "      <td>3.00</td>\n",
       "      <td>1960.0</td>\n",
       "      <td>5000.0</td>\n",
       "      <td>1.0</td>\n",
       "      <td>0.0</td>\n",
       "      <td>0.0</td>\n",
       "      <td>5.0</td>\n",
       "      <td>7.0</td>\n",
       "      <td>1050.0</td>\n",
       "      <td>910.0</td>\n",
       "      <td>1965.0</td>\n",
       "      <td>0.0</td>\n",
       "      <td>98136.0</td>\n",
       "      <td>47.5208</td>\n",
       "      <td>-122.393</td>\n",
       "      <td>1360.0</td>\n",
       "      <td>5000.0</td>\n",
       "    </tr>\n",
       "    <tr>\n",
       "      <th>4</th>\n",
       "      <td>3.0</td>\n",
       "      <td>2.00</td>\n",
       "      <td>1680.0</td>\n",
       "      <td>8080.0</td>\n",
       "      <td>1.0</td>\n",
       "      <td>0.0</td>\n",
       "      <td>0.0</td>\n",
       "      <td>3.0</td>\n",
       "      <td>8.0</td>\n",
       "      <td>1680.0</td>\n",
       "      <td>0.0</td>\n",
       "      <td>1987.0</td>\n",
       "      <td>0.0</td>\n",
       "      <td>98074.0</td>\n",
       "      <td>47.6168</td>\n",
       "      <td>-122.045</td>\n",
       "      <td>1800.0</td>\n",
       "      <td>7503.0</td>\n",
       "    </tr>\n",
       "  </tbody>\n",
       "</table>\n",
       "</div>"
      ],
      "text/plain": [
       "   bedrooms  bathrooms  sqft_living  sqft_lot  floors  waterfront  view  \\\n",
       "0       3.0       1.00       1180.0    5650.0     1.0         0.0   0.0   \n",
       "1       3.0       2.25       2570.0    7242.0     2.0         0.0   0.0   \n",
       "2       2.0       1.00        770.0   10000.0     1.0         0.0   0.0   \n",
       "3       4.0       3.00       1960.0    5000.0     1.0         0.0   0.0   \n",
       "4       3.0       2.00       1680.0    8080.0     1.0         0.0   0.0   \n",
       "\n",
       "   condition  grade  sqft_above  sqft_basement  yr_built  yr_renovated  \\\n",
       "0        3.0    7.0      1180.0            0.0    1955.0           0.0   \n",
       "1        3.0    7.0      2170.0          400.0    1951.0        1991.0   \n",
       "2        3.0    6.0       770.0            0.0    1933.0           0.0   \n",
       "3        5.0    7.0      1050.0          910.0    1965.0           0.0   \n",
       "4        3.0    8.0      1680.0            0.0    1987.0           0.0   \n",
       "\n",
       "   zipcode      lat     long  sqft_living15  sqft_lot15  \n",
       "0  98178.0  47.5112 -122.257         1340.0      5650.0  \n",
       "1  98125.0  47.7210 -122.319         1690.0      7639.0  \n",
       "2  98028.0  47.7379 -122.233         2720.0      8062.0  \n",
       "3  98136.0  47.5208 -122.393         1360.0      5000.0  \n",
       "4  98074.0  47.6168 -122.045         1800.0      7503.0  "
      ]
     },
     "execution_count": 3,
     "metadata": {},
     "output_type": "execute_result"
    }
   ],
   "source": [
    "X = df.drop([\"price\", \"date\", \"id\"], axis=1).copy()\n",
    "# convert everything to be a float for later on\n",
    "for col in list(X):\n",
    "    X[col] = X[col].astype(float)\n",
    "X.head()"
   ]
  },
  {
   "cell_type": "code",
   "execution_count": 4,
   "id": "2ae5fa7c",
   "metadata": {
    "hide-output": false
   },
   "outputs": [
    {
     "data": {
      "text/plain": [
       "0    12.309982\n",
       "1    13.195614\n",
       "2    12.100712\n",
       "3    13.311329\n",
       "4    13.142166\n",
       "Name: price, dtype: float64"
      ]
     },
     "execution_count": 4,
     "metadata": {},
     "output_type": "execute_result"
    }
   ],
   "source": [
    "# notice the log here!\n",
    "y = np.log(df[\"price\"])\n",
    "df[\"log_price\"] = y\n",
    "y.head()"
   ]
  },
  {
   "cell_type": "markdown",
   "id": "87713d6f",
   "metadata": {},
   "source": [
    "While we will be using all variables in `X` in our regression models,\n",
    "we will explain some algorithms that use only the `sqft_living` variable.\n",
    "\n",
    "Here’s what the log house price looks like against `sqft_living`:"
   ]
  },
  {
   "cell_type": "code",
   "execution_count": 5,
   "id": "8f6be34a",
   "metadata": {
    "hide-output": false
   },
   "outputs": [
    {
     "data": {
      "image/png": "[encoded data removed]",
      "text/plain": [
       "<Figure size 576x432 with 1 Axes>"
      ]
     },
     "metadata": {},
     "output_type": "display_data"
    }
   ],
   "source": [
    "def var_scatter(df, ax=None, var=\"sqft_living\"):\n",
    "    if ax is None:\n",
    "        _, ax = plt.subplots(figsize=(8, 6))\n",
    "    df.plot.scatter(x=var , y=\"log_price\", alpha=0.35, s=1.5, ax=ax)\n",
    "\n",
    "    return ax\n",
    "\n",
    "\n",
    "var_scatter(df);"
   ]
  },
  {
   "cell_type": "markdown",
   "id": "7ce72d39",
   "metadata": {
    "tags": []
   },
   "source": [
    "## Linear Regression\n",
    "\n",
    "Let’s dive in by studying the [“Hello World”](https://en.wikipedia.org/wiki/%22Hello,_World!%22_program) of regression\n",
    "algorithms: linear regression.\n",
    "\n",
    "Suppose we would like to predict the log of the sale price of a home, given\n",
    "only the livable square footage of the home.\n",
    "\n",
    "The linear regression model for this situation is\n",
    "\n",
    "$$\n",
    "\\log(\\text{price}) = \\beta_0 + \\beta_1 \\text{sqft\\_living} + \\epsilon\n",
    "$$\n",
    "\n",
    "$ \\beta_0 $ and $ \\beta_1 $ are called parameters (also coefficients or\n",
    "weights). The machine learning algorithm is tasked with finding the parameter values\n",
    "that best fit the data.\n",
    "\n",
    "$ \\epsilon $ is the error term. It would be unusual for the observed\n",
    "$ \\log(\\text{price}) $ to be an exact linear function of\n",
    "$ \\text{sqft\\_living} $. The error term captures the deviation of\n",
    "$ \\log(\\text{price}) $ from a linear function of $ \\text{sqft\\_living} $.\n",
    "\n",
    "The linear regression algorithm will choose the parameters that minimize the\n",
    "*mean squared error* (MSE) function, which for our example is written.\n",
    "\n",
    "$$\n",
    "\\frac{1}{N} \\sum_{i=1}^N \\left(\\log(\\text{price}_i) - (\\beta_0 + \\beta_1 \\text{sqft\\_living}_i) \\right)^2\n",
    "$$\n",
    "\n",
    "The output of this algorithm is the straight line (hence linear) that passes as\n",
    "close to the points on our scatter chart as possible.\n",
    "\n",
    "The `sns.lmplot` function below will plot our scatter chart and draw the\n",
    "optimal linear regression line through the data."
   ]
  },
  {
   "cell_type": "code",
   "execution_count": 6,
   "id": "cc3c1b27",
   "metadata": {
    "hide-output": false
   },
   "outputs": [
    {
     "data": {
      "image/png": "[encoded data removed]",
      "text/plain": [
       "<Figure size 432x432 with 1 Axes>"
      ]
     },
     "metadata": {},
     "output_type": "display_data"
    }
   ],
   "source": [
    "sns.lmplot(\n",
    "    data=df, x=\"sqft_living\", y=\"log_price\", height=6,\n",
    "    scatter_kws=dict(s=1.5, alpha=0.35)\n",
    ");"
   ]
  },
  {
   "cell_type": "markdown",
   "id": "6ce6865f",
   "metadata": {},
   "source": [
    "Let’s use `sklearn` to replicate the figure ourselves.\n",
    "\n",
    "First, we fit the model."
   ]
  },
  {
   "cell_type": "code",
   "execution_count": 7,
   "id": "bc8f07a7",
   "metadata": {
    "hide-output": false
   },
   "outputs": [
    {
     "name": "stdout",
     "output_type": "stream",
     "text": [
      "Fit model: log(price) = 12.2185 + 0.0004 sqft_living\n"
     ]
    }
   ],
   "source": [
    "# import\n",
    "from sklearn import linear_model\n",
    "\n",
    "# construct the model instance\n",
    "sqft_lr_model = linear_model.LinearRegression()\n",
    "\n",
    "# fit the model\n",
    "sqft_lr_model.fit(X[[\"sqft_living\"]], y)\n",
    "\n",
    "# print the coefficients\n",
    "beta_0 = sqft_lr_model.intercept_\n",
    "beta_1 = sqft_lr_model.coef_[0]\n",
    "\n",
    "print(f\"Fit model: log(price) = {beta_0:.4f} + {beta_1:.4f} sqft_living\")"
   ]
  },
  {
   "cell_type": "markdown",
   "id": "43d7f649",
   "metadata": {},
   "source": [
    "Then, we construct the plot."
   ]
  },
  {
   "cell_type": "code",
   "execution_count": 8,
   "id": "ce856491",
   "metadata": {
    "hide-output": false
   },
   "outputs": [
    {
     "data": {
      "text/plain": [
       "[<matplotlib.lines.Line2D at 0x7fb978477d60>]"
      ]
     },
     "execution_count": 8,
     "metadata": {},
     "output_type": "execute_result"
    },
    {
     "data": {
      "image/png": "[encoded data removed]",
      "text/plain": [
       "<Figure size 576x432 with 1 Axes>"
      ]
     },
     "metadata": {},
     "output_type": "display_data"
    }
   ],
   "source": [
    "ax = var_scatter(df)\n",
    "\n",
    "# points for the line\n",
    "x = np.array([0, df[\"sqft_living\"].max()])\n",
    "ax.plot(x, beta_0 + beta_1*x)"
   ]
  },
  {
   "cell_type": "markdown",
   "id": "b3272c3a",
   "metadata": {},
   "source": [
    "We can call the `predict` method on our model to evaluate the model at\n",
    "arbitrary points.\n",
    "\n",
    "For example, we can ask the model to predict the sale price of a 5,000-square-foot home."
   ]
  },
  {
   "cell_type": "code",
   "execution_count": 9,
   "id": "a837669a",
   "metadata": {
    "hide-output": false
   },
   "outputs": [
    {
     "name": "stdout",
     "output_type": "stream",
     "text": [
      "The model predicts a 5,000 sq. foot home would cost 1486889.32 dollars\n"
     ]
    }
   ],
   "source": [
    "# Note, the argument needs to be two-dimensional. You'll see why shortly.\n",
    "logp_5000 = sqft_lr_model.predict([[5000]])[0]\n",
    "print(f\"The model predicts a 5,000 sq. foot home would cost {np.exp(logp_5000):.2f} dollars\")"
   ]
  },
  {
   "cell_type": "markdown",
   "id": "475f29b1",
   "metadata": {},
   "source": [
    "\n",
    "<a id='exercise-0'></a>\n",
    "**Exercise 1**\n",
    "\n",
    "Use the `sqft_lr_model` that we fit to generate predictions for all data points\n",
    "in our sample.\n",
    "\n",
    "Note that you need to pass a DataFrame (not Series)\n",
    "containing the `sqft_living` column to the `predict`. (See how we passed that to `.fit`\n",
    "above for help)\n",
    "\n",
    "Make a scatter chart with the actual data and the predictions on the same\n",
    "figure. Does it look familiar?\n",
    "\n",
    "When making the scatter for model predictions, we recommend passing\n",
    "`c=\"red\"` and `alpha=0.25` so you can distinguish the data from\n",
    "predictions."
   ]
  },
  {
   "cell_type": "code",
   "execution_count": 10,
   "id": "d3e7002b",
   "metadata": {
    "hide-output": false
   },
   "outputs": [
    {
     "data": {
      "image/png": "[encoded data removed]",
      "text/plain": [
       "<Figure size 432x288 with 1 Axes>"
      ]
     },
     "metadata": {},
     "output_type": "display_data"
    }
   ],
   "source": [
    "# Generate predictions\n",
    "\n",
    "# Plot\n",
    "fig, ax = plt.subplots()\n",
    "\n",
    "# Make scatter of data\n",
    "\n",
    "# Make scatter of predictions"
   ]
  },
  {
   "cell_type": "markdown",
   "id": "5afe0c66",
   "metadata": {},
   "source": [
    "\n",
    "<a id='exercise-1'></a>\n",
    "**Exercise 2**\n",
    "\n",
    "Use the `metrics.mean_squared_error` function to evaluate the loss\n",
    "function used by `sklearn` when it fits the model for us.\n",
    "\n",
    "Read the docstring to learn which the arguments that function takes."
   ]
  },
  {
   "cell_type": "code",
   "execution_count": 11,
   "id": "bf16b195",
   "metadata": {
    "hide-output": false
   },
   "outputs": [],
   "source": [
    "from sklearn import metrics\n",
    "\n",
    "# your code here"
   ]
  },
  {
   "cell_type": "markdown",
   "id": "9d6f58b6",
   "metadata": {},
   "source": [
    "### Multivariate Linear Regression\n",
    "\n",
    "Our example regression above is called a univariate linear\n",
    "regression since it uses a single feature.\n",
    "\n",
    "In practice, more features would be used.\n",
    "\n",
    "Suppose that in addition to `sqft_living`, we also wanted to use the `bathrooms` variable.\n",
    "\n",
    "In this case, the linear regression model is\n",
    "\n",
    "$$\n",
    "\\log(\\text{price}) = \\beta_0 + \\beta_1 \\text{sqft\\_living} +\n",
    "\\beta_2 \\text{bathrooms} + \\epsilon\n",
    "$$\n",
    "\n",
    "We could keep adding one variable at a time, along with a new $ \\beta_{j} $ coefficient for the :math:`j`th variable, but there’s an easier way.\n",
    "\n",
    "Let’s write this equation in vector/matrix form as\n",
    "\n",
    "$$\n",
    "\\underbrace{\\begin{bmatrix} \\log(\\text{price}_1) \\\\ \\log(\\text{price}_2) \\\\ \\vdots \\\\ \\log(\\text{price}_N)\\end{bmatrix}}_Y = \\underbrace{\\begin{bmatrix} 1 & \\text{sqft\\_living}_1 & \\text{bathrooms}_1 \\\\ 1 & \\text{sqft\\_living}_2 & \\text{bathrooms}_2 \\\\ \\vdots & \\vdots & \\vdots \\\\ 1 & \\text{sqft\\_living}_N & \\text{bathrooms}_N \\end{bmatrix}}_{X} \\underbrace{\\begin{bmatrix} \\beta_0 \\\\ \\beta_1 \\\\ \\beta_2 \\end{bmatrix}}_{\\beta} + \\epsilon\n",
    "$$\n",
    "\n",
    "Notice that we can add as many columns to $ X $ as we’d like and the linear\n",
    "regression model will still be written $ Y = X \\beta + \\epsilon $.\n",
    "\n",
    "The mean squared error loss function for the general model is\n",
    "\n",
    "$$\n",
    "\\frac{1}{N} \\sum_{i=1}^N (y_i - X_i \\beta)^2 = \\frac{1}{N} \\| y - X \\beta\\|_2^2\n",
    "$$\n",
    "\n",
    "where $ || \\cdot ||_2 $ is the [l2-norm](http://mathworld.wolfram.com/L2-Norm.html).\n",
    "\n",
    "Let’s fit the linear regression model using all columns in `X`."
   ]
  },
  {
   "cell_type": "code",
   "execution_count": 12,
   "id": "ebd2b144",
   "metadata": {
    "hide-output": false
   },
   "outputs": [
    {
     "data": {
      "text/plain": [
       "LinearRegression()"
      ]
     },
     "execution_count": 12,
     "metadata": {},
     "output_type": "execute_result"
    }
   ],
   "source": [
    "lr_model = linear_model.LinearRegression()\n",
    "lr_model.fit(X, y)"
   ]
  },
  {
   "cell_type": "markdown",
   "id": "f78128a8",
   "metadata": {},
   "source": [
    "We just fit a model with 18 variables – just as quickly and easily as\n",
    "fitting the model with 1 variable!\n",
    "\n",
    "Visualizing a 18-dimensional model is rather difficult, but just so we can see how the\n",
    "extra features changed our model, let’s make the log price vs `sqft_living`\n",
    "one more time – this time including the prediction from both of our linear models."
   ]
  },
  {
   "cell_type": "code",
   "execution_count": 13,
   "id": "53c71685",
   "metadata": {
    "hide-output": false
   },
   "outputs": [
    {
     "data": {
      "text/plain": [
       "<matplotlib.legend.Legend at 0x7fb9783b0a30>"
      ]
     },
     "execution_count": 13,
     "metadata": {},
     "output_type": "execute_result"
    },
    {
     "data": {
      "image/png": "[encoded data removed]",
      "text/plain": [
       "<Figure size 576x432 with 1 Axes>"
      ]
     },
     "metadata": {},
     "output_type": "display_data"
    }
   ],
   "source": [
    "ax = var_scatter(df)\n",
    "\n",
    "def scatter_model(mod, X, ax=None, color=colors[1], x=\"sqft_living\"):\n",
    "    if ax is None:\n",
    "        _, ax = plt.subplots()\n",
    "\n",
    "    ax.scatter(X[x], mod.predict(X), c=color, alpha=0.25, s=1)\n",
    "    return ax\n",
    "\n",
    "scatter_model(lr_model, X, ax, color=colors[1])\n",
    "scatter_model(sqft_lr_model, X[[\"sqft_living\"]], ax, color=colors[2])\n",
    "ax.legend([\"data\", \"full model\", \"sqft model\"])"
   ]
  },
  {
   "cell_type": "markdown",
   "id": "4eda450a",
   "metadata": {},
   "source": [
    "\n",
    "<a id='exercise-2'></a>\n",
    "**Exercise 3**\n",
    "\n",
    "Compare the mean squared error for the `lr_model` and the `sqft_lr_model`.\n",
    "\n",
    "Which model has a better fit? Defend your choice."
   ]
  },
  {
   "cell_type": "markdown",
   "id": "9df2961a",
   "metadata": {},
   "source": [
    "### Nonlinear Relationships in Linear Regression\n",
    "\n",
    "While it sounds like an oxymoron, a linear regression model can actually include non-linear features.\n",
    "\n",
    "The distinguishing feature of the linear regression model is that each\n",
    "prediction is generated by taking the dot product (a linear operator) between a\n",
    "feature vector (one row of $ X $) and a coefficient vector ($ \\beta $).\n",
    "\n",
    "There is, however, no restriction on what element we include in our feature\n",
    "vector.\n",
    "\n",
    "Let’s consider an example…\n",
    "\n",
    "Starting from the `sqft_living`-only model, suppose we have a hunch that we\n",
    "should also include the *fraction of square feet above ground*.\n",
    "\n",
    "This last variable can be computed as `sqft_above / sqft_living`.\n",
    "\n",
    "This second feature is nonlinear, but could easily be included as a column in\n",
    "`X`.\n",
    "\n",
    "Let’s see this in action."
   ]
  },
  {
   "cell_type": "code",
   "execution_count": 14,
   "id": "0534cfff",
   "metadata": {
    "hide-output": false
   },
   "outputs": [
    {
     "name": "stdout",
     "output_type": "stream",
     "text": [
      "The mse changed from 0.1433 to 0.1430 by including our new feature\n"
     ]
    }
   ],
   "source": [
    "X2 = X[[\"sqft_living\"]].copy()\n",
    "X2[\"pct_sqft_above\"] = X[\"sqft_above\"] / X[\"sqft_living\"]\n",
    "\n",
    "sqft_above_lr_model = linear_model.LinearRegression()\n",
    "sqft_above_lr_model.fit(X2, y)\n",
    "\n",
    "new_mse = metrics.mean_squared_error(y, sqft_above_lr_model.predict(X2))\n",
    "old_mse = metrics.mean_squared_error(y, sqft_lr_model.predict(X2[[\"sqft_living\"]]))\n",
    "print(f\"The mse changed from {old_mse:.4f} to {new_mse:.4f} by including our new feature\")"
   ]
  },
  {
   "cell_type": "markdown",
   "id": "d1cc3219",
   "metadata": {},
   "source": [
    "\n",
    "<a id='exercise-3'></a>\n",
    "**Exercise 4**\n",
    "\n",
    "Explore how you can improve the fit of the full model by adding additional\n",
    "features created from the existing ones."
   ]
  },
  {
   "cell_type": "code",
   "execution_count": 15,
   "id": "eb63c011",
   "metadata": {
    "hide-output": false
   },
   "outputs": [],
   "source": [
    "# your code here"
   ]
  },
  {
   "cell_type": "markdown",
   "id": "b874c8be",
   "metadata": {},
   "source": [
    "Determining which columns belong in $ X $ is called *feature\n",
    "engineering* and is a large part of a machine learning practitioner’s job.\n",
    "\n",
    "You may recall from (or will see in) your econometrics course(s) that\n",
    "choosing which control variables to include in a regression model\n",
    "is an important part of applied research."
   ]
  },
  {
   "cell_type": "markdown",
   "id": "710a1679",
   "metadata": {},
   "source": [
    "### Interpretability\n",
    "\n",
    "Before moving to our next regression model, we want to broach the idea of\n",
    "the **interpretability** of models.\n",
    "\n",
    "An interpretable model is one for which we can analyze the\n",
    "coefficients to explain why it makes its predictions.\n",
    "\n",
    "Recall $ \\beta_0 $ and $ \\beta_1 $ from the univariate model.\n",
    "\n",
    "The interpretation of the model is that $ \\beta_0 $ captures the notion of\n",
    "the average or starting house price and $ \\beta_1 $ is the additional value\n",
    "per square foot.\n",
    "\n",
    "Concretely, we have"
   ]
  },
  {
   "cell_type": "code",
   "execution_count": 16,
   "id": "64d6e861",
   "metadata": {
    "hide-output": false
   },
   "outputs": [
    {
     "data": {
      "text/plain": [
       "(12.21846409638085, 0.000398746538745151)"
      ]
     },
     "execution_count": 16,
     "metadata": {},
     "output_type": "execute_result"
    }
   ],
   "source": [
    "beta_0, beta_1"
   ]
  },
  {
   "cell_type": "markdown",
   "id": "bbcbbe6f",
   "metadata": {},
   "source": [
    "which means that our model predicts the log price of a house to be 12.22, plus\n",
    "an additional 0.0004 for every square foot.\n",
    "\n",
    "Using more exotic machine learning methods might potentially be more accurate but\n",
    "less interpretable.\n",
    "\n",
    "The accuracy vs interpretability tradeoff is a hot discussion topic, especially relating\n",
    "to concepts like machine learning ethics. This is something you\n",
    "should be aware of as you continue to learn about these techniques."
   ]
  },
  {
   "cell_type": "markdown",
   "id": "d5a583b7",
   "metadata": {
    "heading_collapsed": "true",
    "tags": []
   },
   "source": [
    "## Lasso Regression\n",
    "\n",
    "Lasso regression is very closely related to linear regression.\n",
    "\n",
    "The lasso model also generates predictions using $ y = X \\beta $ but\n",
    "optimizes over a slightly different loss function.\n",
    "\n",
    "The optimization problem solved by lasso regression can be written as\n",
    "\n",
    "$$\n",
    "\\min_{\\beta} {|| X \\beta - y||_2}^2 + \\underbrace{\\alpha {|| \\beta ||_1}}_{\\text{new part}}\n",
    "$$\n",
    "\n",
    "where $ || a ||_1 = \\sum_{i=1}^N | a_i| $ is the [l1-norm](http://mathworld.wolfram.com/L1-Norm.html) and $ \\alpha $ is called the regularization parameter.\n",
    "\n",
    "The additional term penalizes large coefficients and in practice, effectively sets coefficients to zero\n",
    "for features that are not informative about the\n",
    "target.\n",
    "\n",
    "Let’s see an example of what this looks like using the full feature set in\n",
    "`X`."
   ]
  },
  {
   "cell_type": "code",
   "execution_count": 17,
   "id": "01c91021",
   "metadata": {
    "hide-output": false
   },
   "outputs": [
    {
     "data": {
      "text/html": [
       "<div>\n",
       "<style scoped>\n",
       "    .dataframe tbody tr th:only-of-type {\n",
       "        vertical-align: middle;\n",
       "    }\n",
       "\n",
       "    .dataframe tbody tr th {\n",
       "        vertical-align: top;\n",
       "    }\n",
       "\n",
       "    .dataframe thead th {\n",
       "        text-align: right;\n",
       "    }\n",
       "</style>\n",
       "<table border=\"1\" class=\"dataframe\">\n",
       "  <thead>\n",
       "    <tr style=\"text-align: right;\">\n",
       "      <th></th>\n",
       "      <th>lasso</th>\n",
       "      <th>linreg</th>\n",
       "    </tr>\n",
       "  </thead>\n",
       "  <tbody>\n",
       "    <tr>\n",
       "      <th>bedrooms</th>\n",
       "      <td>-0.000000e+00</td>\n",
       "      <td>-1.220820e-02</td>\n",
       "    </tr>\n",
       "    <tr>\n",
       "      <th>bathrooms</th>\n",
       "      <td>0.000000e+00</td>\n",
       "      <td>6.912370e-02</td>\n",
       "    </tr>\n",
       "    <tr>\n",
       "      <th>sqft_living</th>\n",
       "      <td>3.007615e-04</td>\n",
       "      <td>9.573470e-05</td>\n",
       "    </tr>\n",
       "    <tr>\n",
       "      <th>sqft_lot</th>\n",
       "      <td>2.736772e-07</td>\n",
       "      <td>4.711823e-07</td>\n",
       "    </tr>\n",
       "    <tr>\n",
       "      <th>floors</th>\n",
       "      <td>0.000000e+00</td>\n",
       "      <td>7.515336e-02</td>\n",
       "    </tr>\n",
       "    <tr>\n",
       "      <th>waterfront</th>\n",
       "      <td>0.000000e+00</td>\n",
       "      <td>3.711951e-01</td>\n",
       "    </tr>\n",
       "    <tr>\n",
       "      <th>view</th>\n",
       "      <td>0.000000e+00</td>\n",
       "      <td>6.040466e-02</td>\n",
       "    </tr>\n",
       "    <tr>\n",
       "      <th>condition</th>\n",
       "      <td>0.000000e+00</td>\n",
       "      <td>6.263658e-02</td>\n",
       "    </tr>\n",
       "    <tr>\n",
       "      <th>grade</th>\n",
       "      <td>0.000000e+00</td>\n",
       "      <td>1.589338e-01</td>\n",
       "    </tr>\n",
       "    <tr>\n",
       "      <th>sqft_above</th>\n",
       "      <td>-0.000000e+00</td>\n",
       "      <td>4.022408e-05</td>\n",
       "    </tr>\n",
       "    <tr>\n",
       "      <th>sqft_basement</th>\n",
       "      <td>1.614446e-05</td>\n",
       "      <td>5.551062e-05</td>\n",
       "    </tr>\n",
       "    <tr>\n",
       "      <th>yr_built</th>\n",
       "      <td>-1.159230e-03</td>\n",
       "      <td>-3.410520e-03</td>\n",
       "    </tr>\n",
       "    <tr>\n",
       "      <th>yr_renovated</th>\n",
       "      <td>8.070315e-05</td>\n",
       "      <td>3.659044e-05</td>\n",
       "    </tr>\n",
       "    <tr>\n",
       "      <th>zipcode</th>\n",
       "      <td>7.111990e-04</td>\n",
       "      <td>-6.458836e-04</td>\n",
       "    </tr>\n",
       "    <tr>\n",
       "      <th>lat</th>\n",
       "      <td>0.000000e+00</td>\n",
       "      <td>1.399994e+00</td>\n",
       "    </tr>\n",
       "    <tr>\n",
       "      <th>long</th>\n",
       "      <td>-0.000000e+00</td>\n",
       "      <td>-1.591565e-01</td>\n",
       "    </tr>\n",
       "    <tr>\n",
       "      <th>sqft_living15</th>\n",
       "      <td>2.038719e-04</td>\n",
       "      <td>9.856623e-05</td>\n",
       "    </tr>\n",
       "    <tr>\n",
       "      <th>sqft_lot15</th>\n",
       "      <td>-1.042168e-06</td>\n",
       "      <td>-2.610066e-07</td>\n",
       "    </tr>\n",
       "  </tbody>\n",
       "</table>\n",
       "</div>"
      ],
      "text/plain": [
       "                      lasso        linreg\n",
       "bedrooms      -0.000000e+00 -1.220820e-02\n",
       "bathrooms      0.000000e+00  6.912370e-02\n",
       "sqft_living    3.007615e-04  9.573470e-05\n",
       "sqft_lot       2.736772e-07  4.711823e-07\n",
       "floors         0.000000e+00  7.515336e-02\n",
       "waterfront     0.000000e+00  3.711951e-01\n",
       "view           0.000000e+00  6.040466e-02\n",
       "condition      0.000000e+00  6.263658e-02\n",
       "grade          0.000000e+00  1.589338e-01\n",
       "sqft_above    -0.000000e+00  4.022408e-05\n",
       "sqft_basement  1.614446e-05  5.551062e-05\n",
       "yr_built      -1.159230e-03 -3.410520e-03\n",
       "yr_renovated   8.070315e-05  3.659044e-05\n",
       "zipcode        7.111990e-04 -6.458836e-04\n",
       "lat            0.000000e+00  1.399994e+00\n",
       "long          -0.000000e+00 -1.591565e-01\n",
       "sqft_living15  2.038719e-04  9.856623e-05\n",
       "sqft_lot15    -1.042168e-06 -2.610066e-07"
      ]
     },
     "execution_count": 17,
     "metadata": {},
     "output_type": "execute_result"
    }
   ],
   "source": [
    "lasso_model = linear_model.Lasso()\n",
    "lasso_model.fit(X, y)\n",
    "\n",
    "lasso_coefs = pd.Series(dict(zip(list(X), lasso_model.coef_)))\n",
    "lr_coefs = pd.Series(dict(zip(list(X), lr_model.coef_)))\n",
    "coefs = pd.DataFrame(dict(lasso=lasso_coefs, linreg=lr_coefs))\n",
    "coefs"
   ]
  },
  {
   "cell_type": "markdown",
   "id": "076d09df",
   "metadata": {},
   "source": [
    "Notice that many coefficients from the lasso regression have been set to\n",
    "zero.\n",
    "\n",
    "The intuition here is that the corresponding features hadn’t provided\n",
    "enough predictive power to be worth considering alongside the other features.\n",
    "\n",
    "The default value for the $ \\alpha $ parameter is 1.0.\n",
    "\n",
    "Larger $ \\alpha $ values cause coefficients to shrink (and maybe\n",
    "additional ones to be thrown out)."
   ]
  },
  {
   "cell_type": "code",
   "execution_count": 18,
   "id": "a8b9729c",
   "metadata": {
    "hide-output": false
   },
   "outputs": [
    {
     "data": {
      "image/png": "[encoded data removed]",
      "text/plain": [
       "<Figure size 864x576 with 1 Axes>"
      ]
     },
     "metadata": {},
     "output_type": "display_data"
    }
   ],
   "source": [
    "# Compute lasso for many alphas (the lasso path)\n",
    "from itertools import cycle\n",
    "alphas = np.exp(np.linspace(10, -2, 50))\n",
    "alphas, coefs_lasso, _ = linear_model.lasso_path(X, y, alphas=alphas, fit_intercept=True, max_iter=10000)\n",
    "\n",
    "# plotting\n",
    "fig, ax = plt.subplots(figsize=(12, 8))\n",
    "colors = cycle(qeds.themes.COLOR_CYCLE)\n",
    "log_alphas = -np.log10(alphas)\n",
    "for coef_l, c, name in zip(coefs_lasso, colors, list(X)):\n",
    "   ax.plot(log_alphas, coef_l, c=c)\n",
    "   ax.set_xlabel('-Log(alpha)')\n",
    "   ax.set_ylabel('lasso coefficients')\n",
    "   ax.set_title('Lasso Path')\n",
    "   ax.axis('tight')\n",
    "   maxabs = np.max(np.abs(coef_l))\n",
    "   i = [idx for idx in range(len(coef_l)) if abs(coef_l[idx]) >= (0.9*maxabs)][0]\n",
    "   xnote = log_alphas[i]\n",
    "   ynote = coef_l[i]\n",
    "   ax.annotate(name, (xnote, ynote), color=c)"
   ]
  },
  {
   "cell_type": "markdown",
   "id": "17d20419",
   "metadata": {},
   "source": [
    "### Overfitting and Regularization\n",
    "\n",
    "You might be wondering, “Why would we ever want to throw variables out,\n",
    "can’t that only hurt our model?”\n",
    "\n",
    "The primary answer: it helps us avoid a common issue called **overfitting**.\n",
    "\n",
    "Overfitting occurs when a model that specializes its coefficients too much on the\n",
    "data it was trained on, and only to perform poorly when predicting on data\n",
    "outside the training set.\n",
    "\n",
    "The extreme example of overfitting is a model that can perfectly memorize the\n",
    "training data, but can do no better than just randomly guess when predicting\n",
    "on a new observation.\n",
    "\n",
    "The techniques applied to reduce overfitting are known as **regularization**.\n",
    "\n",
    "Regularization is an attempt to limit a model’s ability to specialize too narrowly\n",
    "on training data (e.g. limit overfitting) by penalizing extreme values of the\n",
    "model’s parameters.\n",
    "\n",
    "The additional term in the lasso regression loss function ($ \\alpha ||\\beta||_1 $)\n",
    "is a form of regularization.\n",
    "\n",
    "Let’s demonstrate the overfitting and regularization phenomenon on our housing\n",
    "price data as follows:\n",
    "\n",
    "1. Split the data set into training and testing subsets. We will use the first 50 observations for training and the rest for testing.  \n",
    "1. Fit the linear regression model and report MSE on training and testing datasets.  \n",
    "1. Fit the lasso model and report the same statistics.  "
   ]
  },
  {
   "cell_type": "code",
   "execution_count": 19,
   "id": "806ade00",
   "metadata": {
    "hide-output": false
   },
   "outputs": [
    {
     "data": {
      "text/plain": [
       "{'mse_train': 0.05545627171577292, 'mse_test': 0.6705205330640501}"
      ]
     },
     "execution_count": 19,
     "metadata": {},
     "output_type": "execute_result"
    }
   ],
   "source": [
    "def fit_and_report_mses(mod, X_train, X_test, y_train, y_test):\n",
    "    mod.fit(X_train, y_train)\n",
    "    return dict(\n",
    "        mse_train=metrics.mean_squared_error(y_train, mod.predict(X_train)),\n",
    "        mse_test=metrics.mean_squared_error(y_test, mod.predict(X_test))\n",
    "    )\n",
    "\n",
    "n_test = 50\n",
    "X_train = X.iloc[:n_test, :]\n",
    "X_test = X.iloc[n_test:, :]\n",
    "y_train = y.iloc[:n_test]\n",
    "y_test = y.iloc[n_test:]\n",
    "\n",
    "fit_and_report_mses(linear_model.LinearRegression(), X_train, X_test, y_train, y_test)"
   ]
  },
  {
   "cell_type": "code",
   "execution_count": 20,
   "id": "32bc20a1",
   "metadata": {
    "hide-output": false
   },
   "outputs": [
    {
     "data": {
      "text/plain": [
       "{'mse_train': 0.10629195024124995, 'mse_test': 0.2910434823708486}"
      ]
     },
     "execution_count": 20,
     "metadata": {},
     "output_type": "execute_result"
    }
   ],
   "source": [
    "fit_and_report_mses(linear_model.Lasso(), X_train, X_test, y_train, y_test)"
   ]
  },
  {
   "cell_type": "markdown",
   "id": "c44fcf8b",
   "metadata": {},
   "source": [
    "Notice how the MSE on the training dataset was smaller for the linear model\n",
    "without the regularization, but the MSE on the test dataset was much\n",
    "higher.\n",
    "\n",
    "This strongly suggests that the linear regression model was\n",
    "overfitting.\n",
    "\n",
    "The regularization parameter has a large impact on overfitting."
   ]
  },
  {
   "cell_type": "code",
   "execution_count": 21,
   "id": "1307ffd9",
   "metadata": {
    "hide-output": false
   },
   "outputs": [
    {
     "data": {
      "text/plain": [
       "Text(-2.3688789921995554, 0.2249868810554537, 'train')"
      ]
     },
     "execution_count": 21,
     "metadata": {},
     "output_type": "execute_result"
    },
    {
     "data": {
      "image/png": "[encoded data removed]",
      "text/plain": [
       "<Figure size 720x432 with 1 Axes>"
      ]
     },
     "metadata": {},
     "output_type": "display_data"
    }
   ],
   "source": [
    "alphas = np.exp(np.linspace(10, -5, 100))\n",
    "mse = pd.DataFrame([fit_and_report_mses(linear_model.Lasso(alpha=alpha, max_iter=50000),\n",
    "                           X_train, X_test, y_train, y_test)\n",
    "                    for alpha in alphas])\n",
    "mse[\"log_alpha\"] = -np.log10(alphas)\n",
    "fig, ax = plt.subplots(figsize=(10,6))\n",
    "colors = qeds.themes.COLOR_CYCLE\n",
    "mse.plot(x=\"log_alpha\", y=\"mse_test\", c=colors[0], ax=ax)\n",
    "mse.plot(x=\"log_alpha\", y=\"mse_train\", c=colors[1], ax=ax)\n",
    "ax.set_xlabel(r\"$-\\log(\\alpha)$\")\n",
    "ax.set_ylabel(\"MSE\")\n",
    "ax.get_legend().remove()\n",
    "ax.annotate(\"test\",(mse.log_alpha[15], mse.mse_test[15]),color=colors[0])\n",
    "ax.annotate(\"train\",(mse.log_alpha[30], mse.mse_train[30]),color=colors[1])"
   ]
  },
  {
   "cell_type": "markdown",
   "id": "918d7f1b",
   "metadata": {},
   "source": [
    "### Cross-validation of Regularization Parameter\n",
    "\n",
    "As you can see in the figure above, the regularization parameter has a\n",
    "large impact on MSE in the test data.\n",
    "\n",
    "Moreover, the relationship between the test data MSE and $ \\alpha $ is\n",
    "complicated and non-monotonic.\n",
    "\n",
    "One popular method for choosing the regularization parameter is cross-validation.\n",
    "\n",
    "Roughly speaking, cross-validation splits the dataset into many training/testing\n",
    "subsets, then chooses the regularization parameter value that minimizes the\n",
    "average MSE.\n",
    "\n",
    "More precisely, k-fold cross-validation does the following:\n",
    "\n",
    "1. Partition the dataset randomly into k subsets/”folds”.  \n",
    "1. Compute $ MSE_j(\\alpha)= $ mean squared error in j-th subset\n",
    "  when using the j-th subset as test data, and other k-1 as training\n",
    "  data.  \n",
    "1. Minimize average (across folds) MSE $ \\min_\\alpha \\frac{1}{k}\n",
    "  \\sum_{j=1}^k MSE_j(\\alpha) $.  \n",
    "\n",
    "\n",
    "The following code plots 5-fold, cross-validated MSE as a function of\n",
    "$ \\alpha $, using the same training data as above."
   ]
  },
  {
   "cell_type": "code",
   "execution_count": 22,
   "id": "88c7be69",
   "metadata": {
    "hide-output": false
   },
   "outputs": [
    {
     "data": {
      "image/png": "[encoded data removed]",
      "text/plain": [
       "<Figure size 720x432 with 1 Axes>"
      ]
     },
     "execution_count": 22,
     "metadata": {},
     "output_type": "execute_result"
    }
   ],
   "source": [
    "from sklearn.model_selection import cross_val_score\n",
    "mse[\"cv\"] = [-np.mean(cross_val_score(linear_model.Lasso(alpha=alpha, max_iter=50000),\n",
    "                                  X_train, y_train, cv=5, scoring='neg_mean_squared_error'))\n",
    "          for alpha in alphas]\n",
    "mse.plot(x=\"log_alpha\", y=\"cv\", c=colors[2], ax=ax)\n",
    "ax.annotate(\"5 fold cross-validation\", (mse.log_alpha[40], mse.cv[40]), color=colors[2])\n",
    "ax.get_legend().remove()\n",
    "ax.set_xlabel(r\"$-\\log(\\alpha)$\")\n",
    "ax.set_ylabel(\"MSE\")\n",
    "fig"
   ]
  },
  {
   "cell_type": "markdown",
   "id": "d5ebfef9",
   "metadata": {},
   "source": [
    "scikit learn also includes methods to automate the above and select\n",
    "$ \\alpha $."
   ]
  },
  {
   "cell_type": "code",
   "execution_count": 23,
   "id": "e4efc116",
   "metadata": {
    "hide-output": false
   },
   "outputs": [
    {
     "data": {
      "text/plain": [
       "-1.9732104006516824"
      ]
     },
     "execution_count": 23,
     "metadata": {},
     "output_type": "execute_result"
    }
   ],
   "source": [
    "# LassoCV exploits special structure of lasso problem to minimize CV more efficiently\n",
    "lasso = linear_model.LassoCV(cv=5).fit(X_train,y_train)\n",
    "-np.log10(lasso.alpha_) # should roughly = minimizer on graph, not exactly equal due to random splitting"
   ]
  },
  {
   "cell_type": "markdown",
   "id": "93b5f944",
   "metadata": {},
   "source": [
    "### Holdout\n",
    "\n",
    "Practitioners often use another technique to avoid overfitting, called\n",
    "*holdout*.\n",
    "\n",
    "We demonstrated an extreme example of applying holdout above when we used only\n",
    "the first 50 observations to train our models.\n",
    "\n",
    "In general, good practice is to split the entire dataset into a training subset\n",
    "and testing or validation subset.\n",
    "\n",
    "The splitting should be done randomly. It should leave enough data in the\n",
    "training dataset to produce a good model, but also enough in the validation\n",
    "subset to determine the degree of overfitting.\n",
    "\n",
    "There aren’t hard and fast rules for how much data to put in each subset, but a\n",
    "reasonable default uses 75% of the data for training and the\n",
    "rest for testing.\n",
    "\n",
    "As in the example above, the training data is often further split\n",
    "while selecting regularization parameters with cross-validation.\n",
    "\n",
    "The `sklearn` function `model_selection.train_test_split` will do this for you:"
   ]
  },
  {
   "cell_type": "code",
   "execution_count": 24,
   "id": "a315918a",
   "metadata": {
    "hide-output": false
   },
   "outputs": [],
   "source": [
    "# note test_size=0.25 is the default value, but is shown here so you\n",
    "# can see how to change it\n",
    "X_train, X_test, y_train, y_test = model_selection.train_test_split(X, y, test_size=0.25)"
   ]
  },
  {
   "cell_type": "markdown",
   "id": "046ab7ae",
   "metadata": {},
   "source": [
    "\n",
    "<a id='exercise-4'></a>\n",
    "**Exercise 5**\n",
    "\n",
    "Experiment with how the size of the holdout dataset can impact a diagnosis\n",
    "of overfitting.\n",
    "\n",
    "Evaluate only the `LinearRegression` model on the full feature set and use\n",
    "the `model_selection.train_test_split` function with various values for\n",
    "`test_size`."
   ]
  },
  {
   "cell_type": "markdown",
   "id": "773c4fca",
   "metadata": {},
   "source": [
    "### Lasso in Econometrics\n",
    "\n",
    "Lasso is becoming increasingly popular in economics, partially due to\n",
    "the work of Victor Chernozhukov and his coauthors.\n",
    "\n",
    "In econometrics, the goal is typically to estimate some coefficient of interest or causal\n",
    "effect, rather than obtaining the most precise prediction.\n",
    "\n",
    "Among other things, this different goal affects how the regularization parameter\n",
    "must be chosen.\n",
    "\n",
    "[regBC11](https://datascience.quantecon.org/applications/regression.html#id23) and [regCHS16](https://datascience.quantecon.org/applications/regression.html#id21) are somewhat approachable introductions\n",
    "to this area.\n",
    "\n",
    "The latter of these two references includes an R package.\n",
    "\n",
    "[regCCD+18](https://datascience.quantecon.org/applications/regression.html#id14) reflects close to the state-of-art in this rapidly\n",
    "advancing area."
   ]
  },
  {
   "cell_type": "markdown",
   "id": "987ff0f1",
   "metadata": {},
   "source": [
    "## Random Forests\n",
    "\n",
    "Random forests are also becoming increasingly popular in economics, thanks to the work of Susan Athey and her coauthors.\n",
    "\n",
    "[regAI17](https://datascience.quantecon.org/applications/regression.html#id25) gives a very brief overview of this work,\n",
    "and [regAI18](https://datascience.quantecon.org/applications/regression.html#id24) are video lectures and associated code aimed\n",
    "at a broader audience."
   ]
  },
  {
   "cell_type": "markdown",
   "id": "0479ec27",
   "metadata": {},
   "source": [
    "### Regression Trees\n",
    "\n",
    "To understand a forest, we must first understand trees.\n",
    "\n",
    "We will begin by fitting a tree to this simulated data."
   ]
  },
  {
   "cell_type": "code",
   "execution_count": 25,
   "id": "da711243",
   "metadata": {
    "hide-output": false
   },
   "outputs": [],
   "source": [
    "import numpy as np\n",
    "# Simulate some data and plot it\n",
    "n = 1000\n",
    "Xsim = np.random.rand(n,2)\n",
    "def Ey_x(x):\n",
    "    return 1/3*(np.sin(5*x[0])*np.sqrt(x[1])*np.exp(-(x[1]-0.5)**2))\n",
    "\n",
    "ysim = np.apply_along_axis(Ey_x, 1, Xsim) + np.random.randn(n)*0.1"
   ]
  },
  {
   "cell_type": "code",
   "execution_count": 26,
   "id": "96a48f88",
   "metadata": {
    "hide-output": false
   },
   "outputs": [],
   "source": [
    "import plotly.graph_objects as go"
   ]
  },
  {
   "cell_type": "code",
   "execution_count": 27,
   "id": "e31dcc0c",
   "metadata": {
    "hide-output": false
   },
   "outputs": [
    {
     "data": {
      "application/vnd.jupyter.widget-view+json": {
       "model_id": "0c6c07fe796e4ea8a1c4fca623f2e151",
       "version_major": 2,
       "version_minor": 0
      },
      "text/plain": [
       "FigureWidget({\n",
       "    'data': [{'marker': {'opacity': 0.3, 'size': 2},\n",
       "              'mode': 'markers',\n",
       "         …"
      ]
     },
     "metadata": {},
     "output_type": "display_data"
    }
   ],
   "source": [
    "def surface_scatter_plot(X,y,f, xlo=0., xhi=1., ngrid=50,\n",
    "                         width=860, height=700, f0=Ey_x, show_f0=False):\n",
    "    scatter = go.Scatter3d(x=X[:,0],y=X[:,1],z=y,\n",
    "                           mode='markers',\n",
    "                           marker=dict(size=2, opacity=0.3)\n",
    "    )\n",
    "    xgrid = np.linspace(xlo,xhi,ngrid)\n",
    "    ey = np.zeros((len(xgrid),len(xgrid)))\n",
    "    ey0 = np.zeros((len(xgrid),len(xgrid)))\n",
    "    colorscale = [[0, colors[0]], [1, colors[2]]]\n",
    "    for i in range(len(xgrid)):\n",
    "        for j in range(len(xgrid)):\n",
    "            ey[j,i] = f([xgrid[i],xgrid[j]])\n",
    "            ey0[j,i]= f0([xgrid[i],xgrid[j]])\n",
    "    surface = go.Surface(x=xgrid, y=xgrid, z=ey, colorscale=colorscale, opacity=1.0)\n",
    "    if (show_f0):\n",
    "        surface0 = go.Surface(x=xgrid, y=xgrid, z=ey0, opacity=0.8, colorscale=colorscale)\n",
    "        layers = [scatter, surface, surface0]\n",
    "    else:\n",
    "        layers = [scatter, surface]\n",
    "    fig = go.FigureWidget(\n",
    "        data=layers,\n",
    "        layout = go.Layout(\n",
    "            autosize=True,\n",
    "            scene=dict(\n",
    "                xaxis_title='X1',\n",
    "                yaxis_title='X2',\n",
    "                zaxis_title='Y'\n",
    "            ),\n",
    "            width=width,\n",
    "            height=height,\n",
    "            template=plotly_template,\n",
    "        )\n",
    "    )\n",
    "    return fig\n",
    "\n",
    "fig = surface_scatter_plot(Xsim, ysim, Ey_x)\n",
    "fig"
   ]
  },
  {
   "cell_type": "markdown",
   "id": "0ada9160",
   "metadata": {},
   "source": [
    "We now fit a regression tree to this data and plot the predicted\n",
    "regression surface."
   ]
  },
  {
   "cell_type": "code",
   "execution_count": 28,
   "id": "ab108e81",
   "metadata": {
    "hide-output": false
   },
   "outputs": [
    {
     "data": {
      "application/vnd.jupyter.widget-view+json": {
       "model_id": "9777056bc9ca470cbba8fbf711a4e7e5",
       "version_major": 2,
       "version_minor": 0
      },
      "text/plain": [
       "FigureWidget({\n",
       "    'data': [{'marker': {'opacity': 0.3, 'size': 2},\n",
       "              'mode': 'markers',\n",
       "         …"
      ]
     },
     "metadata": {},
     "output_type": "display_data"
    }
   ],
   "source": [
    "from sklearn import tree\n",
    "fitted_tree = tree.DecisionTreeRegressor(max_depth=3).fit(Xsim,ysim)\n",
    "fig=surface_scatter_plot(\n",
    "    Xsim, ysim, lambda x: fitted_tree.predict([x]), show_f0=True\n",
    ")\n",
    "fig"
   ]
  },
  {
   "cell_type": "markdown",
   "id": "03739464",
   "metadata": {},
   "source": [
    "As you can see, predictions from regression trees are piecewise-constant on rectangular regions. The boundaries of these regions are\n",
    "determined by a decision tree. The following code displays the\n",
    "decision graph."
   ]
  },
  {
   "cell_type": "code",
   "execution_count": 29,
   "id": "6ab378be",
   "metadata": {
    "hide-output": false
   },
   "outputs": [
    {
     "ename": "ExecutableNotFound",
     "evalue": "failed to execute PosixPath('dot'), make sure the Graphviz executables are on your systems' PATH",
     "output_type": "error",
     "traceback": [
      "\u001b[0;31m---------------------------------------------------------------------------\u001b[0m",
      "\u001b[0;31mFileNotFoundError\u001b[0m                         Traceback (most recent call last)",
      "\u001b[0;32m~/opt/anaconda3/lib/python3.8/site-packages/graphviz/backend/execute.py\u001b[0m in \u001b[0;36mrun_check\u001b[0;34m(cmd, input_lines, encoding, capture_output, quiet, **kwargs)\u001b[0m\n\u001b[1;32m     82\u001b[0m             \u001b[0;32massert\u001b[0m \u001b[0miter\u001b[0m\u001b[0;34m(\u001b[0m\u001b[0minput_lines\u001b[0m\u001b[0;34m)\u001b[0m \u001b[0;32mis\u001b[0m \u001b[0minput_lines\u001b[0m\u001b[0;34m\u001b[0m\u001b[0;34m\u001b[0m\u001b[0m\n\u001b[0;32m---> 83\u001b[0;31m             \u001b[0mproc\u001b[0m \u001b[0;34m=\u001b[0m \u001b[0m_run_input_lines\u001b[0m\u001b[0;34m(\u001b[0m\u001b[0mcmd\u001b[0m\u001b[0;34m,\u001b[0m \u001b[0minput_lines\u001b[0m\u001b[0;34m,\u001b[0m \u001b[0mkwargs\u001b[0m\u001b[0;34m=\u001b[0m\u001b[0mkwargs\u001b[0m\u001b[0;34m)\u001b[0m\u001b[0;34m\u001b[0m\u001b[0;34m\u001b[0m\u001b[0m\n\u001b[0m\u001b[1;32m     84\u001b[0m         \u001b[0;32melse\u001b[0m\u001b[0;34m:\u001b[0m\u001b[0;34m\u001b[0m\u001b[0;34m\u001b[0m\u001b[0m\n",
      "\u001b[0;32m~/opt/anaconda3/lib/python3.8/site-packages/graphviz/backend/execute.py\u001b[0m in \u001b[0;36m_run_input_lines\u001b[0;34m(cmd, input_lines, kwargs)\u001b[0m\n\u001b[1;32m    102\u001b[0m \u001b[0;32mdef\u001b[0m \u001b[0m_run_input_lines\u001b[0m\u001b[0;34m(\u001b[0m\u001b[0mcmd\u001b[0m\u001b[0;34m,\u001b[0m \u001b[0minput_lines\u001b[0m\u001b[0;34m,\u001b[0m \u001b[0;34m*\u001b[0m\u001b[0;34m,\u001b[0m \u001b[0mkwargs\u001b[0m\u001b[0;34m)\u001b[0m\u001b[0;34m:\u001b[0m\u001b[0;34m\u001b[0m\u001b[0;34m\u001b[0m\u001b[0m\n\u001b[0;32m--> 103\u001b[0;31m     \u001b[0mpopen\u001b[0m \u001b[0;34m=\u001b[0m \u001b[0msubprocess\u001b[0m\u001b[0;34m.\u001b[0m\u001b[0mPopen\u001b[0m\u001b[0;34m(\u001b[0m\u001b[0mcmd\u001b[0m\u001b[0;34m,\u001b[0m \u001b[0mstdin\u001b[0m\u001b[0;34m=\u001b[0m\u001b[0msubprocess\u001b[0m\u001b[0;34m.\u001b[0m\u001b[0mPIPE\u001b[0m\u001b[0;34m,\u001b[0m \u001b[0;34m**\u001b[0m\u001b[0mkwargs\u001b[0m\u001b[0;34m)\u001b[0m\u001b[0;34m\u001b[0m\u001b[0;34m\u001b[0m\u001b[0m\n\u001b[0m\u001b[1;32m    104\u001b[0m \u001b[0;34m\u001b[0m\u001b[0m\n",
      "\u001b[0;32m~/opt/anaconda3/lib/python3.8/subprocess.py\u001b[0m in \u001b[0;36m__init__\u001b[0;34m(self, args, bufsize, executable, stdin, stdout, stderr, preexec_fn, close_fds, shell, cwd, env, universal_newlines, startupinfo, creationflags, restore_signals, start_new_session, pass_fds, encoding, errors, text)\u001b[0m\n\u001b[1;32m    857\u001b[0m \u001b[0;34m\u001b[0m\u001b[0m\n\u001b[0;32m--> 858\u001b[0;31m             self._execute_child(args, executable, preexec_fn, close_fds,\n\u001b[0m\u001b[1;32m    859\u001b[0m                                 \u001b[0mpass_fds\u001b[0m\u001b[0;34m,\u001b[0m \u001b[0mcwd\u001b[0m\u001b[0;34m,\u001b[0m \u001b[0menv\u001b[0m\u001b[0;34m,\u001b[0m\u001b[0;34m\u001b[0m\u001b[0;34m\u001b[0m\u001b[0m\n",
      "\u001b[0;32m~/opt/anaconda3/lib/python3.8/subprocess.py\u001b[0m in \u001b[0;36m_execute_child\u001b[0;34m(self, args, executable, preexec_fn, close_fds, pass_fds, cwd, env, startupinfo, creationflags, shell, p2cread, p2cwrite, c2pread, c2pwrite, errread, errwrite, restore_signals, start_new_session)\u001b[0m\n\u001b[1;32m   1705\u001b[0m                         \u001b[0merr_msg\u001b[0m \u001b[0;34m=\u001b[0m \u001b[0mos\u001b[0m\u001b[0;34m.\u001b[0m\u001b[0mstrerror\u001b[0m\u001b[0;34m(\u001b[0m\u001b[0merrno_num\u001b[0m\u001b[0;34m)\u001b[0m\u001b[0;34m\u001b[0m\u001b[0;34m\u001b[0m\u001b[0m\n\u001b[0;32m-> 1706\u001b[0;31m                     \u001b[0;32mraise\u001b[0m \u001b[0mchild_exception_type\u001b[0m\u001b[0;34m(\u001b[0m\u001b[0merrno_num\u001b[0m\u001b[0;34m,\u001b[0m \u001b[0merr_msg\u001b[0m\u001b[0;34m,\u001b[0m \u001b[0merr_filename\u001b[0m\u001b[0;34m)\u001b[0m\u001b[0;34m\u001b[0m\u001b[0;34m\u001b[0m\u001b[0m\n\u001b[0m\u001b[1;32m   1707\u001b[0m                 \u001b[0;32mraise\u001b[0m \u001b[0mchild_exception_type\u001b[0m\u001b[0;34m(\u001b[0m\u001b[0merr_msg\u001b[0m\u001b[0;34m)\u001b[0m\u001b[0;34m\u001b[0m\u001b[0;34m\u001b[0m\u001b[0m\n",
      "\u001b[0;31mFileNotFoundError\u001b[0m: [Errno 2] No such file or directory: PosixPath('dot')",
      "\nThe above exception was the direct cause of the following exception:\n",
      "\u001b[0;31mExecutableNotFound\u001b[0m                        Traceback (most recent call last)",
      "\u001b[0;32m~/opt/anaconda3/lib/python3.8/site-packages/IPython/core/formatters.py\u001b[0m in \u001b[0;36m__call__\u001b[0;34m(self, obj, include, exclude)\u001b[0m\n\u001b[1;32m    968\u001b[0m \u001b[0;34m\u001b[0m\u001b[0m\n\u001b[1;32m    969\u001b[0m             \u001b[0;32mif\u001b[0m \u001b[0mmethod\u001b[0m \u001b[0;32mis\u001b[0m \u001b[0;32mnot\u001b[0m \u001b[0;32mNone\u001b[0m\u001b[0;34m:\u001b[0m\u001b[0;34m\u001b[0m\u001b[0;34m\u001b[0m\u001b[0m\n\u001b[0;32m--> 970\u001b[0;31m                 \u001b[0;32mreturn\u001b[0m \u001b[0mmethod\u001b[0m\u001b[0;34m(\u001b[0m\u001b[0minclude\u001b[0m\u001b[0;34m=\u001b[0m\u001b[0minclude\u001b[0m\u001b[0;34m,\u001b[0m \u001b[0mexclude\u001b[0m\u001b[0;34m=\u001b[0m\u001b[0mexclude\u001b[0m\u001b[0;34m)\u001b[0m\u001b[0;34m\u001b[0m\u001b[0;34m\u001b[0m\u001b[0m\n\u001b[0m\u001b[1;32m    971\u001b[0m             \u001b[0;32mreturn\u001b[0m \u001b[0;32mNone\u001b[0m\u001b[0;34m\u001b[0m\u001b[0;34m\u001b[0m\u001b[0m\n\u001b[1;32m    972\u001b[0m         \u001b[0;32melse\u001b[0m\u001b[0;34m:\u001b[0m\u001b[0;34m\u001b[0m\u001b[0;34m\u001b[0m\u001b[0m\n",
      "\u001b[0;32m~/opt/anaconda3/lib/python3.8/site-packages/graphviz/jupyter_integration.py\u001b[0m in \u001b[0;36m_repr_mimebundle_\u001b[0;34m(self, include, exclude, **_)\u001b[0m\n\u001b[1;32m     96\u001b[0m         \u001b[0minclude\u001b[0m \u001b[0;34m=\u001b[0m \u001b[0mset\u001b[0m\u001b[0;34m(\u001b[0m\u001b[0minclude\u001b[0m\u001b[0;34m)\u001b[0m \u001b[0;32mif\u001b[0m \u001b[0minclude\u001b[0m \u001b[0;32mis\u001b[0m \u001b[0;32mnot\u001b[0m \u001b[0;32mNone\u001b[0m \u001b[0;32melse\u001b[0m \u001b[0;34m{\u001b[0m\u001b[0mself\u001b[0m\u001b[0;34m.\u001b[0m\u001b[0m_jupyter_mimetype\u001b[0m\u001b[0;34m}\u001b[0m\u001b[0;34m\u001b[0m\u001b[0;34m\u001b[0m\u001b[0m\n\u001b[1;32m     97\u001b[0m         \u001b[0minclude\u001b[0m \u001b[0;34m-=\u001b[0m \u001b[0mset\u001b[0m\u001b[0;34m(\u001b[0m\u001b[0mexclude\u001b[0m \u001b[0;32mor\u001b[0m \u001b[0;34m[\u001b[0m\u001b[0;34m]\u001b[0m\u001b[0;34m)\u001b[0m\u001b[0;34m\u001b[0m\u001b[0;34m\u001b[0m\u001b[0m\n\u001b[0;32m---> 98\u001b[0;31m         return {mimetype: getattr(self, method_name)()\n\u001b[0m\u001b[1;32m     99\u001b[0m                 \u001b[0;32mfor\u001b[0m \u001b[0mmimetype\u001b[0m\u001b[0;34m,\u001b[0m \u001b[0mmethod_name\u001b[0m \u001b[0;32min\u001b[0m \u001b[0mMIME_TYPES\u001b[0m\u001b[0;34m.\u001b[0m\u001b[0mitems\u001b[0m\u001b[0;34m(\u001b[0m\u001b[0;34m)\u001b[0m\u001b[0;34m\u001b[0m\u001b[0;34m\u001b[0m\u001b[0m\n\u001b[1;32m    100\u001b[0m                 if mimetype in include}\n",
      "\u001b[0;32m~/opt/anaconda3/lib/python3.8/site-packages/graphviz/jupyter_integration.py\u001b[0m in \u001b[0;36m<dictcomp>\u001b[0;34m(.0)\u001b[0m\n\u001b[1;32m     96\u001b[0m         \u001b[0minclude\u001b[0m \u001b[0;34m=\u001b[0m \u001b[0mset\u001b[0m\u001b[0;34m(\u001b[0m\u001b[0minclude\u001b[0m\u001b[0;34m)\u001b[0m \u001b[0;32mif\u001b[0m \u001b[0minclude\u001b[0m \u001b[0;32mis\u001b[0m \u001b[0;32mnot\u001b[0m \u001b[0;32mNone\u001b[0m \u001b[0;32melse\u001b[0m \u001b[0;34m{\u001b[0m\u001b[0mself\u001b[0m\u001b[0;34m.\u001b[0m\u001b[0m_jupyter_mimetype\u001b[0m\u001b[0;34m}\u001b[0m\u001b[0;34m\u001b[0m\u001b[0;34m\u001b[0m\u001b[0m\n\u001b[1;32m     97\u001b[0m         \u001b[0minclude\u001b[0m \u001b[0;34m-=\u001b[0m \u001b[0mset\u001b[0m\u001b[0;34m(\u001b[0m\u001b[0mexclude\u001b[0m \u001b[0;32mor\u001b[0m \u001b[0;34m[\u001b[0m\u001b[0;34m]\u001b[0m\u001b[0;34m)\u001b[0m\u001b[0;34m\u001b[0m\u001b[0;34m\u001b[0m\u001b[0m\n\u001b[0;32m---> 98\u001b[0;31m         return {mimetype: getattr(self, method_name)()\n\u001b[0m\u001b[1;32m     99\u001b[0m                 \u001b[0;32mfor\u001b[0m \u001b[0mmimetype\u001b[0m\u001b[0;34m,\u001b[0m \u001b[0mmethod_name\u001b[0m \u001b[0;32min\u001b[0m \u001b[0mMIME_TYPES\u001b[0m\u001b[0;34m.\u001b[0m\u001b[0mitems\u001b[0m\u001b[0;34m(\u001b[0m\u001b[0;34m)\u001b[0m\u001b[0;34m\u001b[0m\u001b[0;34m\u001b[0m\u001b[0m\n\u001b[1;32m    100\u001b[0m                 if mimetype in include}\n",
      "\u001b[0;32m~/opt/anaconda3/lib/python3.8/site-packages/graphviz/jupyter_integration.py\u001b[0m in \u001b[0;36m_repr_image_svg_xml\u001b[0;34m(self)\u001b[0m\n\u001b[1;32m    110\u001b[0m     \u001b[0;32mdef\u001b[0m \u001b[0m_repr_image_svg_xml\u001b[0m\u001b[0;34m(\u001b[0m\u001b[0mself\u001b[0m\u001b[0;34m)\u001b[0m \u001b[0;34m->\u001b[0m \u001b[0mstr\u001b[0m\u001b[0;34m:\u001b[0m\u001b[0;34m\u001b[0m\u001b[0;34m\u001b[0m\u001b[0m\n\u001b[1;32m    111\u001b[0m         \u001b[0;34m\"\"\"Return the rendered graph as SVG string.\"\"\"\u001b[0m\u001b[0;34m\u001b[0m\u001b[0;34m\u001b[0m\u001b[0m\n\u001b[0;32m--> 112\u001b[0;31m         \u001b[0;32mreturn\u001b[0m \u001b[0mself\u001b[0m\u001b[0;34m.\u001b[0m\u001b[0mpipe\u001b[0m\u001b[0;34m(\u001b[0m\u001b[0mformat\u001b[0m\u001b[0;34m=\u001b[0m\u001b[0;34m'svg'\u001b[0m\u001b[0;34m,\u001b[0m \u001b[0mencoding\u001b[0m\u001b[0;34m=\u001b[0m\u001b[0mSVG_ENCODING\u001b[0m\u001b[0;34m)\u001b[0m\u001b[0;34m\u001b[0m\u001b[0;34m\u001b[0m\u001b[0m\n\u001b[0m",
      "\u001b[0;32m~/opt/anaconda3/lib/python3.8/site-packages/graphviz/piping.py\u001b[0m in \u001b[0;36mpipe\u001b[0;34m(self, format, renderer, formatter, quiet, engine, encoding)\u001b[0m\n\u001b[1;32m     97\u001b[0m             \u001b[0;34m'<?xml version='\u001b[0m\u001b[0;34m\u001b[0m\u001b[0;34m\u001b[0m\u001b[0m\n\u001b[1;32m     98\u001b[0m         \"\"\"\n\u001b[0;32m---> 99\u001b[0;31m         return self._pipe_legacy(format,\n\u001b[0m\u001b[1;32m    100\u001b[0m                                  \u001b[0mrenderer\u001b[0m\u001b[0;34m=\u001b[0m\u001b[0mrenderer\u001b[0m\u001b[0;34m,\u001b[0m\u001b[0;34m\u001b[0m\u001b[0;34m\u001b[0m\u001b[0m\n\u001b[1;32m    101\u001b[0m                                  \u001b[0mformatter\u001b[0m\u001b[0;34m=\u001b[0m\u001b[0mformatter\u001b[0m\u001b[0;34m,\u001b[0m\u001b[0;34m\u001b[0m\u001b[0;34m\u001b[0m\u001b[0m\n",
      "\u001b[0;32m~/opt/anaconda3/lib/python3.8/site-packages/graphviz/_tools.py\u001b[0m in \u001b[0;36mwrapper\u001b[0;34m(*args, **kwargs)\u001b[0m\n\u001b[1;32m    170\u001b[0m                               category=category)\n\u001b[1;32m    171\u001b[0m \u001b[0;34m\u001b[0m\u001b[0m\n\u001b[0;32m--> 172\u001b[0;31m             \u001b[0;32mreturn\u001b[0m \u001b[0mfunc\u001b[0m\u001b[0;34m(\u001b[0m\u001b[0;34m*\u001b[0m\u001b[0margs\u001b[0m\u001b[0;34m,\u001b[0m \u001b[0;34m**\u001b[0m\u001b[0mkwargs\u001b[0m\u001b[0;34m)\u001b[0m\u001b[0;34m\u001b[0m\u001b[0;34m\u001b[0m\u001b[0m\n\u001b[0m\u001b[1;32m    173\u001b[0m \u001b[0;34m\u001b[0m\u001b[0m\n\u001b[1;32m    174\u001b[0m         \u001b[0;32mreturn\u001b[0m \u001b[0mwrapper\u001b[0m\u001b[0;34m\u001b[0m\u001b[0;34m\u001b[0m\u001b[0m\n",
      "\u001b[0;32m~/opt/anaconda3/lib/python3.8/site-packages/graphviz/piping.py\u001b[0m in \u001b[0;36m_pipe_legacy\u001b[0;34m(self, format, renderer, formatter, quiet, engine, encoding)\u001b[0m\n\u001b[1;32m    112\u001b[0m                      \u001b[0mengine\u001b[0m\u001b[0;34m:\u001b[0m \u001b[0mtyping\u001b[0m\u001b[0;34m.\u001b[0m\u001b[0mOptional\u001b[0m\u001b[0;34m[\u001b[0m\u001b[0mstr\u001b[0m\u001b[0;34m]\u001b[0m \u001b[0;34m=\u001b[0m \u001b[0;32mNone\u001b[0m\u001b[0;34m,\u001b[0m\u001b[0;34m\u001b[0m\u001b[0;34m\u001b[0m\u001b[0m\n\u001b[1;32m    113\u001b[0m                      encoding: typing.Optional[str] = None) -> typing.Union[bytes, str]:\n\u001b[0;32m--> 114\u001b[0;31m         return self._pipe_future(format,\n\u001b[0m\u001b[1;32m    115\u001b[0m                                  \u001b[0mrenderer\u001b[0m\u001b[0;34m=\u001b[0m\u001b[0mrenderer\u001b[0m\u001b[0;34m,\u001b[0m\u001b[0;34m\u001b[0m\u001b[0;34m\u001b[0m\u001b[0m\n\u001b[1;32m    116\u001b[0m                                  \u001b[0mformatter\u001b[0m\u001b[0;34m=\u001b[0m\u001b[0mformatter\u001b[0m\u001b[0;34m,\u001b[0m\u001b[0;34m\u001b[0m\u001b[0;34m\u001b[0m\u001b[0m\n",
      "\u001b[0;32m~/opt/anaconda3/lib/python3.8/site-packages/graphviz/piping.py\u001b[0m in \u001b[0;36m_pipe_future\u001b[0;34m(self, format, renderer, formatter, quiet, engine, encoding)\u001b[0m\n\u001b[1;32m    137\u001b[0m             \u001b[0;32mif\u001b[0m \u001b[0mcodecs\u001b[0m\u001b[0;34m.\u001b[0m\u001b[0mlookup\u001b[0m\u001b[0;34m(\u001b[0m\u001b[0mencoding\u001b[0m\u001b[0;34m)\u001b[0m \u001b[0;32mis\u001b[0m \u001b[0mcodecs\u001b[0m\u001b[0;34m.\u001b[0m\u001b[0mlookup\u001b[0m\u001b[0;34m(\u001b[0m\u001b[0mself\u001b[0m\u001b[0;34m.\u001b[0m\u001b[0mencoding\u001b[0m\u001b[0;34m)\u001b[0m\u001b[0;34m:\u001b[0m\u001b[0;34m\u001b[0m\u001b[0;34m\u001b[0m\u001b[0m\n\u001b[1;32m    138\u001b[0m                 \u001b[0;31m# common case: both stdin and stdout need the same encoding\u001b[0m\u001b[0;34m\u001b[0m\u001b[0;34m\u001b[0m\u001b[0;34m\u001b[0m\u001b[0m\n\u001b[0;32m--> 139\u001b[0;31m                 \u001b[0;32mreturn\u001b[0m \u001b[0mself\u001b[0m\u001b[0;34m.\u001b[0m\u001b[0m_pipe_lines_string\u001b[0m\u001b[0;34m(\u001b[0m\u001b[0;34m*\u001b[0m\u001b[0margs\u001b[0m\u001b[0;34m,\u001b[0m \u001b[0mencoding\u001b[0m\u001b[0;34m=\u001b[0m\u001b[0mencoding\u001b[0m\u001b[0;34m,\u001b[0m \u001b[0;34m**\u001b[0m\u001b[0mkwargs\u001b[0m\u001b[0;34m)\u001b[0m\u001b[0;34m\u001b[0m\u001b[0;34m\u001b[0m\u001b[0m\n\u001b[0m\u001b[1;32m    140\u001b[0m             \u001b[0;32mtry\u001b[0m\u001b[0;34m:\u001b[0m\u001b[0;34m\u001b[0m\u001b[0;34m\u001b[0m\u001b[0m\n\u001b[1;32m    141\u001b[0m                 \u001b[0mraw\u001b[0m \u001b[0;34m=\u001b[0m \u001b[0mself\u001b[0m\u001b[0;34m.\u001b[0m\u001b[0m_pipe_lines\u001b[0m\u001b[0;34m(\u001b[0m\u001b[0;34m*\u001b[0m\u001b[0margs\u001b[0m\u001b[0;34m,\u001b[0m \u001b[0minput_encoding\u001b[0m\u001b[0;34m=\u001b[0m\u001b[0mself\u001b[0m\u001b[0;34m.\u001b[0m\u001b[0mencoding\u001b[0m\u001b[0;34m,\u001b[0m \u001b[0;34m**\u001b[0m\u001b[0mkwargs\u001b[0m\u001b[0;34m)\u001b[0m\u001b[0;34m\u001b[0m\u001b[0;34m\u001b[0m\u001b[0m\n",
      "\u001b[0;32m~/opt/anaconda3/lib/python3.8/site-packages/graphviz/backend/piping.py\u001b[0m in \u001b[0;36mpipe_lines_string\u001b[0;34m(engine, format, input_lines, encoding, renderer, formatter, quiet)\u001b[0m\n\u001b[1;32m    194\u001b[0m     \u001b[0mkwargs\u001b[0m \u001b[0;34m=\u001b[0m \u001b[0;34m{\u001b[0m\u001b[0;34m'input_lines'\u001b[0m\u001b[0;34m:\u001b[0m \u001b[0minput_lines\u001b[0m\u001b[0;34m,\u001b[0m \u001b[0;34m'encoding'\u001b[0m\u001b[0;34m:\u001b[0m \u001b[0mencoding\u001b[0m\u001b[0;34m}\u001b[0m\u001b[0;34m\u001b[0m\u001b[0;34m\u001b[0m\u001b[0m\n\u001b[1;32m    195\u001b[0m \u001b[0;34m\u001b[0m\u001b[0m\n\u001b[0;32m--> 196\u001b[0;31m     \u001b[0mproc\u001b[0m \u001b[0;34m=\u001b[0m \u001b[0mexecute\u001b[0m\u001b[0;34m.\u001b[0m\u001b[0mrun_check\u001b[0m\u001b[0;34m(\u001b[0m\u001b[0mcmd\u001b[0m\u001b[0;34m,\u001b[0m \u001b[0mcapture_output\u001b[0m\u001b[0;34m=\u001b[0m\u001b[0;32mTrue\u001b[0m\u001b[0;34m,\u001b[0m \u001b[0mquiet\u001b[0m\u001b[0;34m=\u001b[0m\u001b[0mquiet\u001b[0m\u001b[0;34m,\u001b[0m \u001b[0;34m**\u001b[0m\u001b[0mkwargs\u001b[0m\u001b[0;34m)\u001b[0m\u001b[0;34m\u001b[0m\u001b[0;34m\u001b[0m\u001b[0m\n\u001b[0m\u001b[1;32m    197\u001b[0m     \u001b[0;32mreturn\u001b[0m \u001b[0mproc\u001b[0m\u001b[0;34m.\u001b[0m\u001b[0mstdout\u001b[0m\u001b[0;34m\u001b[0m\u001b[0;34m\u001b[0m\u001b[0m\n",
      "\u001b[0;32m~/opt/anaconda3/lib/python3.8/site-packages/graphviz/backend/execute.py\u001b[0m in \u001b[0;36mrun_check\u001b[0;34m(cmd, input_lines, encoding, capture_output, quiet, **kwargs)\u001b[0m\n\u001b[1;32m     86\u001b[0m     \u001b[0;32mexcept\u001b[0m \u001b[0mOSError\u001b[0m \u001b[0;32mas\u001b[0m \u001b[0me\u001b[0m\u001b[0;34m:\u001b[0m\u001b[0;34m\u001b[0m\u001b[0;34m\u001b[0m\u001b[0m\n\u001b[1;32m     87\u001b[0m         \u001b[0;32mif\u001b[0m \u001b[0me\u001b[0m\u001b[0;34m.\u001b[0m\u001b[0merrno\u001b[0m \u001b[0;34m==\u001b[0m \u001b[0merrno\u001b[0m\u001b[0;34m.\u001b[0m\u001b[0mENOENT\u001b[0m\u001b[0;34m:\u001b[0m\u001b[0;34m\u001b[0m\u001b[0;34m\u001b[0m\u001b[0m\n\u001b[0;32m---> 88\u001b[0;31m             \u001b[0;32mraise\u001b[0m \u001b[0mExecutableNotFound\u001b[0m\u001b[0;34m(\u001b[0m\u001b[0mcmd\u001b[0m\u001b[0;34m)\u001b[0m \u001b[0;32mfrom\u001b[0m \u001b[0me\u001b[0m\u001b[0;34m\u001b[0m\u001b[0;34m\u001b[0m\u001b[0m\n\u001b[0m\u001b[1;32m     89\u001b[0m         \u001b[0;32mraise\u001b[0m\u001b[0;34m\u001b[0m\u001b[0;34m\u001b[0m\u001b[0m\n\u001b[1;32m     90\u001b[0m \u001b[0;34m\u001b[0m\u001b[0m\n",
      "\u001b[0;31mExecutableNotFound\u001b[0m: failed to execute PosixPath('dot'), make sure the Graphviz executables are on your systems' PATH"
     ]
    },
    {
     "data": {
      "text/plain": [
       "<graphviz.sources.Source at 0x7fb97a98f520>"
      ]
     },
     "metadata": {},
     "output_type": "display_data"
    }
   ],
   "source": [
    "import graphviz\n",
    "tree_graph = tree.export_graphviz(fitted_tree, out_file=None,\n",
    "                                  feature_names=[\"X1\", \"X2\"],\n",
    "                                  filled=True, rounded=True,\n",
    "                                  special_characters=True)\n",
    "display(graphviz.Source(tree_graph))"
   ]
  },
  {
   "cell_type": "markdown",
   "id": "e51c64f7",
   "metadata": {},
   "source": [
    "Regression trees are formed iteratively.\n",
    "\n",
    "We begin with a rectangular region $ R $ containing all values of\n",
    "X.\n",
    "\n",
    "We then choose a feature and location to split on, aiming to minimize MSE.\n",
    "\n",
    "We then repeat to generate all the branches.\n",
    "\n",
    "- For each region, solve  \n",
    "\n",
    "\n",
    "$$\n",
    "\\min_{j,s} \\left[ \\min_{c_1} \\sum_{i: x_{i,j} \\leq s, x_i \\in R}\n",
    "    (y_i - c_1)^2 + \\min_{c_2} \\sum_{i: x_{i,j} > s, x_i \\in R}\n",
    "    (y_i - c_2)^2 \\right]\n",
    "$$\n",
    "\n",
    "- Repeat with each of the two smaller rectangles.  \n",
    "- Stop when $ |R| = $ some chosen minimum size or when depth of tree $ = $\n",
    "  some chosen maximum.  \n",
    "- Prune tree.  \n",
    "\n",
    "\n",
    "$$\n",
    "\\min_{tree \\subset T} \\sum (\\hat{f}(x)-y)^2 + \\alpha|\\text{terminal\n",
    "   nodes in tree}|\n",
    "$$\n",
    "\n",
    "This tree-building algorithm has many variations, but every variation 1) shares some rule to decide on a splitting variable and location and 2) has a stopping rule (though not necessarily the same one).\n",
    "\n",
    "For example, some algorithms stop splitting into new branches when the improvement\n",
    "in MSE becomes small.\n",
    "\n",
    "As with lasso, regression trees also involve some regularization.\n",
    "\n",
    "In the above description, the minimum leaf size, maximum tree depth, and\n",
    "$ \\alpha $ in the pruning step serve as regularization\n",
    "parameters.\n",
    "\n",
    "\n",
    "<a id='exercise-5'></a>\n",
    "**Exercise 6**\n",
    "\n",
    "Read the documentation for sklearn.tree.DecisionTreeRegressor and\n",
    "then experiment with adjusting some regularization parameters to see how they\n",
    "affect the fitted tree."
   ]
  },
  {
   "cell_type": "code",
   "execution_count": null,
   "id": "85cfc712",
   "metadata": {
    "hide-output": false
   },
   "outputs": [],
   "source": [
    "# plot trees when varying some regularization parameter(s)"
   ]
  },
  {
   "cell_type": "markdown",
   "id": "09dde2b7",
   "metadata": {},
   "source": [
    "\n",
    "<a id='exercise-6'></a>\n",
    "**Exercise 7**\n",
    "\n",
    "Fit a regression tree to the housing price data and use graphviz\n",
    "to visualize the decision graph."
   ]
  },
  {
   "cell_type": "code",
   "execution_count": null,
   "id": "8bd68a08",
   "metadata": {
    "hide-output": false
   },
   "outputs": [],
   "source": [
    "# your code here"
   ]
  },
  {
   "cell_type": "markdown",
   "id": "7bed2239",
   "metadata": {},
   "source": [
    "An advantage of regression trees (and random forests) is that they adapt\n",
    "automatically to feature scales and units.\n",
    "\n",
    "For example, including zip code in linear regression or lasso was a little\n",
    "strange. While zip codes are numerical in value, they actually represent categorical\n",
    "variables. (i.e. we can compute `10025` - `85001` (NYC and Phoenix), but the numerical difference is meaningless.)\n",
    "\n",
    "Including an indicator or dummy variable for each zip code would make more sense.\n",
    "\n",
    "Regression trees do not impose linearity or even monotonicity, so having the numeric zip code as a feature is\n",
    "less harmful than it could have been."
   ]
  },
  {
   "cell_type": "code",
   "execution_count": null,
   "id": "5e03daa5",
   "metadata": {
    "hide-output": false
   },
   "outputs": [],
   "source": [
    "ax = var_scatter(df, var=\"zipcode\")\n",
    "zip_tree = tree.DecisionTreeRegressor(max_depth=10).fit(X[[\"zipcode\"]],y)\n",
    "scatter_model(zip_tree, X[[\"zipcode\"]], ax, x=\"zipcode\", color=\"red\")"
   ]
  },
  {
   "cell_type": "markdown",
   "id": "3740fd7d",
   "metadata": {},
   "source": [
    "### Random Forests\n",
    "\n",
    "A random forest is the average of many randomized regression trees.\n",
    "\n",
    "Trees are randomized by:\n",
    "\n",
    "- Fitting on randomly resampled subsets of data  \n",
    "- Randomize features chosen for branching  \n",
    "\n",
    "\n",
    "$$\n",
    "\\min_{j \\in S,s} \\left[ \\min_{c_1} \\sum_{i: x_{i,j} \\leq s, x_i \\in R}\n",
    "    (y_i - c_1)^2 + \\min_{c_2} \\sum_{i: x_{i,j} > s, x_i \\in R}\n",
    "    (y_i - c_2)^2 \\right]\n",
    "$$\n",
    "\n",
    "where $ S $ is a random subset of features.\n",
    "\n",
    "Randomizing and averaging smooths out the predictions from individual\n",
    "trees.\n",
    "\n",
    "This improves predictions and reduces the variance of the predictions."
   ]
  },
  {
   "cell_type": "code",
   "execution_count": null,
   "id": "4b234cd5",
   "metadata": {
    "hide-output": false
   },
   "outputs": [],
   "source": [
    "# example of forest for simulated data\n",
    "\n",
    "from sklearn.ensemble import RandomForestRegressor\n",
    "forest = RandomForestRegressor(n_estimators = 100).fit(Xsim,ysim)\n",
    "fig=surface_scatter_plot(Xsim,ysim,lambda x: forest.predict([x]),\n",
    "                         show_f0=True)\n",
    "fig"
   ]
  },
  {
   "cell_type": "markdown",
   "id": "a9d4b821",
   "metadata": {},
   "source": [
    "Random forests generally produce more accurate predictions than any single\n",
    "tree.\n",
    "\n",
    "However, random forests have at least two downsides compared to trees:\n",
    "longer computation time and more difficulty in interpretation.\n",
    "\n",
    "We can no longer draw a single decision graph.\n",
    "\n",
    "Instead, people often report “feature importance” for random forests.\n",
    "\n",
    "Feature importance is the average MSE decrease caused by splits on each feature.\n",
    "\n",
    "If a given feature has greater importance, the trees split on that feature more often and/or splitting on that\n",
    "feature resulted in larger MSE decreases."
   ]
  },
  {
   "cell_type": "code",
   "execution_count": null,
   "id": "29804c40",
   "metadata": {
    "hide-output": false
   },
   "outputs": [],
   "source": [
    "forest.feature_importances_"
   ]
  },
  {
   "cell_type": "markdown",
   "id": "0d48e517",
   "metadata": {},
   "source": [
    "\n",
    "<a id='exercise-7'></a>\n",
    "**Exercise 8**\n",
    "\n",
    "Fit a random forest to the housing price data.\n",
    "\n",
    "Compare the MSE on a testing set to that of lasso."
   ]
  },
  {
   "cell_type": "code",
   "execution_count": null,
   "id": "e0ba1510",
   "metadata": {
    "hide-output": false
   },
   "outputs": [],
   "source": [
    "# Fit random forest and compute MSE"
   ]
  },
  {
   "cell_type": "markdown",
   "id": "9e49e4c0",
   "metadata": {},
   "source": [
    "Produce a bar chart of feature importances for predicting house\n",
    "prices."
   ]
  },
  {
   "cell_type": "markdown",
   "id": "c6c376bb",
   "metadata": {},
   "source": [
    "## Neural Networks\n",
    "\n",
    "The final regression algorithm we will discuss in this lecture is a type of\n",
    "neural network.\n",
    "\n",
    "If you’re interested in this course, you have\n",
    "probably heard about neural networks in the news or social media.\n",
    "\n",
    "The purpose of this section is not to give an exhaustive overview of the topic,\n",
    "but instead, to introduce you to a particular neural network model and present\n",
    "it from a different perspective that hopefully complements materials you may later encounter."
   ]
  },
  {
   "cell_type": "markdown",
   "id": "203109e6",
   "metadata": {},
   "source": [
    "### Mathematical Background\n",
    "\n",
    "If linear regression is the [“Hello World”](https://en.wikipedia.org/wiki/%22Hello,_World!%22_program) of regression\n",
    "algorithms, then the multi-layer perceptron (MLP) is the “Hello World” of neural\n",
    "networks.\n",
    "\n",
    "We’ll start with a single (hidden) layer MLP and then build up to the general form.\n",
    "\n",
    "The prediction function for a single layer MLP is\n",
    "\n",
    "$$\n",
    "y = f_1(X w_1 + b_1) w_2 + b_2\n",
    "$$\n",
    "\n",
    "What we have here is *nested linear regression* (the $ (\\cdot) w_i + b_i $\n",
    "parts), separated by an *activation function* (the $ f_1 $).\n",
    "\n",
    "Let’s unpack what happens, starting from our $ N_\\text{samples} \\times\n",
    "N_\\text{features} $ feature matrix $ X $.\n",
    "\n",
    "1. First, $ X $ is multiplied by a coefficient matrix $ w_1 $. $ w_1 $ is often called the *weight matrix* or *weights* for short and has dimension $ N_{\\text{features}} \\times N_1 $.  \n",
    "1. The vector $ b_1 $ is added to each row. $ b_1 $ is often called the *bias vector* or *bias* for short and has dimension $ N_1 \\times 1 $.  \n",
    "1. The function $ f_1 $ is then applied. Typically $ f_1 $ a non-linear function that is applied separately to each element. $ f_1 $ is called the *activation function*.  \n",
    "1. The output is then multiplied by a weight matrix $ w_2 $ with dimension $ N_1 \\times 1 $.  \n",
    "1. Finally, a scalar $ b_2 $ is added to each row to generate the final prediction with dimension $ N_{\\text{samples}} \\times 1 $.  \n",
    "\n",
    "\n",
    "The way we might write this in Python is:"
   ]
  },
  {
   "cell_type": "markdown",
   "id": "933ee6f6",
   "metadata": {
    "hide-output": false
   },
   "source": [
    "```python\n",
    "y = f(X@w1 + b1)@w2 + b2\n",
    "```\n"
   ]
  },
  {
   "cell_type": "markdown",
   "id": "b2ec0a81",
   "metadata": {},
   "source": [
    "In order to build an $ N $-hidden layer MLP, we will *nest* additional linear regressions\n",
    "separated by activation functions.\n",
    "\n",
    "The equation for this case is difficult to express, but has the following form\n",
    "\n",
    "$$\n",
    "y = f_{\\cdots} \\left(f_2(f_1(X w_1 + b_1) w_2 + b_2) w_{\\cdots} + b_{\\cdots} \\right) w_{N+1} + b_{N+1}\n",
    "$$\n",
    "\n",
    "where the $ \\cdots $ represents layers 3 to $ N $.\n",
    "\n",
    "Notice the pattern of a linear regression ($ (\\cdot) w + b $),\n",
    "followed by applying an activation function ($ f $) at each step.\n",
    "\n",
    "\n",
    "<a id='exercise-8'></a>\n",
    "**Exercise 9**\n",
    "\n",
    "In the pseudocode below, fill in the blanks for the generic MLP.\n",
    "\n",
    "Note that this is inside a markdown cell because the code is not valid\n",
    "Python."
   ]
  },
  {
   "cell_type": "markdown",
   "id": "799923bb",
   "metadata": {
    "hide-output": false
   },
   "source": [
    "```python\n",
    "ws = [w1, w2, ..., wend]\n",
    "bs = [b1, b2, ..., bend]\n",
    "\n",
    "def eval_mlp(X, ws, bs, f):\n",
    "    \"\"\"\n",
    "    Evaluate MLP-given weights (ws), bias (bs) and an activation (f)\n",
    "\n",
    "    Assumes that the same activation is applied to all hidden layers\n",
    "    \"\"\"\n",
    "    N = len(ws) - 1\n",
    "\n",
    "    out = X\n",
    "    for i in range(N):\n",
    "        out = f(__)  # replace the __\n",
    "\n",
    "    # For this step remember python starts counting at 0!\n",
    "    return out@__ + __  # replace the __\n",
    "```\n"
   ]
  },
  {
   "cell_type": "markdown",
   "id": "5dc6aec4",
   "metadata": {},
   "source": [
    "The loss or error function typically used when using an MLP for regression is\n",
    "our now familiar mean squared error loss function:\n",
    "\n",
    "$$\n",
    "{||y - \\hat{y}||_2}^2\n",
    "$$\n",
    "\n",
    "where $ \\hat{y} $ is the output of the neural network.\n",
    "\n",
    "Here, we fit a neural network to the same simulated data that we used\n",
    "in the random forests section."
   ]
  },
  {
   "cell_type": "code",
   "execution_count": null,
   "id": "889acbc4",
   "metadata": {
    "hide-output": false
   },
   "outputs": [],
   "source": [
    "from sklearn import neural_network\n",
    "nn = neural_network.MLPRegressor((6,), activation=\"logistic\",\n",
    "                                 verbose=True, solver=\"lbfgs\",\n",
    "                                 alpha=0.0).fit(Xsim,ysim)\n",
    "fig=surface_scatter_plot(Xsim,ysim,lambda x: nn.predict([x]), show_f0=True)\n",
    "fig"
   ]
  },
  {
   "cell_type": "markdown",
   "id": "e5016a21",
   "metadata": {},
   "source": [
    "We are nearly ready to test out a MLP on our housing data, but there are a few\n",
    "more talking points to cover:\n",
    "\n",
    "- [regHSW89](http://www.sciencedirect.com/science/article/pii/0893608089900208, doi:https://doi.org/10.1016/0893-6080(89)90020-8.) show that MLPs are universal approximators,\n",
    "  meaning they are theoretically capable of approximating any\n",
    "  function. This fact is sometimes stated as though it helps explain\n",
    "  the exceptionally good predictive ability of neural networks. Do not\n",
    "  be fooled by this fallacy. Many other methods are universal approximators,\n",
    "  including regression trees and more classic statistical methods like\n",
    "  kernel regression. The explanation for neural networks’ predictive success\n",
    "  lies elsewhere.  <sup>[1](#rate)</sup>  \n",
    "- The activation functions must be non-linear. If they were not,\n",
    "  the MLP would be combining linear combinations of linear combinations and\n",
    "  would therefore always be linear.  \n",
    "- The hidden layer structure of an MLP allows it to automatically perform feature engineering.\n",
    "  Contrastly,the example we had above required us to manually engineer\n",
    "  the square feet above ground feature.  \n",
    "\n",
    "\n",
    "<a id='rate'></a>\n",
    "**[1]** Two facts about neural networks are relevant to their\n",
    "predictive success: automatic feature engineering, as\n",
    "mentioned above, and the ability of neural networks to\n",
    "approximate a broad (but not quite universal) class of\n",
    "functions with relatively few parameters. This gives\n",
    "neural networks its fast statistical convergence\n",
    "rate. Under appropriate assumptions, lasso, series\n",
    "regression, and kernel regression share this fast\n",
    "convergence rate property, but they lack automatic feature\n",
    "engineering. On the other hand, random forests have automatic feature\n",
    "engineering, but do not have a fast convergence rate.\n",
    "Neural networks are somewhat unique in combining both\n",
    "properties.\n",
    "See\n",
    "[these notes and references therein](http://faculty.arts.ubc.ca/pschrimpf/628/machineLearningAndCausalInference.html#2_introduction_to_machine_learning)\n",
    "for more information about convergence rates."
   ]
  },
  {
   "cell_type": "markdown",
   "id": "658508d1",
   "metadata": {},
   "source": [
    "### Application\n",
    "\n",
    "Ok, now let’s try out our first neural network!"
   ]
  },
  {
   "cell_type": "code",
   "execution_count": null,
   "id": "cefadca6",
   "metadata": {
    "hide-output": false
   },
   "outputs": [],
   "source": [
    "from sklearn import neural_network\n",
    "\n",
    "X = df.drop([\"price\", \"date\", \"id\", \"log_price\"], axis=1).copy()\n",
    "for col in list(X):\n",
    "    X[col] = X[col].astype(float)\n",
    "y = np.log(df[\"price\"])\n",
    "\n",
    "# two hidden layers, with N1=30 and N2=20\n",
    "nn_model = neural_network.MLPRegressor((30, 20))\n",
    "nn_model.fit(X, y)\n",
    "\n",
    "ax = var_scatter(df)\n",
    "scatter_model(nn_model, X, ax=ax)"
   ]
  },
  {
   "cell_type": "markdown",
   "id": "a73dc6d8",
   "metadata": {},
   "source": [
    "Wow! That plot looks horrible. Let’s check the MSE."
   ]
  },
  {
   "cell_type": "code",
   "execution_count": null,
   "id": "d96519d5",
   "metadata": {
    "hide-output": false
   },
   "outputs": [],
   "source": [
    "mse_nn = metrics.mean_squared_error(y, nn_model.predict(X))\n",
    "mse_nn / metrics.mean_squared_error(y, lr_model.predict(X))"
   ]
  },
  {
   "cell_type": "markdown",
   "id": "d0d9c545",
   "metadata": {},
   "source": [
    "So… after all that talk about neural networks being all-powerful, our neural network above\n",
    "produced a mean squared error which was tens of thousands of times larger than the\n",
    "MSE from a linear regression!"
   ]
  },
  {
   "cell_type": "markdown",
   "id": "fb67f84d",
   "metadata": {},
   "source": [
    "### Input Scaling\n",
    "\n",
    "The issue here is that neural networks are extremely sensitive to the scale\n",
    "(both relative and absolute) of the input features.\n",
    "\n",
    "The reasons for why are a bit beyond the scope of this lecture, but the main\n",
    "idea is that the training procedure pays too much attention to relatively larger\n",
    "features (relative scale) and becomes unstable if features are very large\n",
    "(absolute scale).\n",
    "\n",
    "A common technique to overcome this issue is to scale each variable so that the\n",
    "observations have a mean of 0 and a standard deviation of 1.\n",
    "\n",
    "This is known as scaling or normalizing the inputs.\n",
    "\n",
    "\n",
    "<a id='exercise-9'></a>\n",
    "**Exercise 10**\n",
    "\n",
    "Scale all variables in `X` by subtracting their mean and dividing by the\n",
    "standard deviation.\n",
    "\n",
    "Verify that the transformed data has mean 0 and standard deviation 1."
   ]
  },
  {
   "cell_type": "code",
   "execution_count": null,
   "id": "567c09b3",
   "metadata": {
    "hide-output": false
   },
   "outputs": [],
   "source": [
    "# your code here"
   ]
  },
  {
   "cell_type": "markdown",
   "id": "4553cb7b",
   "metadata": {},
   "source": [
    "If we decide to scale our variables, we must remember to apply the same\n",
    "transformation at prediction time as we did when we fit the model.\n",
    "\n",
    "In practice, we must do three things:\n",
    "\n",
    "1. Store the mean and standard deviation of each feature in the training set.  \n",
    "1. Subtract each feature’s mean from the training data and then divide by the feature’s standard deviation before fitting.  \n",
    "1. Subtract the *training data’s* mean and divide by *training data’s* standard deviation for all prediction inputs.  \n",
    "\n",
    "\n",
    "Applying the transformation to the prediction data is easily forgotten, so this is a tedious and\n",
    "somewhat error-prone process.\n",
    "\n",
    "Thankfully, scikit-learn has a way to automate the process and ensure that it is\n",
    "always applied.\n",
    "\n",
    "Let’s see an example:"
   ]
  },
  {
   "cell_type": "code",
   "execution_count": null,
   "id": "498b8a2e",
   "metadata": {
    "hide-output": false
   },
   "outputs": [],
   "source": [
    "from sklearn import preprocessing, pipeline\n",
    "\n",
    "# the pipeline defines any number of steps that will be applied\n",
    "# to transform the `X` data and then a final step that is a model\n",
    "# we can use for prediction\n",
    "nn_scaled_model = pipeline.make_pipeline(\n",
    "    preprocessing.StandardScaler(),  # this will do the input scaling\n",
    "    neural_network.MLPRegressor((30, 20))  # put your favorite model here\n",
    ")\n",
    "\n",
    "# We can now use `model` like we have used our other models all along\n",
    "# Call fit\n",
    "nn_scaled_model.fit(X, y)\n",
    "\n",
    "# Call predict\n",
    "mse_nn_scaled = metrics.mean_squared_error(y, nn_scaled_model.predict(X))\n",
    "\n",
    "print(f\"Unscaled mse {mse_nn}\")\n",
    "print(f\"Scaled mse {mse_nn_scaled}\")"
   ]
  },
  {
   "cell_type": "markdown",
   "id": "b7751a79",
   "metadata": {},
   "source": [
    "There we have it, much better. This is the smallest MSE we have seen so far.\n",
    "\n",
    "A scatter plot of the predictions looks very similar to the observed prices."
   ]
  },
  {
   "cell_type": "code",
   "execution_count": null,
   "id": "7229aed6",
   "metadata": {
    "hide-output": false
   },
   "outputs": [],
   "source": [
    "ax = var_scatter(df)\n",
    "scatter_model(nn_scaled_model, X, ax=ax)"
   ]
  },
  {
   "cell_type": "markdown",
   "id": "5fe6eb76",
   "metadata": {},
   "source": [
    "### Tradeoffs\n",
    "\n",
    "So we’ve seen that neural networks are very flexible and can approximate highly\n",
    "nonlinear functions – but they have a few cons.\n",
    "\n",
    "We’ll discuss a few of them here.\n",
    "\n",
    "- **Interpretability**: Unlike linear regression or lasso, neural\n",
    "  networks are not easily interpretable. We could look at the $ w $\n",
    "  matrices or $ b $ vectors, but the nested composition and\n",
    "  nonlinear activation functions make it very difficult to interpret\n",
    "  just how each coefficient impacts the output. In settings like\n",
    "  making economic policy recommendations or decisions with ethical consequences\n",
    "  (e.g. approving loans, screening),\n",
    "  the lack of interpretability can be a non-starter.  \n",
    "- **Efficiency/time**: Neural networks require more computational\n",
    "  power to evaluate (generate predictions) and are orders of magnitude\n",
    "  more expensive to train than classical machine learning\n",
    "  methods.  \n",
    "- **Automated feature engineering**: The nested linear regressions\n",
    "  allow neural networks to learn data features that are\n",
    "  composed of arbitrary linear combinations of the original feature\n",
    "  set. The non-linear activation functions allow the network to learn\n",
    "  arbitrary non-linear features. Manual feature engineering is based\n",
    "  largely on the researchers intuition, as well as a fair amount of trial and\n",
    "  error. Determining the proper features that allow for more\n",
    "  explanatory power without overfitting is very difficult. Neural\n",
    "  networks automate that process by using the data itself to guide the\n",
    "  training process and select features that satisfy accuracy and\n",
    "  regularization conditions.  \n",
    "- **Overfitting**: Neural networks’ flexibility and explanatory\n",
    "  power make them easy to accidentally overfit. When training neural\n",
    "  networks, the various approaches to regularization should be studied and evaluated,\n",
    "  especially when building networks used for decision-making.  \n",
    "\n",
    "\n",
    "\n",
    "<a id='exercise-10'></a>\n",
    "**Exercise 11**\n",
    "\n",
    "Read the documentation for sklearn.neural_network.MLPRegressor and\n",
    "use the full housing data to experiment with how adjusting layer depth, width, and other\n",
    "regularization parameters affects prediction."
   ]
  },
  {
   "cell_type": "code",
   "execution_count": null,
   "id": "17dbbb8c",
   "metadata": {
    "hide-output": false
   },
   "outputs": [],
   "source": [
    "# your code here"
   ]
  }
 ],
 "metadata": {
  "date": 1620049190.0205672,
  "filename": "regression.rst",
  "kernelspec": {
   "display_name": "Python 3",
   "language": "python",
   "name": "python3"
  },
  "language_info": {
   "codemirror_mode": {
    "name": "ipython",
    "version": 3
   },
   "file_extension": ".py",
   "mimetype": "text/x-python",
   "name": "python",
   "nbconvert_exporter": "python",
   "pygments_lexer": "ipython3",
   "version": "3.8.8"
  },
  "title": "Regression"
 },
 "nbformat": 4,
 "nbformat_minor": 5
}
