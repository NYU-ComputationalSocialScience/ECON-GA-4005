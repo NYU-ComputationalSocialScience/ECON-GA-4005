{
 "cells": [
  {
   "cell_type": "markdown",
   "id": "902a46c2",
   "metadata": {
    "slideshow": {
     "slide_type": "slide"
    },
    "tags": []
   },
   "source": [
    "# 1d CNN for Timeseries\n",
    "\n",
    "**Prerequisites**\n",
    "\n",
    "- Tensorflow + keras\n",
    "- CNN\n",
    "\n",
    "**Outcomes**\n",
    "\n",
    "- Recall main features of CNN\n",
    "- Understand temporal correlation in time series\n",
    "- Understand the 1d CNN model for time series analysis\n",
    "- Build and apply 1d CNN to various time series"
   ]
  },
  {
   "cell_type": "code",
   "execution_count": 1,
   "id": "f3018370",
   "metadata": {
    "slideshow": {
     "slide_type": "subslide"
    },
    "tags": []
   },
   "outputs": [],
   "source": [
    "import tensorflow as tf\n",
    "import tensorflow.keras as keras\n",
    "import tensorflow.keras.layers as layers\n",
    "import matplotlib.pyplot as plt\n",
    "import numpy as np\n",
    "\n",
    "%matplotlib inline"
   ]
  },
  {
   "cell_type": "markdown",
   "id": "6b5e40c1",
   "metadata": {
    "slideshow": {
     "slide_type": "slide"
    },
    "tags": []
   },
   "source": [
    "## Review: CNN for Image Classification\n",
    "\n",
    "- Convolutional Neural networks are \n",
    "    - Feed forward networks\n",
    "    - Built from convolutional, pooling, and dense layers\n",
    "    - Take form: \n",
    "    \n",
    "    $$y = (f_{\\text{out}} \\circ D_{\\text{out}} \\circ P_L \\circ \\cdots \\circ P_6 \\circ f_5 \\circ C_{5} \\circ f_4 \\circ C_4 \\underbrace{\\circ P_3 \\circ f_2 \\circ C_{2} \\circ f_1 \\circ C_1}_{\\text{key pattern}})(x)$$"
   ]
  },
  {
   "cell_type": "markdown",
   "id": "ba53d44f",
   "metadata": {
    "slideshow": {
     "slide_type": "subslide"
    }
   },
   "source": [
    "\n",
    "\n",
    "### Convolutional Layers\n",
    "\n",
    "- Connect output to local sub-region of input\n",
    "- Identify patterns with sense of locality\n",
    "- Built on convolution operation: `sum(sub_region * filter) + bias`\n",
    "- Same filter *slides* across image from left to right, and top to bottom\n",
    "- Parameters are shared for all sub-regions -- in practice find same pattern in multiple parts of image"
   ]
  },
  {
   "cell_type": "markdown",
   "id": "f71e69c3",
   "metadata": {
    "slideshow": {
     "slide_type": "subslide"
    },
    "tags": []
   },
   "source": [
    "### Pooling Layers\n",
    "\n",
    "- Reduce local sub-region into single number\n",
    "- Used to reduce the width and height of feature map\n",
    "- Computed as `max(sub_region)`\n",
    "- Require no parameters to be learned"
   ]
  },
  {
   "cell_type": "markdown",
   "id": "f41216d6",
   "metadata": {
    "slideshow": {
     "slide_type": "subslide"
    },
    "tags": []
   },
   "source": [
    "### Dense Layers\n",
    "\n",
    "- Appear at end of CNN\n",
    "- Used to build a classifier taking final feature maps as input\n",
    "- Often one or two dense layers at end of stack\n",
    "- Connects every point from each feature map to every output of dense layer\n",
    "- Requires *many* parameters: (`w*h*K*N + N`)"
   ]
  },
  {
   "cell_type": "markdown",
   "id": "b3a153d8",
   "metadata": {
    "slideshow": {
     "slide_type": "subslide"
    },
    "tags": []
   },
   "source": [
    "### How CNN learns\n",
    "\n",
    "- Early layers apply filters to identify simple patterns\n",
    "- Later layers combine multiple simple patterns to \n",
    "- Demo: https://www.cs.ryerson.ca/~aharley/vis/conv/flat.html"
   ]
  },
  {
   "cell_type": "markdown",
   "id": "fcf62ce0",
   "metadata": {
    "slideshow": {
     "slide_type": "subslide"
    },
    "tags": []
   },
   "source": [
    "### CNN's Secret Weapon\n",
    "\n",
    "- The CNN model is powerful because it forces the network to take *local context* into account\n",
    "- By analyzing chunks of data that are *spatialy correlated*, CNN can recognize repeated patterns that are common in images (e.g. 2 eyes + nose + mouth + 2 ears on human head or shape of airplane)\n",
    "- What if the CNN could also be applied to settings where data is locally correlated in another way ..."
   ]
  },
  {
   "cell_type": "markdown",
   "id": "64c8c6c8",
   "metadata": {
    "slideshow": {
     "slide_type": "fragment"
    },
    "tags": []
   },
   "source": [
    "- IT CAN!\n",
    "- Today we will learn about how to use a 1 dimensional CNN to analyze univariate time series data\n",
    "- These data are *temporally correlated* ==> CNN can learn to recognize repeating patterns in time series"
   ]
  },
  {
   "cell_type": "markdown",
   "id": "d4b5aef5",
   "metadata": {
    "slideshow": {
     "slide_type": "slide"
    },
    "tags": []
   },
   "source": [
    "## Univariate Time Series\n",
    "\n",
    "- We will consider a univariate time series to be a sequence of random variables $\\{x_t \\}$ indexed by $t \\in \\mathbb{Z}$ and taking values in $\\mathbb{R}$\n",
    "- We will assume that the time series begins at $t=0$ and that $t$ increases by 1 with each observation\n",
    "- Examples: financial data, weather data, heart rates, vehicle position/velocity, videos (time series of images)"
   ]
  },
  {
   "cell_type": "markdown",
   "id": "0d4b1fb1",
   "metadata": {
    "slideshow": {
     "slide_type": "slide"
    },
    "tags": []
   },
   "source": [
    "## 1D Convolution\n",
    "\n",
    "- Let's learn how to learn to predict our time series using a 1d CNN\n",
    "- We'll again explore the 1d CNN model from three persepctives\n",
    "    1. Visual\n",
    "    2. Mathematical\n",
    "    3. Code\n",
    "- Having already learned the 2d CNN, this will be realtively simple"
   ]
  },
  {
   "cell_type": "markdown",
   "id": "4eeb5f2b",
   "metadata": {
    "slideshow": {
     "slide_type": "subslide"
    },
    "tags": []
   },
   "source": [
    "### Visual Perspective\n",
    "\n",
    "- Convolution uses fixed weights/filter\n",
    "- Slides filter over windows of data \n",
    "- Moves from left (t=0) to right (t++)\n",
    "\n",
    "![1d_cnn_visual.jpg](1d_cnn_visual.jpg)"
   ]
  },
  {
   "cell_type": "markdown",
   "id": "35250b57",
   "metadata": {
    "slideshow": {
     "slide_type": "subslide"
    },
    "tags": []
   },
   "source": [
    "### Mathematical Perspective\n",
    "\n",
    "- Hyperparameters\n",
    "    - $K$: number of filters\n",
    "    - $F$: width of window\n",
    "    - $S$: stride\n",
    "    - $P$: padding "
   ]
  },
  {
   "cell_type": "markdown",
   "id": "7a1b7e09",
   "metadata": {
    "slideshow": {
     "slide_type": "subslide"
    },
    "tags": []
   },
   "source": [
    "#### Mathematical Formula\n",
    "\n",
    "- Let $w \\in \\mathbb{R}^K$ be filter weights and $b \\in mathhb{R}$ be bias\n",
    "- Output $i$ computed as: $$z_i = \\left(\\sum_{j =0}^{F} w_j x_{i + j - F // 2} \\right) + b$$\n",
    "- Special care taken around edges (that's why we have padding)\n",
    "- This is repeated for each each of the $K$ filters"
   ]
  },
  {
   "cell_type": "markdown",
   "id": "edb3d4f1",
   "metadata": {
    "slideshow": {
     "slide_type": "subslide"
    },
    "tags": []
   },
   "source": [
    "### Code Perspective\n",
    "\n",
    "- For the 1d CNN it is instructive to write code by hand\n",
    "\n",
    "> When actually building networks and training we'll still use keras"
   ]
  },
  {
   "cell_type": "code",
   "execution_count": 2,
   "id": "50376827",
   "metadata": {},
   "outputs": [],
   "source": [
    "def conv1d(x, w, b, S: int = 1, P: int = 0):\n",
    "    \"\"\"\n",
    "    Apply single filter of 1d Convolution to x given\n",
    "    filter weights (w), bias (b), stride (S), and padding (P)\n",
    "    \"\"\"\n",
    "    assert P >= 0\n",
    "    if P == 0:\n",
    "        x_pad = x\n",
    "    else:\n",
    "        x_pad = np.concatenate([np.zeros(P), x, np.zeros(P)])\n",
    "    N = len(x)\n",
    "    F = len(w)\n",
    "    half_F = F // 2\n",
    "    out = []\n",
    "    for i in range(half_F, len(x_pad) - half_F, S):\n",
    "        window = x_pad[(i-half_F):(i+half_F + 1)]    \n",
    "        out.append((w @ window) + b)\n",
    "    \n",
    "    return out"
   ]
  },
  {
   "cell_type": "markdown",
   "id": "081ef3b8",
   "metadata": {
    "slideshow": {
     "slide_type": "subslide"
    },
    "tags": []
   },
   "source": [
    "## 1d CNN in Keras\n",
    "\n",
    "- Keras has a `keras.layers.Conv1D`, which is the 1d couterpart to the 2d conv layer we met for image analysis\n",
    "- We build up a network in a similar way: `((conv)+(pool))+(dense)+`\n",
    "- Let's try it out"
   ]
  },
  {
   "cell_type": "code",
   "execution_count": 3,
   "id": "b5633b64",
   "metadata": {
    "slideshow": {
     "slide_type": "-"
    }
   },
   "outputs": [],
   "source": [
    "T_input = 60  # see below -- just a number for now"
   ]
  },
  {
   "cell_type": "code",
   "execution_count": 4,
   "id": "53dbaf7e",
   "metadata": {},
   "outputs": [],
   "source": [
    "model = keras.Sequential([\n",
    "    layers.Conv1D(32, 7, activation=\"relu\", input_shape=(T_input, 1)),\n",
    "    layers.Conv1D(32, 7, activation=\"relu\"),\n",
    "    layers.MaxPooling1D(),\n",
    "    layers.Flatten(),\n",
    "    layers.Dense(30, activation=\"relu\"),\n",
    "    layers.Dense(1),\n",
    "])\n",
    "\n",
    "model.compile(optimizer='adam', loss='mse')"
   ]
  },
  {
   "cell_type": "markdown",
   "id": "131eeb34",
   "metadata": {
    "slideshow": {
     "slide_type": "subslide"
    }
   },
   "source": [
    "### Preparing Data\n",
    "\n",
    "- We have a 1d time series of data\n",
    "- We need to feed our CNN (X, y) pairs\n",
    "- Each X should be its own time series and each y should be the subsequent observation to predict\n"
   ]
  },
  {
   "cell_type": "markdown",
   "id": "a4e755e2",
   "metadata": {
    "slideshow": {
     "slide_type": "subslide"
    }
   },
   "source": [
    "### Example\n",
    "\n",
    "- For example, suppose our input data were `x = [1, 2, 3, 4, 5, 6, 7, 8]`\n",
    "- Let's split this data into subsequences of length 3\n",
    "- The (X, y) data we would end up passing to keras is\n",
    "\n",
    "```python\n",
    "X = np.array([\n",
    "    [1, 2, 3],  # y = 4\n",
    "    [2, 3, 4],  # y = 5\n",
    "    [3, 4, 5],  # y = 6\n",
    "    [4, 5, 6],  # y = 7\n",
    "    [5, 6, 7],  # y = 8\n",
    "])\n",
    "\n",
    "y = np.array([4, 5, 6, 7, 8])\n",
    "```"
   ]
  },
  {
   "cell_type": "markdown",
   "id": "686f4271",
   "metadata": {
    "slideshow": {
     "slide_type": "subslide"
    }
   },
   "source": [
    "### Data Prep with keras\n",
    "\n",
    "- The accounting work needed to translate the 1d timeseries into multiple subsequences is tedious at best (and very difficult to implement efficiently!)\n",
    "- Thankfully, `keras.preprocessing.timeseries_dataset_from_array` will do it for us\n",
    "- This function expects three inputs:\n",
    "    - x: features to be used as X\n",
    "    - y: targets or labels\n",
    "    - sequence_length: length of each sub-sequence"
   ]
  },
  {
   "cell_type": "markdown",
   "id": "a148fa75",
   "metadata": {
    "slideshow": {
     "slide_type": "subslide"
    }
   },
   "source": [
    "#### Keras data prep example\n",
    "\n",
    "- Let's see how to keras it to repeat our example from above"
   ]
  },
  {
   "cell_type": "code",
   "execution_count": 5,
   "id": "ccfb56fb",
   "metadata": {},
   "outputs": [
    {
     "data": {
      "text/plain": [
       "array([[1],\n",
       "       [2],\n",
       "       [3],\n",
       "       [4],\n",
       "       [5],\n",
       "       [6],\n",
       "       [7],\n",
       "       [8]])"
      ]
     },
     "execution_count": 5,
     "metadata": {},
     "output_type": "execute_result"
    }
   ],
   "source": [
    "# must be two dimensional\n",
    "x = np.arange(1, 9)[:, None]\n",
    "x"
   ]
  },
  {
   "cell_type": "code",
   "execution_count": 6,
   "id": "9902e052",
   "metadata": {
    "slideshow": {
     "slide_type": "subslide"
    }
   },
   "outputs": [
    {
     "name": "stdout",
     "output_type": "stream",
     "text": [
      "test_dataset is a: <class 'tensorflow.python.data.ops.dataset_ops.BatchDataset'>\n"
     ]
    },
    {
     "data": {
      "text/plain": [
       "<BatchDataset element_spec=(TensorSpec(shape=(None, None, 1), dtype=tf.int64, name=None), TensorSpec(shape=(None, 1), dtype=tf.int64, name=None))>"
      ]
     },
     "execution_count": 6,
     "metadata": {},
     "output_type": "execute_result"
    }
   ],
   "source": [
    "test_dataset = keras.preprocessing.timeseries_dataset_from_array(\n",
    "    x,      # raw dataset\n",
    "    x[3:],  # shifted dataset for predictions\n",
    "    3       # subsequence length -- matches shift on `y`\n",
    ")\n",
    "print(\"test_dataset is a:\", type(test_dataset))\n",
    "test_dataset"
   ]
  },
  {
   "cell_type": "code",
   "execution_count": 7,
   "id": "c6946f0c",
   "metadata": {
    "slideshow": {
     "slide_type": "subslide"
    }
   },
   "outputs": [
    {
     "data": {
      "text/plain": [
       "[(<tf.Tensor: shape=(5, 3, 1), dtype=int64, numpy=\n",
       "  array([[[1],\n",
       "          [2],\n",
       "          [3]],\n",
       "  \n",
       "         [[2],\n",
       "          [3],\n",
       "          [4]],\n",
       "  \n",
       "         [[3],\n",
       "          [4],\n",
       "          [5]],\n",
       "  \n",
       "         [[4],\n",
       "          [5],\n",
       "          [6]],\n",
       "  \n",
       "         [[5],\n",
       "          [6],\n",
       "          [7]]])>,\n",
       "  <tf.Tensor: shape=(5, 1), dtype=int64, numpy=\n",
       "  array([[4],\n",
       "         [5],\n",
       "         [6],\n",
       "         [7],\n",
       "         [8]])>)]"
      ]
     },
     "execution_count": 7,
     "metadata": {},
     "output_type": "execute_result"
    }
   ],
   "source": [
    "list(test_dataset) "
   ]
  },
  {
   "cell_type": "code",
   "execution_count": 8,
   "id": "d80cefc5",
   "metadata": {
    "slideshow": {
     "slide_type": "subslide"
    }
   },
   "outputs": [
    {
     "data": {
      "text/plain": [
       "array([[1, 2, 3],\n",
       "       [2, 3, 4],\n",
       "       [3, 4, 5],\n",
       "       [4, 5, 6],\n",
       "       [5, 6, 7]])"
      ]
     },
     "execution_count": 8,
     "metadata": {},
     "output_type": "execute_result"
    }
   ],
   "source": [
    "#                  X: batch number\n",
    "#                     X: x or y (x)\n",
    "#                                      X: drop \"extra\" empty dimension\n",
    "list(test_dataset)[0][0].numpy()[:, :, 0]"
   ]
  },
  {
   "cell_type": "code",
   "execution_count": 9,
   "id": "51b7dfb7",
   "metadata": {},
   "outputs": [
    {
     "data": {
      "text/plain": [
       "array([4, 5, 6, 7, 8])"
      ]
     },
     "execution_count": 9,
     "metadata": {},
     "output_type": "execute_result"
    }
   ],
   "source": [
    "#                  X: batch number\n",
    "#                     X: x or y (y)\n",
    "#                                   X: drop \"extra\" empty dimension\n",
    "list(test_dataset)[0][1].numpy()[:, 0]"
   ]
  },
  {
   "cell_type": "markdown",
   "id": "0951fb04",
   "metadata": {
    "slideshow": {
     "slide_type": "subslide"
    }
   },
   "source": [
    "### Training and Fitting\n",
    "\n",
    "- Once prepared we can the cnn using the fit method\n",
    "- We'll open up an official tensorflow guide/tutorial to see this in action\n",
    "- You can access it here: https://www.tensorflow.org/tutorials/structured_data/time_series"
   ]
  },
  {
   "cell_type": "markdown",
   "id": "9fa646e9",
   "metadata": {
    "slideshow": {
     "slide_type": "slide"
    },
    "tags": []
   },
   "source": [
    "## Extensions\n",
    "\n",
    "- The 1d CNN model can be altered and adapted beyond the univariate time series case\n",
    "- We'll talk through a few of these extensions"
   ]
  },
  {
   "cell_type": "markdown",
   "id": "7ac06e2c",
   "metadata": {
    "slideshow": {
     "slide_type": "subslide"
    },
    "tags": []
   },
   "source": [
    "### Multiple Outputs\n",
    "\n",
    "- The 1d CNN model can easily be extended to handle cases with more than one output variable\n",
    "- For example, suppose we are given a time series of macroeconomic data and asked to forecast both the price of the S&P 500 and the price of Bitcoin\n",
    "- To do this we will modify the output layer (final dense layer) to have two outputs instead of one\n",
    "\n",
    "```python\n",
    "model = keras.Sequential([\n",
    "    # ... stays the same\n",
    "    keras.layers.Dense(2)   # change `1` to `2`\n",
    "])\n",
    "```"
   ]
  },
  {
   "cell_type": "markdown",
   "id": "9e241c74",
   "metadata": {
    "slideshow": {
     "slide_type": "subslide"
    },
    "tags": []
   },
   "source": [
    "### Multivariate Input\n",
    "\n",
    "- The model can also be extended to have multiple time series as part of the input data\n",
    "- Example: accelerometer data\n",
    "    - Comes in (x, y, z, t) tuples\n",
    "    - Tracks acceleration in 3 dimensions over time\n",
    "    - Output of model might be classifying what activity is happening (sleep, sit, jump, stairs, walk, swim, etc.)\n",
    "- To do this, we modify the first Conv1D layer to have >1 on last element of `input_shape`\n",
    "\n",
    "```python\n",
    "model = keras.Sequential([\n",
    "    keras.layers.Conv1d(*same_args, input_shape=(, 3)  # each timestep has (x,y,z) data\n",
    "    # ... stays the same\n",
    "])\n",
    "```"
   ]
  },
  {
   "cell_type": "markdown",
   "id": "eeb59e43",
   "metadata": {
    "slideshow": {
     "slide_type": "subslide"
    },
    "tags": []
   },
   "source": [
    "### Multi-in Multi-out\n",
    "\n",
    "- You can combine both ideas at the same time\n",
    "- Example: Given price data on top-5 cryptocurrencies by market cap, predict prices for next 5\n",
    "- To do this we have both the updated input_shape for first layer and number of outputs in last layer:\n",
    "\n",
    "```python\n",
    "model = keras.Sequential([\n",
    "    keras.layers.Conv1d(*same_args, input_shape=(, 5))  # each timestep has prices for top 5 coins\n",
    "    # ... stays the same,\n",
    "    keras.layers.Dense(5)  # predict prices for next 5 coins\n",
    "])\n",
    "```"
   ]
  },
  {
   "cell_type": "markdown",
   "id": "8132edc1",
   "metadata": {
    "slideshow": {
     "slide_type": "subslide"
    },
    "tags": []
   },
   "source": [
    "### Multi-shot prediction\n",
    "\n",
    "- Models so far have sought to predict either contemporaneous or one time period ahead\n",
    "- Perhaps we want to predict multiple time periods ahead\n",
    "- Example: Given daily data, predict prices for next 7 days\n",
    "- How to:\n",
    "    - Requires more processing of training data\n",
    "    - Need to correctly \"align\" data to match inputs for timestep $t$ into output at $t+i$ where $i = 1, \\dots, 7$\n",
    "- Model will have `7` outputs instead of one\n",
    "\n",
    "```python\n",
    "model = keras.Sequential([\n",
    "    # ... stays the same\n",
    "    keras.layers.Dense(7)   # change `1` to `7`\n",
    "])\n",
    "```"
   ]
  },
  {
   "cell_type": "markdown",
   "id": "ca1586d5",
   "metadata": {
    "slideshow": {
     "slide_type": "slide"
    },
    "tags": []
   },
   "source": [
    "## Conclusion\n",
    "\n",
    "- We learned about how we can use the 1d CNN to analyze time-series data\n",
    "- The CNN is looking for *repeated patterns* or *periodic behavior*\n",
    "- We talked about a few extensions -- hopefully sparked some creativity as to what is possible with an understanding of the key building blocks:\n",
    "    - Layers\n",
    "    - Shapes\n",
    "    - Losses\n",
    "    - SGD"
   ]
  },
  {
   "cell_type": "code",
   "execution_count": null,
   "id": "7490472c",
   "metadata": {},
   "outputs": [],
   "source": []
  }
 ],
 "metadata": {
  "celltoolbar": "Slideshow",
  "interpreter": {
   "hash": "31582b9feba862c420bc95ad7fac43fb721c474490d1710b4e50ac63470f9531"
  },
  "kernelspec": {
   "display_name": "css",
   "language": "python",
   "name": "python3"
  },
  "language_info": {
   "codemirror_mode": {
    "name": "ipython",
    "version": 3
   },
   "file_extension": ".py",
   "mimetype": "text/x-python",
   "name": "python",
   "nbconvert_exporter": "python",
   "pygments_lexer": "ipython3",
   "version": "3.8.8"
  }
 },
 "nbformat": 4,
 "nbformat_minor": 5
}
