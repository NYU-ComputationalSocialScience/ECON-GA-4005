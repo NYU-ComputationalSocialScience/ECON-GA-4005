{
 "cells": [
  {
   "cell_type": "markdown",
   "id": "48e457a4",
   "metadata": {
    "slideshow": {
     "slide_type": "slide"
    },
    "tags": []
   },
   "source": [
    "# Training Tips\n",
    "\n",
    "**Prerequisites**\n",
    "\n",
    "- Tensorflow\n",
    "- SGD\n",
    "- MLP\n",
    "\n",
    "**Outcomes**\n",
    "\n",
    "- Understand the arguments to the keras `.fit` method\n",
    "- Be able to use tensorboard to track training progress\n",
    "- Be able to save a trained model and load it from disk for prediction\n",
    "- Introduce concept of transfer learning"
   ]
  },
  {
   "cell_type": "code",
   "execution_count": 1,
   "id": "90d67410",
   "metadata": {},
   "outputs": [],
   "source": [
    "import tensorflow as tf\n",
    "from tensorflow import keras\n",
    "\n",
    "import matplotlib.pyplot as plt\n",
    "import numpy as np"
   ]
  },
  {
   "cell_type": "markdown",
   "id": "8b440c62",
   "metadata": {},
   "source": [
    "## Practical Keras\n",
    "\n",
    "- We've done some heavy lifting on math side\n",
    "- Now let's add in a touch of practicality and go over some best practices and features of using keras\n"
   ]
  },
  {
   "cell_type": "markdown",
   "id": "728ae601",
   "metadata": {},
   "source": [
    "### Dataset\n",
    "\n",
    "- The exact problem we are solving isn't extremely relevant here as our focus is on the techniques\n",
    "- That being said, we may as well have fun while we are at it!\n",
    "- This dataset is called \"Fashion MNIST\""
   ]
  },
  {
   "cell_type": "markdown",
   "id": "267ae967",
   "metadata": {
    "tags": []
   },
   "source": [
    "### Fashion MNIST\n",
    "\n",
    "- Once MNIST was too easy for new ML models and algorithms, the researchers in the field created a new challenge: [Fashion MNIST](https://github.com/zalandoresearch/fashion-mnist)\n",
    "- Instead of pictures of hand written digits, the Fashion MNIST dataset contains low-resolution images of articles of clothing\n",
    "\n",
    "| Label | Description |\n",
    "| --- | --- |\n",
    "| 0 | T-shirt/top |\n",
    "| 1 | Trouser |\n",
    "| 2 | Pullover |\n",
    "| 3 | Dress |\n",
    "| 4 | Coat |\n",
    "| 5 | Sandal |\n",
    "| 6 | Shirt |\n",
    "| 7 | Sneaker |\n",
    "| 8 | Bag |\n",
    "| 9 | Ankle boot |\n"
   ]
  },
  {
   "cell_type": "code",
   "execution_count": 2,
   "id": "2b9fc4ce",
   "metadata": {},
   "outputs": [
    {
     "name": "stdout",
     "output_type": "stream",
     "text": [
      "Downloading data from https://storage.googleapis.com/tensorflow/tf-keras-datasets/train-labels-idx1-ubyte.gz\n",
      "32768/29515 [=================================] - 0s 0us/step\n",
      "40960/29515 [=========================================] - 0s 0us/step\n",
      "Downloading data from https://storage.googleapis.com/tensorflow/tf-keras-datasets/train-images-idx3-ubyte.gz\n",
      "26427392/26421880 [==============================] - 2s 0us/step\n",
      "26435584/26421880 [==============================] - 2s 0us/step\n",
      "Downloading data from https://storage.googleapis.com/tensorflow/tf-keras-datasets/t10k-labels-idx1-ubyte.gz\n",
      "16384/5148 [===============================================================================================] - 0s 0us/step\n",
      "Downloading data from https://storage.googleapis.com/tensorflow/tf-keras-datasets/t10k-images-idx3-ubyte.gz\n",
      "4423680/4422102 [==============================] - 0s 0us/step\n",
      "4431872/4422102 [==============================] - 0s 0us/step\n",
      "Number of original training examples: 60000\n",
      "Number of original test examples: 10000\n"
     ]
    },
    {
     "data": {
      "image/png": "[encoded data removed]",
      "text/plain": [
       "<Figure size 720x432 with 4 Axes>"
      ]
     },
     "metadata": {
      "needs_background": "light"
     },
     "output_type": "display_data"
    }
   ],
   "source": [
    "(x_train, y_train), (x_test, y_test) = keras.datasets.fashion_mnist.load_data()\n",
    "\n",
    "# Rescale the images from [0,255] to the [0.0,1.0] range.\n",
    "x_train, x_test = x_train[..., np.newaxis]/255.0, x_test[..., np.newaxis]/255.0\n",
    "\n",
    "print(\"Number of original training examples:\", len(x_train))\n",
    "print(\"Number of original test examples:\", len(x_test))\n",
    "\n",
    "fig, ax = plt.subplots(1, 4, figsize=(10, 6))\n",
    "for i in range(4):\n",
    "    ax[i].imshow(x_train[i, :, :, 0])"
   ]
  },
  {
   "cell_type": "markdown",
   "id": "185f1c07",
   "metadata": {},
   "source": [
    "- Let's also define a helper function that will let us quickly define a new model so we can experiment later on"
   ]
  },
  {
   "cell_type": "code",
   "execution_count": 3,
   "id": "7118b70d",
   "metadata": {},
   "outputs": [],
   "source": [
    "def build_model():\n",
    "    # 1. define model\n",
    "    model = tf.keras.models.Sequential([\n",
    "      tf.keras.layers.Flatten(input_shape=(28, 28)),\n",
    "      tf.keras.layers.Dense(128, activation='relu'),\n",
    "      tf.keras.layers.Dense(10, activation=\"softmax\")\n",
    "    ])\n",
    "\n",
    "    # 2 compile model (choose optimizer and loss)\n",
    "    model.compile(\n",
    "        optimizer=tf.keras.optimizers.RMSprop(),\n",
    "        loss=tf.keras.losses.SparseCategoricalCrossentropy(),\n",
    "        metrics=[tf.keras.metrics.SparseCategoricalAccuracy()],\n",
    "    )\n",
    "    return model\n",
    "\n",
    "model = build_model()"
   ]
  },
  {
   "cell_type": "markdown",
   "id": "f11eb8c9",
   "metadata": {},
   "source": [
    "## Arguments to`.fit`\n",
    "\n",
    "- Keras is a very powerful and flexible framework\n",
    "- This is necessary to handle the breadth of ML tasks the modern researcher has to perform\n",
    "- A lot of the flexibility is in the fit method\n",
    "    - `batch_size`\n",
    "    - `class_weight` and `sample_weight` for imbalanced datasets\n",
    "    - `initial_epoch` to continue training\n",
    "    - `validation_split` if we want keras to split for us\n",
    "    \n",
    "Reference: https://www.tensorflow.org/guide/keras/customizing_what_happens_in_fitReference: https://www.tensorflow.org/guide/keras/customizing_what_happens_in_fit"
   ]
  },
  {
   "cell_type": "markdown",
   "id": "6e294795",
   "metadata": {},
   "source": [
    "## Tensorboard\n",
    "\n",
    "- On large problems (either in number of observations or size of network), training can take a very long time\n",
    "- Sometimes it is helpful to be able to monitor the progress of training\n",
    "- Tensorflow has a built-in feature called tensorboard that allows you to see a live dashboard of training as it is happening"
   ]
  },
  {
   "cell_type": "markdown",
   "id": "e5647a8b",
   "metadata": {},
   "source": [
    "### Tensorboard with Keras\n",
    "\n",
    "- When using keras, it is very easy to integrate tensorboard\n",
    "- There are three main concepts:\n",
    "    1. Choose a directory for keras to write \"logs\"\n",
    "    2. Set up the tensorboard callback for the `.fit` method\n",
    "    3. Start tensorboard and point it at logs directory\n"
   ]
  },
  {
   "cell_type": "markdown",
   "id": "0a25b21a",
   "metadata": {},
   "source": [
    "We'll start the training below and load up tensorboard at the same time\n",
    "\n",
    "> Note: there is much more you can do with tensorboard... we are only covering the basics. Check out their [docs](https://www.tensorflow.org/tensorboard) for more ideas and details"
   ]
  },
  {
   "cell_type": "code",
   "execution_count": 4,
   "id": "f3035728",
   "metadata": {},
   "outputs": [
    {
     "name": "stdout",
     "output_type": "stream",
     "text": [
      "Epoch 1/30\n",
      "1875/1875 [==============================] - 11s 5ms/step - loss: 0.5071 - sparse_categorical_accuracy: 0.8207 - val_loss: 0.4375 - val_sparse_categorical_accuracy: 0.8460\n",
      "Epoch 2/30\n",
      "1875/1875 [==============================] - 10s 5ms/step - loss: 0.3785 - sparse_categorical_accuracy: 0.8652 - val_loss: 0.3837 - val_sparse_categorical_accuracy: 0.8641\n",
      "Epoch 3/30\n",
      "1875/1875 [==============================] - 7s 4ms/step - loss: 0.3451 - sparse_categorical_accuracy: 0.8773 - val_loss: 0.3898 - val_sparse_categorical_accuracy: 0.8683\n",
      "Epoch 4/30\n",
      "1875/1875 [==============================] - 6s 3ms/step - loss: 0.3281 - sparse_categorical_accuracy: 0.8826 - val_loss: 0.4148 - val_sparse_categorical_accuracy: 0.8620\n",
      "Epoch 5/30\n",
      "1875/1875 [==============================] - 5s 3ms/step - loss: 0.3157 - sparse_categorical_accuracy: 0.8889 - val_loss: 0.3745 - val_sparse_categorical_accuracy: 0.8737\n",
      "Epoch 6/30\n",
      "1875/1875 [==============================] - 5s 3ms/step - loss: 0.3079 - sparse_categorical_accuracy: 0.8917 - val_loss: 0.4556 - val_sparse_categorical_accuracy: 0.8515\n",
      "Epoch 7/30\n",
      "1875/1875 [==============================] - 5s 3ms/step - loss: 0.3001 - sparse_categorical_accuracy: 0.8961 - val_loss: 0.3853 - val_sparse_categorical_accuracy: 0.8765\n",
      "Epoch 8/30\n",
      "1875/1875 [==============================] - 5s 2ms/step - loss: 0.2929 - sparse_categorical_accuracy: 0.8979 - val_loss: 0.3993 - val_sparse_categorical_accuracy: 0.8752\n",
      "Epoch 9/30\n",
      "1875/1875 [==============================] - 5s 2ms/step - loss: 0.2887 - sparse_categorical_accuracy: 0.9011 - val_loss: 0.4287 - val_sparse_categorical_accuracy: 0.8728\n",
      "Epoch 10/30\n",
      "1875/1875 [==============================] - 6s 3ms/step - loss: 0.2809 - sparse_categorical_accuracy: 0.9034 - val_loss: 0.4252 - val_sparse_categorical_accuracy: 0.8687\n",
      "Epoch 11/30\n",
      "1875/1875 [==============================] - 10s 5ms/step - loss: 0.2733 - sparse_categorical_accuracy: 0.9075 - val_loss: 0.4147 - val_sparse_categorical_accuracy: 0.8747\n",
      "Epoch 12/30\n",
      "1875/1875 [==============================] - 7s 4ms/step - loss: 0.2688 - sparse_categorical_accuracy: 0.9077 - val_loss: 0.4708 - val_sparse_categorical_accuracy: 0.8639\n",
      "Epoch 13/30\n",
      "1875/1875 [==============================] - 7s 4ms/step - loss: 0.2639 - sparse_categorical_accuracy: 0.9105 - val_loss: 0.4092 - val_sparse_categorical_accuracy: 0.8807\n",
      "Epoch 14/30\n",
      "1875/1875 [==============================] - 7s 4ms/step - loss: 0.2595 - sparse_categorical_accuracy: 0.9127 - val_loss: 0.4623 - val_sparse_categorical_accuracy: 0.8750\n",
      "Epoch 15/30\n",
      "1875/1875 [==============================] - 8s 4ms/step - loss: 0.2594 - sparse_categorical_accuracy: 0.9135 - val_loss: 0.4558 - val_sparse_categorical_accuracy: 0.8746\n",
      "Epoch 16/30\n",
      "1875/1875 [==============================] - 7s 4ms/step - loss: 0.2509 - sparse_categorical_accuracy: 0.9165 - val_loss: 0.4874 - val_sparse_categorical_accuracy: 0.8688\n",
      "Epoch 17/30\n",
      "1875/1875 [==============================] - 7s 4ms/step - loss: 0.2497 - sparse_categorical_accuracy: 0.9164 - val_loss: 0.4631 - val_sparse_categorical_accuracy: 0.8740\n",
      "Epoch 18/30\n",
      "1875/1875 [==============================] - 8s 4ms/step - loss: 0.2447 - sparse_categorical_accuracy: 0.9182 - val_loss: 0.4702 - val_sparse_categorical_accuracy: 0.8778\n",
      "Epoch 19/30\n",
      "1875/1875 [==============================] - 9s 5ms/step - loss: 0.2426 - sparse_categorical_accuracy: 0.9193 - val_loss: 0.4913 - val_sparse_categorical_accuracy: 0.8765\n",
      "Epoch 20/30\n",
      "1875/1875 [==============================] - 12s 6ms/step - loss: 0.2369 - sparse_categorical_accuracy: 0.9208 - val_loss: 0.4727 - val_sparse_categorical_accuracy: 0.8807\n",
      "Epoch 21/30\n",
      "1875/1875 [==============================] - 6s 3ms/step - loss: 0.2346 - sparse_categorical_accuracy: 0.9224 - val_loss: 0.5371 - val_sparse_categorical_accuracy: 0.8778\n",
      "Epoch 22/30\n",
      "1875/1875 [==============================] - 5s 2ms/step - loss: 0.2314 - sparse_categorical_accuracy: 0.9245 - val_loss: 0.4897 - val_sparse_categorical_accuracy: 0.8778\n",
      "Epoch 23/30\n",
      "1875/1875 [==============================] - 6s 3ms/step - loss: 0.2293 - sparse_categorical_accuracy: 0.9250 - val_loss: 0.5150 - val_sparse_categorical_accuracy: 0.8779\n",
      "Epoch 24/30\n",
      "1875/1875 [==============================] - 6s 3ms/step - loss: 0.2265 - sparse_categorical_accuracy: 0.9256 - val_loss: 0.4991 - val_sparse_categorical_accuracy: 0.8848\n",
      "Epoch 25/30\n",
      "1875/1875 [==============================] - 4s 2ms/step - loss: 0.2227 - sparse_categorical_accuracy: 0.9268 - val_loss: 0.5695 - val_sparse_categorical_accuracy: 0.8738\n",
      "Epoch 26/30\n",
      "1875/1875 [==============================] - 4s 2ms/step - loss: 0.2184 - sparse_categorical_accuracy: 0.9292 - val_loss: 0.5648 - val_sparse_categorical_accuracy: 0.8725\n",
      "Epoch 27/30\n",
      "1875/1875 [==============================] - 4s 2ms/step - loss: 0.2150 - sparse_categorical_accuracy: 0.9296 - val_loss: 0.5735 - val_sparse_categorical_accuracy: 0.8767\n",
      "Epoch 28/30\n",
      "1875/1875 [==============================] - 4s 2ms/step - loss: 0.2159 - sparse_categorical_accuracy: 0.9317 - val_loss: 0.5871 - val_sparse_categorical_accuracy: 0.8756\n",
      "Epoch 29/30\n",
      "1875/1875 [==============================] - 4s 2ms/step - loss: 0.2117 - sparse_categorical_accuracy: 0.9313 - val_loss: 0.5661 - val_sparse_categorical_accuracy: 0.8835\n",
      "Epoch 30/30\n",
      "1875/1875 [==============================] - 4s 2ms/step - loss: 0.2105 - sparse_categorical_accuracy: 0.9327 - val_loss: 0.6094 - val_sparse_categorical_accuracy: 0.8772\n"
     ]
    },
    {
     "data": {
      "text/plain": [
       "<keras.callbacks.History at 0x7ff130ac4ee0>"
      ]
     },
     "execution_count": 4,
     "metadata": {},
     "output_type": "execute_result"
    }
   ],
   "source": [
    "# step 1, choose logs directory\n",
    "import datetime\n",
    "timestamp = datetime.datetime.now().strftime(\"%Y-%m-%d-%H_%M\")\n",
    "log_dir = \"fashion_mnist_logs/fit/{}\".format(timestamp)\n",
    "\n",
    "# step 2. set up callback\n",
    "tensorboard_callback = tf.keras.callbacks.TensorBoard(log_dir=log_dir, histogram_freq=1)\n",
    "\n",
    "# step 3. fit model\n",
    "model.fit(x=x_train, \n",
    "          y=y_train, \n",
    "          epochs=30, \n",
    "          validation_data=(x_test, y_test), \n",
    "          callbacks=[tensorboard_callback])"
   ]
  },
  {
   "cell_type": "markdown",
   "id": "aca3c9bc",
   "metadata": {},
   "source": [
    "## Using our models \n",
    "\n",
    "- Now that we have fit our model, let's use it!"
   ]
  },
  {
   "cell_type": "markdown",
   "id": "94be9843",
   "metadata": {},
   "source": [
    "### Prediction (inference)\n",
    "\n",
    "- We can predict the label for new images using the `.predict` method\n",
    "- Using a trained model to make a prediction is called prediction, or sometimes by the deep learning community \"inference\""
   ]
  },
  {
   "cell_type": "code",
   "execution_count": 5,
   "id": "9eddb186",
   "metadata": {},
   "outputs": [
    {
     "data": {
      "text/plain": [
       "array([[7.0723240e-13, 1.0000000e+00, 9.4608033e-24, 1.0103242e-11,\n",
       "        1.9663989e-24, 1.0154721e-31, 2.7607355e-19, 0.0000000e+00,\n",
       "        2.0640438e-29, 3.7758777e-29]], dtype=float32)"
      ]
     },
     "execution_count": 5,
     "metadata": {},
     "output_type": "execute_result"
    }
   ],
   "source": [
    "model.predict(x_test[3:4])"
   ]
  },
  {
   "cell_type": "markdown",
   "id": "2a13988a",
   "metadata": {},
   "source": [
    "- In this case the model seems very confident that the correct label is `1`\n",
    "- From the table above, the label `1` corresponds to \"Trouser\"\n",
    "- Let's see what the image looked like and what the true label is"
   ]
  },
  {
   "cell_type": "code",
   "execution_count": 6,
   "id": "d15d0121",
   "metadata": {},
   "outputs": [
    {
     "name": "stdout",
     "output_type": "stream",
     "text": [
      "1\n"
     ]
    },
    {
     "data": {
      "image/png": "[encoded data removed]",
      "text/plain": [
       "<Figure size 432x288 with 1 Axes>"
      ]
     },
     "metadata": {
      "needs_background": "light"
     },
     "output_type": "display_data"
    }
   ],
   "source": [
    "plt.imshow(x_test[3])\n",
    "print(y_test[3])"
   ]
  },
  {
   "cell_type": "markdown",
   "id": "706dddf3",
   "metadata": {},
   "source": [
    "- Sure enough -- looks like pants and that's what the target was"
   ]
  },
  {
   "cell_type": "markdown",
   "id": "a2286b11",
   "metadata": {},
   "source": [
    "### Saving and Loading Models\n",
    "\n",
    "- When using a machine learning in practice, we often need to train it in one python Session and use it somewhere else\n",
    "- This will require that we can effectively save and load a model to a hard disk\n",
    "- The `model.save` function will do just this"
   ]
  },
  {
   "cell_type": "code",
   "execution_count": 7,
   "id": "d1273d69",
   "metadata": {},
   "outputs": [
    {
     "name": "stdout",
     "output_type": "stream",
     "text": [
      "01_backprop.ipynb            \u001b[34mfashion_mnist_logs\u001b[m\u001b[m\n",
      "02_training_with_keras.ipynb\n"
     ]
    }
   ],
   "source": [
    "!ls"
   ]
  },
  {
   "cell_type": "code",
   "execution_count": 8,
   "id": "874e16d9",
   "metadata": {},
   "outputs": [
    {
     "name": "stdout",
     "output_type": "stream",
     "text": [
      "01_backprop.ipynb            \u001b[34mfashion_mnist_logs\u001b[m\u001b[m\n",
      "02_training_with_keras.ipynb fashion_mnist_model.h5\n"
     ]
    }
   ],
   "source": [
    "model.save(\"fashion_mnist_model.h5\")\n",
    "!ls"
   ]
  },
  {
   "cell_type": "code",
   "execution_count": 9,
   "id": "eadf60a1",
   "metadata": {},
   "outputs": [],
   "source": [
    "loaded_model = keras.models.load_model(\"fashion_mnist_model.h5\")"
   ]
  },
  {
   "cell_type": "code",
   "execution_count": 10,
   "id": "29bc4d0e",
   "metadata": {},
   "outputs": [
    {
     "data": {
      "text/plain": [
       "array([[7.0723240e-13, 1.0000000e+00, 9.4608033e-24, 1.0103242e-11,\n",
       "        1.9663989e-24, 1.0154721e-31, 2.7607355e-19, 0.0000000e+00,\n",
       "        2.0640438e-29, 3.7758777e-29]], dtype=float32)"
      ]
     },
     "execution_count": 10,
     "metadata": {},
     "output_type": "execute_result"
    }
   ],
   "source": [
    "loaded_model.predict(x_test[3:4])"
   ]
  },
  {
   "cell_type": "markdown",
   "id": "41ff4adf",
   "metadata": {},
   "source": [
    "## Transfer Learning\n",
    "\n",
    "- There are a few sub-problems in ML that are very well studied\n",
    "- You might even say they are mostly \"solved\"\n",
    "- One of this is image recognition -- we'll focus on this subproblem for the next few minutes\n",
    "- Question: can we leverage models trained on one dataset for prediction on another?"
   ]
  },
  {
   "cell_type": "markdown",
   "id": "9e1217dd",
   "metadata": {},
   "source": [
    "### Network Intuitions\n",
    "\n",
    "- Because of the nested functions and many parameters, it is difficult to tell exactly why a neural network does what it does\n",
    "- It is somewhat of a \"black box\"\n",
    "- However, some work has been done to support a hypothesis that a network works as follows:\n",
    "    - Early layers in the network learn basic features: e.g. how to recognize a line, how to find the color red\n",
    "    - Subsequent layers know how to combine multiple basic features: a red line, or two lines that intersect at a right angle\n",
    "    - Later layers in the network combine the more advanced features into sophisticated representations: a long straight line with a red-eight sided polygon on top of it (a US stop sign)"
   ]
  },
  {
   "cell_type": "markdown",
   "id": "ee085c0e",
   "metadata": {},
   "source": [
    "### Transfer Learning\n",
    "\n",
    "- Because early layers find general features that appear in most images, the weights/biases they learn can be useful across problem domains:\n",
    "    - Dogs vs cats\n",
    "    - Digits\n",
    "    - Find your friends in a photo\n",
    "- Later layers use these generally applicable learned representations to tailor predictions to a task\n",
    "- This is the idea behind transfer learning: use an expertly crafted and trained neural network for your own task (even if it was trained for a different task of the same type)"
   ]
  },
  {
   "cell_type": "markdown",
   "id": "3cc82239",
   "metadata": {},
   "source": [
    "### Example: MobileNet\n",
    "\n",
    "- Typically, models that achieve state of the art performance are given names\n",
    "- One such model is called `MobileNet`\n",
    "- This model is famous because it has excellent performance, but is relatively small (compared to other modern neural networks) and thus applicable for mobile devices\n",
    "- Let's apply `MobileNet` on our Fashion MNIST example"
   ]
  },
  {
   "cell_type": "markdown",
   "id": "db063930",
   "metadata": {},
   "source": [
    "#### Transfer learning strategy\n",
    "\n",
    "1. Define the shape of our data (28, 28, 1) -- necessary b/c MobileNet was trained images of a different size\n",
    "2. Load model, without final layer for predictions. Freeze all weights\n",
    "3. Add a `Dense(10)` layer to end of network for our problem\n",
    "4. Train our layer\n",
    "\n",
    "> Note: don't focus on code here -- just focus on the fact that this is possible. It is pretty incredible!"
   ]
  },
  {
   "cell_type": "code",
   "execution_count": 11,
   "id": "477a9d37",
   "metadata": {},
   "outputs": [
    {
     "name": "stdout",
     "output_type": "stream",
     "text": [
      "WARNING:tensorflow:`input_shape` is undefined or non-square, or `rows` is not in [96, 128, 160, 192, 224]. Weights for input shape (224, 224) will be loaded as the default.\n",
      "Downloading data from https://storage.googleapis.com/tensorflow/keras-applications/mobilenet_v2/mobilenet_v2_weights_tf_dim_ordering_tf_kernels_1.0_224_no_top.h5\n",
      "9412608/9406464 [==============================] - 1s 0us/step\n",
      "9420800/9406464 [==============================] - 1s 0us/step\n"
     ]
    }
   ],
   "source": [
    "# step 1. define shapes\n",
    "input_image = keras.layers.Input(shape=(28, 28, 3))\n",
    "resized_image = keras.layers.Lambda(lambda image: keras.backend.resize_images(x=image, height_factor=2, width_factor=2, data_format='channels_last'))(input_image)\n",
    "\n",
    "# step 2. load model. set weights to fixed\n",
    "base_model = keras.applications.mobilenet_v2.MobileNetV2(weights='imagenet', include_top=False, input_tensor=resized_image)\n",
    "\n",
    "# don't change parameters of the MobileNet model\n",
    "base_model.trainable = False\n",
    "\n",
    "# step 3. add some layers\n",
    "x = base_model.output\n",
    "x = keras.layers.Dropout(0.5)(x)\n",
    "x = keras.layers.GlobalAveragePooling2D()(x)\n",
    "predictions = keras.layers.Dense(10, activation='softmax')(x)\n",
    "\n",
    "# build model\n",
    "transfer_model = keras.models.Model(inputs=base_model.input, outputs=predictions)"
   ]
  },
  {
   "cell_type": "code",
   "execution_count": 12,
   "id": "f88747ee",
   "metadata": {},
   "outputs": [
    {
     "name": "stdout",
     "output_type": "stream",
     "text": [
      "Epoch 1/30\n",
      "1875/1875 [==============================] - 218s 113ms/step - loss: 0.5604 - sparse_categorical_accuracy: 0.8110 - val_loss: 0.4467 - val_sparse_categorical_accuracy: 0.8495\n",
      "Epoch 2/30\n",
      "1875/1875 [==============================] - 172s 92ms/step - loss: 0.4662 - sparse_categorical_accuracy: 0.8475 - val_loss: 0.4607 - val_sparse_categorical_accuracy: 0.8548\n",
      "Epoch 3/30\n",
      "1875/1875 [==============================] - 182s 97ms/step - loss: 0.4685 - sparse_categorical_accuracy: 0.8504 - val_loss: 0.4510 - val_sparse_categorical_accuracy: 0.8583\n",
      "Epoch 4/30\n",
      "1875/1875 [==============================] - 256s 136ms/step - loss: 0.4689 - sparse_categorical_accuracy: 0.8540 - val_loss: 0.4585 - val_sparse_categorical_accuracy: 0.8605\n",
      "Epoch 5/30\n",
      "1875/1875 [==============================] - 181s 96ms/step - loss: 0.4710 - sparse_categorical_accuracy: 0.8556 - val_loss: 0.4893 - val_sparse_categorical_accuracy: 0.8527\n",
      "Epoch 6/30\n",
      "1875/1875 [==============================] - 202s 108ms/step - loss: 0.4795 - sparse_categorical_accuracy: 0.8550 - val_loss: 0.4778 - val_sparse_categorical_accuracy: 0.8638\n",
      "Epoch 7/30\n",
      "1875/1875 [==============================] - 206s 110ms/step - loss: 0.4825 - sparse_categorical_accuracy: 0.8561 - val_loss: 0.4838 - val_sparse_categorical_accuracy: 0.8601\n",
      "Epoch 8/30\n",
      "1875/1875 [==============================] - 201s 107ms/step - loss: 0.4866 - sparse_categorical_accuracy: 0.8564 - val_loss: 0.4961 - val_sparse_categorical_accuracy: 0.8607\n",
      "Epoch 9/30\n",
      "1875/1875 [==============================] - 183s 98ms/step - loss: 0.4893 - sparse_categorical_accuracy: 0.8581 - val_loss: 0.5060 - val_sparse_categorical_accuracy: 0.8585\n",
      "Epoch 10/30\n",
      "1875/1875 [==============================] - 214s 114ms/step - loss: 0.5001 - sparse_categorical_accuracy: 0.8568 - val_loss: 0.5046 - val_sparse_categorical_accuracy: 0.8632\n",
      "Epoch 11/30\n",
      "1875/1875 [==============================] - 202s 108ms/step - loss: 0.5014 - sparse_categorical_accuracy: 0.8561 - val_loss: 0.5185 - val_sparse_categorical_accuracy: 0.8600\n",
      "Epoch 12/30\n",
      "1875/1875 [==============================] - 205s 109ms/step - loss: 0.5075 - sparse_categorical_accuracy: 0.8569 - val_loss: 0.5211 - val_sparse_categorical_accuracy: 0.8589\n",
      "Epoch 13/30\n",
      "1875/1875 [==============================] - 207s 110ms/step - loss: 0.5105 - sparse_categorical_accuracy: 0.8582 - val_loss: 0.5322 - val_sparse_categorical_accuracy: 0.8584\n",
      "Epoch 14/30\n",
      "1875/1875 [==============================] - 167s 89ms/step - loss: 0.5097 - sparse_categorical_accuracy: 0.8583 - val_loss: 0.5380 - val_sparse_categorical_accuracy: 0.8624\n",
      "Epoch 15/30\n",
      "1875/1875 [==============================] - 173s 92ms/step - loss: 0.5165 - sparse_categorical_accuracy: 0.8588 - val_loss: 0.5540 - val_sparse_categorical_accuracy: 0.8573\n",
      "Epoch 16/30\n",
      "1875/1875 [==============================] - 167s 89ms/step - loss: 0.5194 - sparse_categorical_accuracy: 0.8572 - val_loss: 0.5471 - val_sparse_categorical_accuracy: 0.8619\n",
      "Epoch 17/30\n",
      "1875/1875 [==============================] - 185s 98ms/step - loss: 0.5271 - sparse_categorical_accuracy: 0.8567 - val_loss: 0.5521 - val_sparse_categorical_accuracy: 0.8615\n",
      "Epoch 18/30\n",
      "1875/1875 [==============================] - 213s 113ms/step - loss: 0.5236 - sparse_categorical_accuracy: 0.8578 - val_loss: 0.5646 - val_sparse_categorical_accuracy: 0.8568\n",
      "Epoch 19/30\n",
      "1875/1875 [==============================] - 205s 109ms/step - loss: 0.5319 - sparse_categorical_accuracy: 0.8571 - val_loss: 0.5644 - val_sparse_categorical_accuracy: 0.8620\n",
      "Epoch 20/30\n",
      "1875/1875 [==============================] - 262s 140ms/step - loss: 0.5369 - sparse_categorical_accuracy: 0.8565 - val_loss: 0.5846 - val_sparse_categorical_accuracy: 0.8555\n",
      "Epoch 21/30\n",
      "1875/1875 [==============================] - 215s 115ms/step - loss: 0.5396 - sparse_categorical_accuracy: 0.8575 - val_loss: 0.5830 - val_sparse_categorical_accuracy: 0.8574\n",
      "Epoch 22/30\n",
      "1875/1875 [==============================] - 185s 98ms/step - loss: 0.5431 - sparse_categorical_accuracy: 0.8582 - val_loss: 0.5802 - val_sparse_categorical_accuracy: 0.8602\n",
      "Epoch 23/30\n",
      "1875/1875 [==============================] - 173s 92ms/step - loss: 0.5443 - sparse_categorical_accuracy: 0.8572 - val_loss: 0.6021 - val_sparse_categorical_accuracy: 0.8532\n",
      "Epoch 24/30\n",
      "1875/1875 [==============================] - 196s 105ms/step - loss: 0.5433 - sparse_categorical_accuracy: 0.8571 - val_loss: 0.5816 - val_sparse_categorical_accuracy: 0.8621\n",
      "Epoch 25/30\n",
      "1875/1875 [==============================] - 213s 114ms/step - loss: 0.5494 - sparse_categorical_accuracy: 0.8579 - val_loss: 0.6094 - val_sparse_categorical_accuracy: 0.8513\n",
      "Epoch 26/30\n",
      "1875/1875 [==============================] - 211s 112ms/step - loss: 0.5588 - sparse_categorical_accuracy: 0.8585 - val_loss: 0.5866 - val_sparse_categorical_accuracy: 0.8606\n",
      "Epoch 27/30\n",
      "1875/1875 [==============================] - 240s 128ms/step - loss: 0.5577 - sparse_categorical_accuracy: 0.8599 - val_loss: 0.5942 - val_sparse_categorical_accuracy: 0.8602\n",
      "Epoch 28/30\n",
      "1875/1875 [==============================] - 300s 160ms/step - loss: 0.5538 - sparse_categorical_accuracy: 0.8589 - val_loss: 0.6203 - val_sparse_categorical_accuracy: 0.8598\n",
      "Epoch 29/30\n",
      "1875/1875 [==============================] - 334s 178ms/step - loss: 0.5556 - sparse_categorical_accuracy: 0.8587 - val_loss: 0.6075 - val_sparse_categorical_accuracy: 0.8593\n",
      "Epoch 30/30\n",
      "1875/1875 [==============================] - 300s 160ms/step - loss: 0.5676 - sparse_categorical_accuracy: 0.8579 - val_loss: 0.6114 - val_sparse_categorical_accuracy: 0.8578\n"
     ]
    }
   ],
   "source": [
    "# step 4. fit our layers\n",
    "transfer_model.compile(\n",
    "    optimizer='rmsprop', \n",
    "    loss='sparse_categorical_crossentropy', \n",
    "    metrics=[tf.keras.metrics.SparseCategoricalAccuracy()]\n",
    ")\n",
    "\n",
    "log_dir = \"fashion_mnist_logs/mobilenet/fit/{}\".format(timestamp)\n",
    "\n",
    "# step 2. set up callback\n",
    "tensorboard_callback = tf.keras.callbacks.TensorBoard(log_dir=log_dir, histogram_freq=1)\n",
    "\n",
    "\n",
    "transfer_history = transfer_model.fit(\n",
    "    np.repeat(x_train, 3, -1), y_train, \n",
    "    epochs=30, \n",
    "    validation_data=(np.repeat(x_test, 3, -1), y_test),\n",
    "    callbacks=[tensorboard_callback]\n",
    ")"
   ]
  },
  {
   "cell_type": "code",
   "execution_count": null,
   "id": "54d8e8ea",
   "metadata": {},
   "outputs": [],
   "source": []
  }
 ],
 "metadata": {
  "interpreter": {
   "hash": "31582b9feba862c420bc95ad7fac43fb721c474490d1710b4e50ac63470f9531"
  },
  "kernelspec": {
   "display_name": "css",
   "language": "python",
   "name": "python3"
  },
  "language_info": {
   "codemirror_mode": {
    "name": "ipython",
    "version": 3
   },
   "file_extension": ".py",
   "mimetype": "text/x-python",
   "name": "python",
   "nbconvert_exporter": "python",
   "pygments_lexer": "ipython3",
   "version": "3.8.8"
  }
 },
 "nbformat": 4,
 "nbformat_minor": 5
}
