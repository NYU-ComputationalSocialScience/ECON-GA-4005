{
 "cells": [
  {
   "cell_type": "markdown",
   "metadata": {
    "slideshow": {
     "slide_type": "slide"
    }
   },
   "source": [
    "# Linear Models I\n",
    "\n",
    "**Prerequisites**\n",
    "\n",
    "- Linear Algebra\n",
    "- Calculus\n",
    "\n",
    "\n",
    "**Outcomes**\n",
    "\n",
    "- Understand landscape of ML problems\n",
    "- Know difference between regression and classification settings\n",
    "- Be able to apply linear regression for regression and logisitc regression for classification\n",
    "    - Using `statsmodels` and `scikit-learn`"
   ]
  },
  {
   "cell_type": "code",
   "execution_count": 2,
   "metadata": {},
   "outputs": [
    {
     "name": "stdout",
     "output_type": "stream",
     "text": [
      "Requirement already satisfied: numpy in /Users/fabrizio/opt/anaconda3/lib/python3.8/site-packages (1.22.1)\n",
      "\u001b[33mWARNING: You are using pip version 21.3.1; however, version 22.0.2 is available.\n",
      "You should consider upgrading via the '/Users/fabrizio/opt/anaconda3/bin/python -m pip install --upgrade pip' command.\u001b[0m\n",
      "Note: you may need to restart the kernel to use updated packages.\n"
     ]
    }
   ],
   "source": [
    "pip install numpy"
   ]
  },
  {
   "cell_type": "code",
   "execution_count": 3,
   "metadata": {},
   "outputs": [
    {
     "name": "stdout",
     "output_type": "stream",
     "text": [
      "Requirement already satisfied: pandas in /Users/fabrizio/opt/anaconda3/lib/python3.8/site-packages (1.2.4)\n",
      "Requirement already satisfied: python-dateutil>=2.7.3 in /Users/fabrizio/opt/anaconda3/lib/python3.8/site-packages (from pandas) (2.8.1)\n",
      "Requirement already satisfied: pytz>=2017.3 in /Users/fabrizio/opt/anaconda3/lib/python3.8/site-packages (from pandas) (2021.1)\n",
      "Requirement already satisfied: numpy>=1.16.5 in /Users/fabrizio/opt/anaconda3/lib/python3.8/site-packages (from pandas) (1.22.1)\n",
      "Requirement already satisfied: six>=1.5 in /Users/fabrizio/opt/anaconda3/lib/python3.8/site-packages (from python-dateutil>=2.7.3->pandas) (1.15.0)\n",
      "\u001b[33mWARNING: You are using pip version 21.3.1; however, version 22.0.2 is available.\n",
      "You should consider upgrading via the '/Users/fabrizio/opt/anaconda3/bin/python -m pip install --upgrade pip' command.\u001b[0m\n",
      "Note: you may need to restart the kernel to use updated packages.\n"
     ]
    }
   ],
   "source": [
    "pip install pandas"
   ]
  },
  {
   "cell_type": "code",
   "execution_count": 4,
   "metadata": {
    "collapsed": false,
    "jupyter": {
     "outputs_hidden": false
    },
    "slideshow": {
     "slide_type": "subslide"
    }
   },
   "outputs": [],
   "source": [
    "import numpy as np\n",
    "import matplotlib.pyplot as plt\n",
    "import pandas as pd\n",
    "import statsmodels.formula.api as smf\n",
    "plt.style.use('seaborn')"
   ]
  },
  {
   "cell_type": "markdown",
   "metadata": {
    "slideshow": {
     "slide_type": "slide"
    }
   },
   "source": [
    "## ML Paradigms\n",
    "\n",
    "ML problems can be grouped into three broad categories\n",
    "\n",
    "The categorization of a problem depends on the type of task to be performed"
   ]
  },
  {
   "cell_type": "markdown",
   "metadata": {
    "slideshow": {
     "slide_type": "subslide"
    }
   },
   "source": [
    "### Supervised Learning\n",
    "\n",
    "\n",
    "\n",
    "-   Learn to map features to targets (labels)\n",
    "-   Two main subtasks:\n",
    "    1.  Regression: targets are continuous $\\mathbb{Y} \\subseteq \\mathbb{R}^N$\n",
    "    2.  Classification: targets in discrete space $\\mathbb{Y} \\subseteq \\mathbb{N}^N$\n",
    "    \n",
    "    \n",
    "> More detail to come today..."
   ]
  },
  {
   "cell_type": "markdown",
   "metadata": {
    "slideshow": {
     "slide_type": "subslide"
    }
   },
   "source": [
    "### Unsupervised Learning\n",
    "\n",
    "\n",
    "\n",
    "-   Discover structure without labels\n",
    "-   Many types of subtasks, including:\n",
    "    -   Clustering\n",
    "    -   Dimensionality reduction\n",
    "    -   Compression\n",
    "    \n",
    "> Not for today"
   ]
  },
  {
   "cell_type": "markdown",
   "metadata": {
    "slideshow": {
     "slide_type": "subslide"
    }
   },
   "source": [
    "### Reinforcement learning\n",
    "\n",
    "\n",
    "\n",
    "-   Main problem: agent (algorithm) learns to behave optimally through trial\n",
    "    and error\n",
    "-   Agent observes state $s \\in \\mathbb{S}$, takes an action $a \\in \\mathbb{A}(s)$, observes a reward $r \\in \\mathbb{R}$ and new state $s'\\in\\mathbb{S}$\n",
    "-   Goal is to maximize (discounted) sum of all rewards in potentially\n",
    "    infinite episode\n",
    "\n",
    "> Also not for today"
   ]
  },
  {
   "cell_type": "markdown",
   "metadata": {
    "slideshow": {
     "slide_type": "slide"
    }
   },
   "source": [
    "## Supervised Learning\n",
    "\n",
    "-   One of the most common ML tasks\n",
    "-   Based on available data, learn relationships between variables\n",
    "-   Alternatively: learn a mapping from an input (feature) space to an\n",
    "    output space\n",
    "\n",
    "![Simple Linear Regression](https://css-materials.s3.amazonaws.com/ML/linear_models_1/supervised_learning.png)"
   ]
  },
  {
   "cell_type": "markdown",
   "metadata": {
    "slideshow": {
     "slide_type": "subslide"
    }
   },
   "source": [
    "### Some Examples\n",
    "\n",
    "-   Predicting gross income of yet-to-be-released movie\n",
    "-   Real estate pricing prediction\n",
    "-   Any time series forecasting problem\n",
    "-   Predicting wage based on demographic and educational features\n",
    "-   Identifying faces in a photo\n",
    "-   Predicting likelihood of default on a loan based on lender characteristics"
   ]
  },
  {
   "cell_type": "markdown",
   "metadata": {
    "slideshow": {
     "slide_type": "subslide"
    }
   },
   "source": [
    "### Supervised Learning: Data\n",
    "\n",
    "- Features or inputs: $\\mathbb{X} \\subseteq \\mathbb{R}^N$\n",
    "    - Might require transformations\n",
    "    - Images are matrix of RGB triplets\n",
    "    - Text can be tokenized where each word is assigned an integer\n",
    "    "
   ]
  },
  {
   "cell_type": "markdown",
   "metadata": {
    "slideshow": {
     "slide_type": "fragment"
    }
   },
   "source": [
    "- Output space $\\mathbb{Y} \\subseteq \\mathbb{R}^M$ (regression) or $\\mathbb{Y} \\subseteq \\mathbb{N}^M$ (classification)\n",
    "    - Classification often requires transformation:\n",
    "        - Discrete categories (A, B, C, D, F) into numbers (1, 2, 3, 4, 5)\n",
    "        - Binary output is common: hot/cold, default/not default, win/lose, etc."
   ]
  },
  {
   "cell_type": "markdown",
   "metadata": {
    "slideshow": {
     "slide_type": "fragment"
    }
   },
   "source": [
    "- For now, assume $\\mathbb{Y} \\subseteq \\mathbb{R}$"
   ]
  },
  {
   "cell_type": "markdown",
   "metadata": {
    "slideshow": {
     "slide_type": "subslide"
    }
   },
   "source": [
    "### Supervised Learning: Model\n",
    "\n",
    "- Model: a family of functions indexed by a vector of parameters $\\theta$: $$\\hat{y} = f(x;\\theta)$$\n",
    "- Parameters $\\theta$ must be *learned*\n",
    "- Learning happens by examining a *loss function*\n",
    "    - Most common is **squared loss**: $$\\ell(y - \\hat{y}) = (y - \\hat{y})^2$$\n",
    "    - Sum of squared errors: $$SSE \\triangleq \\sum_{i=1}^N(y_i - \\hat{y}_i)^2$$\n",
    "    - Mean squared error (average loss): $$MSE(\\theta) = \\frac{1}{N} SSE$$"
   ]
  },
  {
   "cell_type": "markdown",
   "metadata": {
    "slideshow": {
     "slide_type": "subslide"
    }
   },
   "source": [
    "### Supervised Learning: Learning\n",
    "\n",
    "- Loss function: $$MSE(\\theta) = \\frac{1}{N} \\sum_{i=1}^N \\left(y_i \\hat{y}_i \\right)^2 = \\frac{1}{N} \\left\\| y - \\hat{y} \\right\\|^2$$\n",
    "- Learning algorithm\n",
    "    - Find $\\theta^*$ such that $\\hat{y}_i \\approx y_i$\n",
    "    - This is done by minimizing average training loss (or MSE) on training set\n",
    "    - Algorithm and approach should vary based on choice of loss function ($\\ell$) and model ($f$)\n",
    "- Prediction: $$\\hat{y}^* = f(x ; \\theta^*)$$"
   ]
  },
  {
   "cell_type": "markdown",
   "metadata": {
    "slideshow": {
     "slide_type": "subslide"
    }
   },
   "source": [
    "### Summary\n",
    "\n",
    "Ingredients to supervised learning:\n",
    "\n",
    "1. Cleaned/transformed data $(x_i, y_i)_{i=1}^N$\n",
    "2. Choice of model $\\hat{y} = f(x; \\theta)$\n",
    "3. Choice of loss function $\\ell(y, \\hat{y})$\n",
    "4. Strategy for updating parameters $\\theta$ to minimize $\\ell(y, \\hat{y})$"
   ]
  },
  {
   "cell_type": "markdown",
   "metadata": {
    "slideshow": {
     "slide_type": "slide"
    }
   },
   "source": [
    "## Linear Models\n",
    "\n",
    "We'll focus now on regression problems using linear models\n",
    "\n"
   ]
  },
  {
   "cell_type": "markdown",
   "metadata": {
    "slideshow": {
     "slide_type": "subslide"
    }
   },
   "source": [
    "### Linearity\n",
    "\n",
    "First, a reminder:\n",
    "\n",
    "- Let $a_1, a_2 \\in \\mathbb{R}$, $x, x_1, x_2 \\in \\mathbb{X}$, $\\theta, \\theta_1, \\theta_2 \\in \\mathbb{\\theta}$\n",
    "-   A function $f: \\mathbb{X} \\times \\mathbb{\\theta} \\rightarrow \\mathbb{R}^N $ is linear...\n",
    "    -   in data ($x$) if $f(a_1 \\mathbf{x}_1 + a_2 \\mathbf{x}_2 | \\theta) = a_1 f(\\mathbf{x}_1|\\theta) + a_2 f(\\mathbf{x}_2|\\theta)$ \n",
    "    -   in parameters ($\\theta$) if $f(\\mathbf{x}|a_1 \\theta_1 + a_2 \\theta_2) = a_1 f(\\mathbf{x}|\\theta_1) + a_2 f(\\mathbf{x}|\\theta_2)$\n",
    "-   Without loss of generality a linear function $f$ can be represented as a\n",
    "    matrix equation\n",
    "-   The following model is linear in both data and parameters: $$f(x;\\theta) = x^T \\theta$$\n"
   ]
  },
  {
   "cell_type": "markdown",
   "metadata": {
    "slideshow": {
     "slide_type": "slide"
    }
   },
   "source": [
    "### Simple Linear Regression\n",
    "\n",
    "- Spaces: $\\mathbb{Y}, \\mathbb{X}, \\mathbb{\\theta} \\subseteq \\mathbb{R}$\n",
    "- Model: $\\hat{y} = f(x; \\theta) = \\theta x$\n",
    "- Data: $(x, y)$ pairs"
   ]
  },
  {
   "cell_type": "markdown",
   "metadata": {
    "slideshow": {
     "slide_type": "subslide"
    }
   },
   "source": [
    "#### Setting: Graphically\n",
    "\n",
    "- Model: All straight lines that pass through the origin\n",
    "\n",
    "![Simple Linear Regression](https://css-materials.s3.amazonaws.com/ML/linear_models_1/simple_linreg.png)"
   ]
  },
  {
   "cell_type": "markdown",
   "metadata": {
    "slideshow": {
     "slide_type": "subslide"
    }
   },
   "source": [
    "### Average Training Loss\n",
    "\n",
    "- MSE on training set is \n",
    "\n",
    "\\begin{align*}\n",
    "    MSE(\\theta) & = \\frac{1}{N} \\sum_{i=1}^N \\left ( y_i - \\hat{y}_i \\right )^2 \\\\\n",
    "    &= \\frac{1}{N} \\sum_{i=1}^N \\left ( y_i - \\theta x_i \\right )^2 \\\\\n",
    "\\end{align*}"
   ]
  },
  {
   "cell_type": "markdown",
   "metadata": {
    "slideshow": {
     "slide_type": "fragment"
    }
   },
   "source": [
    "- To find $\\theta^* \\triangleq \\text{argmin}_\\theta MSE(\\theta)$, take derivative: \n",
    "\\begin{align*}\n",
    "\\frac{\\partial MSE}{\\partial \\theta} &= \\frac{2}{N} \\sum_{i=1}^N \\left(y_i - \\theta x_i \\right) x_i \\\\ \n",
    "&= \\frac{2}{N} \\left( x^T y - \\theta \\left\\|x\\right\\|^2\\right)\n",
    "\\end{align*}"
   ]
  },
  {
   "cell_type": "markdown",
   "metadata": {
    "slideshow": {
     "slide_type": "fragment"
    }
   },
   "source": [
    "- Set $= 0$ and solve for $\\theta$: $$\\theta^* = \\frac{x^T y}{\\left\\|x \\right\\|^2}$$"
   ]
  },
  {
   "cell_type": "markdown",
   "metadata": {
    "slideshow": {
     "slide_type": "subslide"
    }
   },
   "source": [
    "### Example\n",
    "\n",
    "- Source: Acemoglu, Johnson and Robinson, 2001 (AJR)\n",
    "- Setting\n",
    "    - Goal of authors is to measure institutional differences and economic outcomes\n",
    "- Output: (`logpgp95`) Log GDP per capita in 1995 (USD equivalent)\n",
    "- Input (`avexpr`): index of protection against expropriation on average over 1985-95"
   ]
  },
  {
   "cell_type": "code",
   "execution_count": 5,
   "metadata": {
    "collapsed": false,
    "jupyter": {
     "outputs_hidden": false
    },
    "slideshow": {
     "slide_type": "subslide"
    }
   },
   "outputs": [
    {
     "data": {
      "text/html": [
       "<div>\n",
       "<style scoped>\n",
       "    .dataframe tbody tr th:only-of-type {\n",
       "        vertical-align: middle;\n",
       "    }\n",
       "\n",
       "    .dataframe tbody tr th {\n",
       "        vertical-align: top;\n",
       "    }\n",
       "\n",
       "    .dataframe thead th {\n",
       "        text-align: right;\n",
       "    }\n",
       "</style>\n",
       "<table border=\"1\" class=\"dataframe\">\n",
       "  <thead>\n",
       "    <tr style=\"text-align: right;\">\n",
       "      <th></th>\n",
       "      <th>shortnam</th>\n",
       "      <th>euro1900</th>\n",
       "      <th>excolony</th>\n",
       "      <th>avexpr</th>\n",
       "      <th>logpgp95</th>\n",
       "      <th>cons1</th>\n",
       "      <th>cons90</th>\n",
       "      <th>democ00a</th>\n",
       "      <th>cons00a</th>\n",
       "      <th>extmort4</th>\n",
       "      <th>logem4</th>\n",
       "      <th>loghjypl</th>\n",
       "      <th>baseco</th>\n",
       "    </tr>\n",
       "  </thead>\n",
       "  <tbody>\n",
       "    <tr>\n",
       "      <th>0</th>\n",
       "      <td>AFG</td>\n",
       "      <td>0.000000</td>\n",
       "      <td>1.0</td>\n",
       "      <td>NaN</td>\n",
       "      <td>NaN</td>\n",
       "      <td>1.0</td>\n",
       "      <td>2.0</td>\n",
       "      <td>1.0</td>\n",
       "      <td>1.0</td>\n",
       "      <td>93.699997</td>\n",
       "      <td>4.540098</td>\n",
       "      <td>NaN</td>\n",
       "      <td>NaN</td>\n",
       "    </tr>\n",
       "    <tr>\n",
       "      <th>1</th>\n",
       "      <td>AGO</td>\n",
       "      <td>8.000000</td>\n",
       "      <td>1.0</td>\n",
       "      <td>5.363636</td>\n",
       "      <td>7.770645</td>\n",
       "      <td>3.0</td>\n",
       "      <td>3.0</td>\n",
       "      <td>0.0</td>\n",
       "      <td>1.0</td>\n",
       "      <td>280.000000</td>\n",
       "      <td>5.634789</td>\n",
       "      <td>-3.411248</td>\n",
       "      <td>1.0</td>\n",
       "    </tr>\n",
       "    <tr>\n",
       "      <th>2</th>\n",
       "      <td>ARE</td>\n",
       "      <td>0.000000</td>\n",
       "      <td>1.0</td>\n",
       "      <td>7.181818</td>\n",
       "      <td>9.804219</td>\n",
       "      <td>NaN</td>\n",
       "      <td>NaN</td>\n",
       "      <td>NaN</td>\n",
       "      <td>NaN</td>\n",
       "      <td>NaN</td>\n",
       "      <td>NaN</td>\n",
       "      <td>NaN</td>\n",
       "      <td>NaN</td>\n",
       "    </tr>\n",
       "    <tr>\n",
       "      <th>3</th>\n",
       "      <td>ARG</td>\n",
       "      <td>60.000004</td>\n",
       "      <td>1.0</td>\n",
       "      <td>6.386364</td>\n",
       "      <td>9.133459</td>\n",
       "      <td>1.0</td>\n",
       "      <td>6.0</td>\n",
       "      <td>3.0</td>\n",
       "      <td>3.0</td>\n",
       "      <td>68.900002</td>\n",
       "      <td>4.232656</td>\n",
       "      <td>-0.872274</td>\n",
       "      <td>1.0</td>\n",
       "    </tr>\n",
       "    <tr>\n",
       "      <th>4</th>\n",
       "      <td>ARM</td>\n",
       "      <td>0.000000</td>\n",
       "      <td>0.0</td>\n",
       "      <td>NaN</td>\n",
       "      <td>7.682482</td>\n",
       "      <td>NaN</td>\n",
       "      <td>NaN</td>\n",
       "      <td>NaN</td>\n",
       "      <td>NaN</td>\n",
       "      <td>NaN</td>\n",
       "      <td>NaN</td>\n",
       "      <td>NaN</td>\n",
       "      <td>NaN</td>\n",
       "    </tr>\n",
       "  </tbody>\n",
       "</table>\n",
       "</div>"
      ],
      "text/plain": [
       "  shortnam   euro1900  excolony    avexpr  logpgp95  cons1  cons90  democ00a  \\\n",
       "0      AFG   0.000000       1.0       NaN       NaN    1.0     2.0       1.0   \n",
       "1      AGO   8.000000       1.0  5.363636  7.770645    3.0     3.0       0.0   \n",
       "2      ARE   0.000000       1.0  7.181818  9.804219    NaN     NaN       NaN   \n",
       "3      ARG  60.000004       1.0  6.386364  9.133459    1.0     6.0       3.0   \n",
       "4      ARM   0.000000       0.0       NaN  7.682482    NaN     NaN       NaN   \n",
       "\n",
       "   cons00a    extmort4    logem4  loghjypl  baseco  \n",
       "0      1.0   93.699997  4.540098       NaN     NaN  \n",
       "1      1.0  280.000000  5.634789 -3.411248     1.0  \n",
       "2      NaN         NaN       NaN       NaN     NaN  \n",
       "3      3.0   68.900002  4.232656 -0.872274     1.0  \n",
       "4      NaN         NaN       NaN       NaN     NaN  "
      ]
     },
     "execution_count": 5,
     "metadata": {},
     "output_type": "execute_result"
    }
   ],
   "source": [
    "df1 = pd.read_stata('https://github.com/QuantEcon/lecture-python/blob/master/source/_static/lecture_specific/ols/maketable1.dta?raw=true')\n",
    "df1.head()"
   ]
  },
  {
   "cell_type": "code",
   "execution_count": 6,
   "metadata": {
    "collapsed": false,
    "jupyter": {
     "outputs_hidden": false
    }
   },
   "outputs": [
    {
     "data": {
      "image/png": "[encoded data removed]",
      "text/plain": [
       "<Figure size 576x396 with 1 Axes>"
      ]
     },
     "metadata": {},
     "output_type": "display_data"
    }
   ],
   "source": [
    "df1.plot.scatter(x=\"avexpr\", y=\"logpgp95\", s=40);"
   ]
  },
  {
   "cell_type": "code",
   "execution_count": 7,
   "metadata": {
    "collapsed": false,
    "jupyter": {
     "outputs_hidden": false
    },
    "slideshow": {
     "slide_type": "subslide"
    }
   },
   "outputs": [
    {
     "name": "stdout",
     "output_type": "stream",
     "text": [
      "The optimal coefficient is 1.14\n",
      "MSE(theta*) = 1.61\n"
     ]
    }
   ],
   "source": [
    "df1_subset = df1.dropna(subset=['logpgp95', 'avexpr'])\n",
    "# drop the NA spaces\n",
    "\n",
    "x = df1_subset[\"avexpr\"].to_numpy() # input\n",
    "y = df1_subset[\"logpgp95\"].to_numpy() # output\n",
    "theta_star = x @ y / (x @ x) # transpose\n",
    "yhat = x * theta_star\n",
    "mse_star = np.mean((y - yhat)**2)\n",
    "print(f\"The optimal coefficient is {theta_star:.3}\\nMSE(theta*) = {mse_star:.3}\")"
   ]
  },
  {
   "cell_type": "code",
   "execution_count": 8,
   "metadata": {
    "collapsed": false,
    "jupyter": {
     "outputs_hidden": false
    },
    "slideshow": {
     "slide_type": "subslide"
    }
   },
   "outputs": [
    {
     "data": {
      "image/png": "[encoded data removed]",
      "text/plain": [
       "<Figure size 576x396 with 1 Axes>"
      ]
     },
     "metadata": {},
     "output_type": "display_data"
    }
   ],
   "source": [
    "fig, ax = plt.subplots()\n",
    "xgrid = np.linspace(min(x), max(x), 20)\n",
    "ax.scatter(x, y)\n",
    "ax.plot(xgrid, theta_star*xgrid)\n",
    "ax.text(4, 11, r\"$\\hat{logpgp95} = 1.14 \\cdot avexpr$\")\n",
    "ax.set_xlabel(\"Protection against expropriation\")\n",
    "ax.set_ylabel(\"GDP per capita (1995, USD)\");"
   ]
  },
  {
   "cell_type": "markdown",
   "metadata": {
    "slideshow": {
     "slide_type": "subslide"
    }
   },
   "source": [
    "### Using statsmodels\n",
    "\n",
    "- We computed $\\theta^*$ by hand above\n",
    "- We could also use the `statsmodels` package\n",
    "- Here's how that could go"
   ]
  },
  {
   "cell_type": "code",
   "execution_count": 9,
   "metadata": {
    "collapsed": false,
    "jupyter": {
     "outputs_hidden": false
    },
    "slideshow": {
     "slide_type": "fragment"
    }
   },
   "outputs": [
    {
     "data": {
      "text/html": [
       "<table class=\"simpletable\">\n",
       "<caption>OLS Regression Results</caption>\n",
       "<tr>\n",
       "  <th>Dep. Variable:</th>        <td>logpgp95</td>     <th>  R-squared (uncentered):</th>      <td>   0.978</td>\n",
       "</tr>\n",
       "<tr>\n",
       "  <th>Model:</th>                   <td>OLS</td>       <th>  Adj. R-squared (uncentered):</th> <td>   0.978</td>\n",
       "</tr>\n",
       "<tr>\n",
       "  <th>Method:</th>             <td>Least Squares</td>  <th>  F-statistic:       </th>          <td>   4880.</td>\n",
       "</tr>\n",
       "<tr>\n",
       "  <th>Date:</th>             <td>Sun, 06 Feb 2022</td> <th>  Prob (F-statistic):</th>          <td>5.82e-93</td>\n",
       "</tr>\n",
       "<tr>\n",
       "  <th>Time:</th>                 <td>22:29:59</td>     <th>  Log-Likelihood:    </th>          <td> -183.80</td>\n",
       "</tr>\n",
       "<tr>\n",
       "  <th>No. Observations:</th>      <td>   111</td>      <th>  AIC:               </th>          <td>   369.6</td>\n",
       "</tr>\n",
       "<tr>\n",
       "  <th>Df Residuals:</th>          <td>   110</td>      <th>  BIC:               </th>          <td>   372.3</td>\n",
       "</tr>\n",
       "<tr>\n",
       "  <th>Df Model:</th>              <td>     1</td>      <th>                     </th>              <td> </td>   \n",
       "</tr>\n",
       "<tr>\n",
       "  <th>Covariance Type:</th>      <td>nonrobust</td>    <th>                     </th>              <td> </td>   \n",
       "</tr>\n",
       "</table>\n",
       "<table class=\"simpletable\">\n",
       "<tr>\n",
       "     <td></td>       <th>coef</th>     <th>std err</th>      <th>t</th>      <th>P>|t|</th>  <th>[0.025</th>    <th>0.975]</th>  \n",
       "</tr>\n",
       "<tr>\n",
       "  <th>avexpr</th> <td>    1.1408</td> <td>    0.016</td> <td>   69.859</td> <td> 0.000</td> <td>    1.108</td> <td>    1.173</td>\n",
       "</tr>\n",
       "</table>\n",
       "<table class=\"simpletable\">\n",
       "<tr>\n",
       "  <th>Omnibus:</th>       <td> 7.509</td> <th>  Durbin-Watson:     </th> <td>   1.687</td>\n",
       "</tr>\n",
       "<tr>\n",
       "  <th>Prob(Omnibus):</th> <td> 0.023</td> <th>  Jarque-Bera (JB):  </th> <td>   4.116</td>\n",
       "</tr>\n",
       "<tr>\n",
       "  <th>Skew:</th>          <td> 0.266</td> <th>  Prob(JB):          </th> <td>   0.128</td>\n",
       "</tr>\n",
       "<tr>\n",
       "  <th>Kurtosis:</th>      <td> 2.220</td> <th>  Cond. No.          </th> <td>    1.00</td>\n",
       "</tr>\n",
       "</table><br/><br/>Notes:<br/>[1] R² is computed without centering (uncentered) since the model does not contain a constant.<br/>[2] Standard Errors assume that the covariance matrix of the errors is correctly specified."
      ],
      "text/plain": [
       "<class 'statsmodels.iolib.summary.Summary'>\n",
       "\"\"\"\n",
       "                                 OLS Regression Results                                \n",
       "=======================================================================================\n",
       "Dep. Variable:               logpgp95   R-squared (uncentered):                   0.978\n",
       "Model:                            OLS   Adj. R-squared (uncentered):              0.978\n",
       "Method:                 Least Squares   F-statistic:                              4880.\n",
       "Date:                Sun, 06 Feb 2022   Prob (F-statistic):                    5.82e-93\n",
       "Time:                        22:29:59   Log-Likelihood:                         -183.80\n",
       "No. Observations:                 111   AIC:                                      369.6\n",
       "Df Residuals:                     110   BIC:                                      372.3\n",
       "Df Model:                           1                                                  \n",
       "Covariance Type:            nonrobust                                                  \n",
       "==============================================================================\n",
       "                 coef    std err          t      P>|t|      [0.025      0.975]\n",
       "------------------------------------------------------------------------------\n",
       "avexpr         1.1408      0.016     69.859      0.000       1.108       1.173\n",
       "==============================================================================\n",
       "Omnibus:                        7.509   Durbin-Watson:                   1.687\n",
       "Prob(Omnibus):                  0.023   Jarque-Bera (JB):                4.116\n",
       "Skew:                           0.266   Prob(JB):                        0.128\n",
       "Kurtosis:                       2.220   Cond. No.                         1.00\n",
       "==============================================================================\n",
       "\n",
       "Notes:\n",
       "[1] R² is computed without centering (uncentered) since the model does not contain a constant.\n",
       "[2] Standard Errors assume that the covariance matrix of the errors is correctly specified.\n",
       "\"\"\""
      ]
     },
     "execution_count": 9,
     "metadata": {},
     "output_type": "execute_result"
    }
   ],
   "source": [
    "model = smf.ols(\"logpgp95 ~ avexpr - 1\", data=df1)\n",
    "fit = model.fit()\n",
    "fit.summary()"
   ]
  },
  {
   "cell_type": "markdown",
   "metadata": {
    "slideshow": {
     "slide_type": "subslide"
    }
   },
   "source": [
    "### Comments\n",
    "\n",
    "- We saw that training amounts to computing the optimal $\\theta$ from the available, observed data\n",
    "- In the scenario we are considering, training is trivial in the sense that the optimal parameter value was found in closed form\n",
    "- The optimal parameter can even be found visually by graphing MSE vs. $\\theta$"
   ]
  },
  {
   "cell_type": "code",
   "execution_count": 10,
   "metadata": {
    "collapsed": false,
    "jupyter": {
     "outputs_hidden": false
    }
   },
   "outputs": [
    {
     "data": {
      "image/png": "[encoded data removed]",
      "text/plain": [
       "<Figure size 576x396 with 1 Axes>"
      ]
     },
     "metadata": {},
     "output_type": "display_data"
    }
   ],
   "source": [
    "th_grid = np.linspace(-2, 3, 100) # prediction of minimum point of all the potential thetas\n",
    "\n",
    "# y: (N,) x: (N,) th_grid(100,) --> N element array and we cannot add them up directli\n",
    "# --> so we have to do broadcast (N x times 100 different thetas)\n",
    "# Y[:, None]: (N, 1) x[:, None] (N, 1) th_grid: (100,) --> oobserved data\n",
    "# th_grid*x[:, None] --> [N, 100] --> prediction from the model\n",
    "mse_grid = np.mean((y[:, None] - th_grid*x[:, None])**2, axis=0) \n",
    "\n",
    "# plot this \n",
    "fig, ax = plt.subplots()\n",
    "ax.plot(th_grid, mse_grid)\n",
    "ax.set_xlabel(r\"$\\theta$\")\n",
    "ax.set_ylabel(\"MSE\");"
   ]
  },
  {
   "cell_type": "markdown",
   "metadata": {
    "slideshow": {
     "slide_type": "slide"
    }
   },
   "source": [
    "### Multiple Linear Regression\n",
    "\n",
    "- Data: $\\mathbb{X}, \\mathbb{\\theta} \\subseteq \\mathbb{R}^D$, $\\mathbb{Y} \\subseteq \\mathbb{R}$\n",
    "- Model: $\\hat(y) = f(x; \\theta) = x^T \\theta$, all hyperplanes that pass through origin\n",
    "- Predictions on samples:\n",
    "\\begin{align*}\n",
    "\\hat{y} = \\begin{bmatrix}\\hat{y}_1 \\\\ \\cdots \\\\ \\hat{y}_N\\end{bmatrix}\n",
    "    = \\begin{bmatrix} x_1^T \\theta \\\\ \\cdots \\\\ x_N^T \\theta \\end{bmatrix}\n",
    "    = \\underbrace{\\begin{bmatrix} x_1^T  \\\\ \\cdots \\\\ x_N^T  \\end{bmatrix}}_{\\triangleq X}\\theta\n",
    "    = X \\theta\n",
    "\\end{align*}"
   ]
  },
  {
   "cell_type": "markdown",
   "metadata": {
    "slideshow": {
     "slide_type": "subslide"
    }
   },
   "source": [
    "### MSE\n",
    "\n",
    "\n",
    "- In this setting the MSE is: \n",
    "\\begin{align*}\n",
    "MSE(\\theta) &= \\frac{1}{N} \\left\\|x - X \\theta \\right\\|^2 \\\\\n",
    "&= \\frac{1}{N} (y - X\\theta)^T(y - X \\theta) \\\\\n",
    "&= \\frac{1}{N} \\left(y^T y - 2 \\theta^T X^T y + \\theta ^T \\underbrace{X^T X}_{\\equiv R} \\theta \\right)\n",
    "\\end{align*}\n",
    "- Take derivative wrt $\\theta$: $$\\frac{\\partial MSE}{\\partial \\theta} = \\frac{1}{N} \\left(-2 X^T y + 2 R\\theta \\right)$$\n",
    "- Solve for $\\theta^*$: $$\\theta*^ = \\underbrace{R^{-1}X^T}_{\\equiv X^{\\dagger}} y = X^{\\dagger} y$$\n"
   ]
  },
  {
   "cell_type": "markdown",
   "metadata": {
    "slideshow": {
     "slide_type": "subslide"
    }
   },
   "source": [
    "###  Comments about $R$\n",
    "\n",
    "\n",
    "We have $$R \\triangleq X^TX \\in \\mathbb{R}^{D \\times D}$$\n",
    "\n",
    "- If $N < D$ (more features than samples) then $R$ will not be invertible\n",
    "- In this case $\\theta^*$ is not uniquely identified\n",
    "    - Example $N=1, D=2$\n",
    "    - There are infinitely many planes that pass through the origin and one sample\n",
    "    - In all cases MSE = 0\n",
    "- Therefore, we need at least one sample per features"
   ]
  },
  {
   "cell_type": "markdown",
   "metadata": {
    "slideshow": {
     "slide_type": "subslide"
    }
   },
   "source": [
    "###  Comments about $X^{\\dagger}$\n",
    "\n",
    "\n",
    "We have $$X^{\\dagger} \\triangleq R^{-1}X^T = (X^TX)^{-1}X^T \\in \\mathbb{R}^{D \\times N}$$\n",
    "\n",
    "- Called the Moore-Penrose Pseudo-Inverse of $X$\n",
    "- Consider the system of equations: $$y = X \\theta$$\n",
    "- If $X$ is square (and invertible), we can solve $\\theta = X^{-1} y$\n",
    "- If $X$ has more rows than columns (more samples than features),  then $X^{-1}$ is not defined\n",
    "    - In this setting we use $X^{\\dagger}$ as if it were $X^{-1}$ and compute $\\theta = X^{\\dagger} y$"
   ]
  },
  {
   "cell_type": "markdown",
   "metadata": {
    "slideshow": {
     "slide_type": "subslide"
    }
   },
   "source": [
    "### Example\n",
    "\n",
    "- Let's extend the AJR example to include an intercept term\n",
    "- The model we will fit is $$\\hat{\\text{logpgp95}} = \\theta_0 + \\theta_1 \\text{avexpr}$$\n",
    "- In this case, our matrix $X$ is $$X \\equiv \\begin{bmatrix} 1 & \\text{avexpr} \\\\ 1 & \\text{avexpr}_2 \\\\ \\vdots & \\vdots \\\\ 1 & \\text{avexpr}_N \\end{bmatrix}$$"
   ]
  },
  {
   "cell_type": "code",
   "execution_count": 11,
   "metadata": {
    "collapsed": false,
    "jupyter": {
     "outputs_hidden": false
    },
    "slideshow": {
     "slide_type": "subslide"
    }
   },
   "outputs": [
    {
     "data": {
      "text/html": [
       "<table class=\"simpletable\">\n",
       "<caption>OLS Regression Results</caption>\n",
       "<tr>\n",
       "  <th>Dep. Variable:</th>        <td>logpgp95</td>     <th>  R-squared:         </th> <td>   0.611</td>\n",
       "</tr>\n",
       "<tr>\n",
       "  <th>Model:</th>                   <td>OLS</td>       <th>  Adj. R-squared:    </th> <td>   0.608</td>\n",
       "</tr>\n",
       "<tr>\n",
       "  <th>Method:</th>             <td>Least Squares</td>  <th>  F-statistic:       </th> <td>   171.4</td>\n",
       "</tr>\n",
       "<tr>\n",
       "  <th>Date:</th>             <td>Sun, 06 Feb 2022</td> <th>  Prob (F-statistic):</th> <td>4.16e-24</td>\n",
       "</tr>\n",
       "<tr>\n",
       "  <th>Time:</th>                 <td>22:30:00</td>     <th>  Log-Likelihood:    </th> <td> -119.71</td>\n",
       "</tr>\n",
       "<tr>\n",
       "  <th>No. Observations:</th>      <td>   111</td>      <th>  AIC:               </th> <td>   243.4</td>\n",
       "</tr>\n",
       "<tr>\n",
       "  <th>Df Residuals:</th>          <td>   109</td>      <th>  BIC:               </th> <td>   248.8</td>\n",
       "</tr>\n",
       "<tr>\n",
       "  <th>Df Model:</th>              <td>     1</td>      <th>                     </th>     <td> </td>   \n",
       "</tr>\n",
       "<tr>\n",
       "  <th>Covariance Type:</th>      <td>nonrobust</td>    <th>                     </th>     <td> </td>   \n",
       "</tr>\n",
       "</table>\n",
       "<table class=\"simpletable\">\n",
       "<tr>\n",
       "      <td></td>         <th>coef</th>     <th>std err</th>      <th>t</th>      <th>P>|t|</th>  <th>[0.025</th>    <th>0.975]</th>  \n",
       "</tr>\n",
       "<tr>\n",
       "  <th>Intercept</th> <td>    4.6261</td> <td>    0.301</td> <td>   15.391</td> <td> 0.000</td> <td>    4.030</td> <td>    5.222</td>\n",
       "</tr>\n",
       "<tr>\n",
       "  <th>avexpr</th>    <td>    0.5319</td> <td>    0.041</td> <td>   13.093</td> <td> 0.000</td> <td>    0.451</td> <td>    0.612</td>\n",
       "</tr>\n",
       "</table>\n",
       "<table class=\"simpletable\">\n",
       "<tr>\n",
       "  <th>Omnibus:</th>       <td> 9.251</td> <th>  Durbin-Watson:     </th> <td>   1.689</td>\n",
       "</tr>\n",
       "<tr>\n",
       "  <th>Prob(Omnibus):</th> <td> 0.010</td> <th>  Jarque-Bera (JB):  </th> <td>   9.170</td>\n",
       "</tr>\n",
       "<tr>\n",
       "  <th>Skew:</th>          <td>-0.680</td> <th>  Prob(JB):          </th> <td>  0.0102</td>\n",
       "</tr>\n",
       "<tr>\n",
       "  <th>Kurtosis:</th>      <td> 3.362</td> <th>  Cond. No.          </th> <td>    33.2</td>\n",
       "</tr>\n",
       "</table><br/><br/>Notes:<br/>[1] Standard Errors assume that the covariance matrix of the errors is correctly specified."
      ],
      "text/plain": [
       "<class 'statsmodels.iolib.summary.Summary'>\n",
       "\"\"\"\n",
       "                            OLS Regression Results                            \n",
       "==============================================================================\n",
       "Dep. Variable:               logpgp95   R-squared:                       0.611\n",
       "Model:                            OLS   Adj. R-squared:                  0.608\n",
       "Method:                 Least Squares   F-statistic:                     171.4\n",
       "Date:                Sun, 06 Feb 2022   Prob (F-statistic):           4.16e-24\n",
       "Time:                        22:30:00   Log-Likelihood:                -119.71\n",
       "No. Observations:                 111   AIC:                             243.4\n",
       "Df Residuals:                     109   BIC:                             248.8\n",
       "Df Model:                           1                                         \n",
       "Covariance Type:            nonrobust                                         \n",
       "==============================================================================\n",
       "                 coef    std err          t      P>|t|      [0.025      0.975]\n",
       "------------------------------------------------------------------------------\n",
       "Intercept      4.6261      0.301     15.391      0.000       4.030       5.222\n",
       "avexpr         0.5319      0.041     13.093      0.000       0.451       0.612\n",
       "==============================================================================\n",
       "Omnibus:                        9.251   Durbin-Watson:                   1.689\n",
       "Prob(Omnibus):                  0.010   Jarque-Bera (JB):                9.170\n",
       "Skew:                          -0.680   Prob(JB):                       0.0102\n",
       "Kurtosis:                       3.362   Cond. No.                         33.2\n",
       "==============================================================================\n",
       "\n",
       "Notes:\n",
       "[1] Standard Errors assume that the covariance matrix of the errors is correctly specified.\n",
       "\"\"\""
      ]
     },
     "execution_count": 11,
     "metadata": {},
     "output_type": "execute_result"
    }
   ],
   "source": [
    "# fit the model by using the data that contains no missing value\n",
    "# + 1 implies larger intereception\n",
    "\n",
    "model2 = smf.ols(\"logpgp95 ~ 1 + avexpr\", data=df1_subset)  # or formula \"logpgp95 ~ avexpr\"\n",
    "fit2 = model2.fit()\n",
    "fit2.summary()"
   ]
  },
  {
   "cell_type": "markdown",
   "metadata": {
    "slideshow": {
     "slide_type": "subslide"
    }
   },
   "source": [
    "From the readout above we can say that the optimal linear regression model for this probem is:"
   ]
  },
  {
   "cell_type": "code",
   "execution_count": 12,
   "metadata": {
    "collapsed": false,
    "jupyter": {
     "outputs_hidden": false
    }
   },
   "outputs": [
    {
     "name": "stdout",
     "output_type": "stream",
     "text": [
      "logpgp95 = 4.63 + 0.532 avexpr\n"
     ]
    }
   ],
   "source": [
    "theta2 = fit2.params \n",
    "# we can extracr the parameterrs\n",
    "# compute the fitted model\n",
    "print(f\"logpgp95 = {theta2[0]:.3} + {theta2[1]:.3} avexpr\")"
   ]
  },
  {
   "cell_type": "markdown",
   "metadata": {
    "slideshow": {
     "slide_type": "subslide"
    }
   },
   "source": [
    "### Prediction\n",
    "\n",
    "We can use our model to make predictions about the level of GDP per capita, given a specific level of the expropriation protection index\n",
    "\n",
    "For example, consider a country with an average level of the index"
   ]
  },
  {
   "cell_type": "code",
   "execution_count": 13,
   "metadata": {
    "collapsed": false,
    "jupyter": {
     "outputs_hidden": false
    }
   },
   "outputs": [
    {
     "data": {
      "text/plain": [
       "avexpr    7.06649\n",
       "dtype: float32"
      ]
     },
     "execution_count": 13,
     "metadata": {},
     "output_type": "execute_result"
    }
   ],
   "source": [
    "mean_expr = df1[['avexpr']].mean()\n",
    "mean_expr"
   ]
  },
  {
   "cell_type": "code",
   "execution_count": 14,
   "metadata": {
    "collapsed": false,
    "jupyter": {
     "outputs_hidden": false
    }
   },
   "outputs": [
    {
     "data": {
      "text/plain": [
       "8.3771"
      ]
     },
     "execution_count": 14,
     "metadata": {},
     "output_type": "execute_result"
    }
   ],
   "source": [
    "# use the model to get the prediction\n",
    "predicted_logpdp95 = 4.63 + 0.53 * 7.07\n",
    "predicted_logpdp95"
   ]
  },
  {
   "cell_type": "markdown",
   "metadata": {
    "slideshow": {
     "slide_type": "subslide"
    }
   },
   "source": [
    "An easier way to do this would be to use the `.predict` method on our fit object"
   ]
  },
  {
   "cell_type": "code",
   "execution_count": 15,
   "metadata": {
    "collapsed": false,
    "jupyter": {
     "outputs_hidden": false
    }
   },
   "outputs": [
    {
     "data": {
      "text/plain": [
       "0    8.384553\n",
       "dtype: float64"
      ]
     },
     "execution_count": 15,
     "metadata": {},
     "output_type": "execute_result"
    }
   ],
   "source": [
    "fit2.predict(mean_expr)"
   ]
  },
  {
   "cell_type": "markdown",
   "metadata": {
    "slideshow": {
     "slide_type": "subslide"
    }
   },
   "source": [
    "If we don't pass any arguments to `.predict`, it will compute $\\hat{\\text{logpgp95}}$ for all the data:"
   ]
  },
  {
   "cell_type": "code",
   "execution_count": 16,
   "metadata": {
    "collapsed": false,
    "jupyter": {
     "outputs_hidden": false
    }
   },
   "outputs": [
    {
     "data": {
      "text/plain": [
       "<matplotlib.legend.Legend at 0x7fa674c086d0>"
      ]
     },
     "execution_count": 16,
     "metadata": {},
     "output_type": "execute_result"
    },
    {
     "data": {
      "image/png": "[encoded data removed]",
      "text/plain": [
       "<Figure size 576x396 with 1 Axes>"
      ]
     },
     "metadata": {},
     "output_type": "display_data"
    }
   ],
   "source": [
    "fig, ax = plt.subplots()\n",
    "df1_subset.plot.scatter(x=\"avexpr\", y=\"logpgp95\", ax=ax, s=40)\n",
    "df1_subset.assign(yhat=fit2.predict()).plot.scatter(x=\"avexpr\", y=\"yhat\", ax=ax, c=\"g\", s=40)\n",
    "ax.legend([\"observed\", \"predicted\"], loc=0)"
   ]
  },
  {
   "cell_type": "markdown",
   "metadata": {
    "slideshow": {
     "slide_type": "subslide"
    }
   },
   "source": [
    "### Using sklearn\n",
    "\n",
    "- `statsmodels` is a great package for our linear regression example\n",
    "- However, for other problems, a dedicated ML package may suit our needs better\n",
    "- scikit-learn (`sklearn`) is the go-to Python package for classic ML algorithms"
   ]
  },
  {
   "cell_type": "markdown",
   "metadata": {
    "slideshow": {
     "slide_type": "subslide"
    }
   },
   "source": [
    "#### sklearn Model API\n",
    "\n",
    "- One of the best features of sklearn is its well designed and consistent API\n",
    "- All models in sklearn share the `BaseEsimator` api\n",
    "- The two core methods are `.fit(X, y)` and `.predict`\n",
    "- Let's replicate our example above using sklearn"
   ]
  },
  {
   "cell_type": "code",
   "execution_count": 17,
   "metadata": {
    "collapsed": false,
    "jupyter": {
     "outputs_hidden": false
    }
   },
   "outputs": [],
   "source": [
    "from sklearn import linear_model"
   ]
  },
  {
   "cell_type": "markdown",
   "metadata": {
    "slideshow": {
     "slide_type": "subslide"
    }
   },
   "source": [
    "The first step is to create a model instance\n",
    "\n",
    "This is where we pick a model $f$ from our notation\n",
    "\n",
    "> Note, no data is passed at this time"
   ]
  },
  {
   "cell_type": "code",
   "execution_count": 18,
   "metadata": {
    "collapsed": false,
    "jupyter": {
     "outputs_hidden": false
    }
   },
   "outputs": [],
   "source": [
    "skmodel = linear_model.LinearRegression()"
   ]
  },
  {
   "cell_type": "markdown",
   "metadata": {
    "slideshow": {
     "slide_type": "subslide"
    }
   },
   "source": [
    "The next step is to fit the model on (X, y) data"
   ]
  },
  {
   "cell_type": "code",
   "execution_count": 19,
   "metadata": {
    "collapsed": false,
    "jupyter": {
     "outputs_hidden": false
    }
   },
   "outputs": [
    {
     "data": {
      "text/plain": [
       "LinearRegression()"
      ]
     },
     "execution_count": 19,
     "metadata": {},
     "output_type": "execute_result"
    }
   ],
   "source": [
    "X = df1_subset[[\"avexpr\"]]\n",
    "y = df1_subset[\"logpgp95\"]\n",
    "skmodel.fit(X, y)"
   ]
  },
  {
   "cell_type": "markdown",
   "metadata": {
    "slideshow": {
     "slide_type": "subslide"
    }
   },
   "source": [
    "Now we can inspect coefficients:"
   ]
  },
  {
   "cell_type": "code",
   "execution_count": 20,
   "metadata": {
    "collapsed": false,
    "jupyter": {
     "outputs_hidden": false
    }
   },
   "outputs": [
    {
     "data": {
      "text/plain": [
       "(4.62609, array([0.5318713], dtype=float32))"
      ]
     },
     "execution_count": 20,
     "metadata": {},
     "output_type": "execute_result"
    }
   ],
   "source": [
    "(skmodel.intercept_, skmodel.coef_)"
   ]
  },
  {
   "cell_type": "markdown",
   "metadata": {},
   "source": [
    "We can compare to statsmodels:"
   ]
  },
  {
   "cell_type": "code",
   "execution_count": 21,
   "metadata": {
    "collapsed": false,
    "jupyter": {
     "outputs_hidden": false
    }
   },
   "outputs": [
    {
     "data": {
      "text/plain": [
       "Intercept    4.626089\n",
       "avexpr       0.531871\n",
       "dtype: float64"
      ]
     },
     "execution_count": 21,
     "metadata": {},
     "output_type": "execute_result"
    }
   ],
   "source": [
    "fit2.params"
   ]
  },
  {
   "cell_type": "markdown",
   "metadata": {
    "slideshow": {
     "slide_type": "subslide"
    }
   },
   "source": [
    "Finally, we can use the `predict` method to estimate `logpgp95` for an arbitrary `avexpr`:\n"
   ]
  },
  {
   "cell_type": "code",
   "execution_count": 22,
   "metadata": {
    "collapsed": false,
    "jupyter": {
     "outputs_hidden": false
    }
   },
   "outputs": [
    {
     "data": {
      "text/plain": [
       "array([8.384554], dtype=float32)"
      ]
     },
     "execution_count": 22,
     "metadata": {},
     "output_type": "execute_result"
    }
   ],
   "source": [
    "skmodel.predict([mean_expr])"
   ]
  },
  {
   "cell_type": "code",
   "execution_count": 23,
   "metadata": {
    "collapsed": false,
    "jupyter": {
     "outputs_hidden": false
    },
    "slideshow": {
     "slide_type": "fragment"
    }
   },
   "outputs": [
    {
     "data": {
      "image/png": "[encoded data removed]",
      "text/plain": [
       "<Figure size 576x396 with 1 Axes>"
      ]
     },
     "metadata": {},
     "output_type": "display_data"
    }
   ],
   "source": [
    "fig, ax = plt.subplots()\n",
    "ax.scatter(X, y)\n",
    "ax.scatter(X, skmodel.predict(X))\n",
    "ax.legend([\"observed\", \"predicted\"]);\n",
    "\n",
    "# sklearn fits the green line (predicted or fitted line)"
   ]
  },
  {
   "cell_type": "markdown",
   "metadata": {
    "slideshow": {
     "slide_type": "subslide"
    }
   },
   "source": [
    "#### sklearn metrics\n",
    "\n",
    "- sklearn implements many models and algorithms as estimators\n",
    "- It also has an extensive set of loss functions/metrics in the `metrics` subpackage\n",
    "- The common API for each of these metrics is `metrics.metric_name(y, yhat)`"
   ]
  },
  {
   "cell_type": "markdown",
   "metadata": {
    "slideshow": {
     "slide_type": "subslide"
    }
   },
   "source": [
    "Let's evaluate the MSE using sklearn:"
   ]
  },
  {
   "cell_type": "code",
   "execution_count": 24,
   "metadata": {
    "collapsed": false,
    "jupyter": {
     "outputs_hidden": false
    }
   },
   "outputs": [
    {
     "data": {
      "text/plain": [
       "0.50613296"
      ]
     },
     "execution_count": 24,
     "metadata": {},
     "output_type": "execute_result"
    }
   ],
   "source": [
    "from sklearn import metrics\n",
    "metrics.mean_squared_error(y, skmodel.predict(X))"
   ]
  },
  {
   "cell_type": "code",
   "execution_count": 25,
   "metadata": {
    "collapsed": false,
    "jupyter": {
     "outputs_hidden": false
    }
   },
   "outputs": [
    {
     "data": {
      "text/plain": [
       "0.5061329007148743"
      ]
     },
     "execution_count": 25,
     "metadata": {},
     "output_type": "execute_result"
    }
   ],
   "source": [
    "np.mean((y - skmodel.predict(X))**2)"
   ]
  },
  {
   "cell_type": "markdown",
   "metadata": {
    "slideshow": {
     "slide_type": "subslide"
    }
   },
   "source": [
    "### Aside: Computing $\\theta^*$ in pratice\n",
    "\n",
    "- We saw above that we can solve for $\\theta^*$ by:\n",
    "    1. Computing $R = X^T X$\n",
    "    2. Inverting $R$ to get $R^{-1}$\n",
    "    3. Computing $X^{\\dagger} = R^{-1}X^T$\n",
    "    4. Computing $\\theta^* = X^{\\dagger} y$"
   ]
  },
  {
   "cell_type": "markdown",
   "metadata": {
    "slideshow": {
     "slide_type": "fragment"
    }
   },
   "source": [
    "- However, in practice we compute $\\theta*$ by iteratively minimizing the MSE\n",
    "- This is more numerically stable than the direct approach (espeically inverting $R$)\n",
    "- It also might be the only feasible approach if the data is \"big\""
   ]
  },
  {
   "cell_type": "markdown",
   "metadata": {
    "slideshow": {
     "slide_type": "slide"
    }
   },
   "source": [
    "### Tools: Fitted residual plots and polynomial regression"
   ]
  },
  {
   "cell_type": "markdown",
   "metadata": {},
   "source": [
    "- One important skill is to be able to assess the goodness of fit for a model\n",
    "- Ultimately the quality of fit is a function of the application of the model\n",
    "- There are some common tools that can help make the evaluation process less subjective"
   ]
  },
  {
   "cell_type": "markdown",
   "metadata": {
    "slideshow": {
     "slide_type": "subslide"
    }
   },
   "source": [
    "#### Fitted residual plots\n",
    "\n",
    "- For a model $f$, the *residual* for observation $i$ is $\\epsilon_i \\equiv y_i - f(x_i ; \\theta)$\n",
    "- Sometimes there can be a relationship between $y_i$ and $\\epsilon_i$\n",
    "- If this relationship is observable/obvious, it can prompt researcher to choose a more appropriate model"
   ]
  },
  {
   "cell_type": "markdown",
   "metadata": {
    "slideshow": {
     "slide_type": "subslide"
    }
   },
   "source": [
    "#### Example\n",
    "\n",
    "- Data: from the built in `women` dataset from R language\n",
    "- 15 observations of height and weigh"
   ]
  },
  {
   "cell_type": "code",
   "execution_count": 26,
   "metadata": {
    "collapsed": false,
    "jupyter": {
     "outputs_hidden": false
    }
   },
   "outputs": [
    {
     "data": {
      "text/html": [
       "<div>\n",
       "<style scoped>\n",
       "    .dataframe tbody tr th:only-of-type {\n",
       "        vertical-align: middle;\n",
       "    }\n",
       "\n",
       "    .dataframe tbody tr th {\n",
       "        vertical-align: top;\n",
       "    }\n",
       "\n",
       "    .dataframe thead th {\n",
       "        text-align: right;\n",
       "    }\n",
       "</style>\n",
       "<table border=\"1\" class=\"dataframe\">\n",
       "  <thead>\n",
       "    <tr style=\"text-align: right;\">\n",
       "      <th></th>\n",
       "      <th>height</th>\n",
       "      <th>weight</th>\n",
       "    </tr>\n",
       "  </thead>\n",
       "  <tbody>\n",
       "    <tr>\n",
       "      <th>0</th>\n",
       "      <td>58</td>\n",
       "      <td>115</td>\n",
       "    </tr>\n",
       "    <tr>\n",
       "      <th>1</th>\n",
       "      <td>59</td>\n",
       "      <td>117</td>\n",
       "    </tr>\n",
       "    <tr>\n",
       "      <th>2</th>\n",
       "      <td>60</td>\n",
       "      <td>120</td>\n",
       "    </tr>\n",
       "    <tr>\n",
       "      <th>3</th>\n",
       "      <td>61</td>\n",
       "      <td>123</td>\n",
       "    </tr>\n",
       "    <tr>\n",
       "      <th>4</th>\n",
       "      <td>62</td>\n",
       "      <td>126</td>\n",
       "    </tr>\n",
       "    <tr>\n",
       "      <th>5</th>\n",
       "      <td>63</td>\n",
       "      <td>129</td>\n",
       "    </tr>\n",
       "    <tr>\n",
       "      <th>6</th>\n",
       "      <td>64</td>\n",
       "      <td>132</td>\n",
       "    </tr>\n",
       "    <tr>\n",
       "      <th>7</th>\n",
       "      <td>65</td>\n",
       "      <td>135</td>\n",
       "    </tr>\n",
       "    <tr>\n",
       "      <th>8</th>\n",
       "      <td>66</td>\n",
       "      <td>139</td>\n",
       "    </tr>\n",
       "    <tr>\n",
       "      <th>9</th>\n",
       "      <td>67</td>\n",
       "      <td>142</td>\n",
       "    </tr>\n",
       "    <tr>\n",
       "      <th>10</th>\n",
       "      <td>68</td>\n",
       "      <td>146</td>\n",
       "    </tr>\n",
       "    <tr>\n",
       "      <th>11</th>\n",
       "      <td>69</td>\n",
       "      <td>150</td>\n",
       "    </tr>\n",
       "    <tr>\n",
       "      <th>12</th>\n",
       "      <td>70</td>\n",
       "      <td>154</td>\n",
       "    </tr>\n",
       "    <tr>\n",
       "      <th>13</th>\n",
       "      <td>71</td>\n",
       "      <td>159</td>\n",
       "    </tr>\n",
       "    <tr>\n",
       "      <th>14</th>\n",
       "      <td>72</td>\n",
       "      <td>164</td>\n",
       "    </tr>\n",
       "  </tbody>\n",
       "</table>\n",
       "</div>"
      ],
      "text/plain": [
       "    height  weight\n",
       "0       58     115\n",
       "1       59     117\n",
       "2       60     120\n",
       "3       61     123\n",
       "4       62     126\n",
       "5       63     129\n",
       "6       64     132\n",
       "7       65     135\n",
       "8       66     139\n",
       "9       67     142\n",
       "10      68     146\n",
       "11      69     150\n",
       "12      70     154\n",
       "13      71     159\n",
       "14      72     164"
      ]
     },
     "execution_count": 26,
     "metadata": {},
     "output_type": "execute_result"
    }
   ],
   "source": [
    "df2 = pd.read_csv(\"https://css-materials.s3.amazonaws.com/ML/linear_models_1/women.csv\")\n",
    "df2[[\"height\", \"weight\"]]"
   ]
  },
  {
   "cell_type": "markdown",
   "metadata": {
    "slideshow": {
     "slide_type": "subslide"
    }
   },
   "source": [
    "Linear fit looks quite accurate"
   ]
  },
  {
   "cell_type": "code",
   "execution_count": 27,
   "metadata": {
    "collapsed": false,
    "jupyter": {
     "outputs_hidden": false
    }
   },
   "outputs": [
    {
     "name": "stderr",
     "output_type": "stream",
     "text": [
      "/Users/fabrizio/opt/anaconda3/lib/python3.8/site-packages/scipy/stats/stats.py:1603: UserWarning: kurtosistest only valid for n>=20 ... continuing anyway, n=15\n",
      "  warnings.warn(\"kurtosistest only valid for n>=20 ... continuing \"\n"
     ]
    },
    {
     "data": {
      "text/html": [
       "<table class=\"simpletable\">\n",
       "<caption>OLS Regression Results</caption>\n",
       "<tr>\n",
       "  <th>Dep. Variable:</th>         <td>weight</td>      <th>  R-squared:         </th> <td>   0.991</td>\n",
       "</tr>\n",
       "<tr>\n",
       "  <th>Model:</th>                   <td>OLS</td>       <th>  Adj. R-squared:    </th> <td>   0.990</td>\n",
       "</tr>\n",
       "<tr>\n",
       "  <th>Method:</th>             <td>Least Squares</td>  <th>  F-statistic:       </th> <td>   1433.</td>\n",
       "</tr>\n",
       "<tr>\n",
       "  <th>Date:</th>             <td>Sun, 06 Feb 2022</td> <th>  Prob (F-statistic):</th> <td>1.09e-14</td>\n",
       "</tr>\n",
       "<tr>\n",
       "  <th>Time:</th>                 <td>22:30:13</td>     <th>  Log-Likelihood:    </th> <td> -26.541</td>\n",
       "</tr>\n",
       "<tr>\n",
       "  <th>No. Observations:</th>      <td>    15</td>      <th>  AIC:               </th> <td>   57.08</td>\n",
       "</tr>\n",
       "<tr>\n",
       "  <th>Df Residuals:</th>          <td>    13</td>      <th>  BIC:               </th> <td>   58.50</td>\n",
       "</tr>\n",
       "<tr>\n",
       "  <th>Df Model:</th>              <td>     1</td>      <th>                     </th>     <td> </td>   \n",
       "</tr>\n",
       "<tr>\n",
       "  <th>Covariance Type:</th>      <td>nonrobust</td>    <th>                     </th>     <td> </td>   \n",
       "</tr>\n",
       "</table>\n",
       "<table class=\"simpletable\">\n",
       "<tr>\n",
       "      <td></td>         <th>coef</th>     <th>std err</th>      <th>t</th>      <th>P>|t|</th>  <th>[0.025</th>    <th>0.975]</th>  \n",
       "</tr>\n",
       "<tr>\n",
       "  <th>Intercept</th> <td>  -87.5167</td> <td>    5.937</td> <td>  -14.741</td> <td> 0.000</td> <td> -100.343</td> <td>  -74.691</td>\n",
       "</tr>\n",
       "<tr>\n",
       "  <th>height</th>    <td>    3.4500</td> <td>    0.091</td> <td>   37.855</td> <td> 0.000</td> <td>    3.253</td> <td>    3.647</td>\n",
       "</tr>\n",
       "</table>\n",
       "<table class=\"simpletable\">\n",
       "<tr>\n",
       "  <th>Omnibus:</th>       <td> 2.396</td> <th>  Durbin-Watson:     </th> <td>   0.315</td>\n",
       "</tr>\n",
       "<tr>\n",
       "  <th>Prob(Omnibus):</th> <td> 0.302</td> <th>  Jarque-Bera (JB):  </th> <td>   1.660</td>\n",
       "</tr>\n",
       "<tr>\n",
       "  <th>Skew:</th>          <td> 0.789</td> <th>  Prob(JB):          </th> <td>   0.436</td>\n",
       "</tr>\n",
       "<tr>\n",
       "  <th>Kurtosis:</th>      <td> 2.596</td> <th>  Cond. No.          </th> <td>    982.</td>\n",
       "</tr>\n",
       "</table><br/><br/>Notes:<br/>[1] Standard Errors assume that the covariance matrix of the errors is correctly specified."
      ],
      "text/plain": [
       "<class 'statsmodels.iolib.summary.Summary'>\n",
       "\"\"\"\n",
       "                            OLS Regression Results                            \n",
       "==============================================================================\n",
       "Dep. Variable:                 weight   R-squared:                       0.991\n",
       "Model:                            OLS   Adj. R-squared:                  0.990\n",
       "Method:                 Least Squares   F-statistic:                     1433.\n",
       "Date:                Sun, 06 Feb 2022   Prob (F-statistic):           1.09e-14\n",
       "Time:                        22:30:13   Log-Likelihood:                -26.541\n",
       "No. Observations:                  15   AIC:                             57.08\n",
       "Df Residuals:                      13   BIC:                             58.50\n",
       "Df Model:                           1                                         \n",
       "Covariance Type:            nonrobust                                         \n",
       "==============================================================================\n",
       "                 coef    std err          t      P>|t|      [0.025      0.975]\n",
       "------------------------------------------------------------------------------\n",
       "Intercept    -87.5167      5.937    -14.741      0.000    -100.343     -74.691\n",
       "height         3.4500      0.091     37.855      0.000       3.253       3.647\n",
       "==============================================================================\n",
       "Omnibus:                        2.396   Durbin-Watson:                   0.315\n",
       "Prob(Omnibus):                  0.302   Jarque-Bera (JB):                1.660\n",
       "Skew:                           0.789   Prob(JB):                        0.436\n",
       "Kurtosis:                       2.596   Cond. No.                         982.\n",
       "==============================================================================\n",
       "\n",
       "Notes:\n",
       "[1] Standard Errors assume that the covariance matrix of the errors is correctly specified.\n",
       "\"\"\""
      ]
     },
     "execution_count": 27,
     "metadata": {},
     "output_type": "execute_result"
    }
   ],
   "source": [
    "# construct the model\n",
    "\n",
    "modelw = smf.ols(\"weight ~ height\", data=df2)\n",
    "fitw = modelw.fit()\n",
    "fitw.summary()"
   ]
  },
  {
   "cell_type": "code",
   "execution_count": 28,
   "metadata": {
    "collapsed": false,
    "jupyter": {
     "outputs_hidden": false
    }
   },
   "outputs": [
    {
     "name": "stdout",
     "output_type": "stream",
     "text": [
      "mse = 2.016\n"
     ]
    }
   ],
   "source": [
    "print(f\"mse = {fitw.ssr / df2.shape[0]:.4}\")"
   ]
  },
  {
   "cell_type": "code",
   "execution_count": 29,
   "metadata": {
    "collapsed": false,
    "jupyter": {
     "outputs_hidden": false
    },
    "slideshow": {
     "slide_type": "subslide"
    }
   },
   "outputs": [
    {
     "data": {
      "image/png": "[encoded data removed]",
      "text/plain": [
       "<Figure size 576x396 with 1 Axes>"
      ]
     },
     "metadata": {},
     "output_type": "display_data"
    }
   ],
   "source": [
    "fig, ax = plt.subplots()\n",
    "# plot data\n",
    "df2.plot.scatter(x=\"height\", y=\"weight\", ax=ax)\n",
    "\n",
    "\n",
    "# plot model\n",
    "grid_height = np.linspace(df2[\"height\"].min(), df2[\"height\"].max(), 20)\n",
    "ax.plot(grid_height, fitw.predict(pd.Series(grid_height, name=\"height\")))\n",
    "\n",
    "# lables\n",
    "ax.set_xlabel(\"height (in)\")\n",
    "ax.set_ylabel(\"weight (lbs)\");"
   ]
  },
  {
   "cell_type": "markdown",
   "metadata": {
    "slideshow": {
     "slide_type": "subslide"
    }
   },
   "source": [
    "Let's now take a look at the fitted residuals"
   ]
  },
  {
   "cell_type": "code",
   "execution_count": 30,
   "metadata": {
    "collapsed": false,
    "jupyter": {
     "outputs_hidden": false
    },
    "slideshow": {
     "slide_type": ""
    }
   },
   "outputs": [
    {
     "data": {
      "text/plain": [
       "Text(0, 0.5, '$\\\\hat{\\\\epsilon}$')"
      ]
     },
     "execution_count": 30,
     "metadata": {},
     "output_type": "execute_result"
    },
    {
     "data": {
      "image/png": "[encoded data removed]",
      "text/plain": [
       "<Figure size 576x396 with 1 Axes>"
      ]
     },
     "metadata": {},
     "output_type": "display_data"
    }
   ],
   "source": [
    "# fit model and then compute the residuals e\n",
    "# a model that may perform better\n",
    "\n",
    "epsw = fitw.resid\n",
    "fig, ax = plt.subplots()\n",
    "ax.scatter(df2[\"weight\"], epsw)\n",
    "ax.set_xlabel(\"weight(lbs)\")\n",
    "ax.set_ylabel(r\"$\\hat{\\epsilon}$\")"
   ]
  },
  {
   "cell_type": "markdown",
   "metadata": {},
   "source": [
    "Here we can observe a clear quadratic pattern\n",
    "\n",
    "This might suggest that we should add a quadratic term to our regression..."
   ]
  },
  {
   "cell_type": "code",
   "execution_count": 31,
   "metadata": {
    "collapsed": false,
    "jupyter": {
     "outputs_hidden": false
    },
    "slideshow": {
     "slide_type": "slide"
    }
   },
   "outputs": [
    {
     "name": "stderr",
     "output_type": "stream",
     "text": [
      "/Users/fabrizio/opt/anaconda3/lib/python3.8/site-packages/scipy/stats/stats.py:1603: UserWarning: kurtosistest only valid for n>=20 ... continuing anyway, n=15\n",
      "  warnings.warn(\"kurtosistest only valid for n>=20 ... continuing \"\n"
     ]
    },
    {
     "data": {
      "text/html": [
       "<table class=\"simpletable\">\n",
       "<caption>OLS Regression Results</caption>\n",
       "<tr>\n",
       "  <th>Dep. Variable:</th>         <td>weight</td>      <th>  R-squared:         </th> <td>   0.999</td> \n",
       "</tr>\n",
       "<tr>\n",
       "  <th>Model:</th>                   <td>OLS</td>       <th>  Adj. R-squared:    </th> <td>   0.999</td> \n",
       "</tr>\n",
       "<tr>\n",
       "  <th>Method:</th>             <td>Least Squares</td>  <th>  F-statistic:       </th> <td>1.139e+04</td>\n",
       "</tr>\n",
       "<tr>\n",
       "  <th>Date:</th>             <td>Sun, 06 Feb 2022</td> <th>  Prob (F-statistic):</th> <td>2.13e-20</td> \n",
       "</tr>\n",
       "<tr>\n",
       "  <th>Time:</th>                 <td>22:30:15</td>     <th>  Log-Likelihood:    </th> <td> -5.2563</td> \n",
       "</tr>\n",
       "<tr>\n",
       "  <th>No. Observations:</th>      <td>    15</td>      <th>  AIC:               </th> <td>   16.51</td> \n",
       "</tr>\n",
       "<tr>\n",
       "  <th>Df Residuals:</th>          <td>    12</td>      <th>  BIC:               </th> <td>   18.64</td> \n",
       "</tr>\n",
       "<tr>\n",
       "  <th>Df Model:</th>              <td>     2</td>      <th>                     </th>     <td> </td>    \n",
       "</tr>\n",
       "<tr>\n",
       "  <th>Covariance Type:</th>      <td>nonrobust</td>    <th>                     </th>     <td> </td>    \n",
       "</tr>\n",
       "</table>\n",
       "<table class=\"simpletable\">\n",
       "<tr>\n",
       "           <td></td>             <th>coef</th>     <th>std err</th>      <th>t</th>      <th>P>|t|</th>  <th>[0.025</th>    <th>0.975]</th>  \n",
       "</tr>\n",
       "<tr>\n",
       "  <th>Intercept</th>          <td>  261.8782</td> <td>   25.197</td> <td>   10.393</td> <td> 0.000</td> <td>  206.979</td> <td>  316.777</td>\n",
       "</tr>\n",
       "<tr>\n",
       "  <th>height</th>             <td>   -7.3483</td> <td>    0.778</td> <td>   -9.449</td> <td> 0.000</td> <td>   -9.043</td> <td>   -5.654</td>\n",
       "</tr>\n",
       "<tr>\n",
       "  <th>I(height * height)</th> <td>    0.0831</td> <td>    0.006</td> <td>   13.891</td> <td> 0.000</td> <td>    0.070</td> <td>    0.096</td>\n",
       "</tr>\n",
       "</table>\n",
       "<table class=\"simpletable\">\n",
       "<tr>\n",
       "  <th>Omnibus:</th>       <td> 2.449</td> <th>  Durbin-Watson:     </th> <td>   1.144</td>\n",
       "</tr>\n",
       "<tr>\n",
       "  <th>Prob(Omnibus):</th> <td> 0.294</td> <th>  Jarque-Bera (JB):  </th> <td>   1.033</td>\n",
       "</tr>\n",
       "<tr>\n",
       "  <th>Skew:</th>          <td> 0.049</td> <th>  Prob(JB):          </th> <td>   0.597</td>\n",
       "</tr>\n",
       "<tr>\n",
       "  <th>Kurtosis:</th>      <td> 1.718</td> <th>  Cond. No.          </th> <td>1.09e+06</td>\n",
       "</tr>\n",
       "</table><br/><br/>Notes:<br/>[1] Standard Errors assume that the covariance matrix of the errors is correctly specified.<br/>[2] The condition number is large, 1.09e+06. This might indicate that there are<br/>strong multicollinearity or other numerical problems."
      ],
      "text/plain": [
       "<class 'statsmodels.iolib.summary.Summary'>\n",
       "\"\"\"\n",
       "                            OLS Regression Results                            \n",
       "==============================================================================\n",
       "Dep. Variable:                 weight   R-squared:                       0.999\n",
       "Model:                            OLS   Adj. R-squared:                  0.999\n",
       "Method:                 Least Squares   F-statistic:                 1.139e+04\n",
       "Date:                Sun, 06 Feb 2022   Prob (F-statistic):           2.13e-20\n",
       "Time:                        22:30:15   Log-Likelihood:                -5.2563\n",
       "No. Observations:                  15   AIC:                             16.51\n",
       "Df Residuals:                      12   BIC:                             18.64\n",
       "Df Model:                           2                                         \n",
       "Covariance Type:            nonrobust                                         \n",
       "======================================================================================\n",
       "                         coef    std err          t      P>|t|      [0.025      0.975]\n",
       "--------------------------------------------------------------------------------------\n",
       "Intercept            261.8782     25.197     10.393      0.000     206.979     316.777\n",
       "height                -7.3483      0.778     -9.449      0.000      -9.043      -5.654\n",
       "I(height * height)     0.0831      0.006     13.891      0.000       0.070       0.096\n",
       "==============================================================================\n",
       "Omnibus:                        2.449   Durbin-Watson:                   1.144\n",
       "Prob(Omnibus):                  0.294   Jarque-Bera (JB):                1.033\n",
       "Skew:                           0.049   Prob(JB):                        0.597\n",
       "Kurtosis:                       1.718   Cond. No.                     1.09e+06\n",
       "==============================================================================\n",
       "\n",
       "Notes:\n",
       "[1] Standard Errors assume that the covariance matrix of the errors is correctly specified.\n",
       "[2] The condition number is large, 1.09e+06. This might indicate that there are\n",
       "strong multicollinearity or other numerical problems.\n",
       "\"\"\""
      ]
     },
     "execution_count": 31,
     "metadata": {},
     "output_type": "execute_result"
    }
   ],
   "source": [
    "# fit model\n",
    "modelw2 = smf.ols(\"weight ~ height + I(height*height)\", data=df2)\n",
    "fitw2 = modelw2.fit()\n",
    "fitw2.summary()\n",
    "\n"
   ]
  },
  {
   "cell_type": "code",
   "execution_count": 32,
   "metadata": {
    "collapsed": false,
    "jupyter": {
     "outputs_hidden": false
    }
   },
   "outputs": [
    {
     "name": "stdout",
     "output_type": "stream",
     "text": [
      "mse = 0.118\n"
     ]
    }
   ],
   "source": [
    "print(f\"mse = {fitw2.ssr / df2.shape[0]:.4}\")\n",
    "\n",
    "# mse improved"
   ]
  },
  {
   "cell_type": "code",
   "execution_count": 33,
   "metadata": {
    "collapsed": false,
    "jupyter": {
     "outputs_hidden": false
    },
    "slideshow": {
     "slide_type": "subslide"
    }
   },
   "outputs": [
    {
     "data": {
      "image/png": "[encoded data removed]",
      "text/plain": [
       "<Figure size 576x396 with 1 Axes>"
      ]
     },
     "metadata": {},
     "output_type": "display_data"
    }
   ],
   "source": [
    "fig, ax = plt.subplots()\n",
    "# plot data\n",
    "df2.plot.scatter(x=\"height\", y=\"weight\", ax=ax)\n",
    "\n",
    "\n",
    "# plot model\n",
    "grid_height = np.linspace(df2[\"height\"].min(), df2[\"height\"].max(), 20)\n",
    "ax.plot(grid_height, fitw2.predict(pd.Series(grid_height, name=\"height\")))\n",
    "\n",
    "# lables\n",
    "ax.set_xlabel(\"height (in)\")\n",
    "ax.set_ylabel(\"weight (lbs)\");"
   ]
  },
  {
   "cell_type": "code",
   "execution_count": 34,
   "metadata": {
    "collapsed": false,
    "jupyter": {
     "outputs_hidden": false
    },
    "slideshow": {
     "slide_type": "subslide"
    }
   },
   "outputs": [
    {
     "data": {
      "text/plain": [
       "Text(0, 0.5, '$\\\\hat{\\\\epsilon}$')"
      ]
     },
     "execution_count": 34,
     "metadata": {},
     "output_type": "execute_result"
    },
    {
     "data": {
      "image/png": "[encoded data removed]",
      "text/plain": [
       "<Figure size 576x396 with 1 Axes>"
      ]
     },
     "metadata": {},
     "output_type": "display_data"
    }
   ],
   "source": [
    "epsw2 = fitw2.resid\n",
    "fig, ax = plt.subplots()\n",
    "ax.scatter(df2[\"weight\"], epsw2)\n",
    "ax.set_xlabel(\"weight(lbs)\")\n",
    "ax.set_ylabel(r\"$\\hat{\\epsilon}$\")"
   ]
  },
  {
   "cell_type": "markdown",
   "metadata": {},
   "source": [
    "Now the fitted residual plot looks like random noise"
   ]
  },
  {
   "cell_type": "markdown",
   "metadata": {
    "slideshow": {
     "slide_type": "subslide"
    }
   },
   "source": [
    "#### Comments\n",
    "\n",
    "- Note that the model including the quadratic height squared term is still a *linear* regression\n",
    "- When speaking about regression models, linearity refers to the parameters, not the data\n",
    "- We can apply arbitrary transformations to $x$ before multiplying by $\\theta$ to produce a prediction\n",
    "- Much of the art of applied ML is choosing the transformations wisely"
   ]
  },
  {
   "cell_type": "markdown",
   "metadata": {
    "slideshow": {
     "slide_type": "slide"
    }
   },
   "source": [
    "### Logistic Regression\n",
    "\n",
    "- Our linear regression framework can be extended to predict a binary outcome\n",
    "- In this case $\\mathbb{Y} =  \\{0,1 \\}$\n",
    "- The key to using this framework is change one assumption:\n",
    "    - Instead of assuming $y$ is linear in $x$, $\\theta$...\n",
    "    - We assume that the log odds are linear in $x, \\theta$"
   ]
  },
  {
   "cell_type": "markdown",
   "metadata": {
    "slideshow": {
     "slide_type": "subslide"
    }
   },
   "source": [
    "#### Log Odds\n",
    "\n",
    "- Let $Y$ be a Bernoulli distributed random variable\n",
    "- Let $p = P(Y = 1)$ represent the probability that $Y = 1$\n",
    "- The *odds* that $Y = 1$ are given by $\\frac{p}{1-p}$\n",
    "- The *logistic regression* framework assumes that the log odds are linear in $\\theta$: $$\\log \\frac{\\hat{y}_i}{1-\\hat{y}_i} = x^T \\theta$$"
   ]
  },
  {
   "cell_type": "markdown",
   "metadata": {
    "slideshow": {
     "slide_type": "subslide"
    }
   },
   "source": [
    "#### Logistic Function\n",
    "\n",
    "\n",
    "- If we re-arrange the expression of log-odds, we can solve for $$\\hat{y} = \\frac{\\exp(x^T\\theta)}{1 + \\exp(x^T\\theta)}$$\n",
    "- This is known as the *logistic function*, which is where logistic regression gets its name\n",
    "- The logistic function has a range of $[0, 1]$, making it ideal for representing probabilities"
   ]
  },
  {
   "cell_type": "code",
   "execution_count": 35,
   "metadata": {
    "collapsed": false,
    "jupyter": {
     "outputs_hidden": false
    }
   },
   "outputs": [
    {
     "data": {
      "text/plain": [
       "(-0.1, 1.1)"
      ]
     },
     "execution_count": 35,
     "metadata": {},
     "output_type": "execute_result"
    },
    {
     "data": {
      "image/png": "[encoded data removed]",
      "text/plain": [
       "<Figure size 576x396 with 1 Axes>"
      ]
     },
     "metadata": {},
     "output_type": "display_data"
    }
   ],
   "source": [
    "def logistic(x):\n",
    "    return np.exp(x) / (1 + np.exp(x))\n",
    "fig, ax = plt.subplots()\n",
    "x = np.linspace(-6, 6, 1000)\n",
    "ax.plot(x, logistic(x))\n",
    "ax.set_ylim(-0.1, 1.1)"
   ]
  },
  {
   "cell_type": "markdown",
   "metadata": {
    "slideshow": {
     "slide_type": "subslide"
    }
   },
   "source": [
    "#### Example: credit card default\n",
    "\n",
    "- We'll come back to how to compute the coefficients of this model in a later lecture\n",
    "- For now, we will look at an example and lean on sklearn to do the computations\n",
    "- Data: 10,000 observations of inidividual income and credit card balance\n",
    "- From \"An Introduction to Statistical Learning: With Applications in R\" by James, Gareth, Daniela Witten, Trevor Hastie, and Robert Tibshirani. 2014"
   ]
  },
  {
   "cell_type": "code",
   "execution_count": 36,
   "metadata": {
    "collapsed": false,
    "jupyter": {
     "outputs_hidden": false
    }
   },
   "outputs": [
    {
     "name": "stdout",
     "output_type": "stream",
     "text": [
      "<class 'pandas.core.frame.DataFrame'>\n",
      "RangeIndex: 10000 entries, 0 to 9999\n",
      "Data columns (total 4 columns):\n",
      " #   Column   Non-Null Count  Dtype  \n",
      "---  ------   --------------  -----  \n",
      " 0   default  10000 non-null  object \n",
      " 1   student  10000 non-null  object \n",
      " 2   balance  10000 non-null  float64\n",
      " 3   income   10000 non-null  float64\n",
      "dtypes: float64(2), object(2)\n",
      "memory usage: 312.6+ KB\n"
     ]
    },
    {
     "data": {
      "text/html": [
       "<div>\n",
       "<style scoped>\n",
       "    .dataframe tbody tr th:only-of-type {\n",
       "        vertical-align: middle;\n",
       "    }\n",
       "\n",
       "    .dataframe tbody tr th {\n",
       "        vertical-align: top;\n",
       "    }\n",
       "\n",
       "    .dataframe thead th {\n",
       "        text-align: right;\n",
       "    }\n",
       "</style>\n",
       "<table border=\"1\" class=\"dataframe\">\n",
       "  <thead>\n",
       "    <tr style=\"text-align: right;\">\n",
       "      <th></th>\n",
       "      <th>default</th>\n",
       "      <th>student</th>\n",
       "      <th>balance</th>\n",
       "      <th>income</th>\n",
       "    </tr>\n",
       "  </thead>\n",
       "  <tbody>\n",
       "    <tr>\n",
       "      <th>0</th>\n",
       "      <td>No</td>\n",
       "      <td>No</td>\n",
       "      <td>729.526495</td>\n",
       "      <td>44361.625074</td>\n",
       "    </tr>\n",
       "    <tr>\n",
       "      <th>1</th>\n",
       "      <td>No</td>\n",
       "      <td>Yes</td>\n",
       "      <td>817.180407</td>\n",
       "      <td>12106.134700</td>\n",
       "    </tr>\n",
       "    <tr>\n",
       "      <th>2</th>\n",
       "      <td>No</td>\n",
       "      <td>No</td>\n",
       "      <td>1073.549164</td>\n",
       "      <td>31767.138947</td>\n",
       "    </tr>\n",
       "    <tr>\n",
       "      <th>3</th>\n",
       "      <td>No</td>\n",
       "      <td>No</td>\n",
       "      <td>529.250605</td>\n",
       "      <td>35704.493935</td>\n",
       "    </tr>\n",
       "    <tr>\n",
       "      <th>4</th>\n",
       "      <td>No</td>\n",
       "      <td>No</td>\n",
       "      <td>785.655883</td>\n",
       "      <td>38463.495879</td>\n",
       "    </tr>\n",
       "  </tbody>\n",
       "</table>\n",
       "</div>"
      ],
      "text/plain": [
       "  default student      balance        income\n",
       "0      No      No   729.526495  44361.625074\n",
       "1      No     Yes   817.180407  12106.134700\n",
       "2      No      No  1073.549164  31767.138947\n",
       "3      No      No   529.250605  35704.493935\n",
       "4      No      No   785.655883  38463.495879"
      ]
     },
     "execution_count": 36,
     "metadata": {},
     "output_type": "execute_result"
    }
   ],
   "source": [
    "df3 = pd.read_csv(\"https://phbs-css.s3-ap-southeast-1.amazonaws.com/Module3/L04_linear_models/default.csv\")\n",
    "df3.info()\n",
    "df3.head()"
   ]
  },
  {
   "cell_type": "code",
   "execution_count": 37,
   "metadata": {
    "collapsed": false,
    "jupyter": {
     "outputs_hidden": false
    }
   },
   "outputs": [],
   "source": [
    "# convert to boolean instead of strings \"Yes\" and \"No\"\n",
    "df3[\"default\"] = df3[\"default\"] == \"Yes\"\n",
    "df3[\"student\"] = df3[\"student\"] == \"Yes\""
   ]
  },
  {
   "cell_type": "markdown",
   "metadata": {
    "slideshow": {
     "slide_type": "subslide"
    }
   },
   "source": [
    "To start, let's fit a linear regression for the default probability as a function of the credit card balance:"
   ]
  },
  {
   "cell_type": "code",
   "execution_count": 38,
   "metadata": {
    "collapsed": false,
    "jupyter": {
     "outputs_hidden": false
    },
    "slideshow": {
     "slide_type": "subslide"
    }
   },
   "outputs": [
    {
     "data": {
      "text/plain": [
       "LinearRegression()"
      ]
     },
     "execution_count": 38,
     "metadata": {},
     "output_type": "execute_result"
    }
   ],
   "source": [
    "# create model\n",
    "linreg = linear_model.LinearRegression()\n",
    "\n",
    "# prep data\n",
    "X = df3[[\"balance\"]]\n",
    "y = df3[\"default\"]\n",
    "\n",
    "# fit model\n",
    "linreg.fit(X, y)"
   ]
  },
  {
   "cell_type": "code",
   "execution_count": 39,
   "metadata": {
    "collapsed": false,
    "jupyter": {
     "outputs_hidden": false
    },
    "slideshow": {
     "slide_type": "subslide"
    }
   },
   "outputs": [
    {
     "data": {
      "text/plain": [
       "<matplotlib.collections.PathCollection at 0x7fa678ca2820>"
      ]
     },
     "execution_count": 39,
     "metadata": {},
     "output_type": "execute_result"
    },
    {
     "data": {
      "image/png": "[encoded data removed]",
      "text/plain": [
       "<Figure size 576x396 with 1 Axes>"
      ]
     },
     "metadata": {},
     "output_type": "display_data"
    }
   ],
   "source": [
    "fig, ax = plt.subplots()\n",
    "bal_grid = np.linspace(X.min(), X.max(), 500)\n",
    "ax.scatter(X, y, alpha=0.3, s=10)\n",
    "ax.scatter(bal_grid, linreg.predict(bal_grid), s=40)"
   ]
  },
  {
   "cell_type": "markdown",
   "metadata": {
    "slideshow": {
     "slide_type": "fragment"
    }
   },
   "source": [
    "- Notice that when the credit card balance is between 0 and 500, the predicted probability of default is negative\n",
    "- This violates the definition of a probability, showcasing why linear regression is not the right model for this task"
   ]
  },
  {
   "cell_type": "markdown",
   "metadata": {},
   "source": [
    "Now let's try fitting the loigistic regression.\n",
    "\n"
   ]
  },
  {
   "cell_type": "code",
   "execution_count": 40,
   "metadata": {
    "collapsed": false,
    "jupyter": {
     "outputs_hidden": false
    },
    "slideshow": {
     "slide_type": "subslide"
    }
   },
   "outputs": [
    {
     "data": {
      "text/plain": [
       "LogisticRegression()"
      ]
     },
     "execution_count": 40,
     "metadata": {},
     "output_type": "execute_result"
    }
   ],
   "source": [
    "# construct model\n",
    "logreg = linear_model.LogisticRegression()\n",
    "\n",
    "# fit model\n",
    "logreg.fit(X, y)"
   ]
  },
  {
   "cell_type": "code",
   "execution_count": 41,
   "metadata": {
    "collapsed": false,
    "jupyter": {
     "outputs_hidden": false
    },
    "slideshow": {
     "slide_type": "subslide"
    }
   },
   "outputs": [
    {
     "data": {
      "text/plain": [
       "<matplotlib.collections.PathCollection at 0x7fa678ddfcd0>"
      ]
     },
     "execution_count": 41,
     "metadata": {},
     "output_type": "execute_result"
    },
    {
     "data": {
      "image/png": "[encoded data removed]",
      "text/plain": [
       "<Figure size 576x396 with 1 Axes>"
      ]
     },
     "metadata": {},
     "output_type": "display_data"
    }
   ],
   "source": [
    "fig, ax = plt.subplots()\n",
    "ax.scatter(X, y, alpha=0.3, s=10)\n",
    "ax.scatter(bal_grid, logreg.predict(bal_grid), s=40)"
   ]
  },
  {
   "cell_type": "markdown",
   "metadata": {
    "slideshow": {
     "slide_type": ""
    }
   },
   "source": [
    "- Notice now that the predicted probabilities are squarely between 0 and 1"
   ]
  }
 ],
 "metadata": {
  "celltoolbar": "Slideshow",
  "interpreter": {
   "hash": "31582b9feba862c420bc95ad7fac43fb721c474490d1710b4e50ac63470f9531"
  },
  "kernelspec": {
   "display_name": "css",
   "language": "python",
   "name": "python3"
  },
  "language_info": {
   "codemirror_mode": {
    "name": "ipython",
    "version": 3
   },
   "file_extension": ".py",
   "mimetype": "text/x-python",
   "name": "python",
   "nbconvert_exporter": "python",
   "pygments_lexer": "ipython3",
   "version": "3.8.8"
  }
 },
 "nbformat": 4,
 "nbformat_minor": 4
}
